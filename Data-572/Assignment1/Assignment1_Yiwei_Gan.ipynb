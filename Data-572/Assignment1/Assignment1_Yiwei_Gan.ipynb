{
 "cells": [
  {
   "cell_type": "code",
   "execution_count": 11,
   "metadata": {
    "vscode": {
     "languageId": "r"
    }
   },
   "outputs": [],
   "source": [
    "library(MASS)\n",
    "library(MLmetrics)"
   ]
  },
  {
   "attachments": {},
   "cell_type": "markdown",
   "metadata": {},
   "source": [
    "### Tools"
   ]
  },
  {
   "cell_type": "code",
   "execution_count": 12,
   "metadata": {
    "vscode": {
     "languageId": "r"
    }
   },
   "outputs": [],
   "source": [
    "class_table <- function(a,b){\n",
    "      sen <- Sensitivity(a,b)\n",
    "      recal <- Recall(a,b)\n",
    "      preci <- Precision(a,b)\n",
    "      spec <- Specificity(a,b)\n",
    "      f1score <- F1_Score(a,b)\n",
    "      cat('Sensitivity:', sen,'\\nRecall:', recal,'\\nPrecision:',preci,'\\nSpecificity:', spec ,'\\nF1_Score:',f1score)\n",
    "      table <- c(sen, recal, preci, spec, f1score)\n",
    "}"
   ]
  },
  {
   "attachments": {},
   "cell_type": "markdown",
   "metadata": {},
   "source": [
    "# Q1"
   ]
  },
  {
   "cell_type": "code",
   "execution_count": 13,
   "metadata": {
    "vscode": {
     "languageId": "r"
    }
   },
   "outputs": [
    {
     "data": {
      "text/html": [
       "<table class=\"dataframe\">\n",
       "<caption>A data.frame: 6 × 5</caption>\n",
       "<thead>\n",
       "\t<tr><th></th><th scope=col>Pop</th><th scope=col>hdlngth</th><th scope=col>skullw</th><th scope=col>totlngth</th><th scope=col>taill</th></tr>\n",
       "\t<tr><th></th><th scope=col>&lt;chr&gt;</th><th scope=col>&lt;dbl&gt;</th><th scope=col>&lt;dbl&gt;</th><th scope=col>&lt;dbl&gt;</th><th scope=col>&lt;dbl&gt;</th></tr>\n",
       "</thead>\n",
       "<tbody>\n",
       "\t<tr><th scope=row>1</th><td>Vic</td><td>94.1</td><td>60.4</td><td>89.0</td><td>36.0</td></tr>\n",
       "\t<tr><th scope=row>2</th><td>Vic</td><td>92.5</td><td>57.6</td><td>91.5</td><td>36.5</td></tr>\n",
       "\t<tr><th scope=row>3</th><td>Vic</td><td>94.0</td><td>60.0</td><td>95.5</td><td>39.0</td></tr>\n",
       "\t<tr><th scope=row>4</th><td>Vic</td><td>93.2</td><td>57.1</td><td>92.0</td><td>38.0</td></tr>\n",
       "\t<tr><th scope=row>5</th><td>Vic</td><td>91.5</td><td>56.3</td><td>85.5</td><td>36.0</td></tr>\n",
       "\t<tr><th scope=row>6</th><td>Vic</td><td>93.1</td><td>54.8</td><td>90.5</td><td>35.5</td></tr>\n",
       "</tbody>\n",
       "</table>\n"
      ],
      "text/latex": [
       "A data.frame: 6 × 5\n",
       "\\begin{tabular}{r|lllll}\n",
       "  & Pop & hdlngth & skullw & totlngth & taill\\\\\n",
       "  & <chr> & <dbl> & <dbl> & <dbl> & <dbl>\\\\\n",
       "\\hline\n",
       "\t1 & Vic & 94.1 & 60.4 & 89.0 & 36.0\\\\\n",
       "\t2 & Vic & 92.5 & 57.6 & 91.5 & 36.5\\\\\n",
       "\t3 & Vic & 94.0 & 60.0 & 95.5 & 39.0\\\\\n",
       "\t4 & Vic & 93.2 & 57.1 & 92.0 & 38.0\\\\\n",
       "\t5 & Vic & 91.5 & 56.3 & 85.5 & 36.0\\\\\n",
       "\t6 & Vic & 93.1 & 54.8 & 90.5 & 35.5\\\\\n",
       "\\end{tabular}\n"
      ],
      "text/markdown": [
       "\n",
       "A data.frame: 6 × 5\n",
       "\n",
       "| <!--/--> | Pop &lt;chr&gt; | hdlngth &lt;dbl&gt; | skullw &lt;dbl&gt; | totlngth &lt;dbl&gt; | taill &lt;dbl&gt; |\n",
       "|---|---|---|---|---|---|\n",
       "| 1 | Vic | 94.1 | 60.4 | 89.0 | 36.0 |\n",
       "| 2 | Vic | 92.5 | 57.6 | 91.5 | 36.5 |\n",
       "| 3 | Vic | 94.0 | 60.0 | 95.5 | 39.0 |\n",
       "| 4 | Vic | 93.2 | 57.1 | 92.0 | 38.0 |\n",
       "| 5 | Vic | 91.5 | 56.3 | 85.5 | 36.0 |\n",
       "| 6 | Vic | 93.1 | 54.8 | 90.5 | 35.5 |\n",
       "\n"
      ],
      "text/plain": [
       "  Pop hdlngth skullw totlngth taill\n",
       "1 Vic 94.1    60.4   89.0     36.0 \n",
       "2 Vic 92.5    57.6   91.5     36.5 \n",
       "3 Vic 94.0    60.0   95.5     39.0 \n",
       "4 Vic 93.2    57.1   92.0     38.0 \n",
       "5 Vic 91.5    56.3   85.5     36.0 \n",
       "6 Vic 93.1    54.8   90.5     35.5 "
      ]
     },
     "metadata": {},
     "output_type": "display_data"
    }
   ],
   "source": [
    "possum = read.csv('/Users/gawain/Desktop/3.UBC/Block4/Data-572-Supervised learning/Assignment/Assignment1/possum.csv')\n",
    "head(possum)"
   ]
  },
  {
   "cell_type": "code",
   "execution_count": 14,
   "metadata": {
    "vscode": {
     "languageId": "r"
    }
   },
   "outputs": [
    {
     "data": {
      "text/html": [
       "<table class=\"dataframe\">\n",
       "<caption>A data.frame: 6 × 5</caption>\n",
       "<thead>\n",
       "\t<tr><th></th><th scope=col>Pop</th><th scope=col>hdlngth</th><th scope=col>skullw</th><th scope=col>totlngth</th><th scope=col>taill</th></tr>\n",
       "\t<tr><th></th><th scope=col>&lt;dbl&gt;</th><th scope=col>&lt;dbl&gt;</th><th scope=col>&lt;dbl&gt;</th><th scope=col>&lt;dbl&gt;</th><th scope=col>&lt;dbl&gt;</th></tr>\n",
       "</thead>\n",
       "<tbody>\n",
       "\t<tr><th scope=row>1</th><td>1</td><td>94.1</td><td>60.4</td><td>89.0</td><td>36.0</td></tr>\n",
       "\t<tr><th scope=row>2</th><td>1</td><td>92.5</td><td>57.6</td><td>91.5</td><td>36.5</td></tr>\n",
       "\t<tr><th scope=row>3</th><td>1</td><td>94.0</td><td>60.0</td><td>95.5</td><td>39.0</td></tr>\n",
       "\t<tr><th scope=row>4</th><td>1</td><td>93.2</td><td>57.1</td><td>92.0</td><td>38.0</td></tr>\n",
       "\t<tr><th scope=row>5</th><td>1</td><td>91.5</td><td>56.3</td><td>85.5</td><td>36.0</td></tr>\n",
       "\t<tr><th scope=row>6</th><td>1</td><td>93.1</td><td>54.8</td><td>90.5</td><td>35.5</td></tr>\n",
       "</tbody>\n",
       "</table>\n"
      ],
      "text/latex": [
       "A data.frame: 6 × 5\n",
       "\\begin{tabular}{r|lllll}\n",
       "  & Pop & hdlngth & skullw & totlngth & taill\\\\\n",
       "  & <dbl> & <dbl> & <dbl> & <dbl> & <dbl>\\\\\n",
       "\\hline\n",
       "\t1 & 1 & 94.1 & 60.4 & 89.0 & 36.0\\\\\n",
       "\t2 & 1 & 92.5 & 57.6 & 91.5 & 36.5\\\\\n",
       "\t3 & 1 & 94.0 & 60.0 & 95.5 & 39.0\\\\\n",
       "\t4 & 1 & 93.2 & 57.1 & 92.0 & 38.0\\\\\n",
       "\t5 & 1 & 91.5 & 56.3 & 85.5 & 36.0\\\\\n",
       "\t6 & 1 & 93.1 & 54.8 & 90.5 & 35.5\\\\\n",
       "\\end{tabular}\n"
      ],
      "text/markdown": [
       "\n",
       "A data.frame: 6 × 5\n",
       "\n",
       "| <!--/--> | Pop &lt;dbl&gt; | hdlngth &lt;dbl&gt; | skullw &lt;dbl&gt; | totlngth &lt;dbl&gt; | taill &lt;dbl&gt; |\n",
       "|---|---|---|---|---|---|\n",
       "| 1 | 1 | 94.1 | 60.4 | 89.0 | 36.0 |\n",
       "| 2 | 1 | 92.5 | 57.6 | 91.5 | 36.5 |\n",
       "| 3 | 1 | 94.0 | 60.0 | 95.5 | 39.0 |\n",
       "| 4 | 1 | 93.2 | 57.1 | 92.0 | 38.0 |\n",
       "| 5 | 1 | 91.5 | 56.3 | 85.5 | 36.0 |\n",
       "| 6 | 1 | 93.1 | 54.8 | 90.5 | 35.5 |\n",
       "\n"
      ],
      "text/plain": [
       "  Pop hdlngth skullw totlngth taill\n",
       "1 1   94.1    60.4   89.0     36.0 \n",
       "2 1   92.5    57.6   91.5     36.5 \n",
       "3 1   94.0    60.0   95.5     39.0 \n",
       "4 1   93.2    57.1   92.0     38.0 \n",
       "5 1   91.5    56.3   85.5     36.0 \n",
       "6 1   93.1    54.8   90.5     35.5 "
      ]
     },
     "metadata": {},
     "output_type": "display_data"
    },
    {
     "name": "stdout",
     "output_type": "stream",
     "text": [
      "unique value in possum$Pop: 1 0"
     ]
    }
   ],
   "source": [
    "# Use Pop as the response, with the remainder of the variables as predictors.\n",
    "# possum$Pop <- as.factor(possum$Pop)\n",
    "possum = read.csv('/Users/gawain/Desktop/3.UBC/Block4/Data-572-Supervised learning/Assignment/Assignment1/possum.csv')\n",
    "\n",
    "# possum$Pop <- as.numeric(as.factor(possum$Pop))\n",
    "possum[possum == 'Vic'] <- 1\n",
    "possum[possum == 'other'] <- 0\n",
    "possum$Pop <- as.numeric(possum$Pop)\n",
    "\n",
    "# possum$Pop <- possum$Pop-1\n",
    "head(possum)\n",
    "cat('unique value in possum$Pop:', unique(possum$Pop))"
   ]
  },
  {
   "attachments": {},
   "cell_type": "markdown",
   "metadata": {},
   "source": [
    "### Part a\n",
    "\n",
    "Fit linear discriminant analysis. \n",
    "\n",
    "Provide a classification table and other metrics we have covered in lecture/lab."
   ]
  },
  {
   "cell_type": "code",
   "execution_count": 15,
   "metadata": {
    "vscode": {
     "languageId": "r"
    }
   },
   "outputs": [
    {
     "data": {
      "text/plain": [
       "   \n",
       "     0  1\n",
       "  0 48 10\n",
       "  1  9 37"
      ]
     },
     "metadata": {},
     "output_type": "display_data"
    }
   ],
   "source": [
    "Pop_lda <- lda(Pop~., data=possum, CV=TRUE)\n",
    "table(possum$Pop, Pop_lda$class)"
   ]
  },
  {
   "cell_type": "code",
   "execution_count": 16,
   "metadata": {
    "vscode": {
     "languageId": "r"
    }
   },
   "outputs": [
    {
     "name": "stdout",
     "output_type": "stream",
     "text": [
      "Sensitivity: 0.8275862 \n",
      "Recall: 0.8275862 \n",
      "Precision: 0.8421053 \n",
      "Specificity: 0.8043478 \n",
      "F1_Score: 0.8347826\n",
      "Log Loss: 0.4215897"
     ]
    }
   ],
   "source": [
    "lda_info <- class_table(possum$Pop, Pop_lda$class)\n",
    "logloss_lda <- LogLoss(Pop_lda$posterior[,2], as.numeric(possum$Pop))\n",
    "cat('\\nLog Loss:', logloss_lda)\n",
    "lda_info <- append(lda_info, logloss_lda)"
   ]
  },
  {
   "cell_type": "code",
   "execution_count": 17,
   "metadata": {
    "vscode": {
     "languageId": "r"
    }
   },
   "outputs": [
    {
     "data": {
      "text/html": [
       "<style>\n",
       ".list-inline {list-style: none; margin:0; padding: 0}\n",
       ".list-inline>li {display: inline-block}\n",
       ".list-inline>li:not(:last-child)::after {content: \"\\00b7\"; padding: 0 .5ex}\n",
       "</style>\n",
       "<ol class=list-inline><li>0.827586206896552</li><li>0.827586206896552</li><li>0.842105263157895</li><li>0.804347826086957</li><li>0.834782608695652</li><li>0.421589693041</li></ol>\n"
      ],
      "text/latex": [
       "\\begin{enumerate*}\n",
       "\\item 0.827586206896552\n",
       "\\item 0.827586206896552\n",
       "\\item 0.842105263157895\n",
       "\\item 0.804347826086957\n",
       "\\item 0.834782608695652\n",
       "\\item 0.421589693041\n",
       "\\end{enumerate*}\n"
      ],
      "text/markdown": [
       "1. 0.827586206896552\n",
       "2. 0.827586206896552\n",
       "3. 0.842105263157895\n",
       "4. 0.804347826086957\n",
       "5. 0.834782608695652\n",
       "6. 0.421589693041\n",
       "\n",
       "\n"
      ],
      "text/plain": [
       "[1] 0.8275862 0.8275862 0.8421053 0.8043478 0.8347826 0.4215897"
      ]
     },
     "metadata": {},
     "output_type": "display_data"
    }
   ],
   "source": [
    "lda_info"
   ]
  },
  {
   "attachments": {},
   "cell_type": "markdown",
   "metadata": {},
   "source": [
    "### Part b\n",
    "\n",
    "Fit quadratic discriminant analysis. Provide a classification table and other metrics we have covered in lecture/lab."
   ]
  },
  {
   "cell_type": "code",
   "execution_count": 18,
   "metadata": {
    "vscode": {
     "languageId": "r"
    }
   },
   "outputs": [
    {
     "data": {
      "text/plain": [
       "   \n",
       "     0  1\n",
       "  0 51  7\n",
       "  1  9 37"
      ]
     },
     "metadata": {},
     "output_type": "display_data"
    }
   ],
   "source": [
    "Pop_qda <- qda(Pop~., data=possum, CV=TRUE)\n",
    "table(possum$Pop, Pop_qda$class)"
   ]
  },
  {
   "cell_type": "code",
   "execution_count": 19,
   "metadata": {
    "vscode": {
     "languageId": "r"
    }
   },
   "outputs": [
    {
     "name": "stdout",
     "output_type": "stream",
     "text": [
      "Sensitivity: 0.8793103 \n",
      "Recall: 0.8793103 \n",
      "Precision: 0.85 \n",
      "Specificity: 0.8043478 \n",
      "F1_Score: 0.8644068\n",
      "Log Loss: 0.6214646"
     ]
    }
   ],
   "source": [
    "qda_info <- class_table(possum$Pop, Pop_qda$class)\n",
    "logloss_qda <- LogLoss(Pop_qda$posterior[,2], possum$Pop)\n",
    "cat('\\nLog Loss:', logloss_qda)\n",
    "qda_info <- append(qda_info, logloss_qda)"
   ]
  },
  {
   "attachments": {},
   "cell_type": "markdown",
   "metadata": {},
   "source": [
    "### Part c\n",
    "\n",
    "Fit k-nearest neighbours (K = 3). Provide a classification table and other metrics we have covered in lecture/lab."
   ]
  },
  {
   "cell_type": "code",
   "execution_count": 20,
   "metadata": {
    "vscode": {
     "languageId": "r"
    }
   },
   "outputs": [
    {
     "data": {
      "text/plain": [
       "   knn3\n",
       "     0  1\n",
       "  0 49  9\n",
       "  1 12 34"
      ]
     },
     "metadata": {},
     "output_type": "display_data"
    }
   ],
   "source": [
    "library(class)\n",
    "knn3 <- knn.cv(possum[,-1], possum$Pop, k=3, prob=TRUE)\n",
    "table(possum$Pop, knn3)"
   ]
  },
  {
   "cell_type": "code",
   "execution_count": 21,
   "metadata": {
    "vscode": {
     "languageId": "r"
    }
   },
   "outputs": [
    {
     "name": "stdout",
     "output_type": "stream",
     "text": [
      "Sensitivity: 0.8448276 \n",
      "Recall: 0.8448276 \n",
      "Precision: 0.8032787 \n",
      "Specificity: 0.7391304 \n",
      "F1_Score: 0.8235294"
     ]
    }
   ],
   "source": [
    "knn_info <- class_table(possum$Pop, knn3)"
   ]
  },
  {
   "cell_type": "code",
   "execution_count": 22,
   "metadata": {
    "vscode": {
     "languageId": "r"
    }
   },
   "outputs": [
    {
     "name": "stdout",
     "output_type": "stream",
     "text": [
      "log Loss: 0.6739391"
     ]
    }
   ],
   "source": [
    "probs <- attr(knn3, \"prob\")\n",
    "missedprobs <- 1-probs[possum$Pop!=knn3]\n",
    "missedprobs[missedprobs==0] <- 1e-3\n",
    "probs[probs==0] <- 1e-3\n",
    "logloss_knn <- (sum(-log(probs[possum$Pop==knn3])) + sum(-log(missedprobs)))/length(possum$Pop)\n",
    "cat('log Loss:', logloss_knn)\n",
    "knn_info <- append(knn_info, logloss_knn)"
   ]
  },
  {
   "attachments": {},
   "cell_type": "markdown",
   "metadata": {},
   "source": [
    "### Part d\n",
    "\n",
    "Which of the above models would you suggest is ‘best’ for this data? Why?"
   ]
  },
  {
   "cell_type": "code",
   "execution_count": 23,
   "metadata": {
    "vscode": {
     "languageId": "r"
    }
   },
   "outputs": [
    {
     "data": {
      "text/html": [
       "<table class=\"dataframe\">\n",
       "<caption>A data.frame: 6 × 4</caption>\n",
       "<thead>\n",
       "\t<tr><th scope=col>index</th><th scope=col>lda_info</th><th scope=col>qda_info</th><th scope=col>knn_info</th></tr>\n",
       "\t<tr><th scope=col>&lt;chr&gt;</th><th scope=col>&lt;dbl&gt;</th><th scope=col>&lt;dbl&gt;</th><th scope=col>&lt;dbl&gt;</th></tr>\n",
       "</thead>\n",
       "<tbody>\n",
       "\t<tr><td>Sensitivity</td><td>0.8275862</td><td>0.8793103</td><td>0.8448276</td></tr>\n",
       "\t<tr><td>Recall     </td><td>0.8275862</td><td>0.8793103</td><td>0.8448276</td></tr>\n",
       "\t<tr><td>Precision  </td><td>0.8421053</td><td>0.8500000</td><td>0.8032787</td></tr>\n",
       "\t<tr><td>Specificity</td><td>0.8043478</td><td>0.8043478</td><td>0.7391304</td></tr>\n",
       "\t<tr><td>F1-Score   </td><td>0.8347826</td><td>0.8644068</td><td>0.8235294</td></tr>\n",
       "\t<tr><td>Log Loss   </td><td>0.4215897</td><td>0.6214646</td><td>0.6739391</td></tr>\n",
       "</tbody>\n",
       "</table>\n"
      ],
      "text/latex": [
       "A data.frame: 6 × 4\n",
       "\\begin{tabular}{llll}\n",
       " index & lda\\_info & qda\\_info & knn\\_info\\\\\n",
       " <chr> & <dbl> & <dbl> & <dbl>\\\\\n",
       "\\hline\n",
       "\t Sensitivity & 0.8275862 & 0.8793103 & 0.8448276\\\\\n",
       "\t Recall      & 0.8275862 & 0.8793103 & 0.8448276\\\\\n",
       "\t Precision   & 0.8421053 & 0.8500000 & 0.8032787\\\\\n",
       "\t Specificity & 0.8043478 & 0.8043478 & 0.7391304\\\\\n",
       "\t F1-Score    & 0.8347826 & 0.8644068 & 0.8235294\\\\\n",
       "\t Log Loss    & 0.4215897 & 0.6214646 & 0.6739391\\\\\n",
       "\\end{tabular}\n"
      ],
      "text/markdown": [
       "\n",
       "A data.frame: 6 × 4\n",
       "\n",
       "| index &lt;chr&gt; | lda_info &lt;dbl&gt; | qda_info &lt;dbl&gt; | knn_info &lt;dbl&gt; |\n",
       "|---|---|---|---|\n",
       "| Sensitivity | 0.8275862 | 0.8793103 | 0.8448276 |\n",
       "| Recall      | 0.8275862 | 0.8793103 | 0.8448276 |\n",
       "| Precision   | 0.8421053 | 0.8500000 | 0.8032787 |\n",
       "| Specificity | 0.8043478 | 0.8043478 | 0.7391304 |\n",
       "| F1-Score    | 0.8347826 | 0.8644068 | 0.8235294 |\n",
       "| Log Loss    | 0.4215897 | 0.6214646 | 0.6739391 |\n",
       "\n"
      ],
      "text/plain": [
       "  index       lda_info  qda_info  knn_info \n",
       "1 Sensitivity 0.8275862 0.8793103 0.8448276\n",
       "2 Recall      0.8275862 0.8793103 0.8448276\n",
       "3 Precision   0.8421053 0.8500000 0.8032787\n",
       "4 Specificity 0.8043478 0.8043478 0.7391304\n",
       "5 F1-Score    0.8347826 0.8644068 0.8235294\n",
       "6 Log Loss    0.4215897 0.6214646 0.6739391"
      ]
     },
     "metadata": {},
     "output_type": "display_data"
    }
   ],
   "source": [
    "DF1 <- as.data.frame(lda_info)    # Convert array to data frame\n",
    "DF2 <- as.data.frame(qda_info) \n",
    "DF3 <- as.data.frame(knn_info) \n",
    "DF4 <- cbind(DF1, DF2, DF3)\n",
    "DF4$index <- c('Sensitivity', 'Recall', 'Precision', 'Specificity','F1-Score', 'Log Loss')\n",
    "DF <- DF4[, c(\"index\", \"lda_info\", \"qda_info\", \"knn_info\")]\n",
    "DF"
   ]
  },
  {
   "attachments": {},
   "cell_type": "markdown",
   "metadata": {},
   "source": [
    "Based on the result from above dataframe, we expect all evaluation value except **Log Loss** as big as possible, and expect Log Loss as small as possible.\n",
    "\n",
    "Thus, I think QDA is the 'best' model, as it has the highest Specificity, Recall, Precision, and F1-score, and smallest Log Loss"
   ]
  },
  {
   "attachments": {},
   "cell_type": "markdown",
   "metadata": {},
   "source": [
    "# Q2"
   ]
  },
  {
   "cell_type": "code",
   "execution_count": 24,
   "metadata": {
    "vscode": {
     "languageId": "r"
    }
   },
   "outputs": [
    {
     "data": {
      "text/html": [
       "<table class=\"dataframe\">\n",
       "<caption>A data.frame: 6 × 21</caption>\n",
       "<thead>\n",
       "\t<tr><th></th><th scope=col>age</th><th scope=col>body_type</th><th scope=col>diet</th><th scope=col>drinks</th><th scope=col>drugs</th><th scope=col>education</th><th scope=col>ethnicity</th><th scope=col>height</th><th scope=col>income</th><th scope=col>job</th><th scope=col>⋯</th><th scope=col>location</th><th scope=col>offspring</th><th scope=col>orientation</th><th scope=col>pets</th><th scope=col>religion</th><th scope=col>sex</th><th scope=col>sign</th><th scope=col>smokes</th><th scope=col>speaks</th><th scope=col>status</th></tr>\n",
       "\t<tr><th></th><th scope=col>&lt;chr&gt;</th><th scope=col>&lt;chr&gt;</th><th scope=col>&lt;chr&gt;</th><th scope=col>&lt;chr&gt;</th><th scope=col>&lt;chr&gt;</th><th scope=col>&lt;chr&gt;</th><th scope=col>&lt;chr&gt;</th><th scope=col>&lt;chr&gt;</th><th scope=col>&lt;chr&gt;</th><th scope=col>&lt;chr&gt;</th><th scope=col>⋯</th><th scope=col>&lt;chr&gt;</th><th scope=col>&lt;chr&gt;</th><th scope=col>&lt;chr&gt;</th><th scope=col>&lt;chr&gt;</th><th scope=col>&lt;chr&gt;</th><th scope=col>&lt;chr&gt;</th><th scope=col>&lt;chr&gt;</th><th scope=col>&lt;chr&gt;</th><th scope=col>&lt;chr&gt;</th><th scope=col>&lt;chr&gt;</th></tr>\n",
       "</thead>\n",
       "<tbody>\n",
       "\t<tr><th scope=row>1</th><td>22</td><td>a little extra</td><td>strictly anything</td><td>socially</td><td><span style=white-space:pre-wrap>never    </span></td><td><span style=white-space:pre-wrap>working on college/university    </span></td><td><span style=white-space:pre-wrap>asian, white       </span></td><td>75</td><td><span style=white-space:pre-wrap>-1   </span></td><td><span style=white-space:pre-wrap>transportation                </span></td><td>⋯</td><td>south san francisco, california</td><td>doesn&amp;rsquo;t have kids, but might want them</td><td>straight</td><td>likes dogs and likes cats</td><td><span style=white-space:pre-wrap>agnosticism and very serious about it   </span></td><td>m</td><td><span style=white-space:pre-wrap>gemini                            </span></td><td>sometimes</td><td><span style=white-space:pre-wrap>english                                              </span></td><td><span style=white-space:pre-wrap>single   </span></td></tr>\n",
       "\t<tr><th scope=row>2</th><td>35</td><td><span style=white-space:pre-wrap>average       </span></td><td><span style=white-space:pre-wrap>mostly other     </span></td><td><span style=white-space:pre-wrap>often   </span></td><td>sometimes</td><td><span style=white-space:pre-wrap>working on space camp            </span></td><td><span style=white-space:pre-wrap>white              </span></td><td>70</td><td>80000</td><td><span style=white-space:pre-wrap>hospitality / travel          </span></td><td>⋯</td><td><span style=white-space:pre-wrap>oakland, california            </span></td><td>doesn&amp;rsquo;t have kids, but might want them</td><td>straight</td><td>likes dogs and likes cats</td><td>agnosticism but not too serious about it</td><td>m</td><td><span style=white-space:pre-wrap>cancer                            </span></td><td><span style=white-space:pre-wrap>no       </span></td><td>english (fluently), spanish (poorly), french (poorly)</td><td><span style=white-space:pre-wrap>single   </span></td></tr>\n",
       "\t<tr><th scope=row>3</th><td>38</td><td><span style=white-space:pre-wrap>thin          </span></td><td><span style=white-space:pre-wrap>anything         </span></td><td>socially</td><td><span style=white-space:pre-wrap>         </span></td><td><span style=white-space:pre-wrap>graduated from masters program   </span></td><td><span style=white-space:pre-wrap>                   </span></td><td>68</td><td><span style=white-space:pre-wrap>-1   </span></td><td><span style=white-space:pre-wrap>                              </span></td><td>⋯</td><td><span style=white-space:pre-wrap>san francisco, california      </span></td><td><span style=white-space:pre-wrap>                                            </span></td><td>straight</td><td><span style=white-space:pre-wrap>has cats                 </span></td><td><span style=white-space:pre-wrap>                                        </span></td><td>m</td><td>pisces but it doesn&amp;rsquo;t matter</td><td><span style=white-space:pre-wrap>no       </span></td><td><span style=white-space:pre-wrap>english, french, c++                                 </span></td><td>available</td></tr>\n",
       "\t<tr><th scope=row>4</th><td>23</td><td><span style=white-space:pre-wrap>thin          </span></td><td><span style=white-space:pre-wrap>vegetarian       </span></td><td>socially</td><td><span style=white-space:pre-wrap>         </span></td><td><span style=white-space:pre-wrap>working on college/university    </span></td><td><span style=white-space:pre-wrap>white              </span></td><td>71</td><td>20000</td><td><span style=white-space:pre-wrap>student                       </span></td><td>⋯</td><td><span style=white-space:pre-wrap>berkeley, california           </span></td><td><span style=white-space:pre-wrap>doesn&amp;rsquo;t want kids                     </span></td><td>straight</td><td><span style=white-space:pre-wrap>likes cats               </span></td><td><span style=white-space:pre-wrap>                                        </span></td><td>m</td><td><span style=white-space:pre-wrap>pisces                            </span></td><td><span style=white-space:pre-wrap>no       </span></td><td><span style=white-space:pre-wrap>english, german (poorly)                             </span></td><td><span style=white-space:pre-wrap>single   </span></td></tr>\n",
       "\t<tr><th scope=row>5</th><td>29</td><td>athletic      </td><td>                 </td><td>socially</td><td>never    </td><td>graduated from college/university</td><td>asian, black, other</td><td>66</td><td>-1   </td><td>artistic / musical / writer   </td><td>⋯</td><td>san francisco, california      </td><td>                                            </td><td>straight</td><td>likes dogs and likes cats</td><td>                                        </td><td>m</td><td>aquarius                          </td><td>no       </td><td>english                                              </td><td>single   </td></tr>\n",
       "\t<tr><th scope=row>6</th><td>29</td><td><span style=white-space:pre-wrap>average       </span></td><td><span style=white-space:pre-wrap>mostly anything  </span></td><td>socially</td><td><span style=white-space:pre-wrap>         </span></td><td>graduated from college/university</td><td><span style=white-space:pre-wrap>white              </span></td><td>67</td><td><span style=white-space:pre-wrap>-1   </span></td><td>computer / hardware / software</td><td>⋯</td><td><span style=white-space:pre-wrap>san francisco, california      </span></td><td>doesn&amp;rsquo;t have kids, but might want them</td><td>straight</td><td><span style=white-space:pre-wrap>likes cats               </span></td><td><span style=white-space:pre-wrap>atheism                                 </span></td><td>m</td><td><span style=white-space:pre-wrap>taurus                            </span></td><td><span style=white-space:pre-wrap>no       </span></td><td><span style=white-space:pre-wrap>english (fluently), chinese (okay)                   </span></td><td><span style=white-space:pre-wrap>single   </span></td></tr>\n",
       "</tbody>\n",
       "</table>\n"
      ],
      "text/latex": [
       "A data.frame: 6 × 21\n",
       "\\begin{tabular}{r|lllllllllllllllllllll}\n",
       "  & age & body\\_type & diet & drinks & drugs & education & ethnicity & height & income & job & ⋯ & location & offspring & orientation & pets & religion & sex & sign & smokes & speaks & status\\\\\n",
       "  & <chr> & <chr> & <chr> & <chr> & <chr> & <chr> & <chr> & <chr> & <chr> & <chr> & ⋯ & <chr> & <chr> & <chr> & <chr> & <chr> & <chr> & <chr> & <chr> & <chr> & <chr>\\\\\n",
       "\\hline\n",
       "\t1 & 22 & a little extra & strictly anything & socially & never     & working on college/university     & asian, white        & 75 & -1    & transportation                 & ⋯ & south san francisco, california & doesn\\&rsquo;t have kids, but might want them & straight & likes dogs and likes cats & agnosticism and very serious about it    & m & gemini                             & sometimes & english                                               & single   \\\\\n",
       "\t2 & 35 & average        & mostly other      & often    & sometimes & working on space camp             & white               & 70 & 80000 & hospitality / travel           & ⋯ & oakland, california             & doesn\\&rsquo;t have kids, but might want them & straight & likes dogs and likes cats & agnosticism but not too serious about it & m & cancer                             & no        & english (fluently), spanish (poorly), french (poorly) & single   \\\\\n",
       "\t3 & 38 & thin           & anything          & socially &           & graduated from masters program    &                     & 68 & -1    &                                & ⋯ & san francisco, california       &                                              & straight & has cats                  &                                          & m & pisces but it doesn\\&rsquo;t matter & no        & english, french, c++                                  & available\\\\\n",
       "\t4 & 23 & thin           & vegetarian        & socially &           & working on college/university     & white               & 71 & 20000 & student                        & ⋯ & berkeley, california            & doesn\\&rsquo;t want kids                      & straight & likes cats                &                                          & m & pisces                             & no        & english, german (poorly)                              & single   \\\\\n",
       "\t5 & 29 & athletic       &                   & socially & never     & graduated from college/university & asian, black, other & 66 & -1    & artistic / musical / writer    & ⋯ & san francisco, california       &                                              & straight & likes dogs and likes cats &                                          & m & aquarius                           & no        & english                                               & single   \\\\\n",
       "\t6 & 29 & average        & mostly anything   & socially &           & graduated from college/university & white               & 67 & -1    & computer / hardware / software & ⋯ & san francisco, california       & doesn\\&rsquo;t have kids, but might want them & straight & likes cats                & atheism                                  & m & taurus                             & no        & english (fluently), chinese (okay)                    & single   \\\\\n",
       "\\end{tabular}\n"
      ],
      "text/markdown": [
       "\n",
       "A data.frame: 6 × 21\n",
       "\n",
       "| <!--/--> | age &lt;chr&gt; | body_type &lt;chr&gt; | diet &lt;chr&gt; | drinks &lt;chr&gt; | drugs &lt;chr&gt; | education &lt;chr&gt; | ethnicity &lt;chr&gt; | height &lt;chr&gt; | income &lt;chr&gt; | job &lt;chr&gt; | ⋯ ⋯ | location &lt;chr&gt; | offspring &lt;chr&gt; | orientation &lt;chr&gt; | pets &lt;chr&gt; | religion &lt;chr&gt; | sex &lt;chr&gt; | sign &lt;chr&gt; | smokes &lt;chr&gt; | speaks &lt;chr&gt; | status &lt;chr&gt; |\n",
       "|---|---|---|---|---|---|---|---|---|---|---|---|---|---|---|---|---|---|---|---|---|---|\n",
       "| 1 | 22 | a little extra | strictly anything | socially | never     | working on college/university     | asian, white        | 75 | -1    | transportation                 | ⋯ | south san francisco, california | doesn&amp;rsquo;t have kids, but might want them | straight | likes dogs and likes cats | agnosticism and very serious about it    | m | gemini                             | sometimes | english                                               | single    |\n",
       "| 2 | 35 | average        | mostly other      | often    | sometimes | working on space camp             | white               | 70 | 80000 | hospitality / travel           | ⋯ | oakland, california             | doesn&amp;rsquo;t have kids, but might want them | straight | likes dogs and likes cats | agnosticism but not too serious about it | m | cancer                             | no        | english (fluently), spanish (poorly), french (poorly) | single    |\n",
       "| 3 | 38 | thin           | anything          | socially | <!----> | graduated from masters program    | <!----> | 68 | -1    | <!----> | ⋯ | san francisco, california       | <!----> | straight | has cats                  | <!----> | m | pisces but it doesn&amp;rsquo;t matter | no        | english, french, c++                                  | available |\n",
       "| 4 | 23 | thin           | vegetarian        | socially | <!----> | working on college/university     | white               | 71 | 20000 | student                        | ⋯ | berkeley, california            | doesn&amp;rsquo;t want kids                      | straight | likes cats                | <!----> | m | pisces                             | no        | english, german (poorly)                              | single    |\n",
       "| 5 | 29 | athletic       | <!----> | socially | never     | graduated from college/university | asian, black, other | 66 | -1    | artistic / musical / writer    | ⋯ | san francisco, california       | <!----> | straight | likes dogs and likes cats | <!----> | m | aquarius                           | no        | english                                               | single    |\n",
       "| 6 | 29 | average        | mostly anything   | socially | <!----> | graduated from college/university | white               | 67 | -1    | computer / hardware / software | ⋯ | san francisco, california       | doesn&amp;rsquo;t have kids, but might want them | straight | likes cats                | atheism                                  | m | taurus                             | no        | english (fluently), chinese (okay)                    | single    |\n",
       "\n"
      ],
      "text/plain": [
       "  age body_type      diet              drinks   drugs    \n",
       "1 22  a little extra strictly anything socially never    \n",
       "2 35  average        mostly other      often    sometimes\n",
       "3 38  thin           anything          socially          \n",
       "4 23  thin           vegetarian        socially          \n",
       "5 29  athletic                         socially never    \n",
       "6 29  average        mostly anything   socially          \n",
       "  education                         ethnicity           height income\n",
       "1 working on college/university     asian, white        75     -1    \n",
       "2 working on space camp             white               70     80000 \n",
       "3 graduated from masters program                        68     -1    \n",
       "4 working on college/university     white               71     20000 \n",
       "5 graduated from college/university asian, black, other 66     -1    \n",
       "6 graduated from college/university white               67     -1    \n",
       "  job                            <U+22EF>        location                       \n",
       "1 transportation                 <U+22EF> south san francisco, california\n",
       "2 hospitality / travel           <U+22EF> oakland, california            \n",
       "3                                <U+22EF> san francisco, california      \n",
       "4 student                        <U+22EF> berkeley, california           \n",
       "5 artistic / musical / writer    <U+22EF> san francisco, california      \n",
       "6 computer / hardware / software <U+22EF> san francisco, california      \n",
       "  offspring                                    orientation\n",
       "1 doesn&rsquo;t have kids, but might want them straight   \n",
       "2 doesn&rsquo;t have kids, but might want them straight   \n",
       "3                                              straight   \n",
       "4 doesn&rsquo;t want kids                      straight   \n",
       "5                                              straight   \n",
       "6 doesn&rsquo;t have kids, but might want them straight   \n",
       "  pets                      religion                                 sex\n",
       "1 likes dogs and likes cats agnosticism and very serious about it    m  \n",
       "2 likes dogs and likes cats agnosticism but not too serious about it m  \n",
       "3 has cats                                                           m  \n",
       "4 likes cats                                                         m  \n",
       "5 likes dogs and likes cats                                          m  \n",
       "6 likes cats                atheism                                  m  \n",
       "  sign                               smokes   \n",
       "1 gemini                             sometimes\n",
       "2 cancer                             no       \n",
       "3 pisces but it doesn&rsquo;t matter no       \n",
       "4 pisces                             no       \n",
       "5 aquarius                           no       \n",
       "6 taurus                             no       \n",
       "  speaks                                                status   \n",
       "1 english                                               single   \n",
       "2 english (fluently), spanish (poorly), french (poorly) single   \n",
       "3 english, french, c++                                  available\n",
       "4 english, german (poorly)                              single   \n",
       "5 english                                               single   \n",
       "6 english (fluently), chinese (okay)                    single   "
      ]
     },
     "metadata": {},
     "output_type": "display_data"
    }
   ],
   "source": [
    "okcupid = read.csv('/Users/gawain/Desktop/3.UBC/Block4/Data-572-Supervised learning/Assignment/Assignment1/okcupidprofiles.csv')\n",
    "head(okcupid)"
   ]
  },
  {
   "cell_type": "code",
   "execution_count": 25,
   "metadata": {
    "vscode": {
     "languageId": "r"
    }
   },
   "outputs": [],
   "source": [
    "# install.packages(\"arules\")"
   ]
  },
  {
   "cell_type": "code",
   "execution_count": 26,
   "metadata": {
    "vscode": {
     "languageId": "r"
    }
   },
   "outputs": [
    {
     "name": "stderr",
     "output_type": "stream",
     "text": [
      "Loading required package: Matrix\n",
      "\n",
      "\n",
      "Attaching package: 'arules'\n",
      "\n",
      "\n",
      "The following objects are masked from 'package:base':\n",
      "\n",
      "    abbreviate, write\n",
      "\n",
      "\n"
     ]
    }
   ],
   "source": [
    "library(arules)"
   ]
  },
  {
   "cell_type": "code",
   "execution_count": 27,
   "metadata": {
    "vscode": {
     "languageId": "r"
    }
   },
   "outputs": [
    {
     "name": "stderr",
     "output_type": "stream",
     "text": [
      "Warning message:\n",
      "\"Column(s) 1, 2, 3, 4, 5, 6, 7, 8, 9, 10, 11, 12, 13, 14, 15, 16, 17, 18, 19, 20, 21 not logical or factor. Applying default discretization (see '? discretizeDF').\"\n"
     ]
    },
    {
     "name": "stdout",
     "output_type": "stream",
     "text": [
      "Apriori\n",
      "\n",
      "Parameter specification:\n",
      " confidence minval smax arem  aval originalSupport maxtime support minlen\n",
      "        0.8    0.1    1 none FALSE            TRUE       5     0.1      1\n",
      " maxlen target  ext\n",
      "     10  rules TRUE\n",
      "\n",
      "Algorithmic control:\n",
      " filter tree heap memopt load sort verbose\n",
      "    0.1 TRUE TRUE  FALSE TRUE    2    TRUE\n",
      "\n",
      "Absolute minimum support count: 6074 \n",
      "\n",
      "set item appearances ...[0 item(s)] done [0.00s].\n",
      "set transactions ...[39500 item(s), 60743 transaction(s)] done [0.45s].\n",
      "sorting and recoding items ... [36 item(s)] done [0.02s].\n",
      "creating transaction tree ... done [0.04s].\n",
      "checking subsets of size 1 2 3 4 5 6 7 done [0.38s].\n",
      "writing ... [3656 rule(s)] done [0.00s].\n",
      "creating S4 object  ... done [0.03s].\n"
     ]
    }
   ],
   "source": [
    "asurv <- apriori(okcupid)"
   ]
  },
  {
   "cell_type": "code",
   "execution_count": 28,
   "metadata": {
    "vscode": {
     "languageId": "r"
    }
   },
   "outputs": [
    {
     "data": {
      "text/plain": [
       "set of 3656 rules\n",
       "\n",
       "rule length distribution (lhs + rhs):sizes\n",
       "   1    2    3    4    5    6    7 \n",
       "   2   79  489 1236 1260  537   53 \n",
       "\n",
       "   Min. 1st Qu.  Median    Mean 3rd Qu.    Max. \n",
       "  1.000   4.000   5.000   4.503   5.000   7.000 \n",
       "\n",
       "summary of quality measures:\n",
       "    support         confidence        coverage           lift       \n",
       " Min.   :0.1000   Min.   :0.8002   Min.   :0.1035   Min.   :0.9096  \n",
       " 1st Qu.:0.1136   1st Qu.:0.8518   1st Qu.:0.1279   1st Qu.:1.0215  \n",
       " Median :0.1359   Median :0.8826   Median :0.1522   Median :1.0389  \n",
       " Mean   :0.1635   Mean   :0.8901   Mean   :0.1846   Mean   :1.0496  \n",
       " 3rd Qu.:0.1812   3rd Qu.:0.9387   3rd Qu.:0.2044   3rd Qu.:1.0593  \n",
       " Max.   :0.9169   Max.   :0.9747   Max.   :1.0000   Max.   :1.3816  \n",
       "     count      \n",
       " Min.   : 6075  \n",
       " 1st Qu.: 6902  \n",
       " Median : 8254  \n",
       " Mean   : 9931  \n",
       " 3rd Qu.:11005  \n",
       " Max.   :55695  \n",
       "\n",
       "mining info:\n",
       "    data ntransactions support confidence                    call\n",
       " okcupid         60743     0.1        0.8 apriori(data = okcupid)"
      ]
     },
     "metadata": {},
     "output_type": "display_data"
    }
   ],
   "source": [
    "summary(asurv)"
   ]
  },
  {
   "cell_type": "code",
   "execution_count": 29,
   "metadata": {
    "vscode": {
     "languageId": "r"
    }
   },
   "outputs": [
    {
     "name": "stdout",
     "output_type": "stream",
     "text": [
      "     lhs                                    rhs                      support confidence  coverage      lift count\n",
      "[1]  {}                                  => {orientation=straight} 0.8495300  0.8495300 1.0000000 1.0000000 51603\n",
      "[2]  {}                                  => {status=single}        0.9168958  0.9168958 1.0000000 1.0000000 55695\n",
      "[3]  {location=oakland, california}      => {status=single}        0.1072058  0.9026892 0.1187627 0.9845058  6512\n",
      "[4]  {pets=likes dogs}                   => {orientation=straight} 0.1056747  0.8885659 0.1189273 1.0459500  6419\n",
      "[5]  {pets=likes dogs}                   => {status=single}        0.1138897  0.9576412 0.1189273 1.0444384  6918\n",
      "[6]  {education=}                        => {status=single}        0.1018554  0.8340523 0.1221211 0.9096479  6187\n",
      "[7]  {offspring=doesn&rsquo;t have kids} => {income=-1}            0.1042754  0.8379415 0.1244423 1.0507655  6334\n",
      "[8]  {offspring=doesn&rsquo;t have kids} => {orientation=straight} 0.1150421  0.9244609 0.1244423 1.0882028  6988\n",
      "[9]  {offspring=doesn&rsquo;t have kids} => {status=single}        0.1205077  0.9683821 0.1244423 1.0561528  7320\n",
      "[10] {job=other}                         => {orientation=straight} 0.1054607  0.8442277 0.1249197 0.9937586  6406\n"
     ]
    }
   ],
   "source": [
    "inspect(asurv[1:10])"
   ]
  },
  {
   "attachments": {},
   "cell_type": "markdown",
   "metadata": {},
   "source": [
    "Support: The top rule with the highest support is {} => {status=single} with a support value of 0.9168958, indicating that 91.69% of the transactions contain the status=single item.\n",
    "\n",
    "Confidence: The top rule with the highest confidence is {pets=likes dogs} => {status=single} with a confidence value of 0.9576412, indicating that 95.76% of the transactions that contain pets=likes dogs also contain status=single.\n",
    "\n",
    "Lift: The top rule with the highest lift is {offspring=doesn't have kids} => {orientation=straight} with a lift value of 1.0882028, indicating that there is a stronger association between {offspring=doesn't have kids} and {orientation=straight} than would be expected if these items were independent.\n",
    "\n",
    "Overall, it seems that the single status and straight orientation are highly associated with each other, and that having pets, education, and offspring are more associated with other variables like income and orientation than status."
   ]
  },
  {
   "attachments": {},
   "cell_type": "markdown",
   "metadata": {},
   "source": [
    "### There is some detailed info for support, confidence and lift"
   ]
  },
  {
   "cell_type": "code",
   "execution_count": 30,
   "metadata": {
    "vscode": {
     "languageId": "r"
    }
   },
   "outputs": [
    {
     "name": "stdout",
     "output_type": "stream",
     "text": [
      "     lhs                                  rhs                    support  \n",
      "[1]  {}                                => {status=single}        0.9168958\n",
      "[2]  {}                                => {orientation=straight} 0.8495300\n",
      "[3]  {orientation=straight}            => {status=single}        0.8018702\n",
      "[4]  {status=single}                   => {orientation=straight} 0.8018702\n",
      "[5]  {income=-1}                       => {status=single}        0.7446290\n",
      "[6]  {status=single}                   => {income=-1}            0.7446290\n",
      "[7]  {income=-1}                       => {orientation=straight} 0.6838154\n",
      "[8]  {orientation=straight}            => {income=-1}            0.6838154\n",
      "[9]  {smokes=no}                       => {status=single}        0.6710074\n",
      "[10] {income=-1, orientation=straight} => {status=single}        0.6479430\n",
      "     confidence coverage  lift     count\n",
      "[1]  0.9168958  1.0000000 1.000000 55695\n",
      "[2]  0.8495300  1.0000000 1.000000 51603\n",
      "[3]  0.9438986  0.8495300 1.029450 48708\n",
      "[4]  0.8745489  0.9168958 1.029450 48708\n",
      "[5]  0.9337531  0.7974581 1.018385 45231\n",
      "[6]  0.8121196  0.9168958 1.018385 45231\n",
      "[7]  0.8574938  0.7974581 1.009374 41537\n",
      "[8]  0.8049338  0.8495300 1.009374 41537\n",
      "[9]  0.9285991  0.7226018 1.012764 40759\n",
      "[10] 0.9475407  0.6838154 1.033423 39358\n"
     ]
    }
   ],
   "source": [
    "inspect(sort(asurv, by=\"support\")[1:10])"
   ]
  },
  {
   "cell_type": "code",
   "execution_count": 31,
   "metadata": {
    "vscode": {
     "languageId": "r"
    }
   },
   "outputs": [
    {
     "name": "stdout",
     "output_type": "stream",
     "text": [
      "     lhs                                     rhs               support confidence  coverage     lift count\n",
      "[1]  {offspring=doesn&rsquo;t have kids,                                                                  \n",
      "      orientation=straight}               => {status=single} 0.1121281  0.9746709 0.1150421 1.063012  6811\n",
      "[2]  {drinks=socially,                                                                                    \n",
      "      drugs=never,                                                                                        \n",
      "      income=-1,                                                                                          \n",
      "      orientation=straight,                                                                               \n",
      "      religion=}                          => {status=single} 0.1086545  0.9737386 0.1115849 1.061995  6600\n",
      "[3]  {diet=mostly anything,                                                                               \n",
      "      drugs=never,                                                                                        \n",
      "      income=-1,                                                                                          \n",
      "      orientation=straight,                                                                               \n",
      "      smokes=no}                          => {status=single} 0.1055595  0.9737282 0.1084076 1.061983  6412\n",
      "[4]  {drinks=socially,                                                                                    \n",
      "      drugs=never,                                                                                        \n",
      "      income=-1,                                                                                          \n",
      "      orientation=straight,                                                                               \n",
      "      speaks=english}                     => {status=single} 0.1128854  0.9735908 0.1159475 1.061834  6857\n",
      "[5]  {diet=mostly anything,                                                                               \n",
      "      drugs=never,                                                                                        \n",
      "      income=-1,                                                                                          \n",
      "      orientation=straight}               => {status=single} 0.1218247  0.9729161 0.1252161 1.061098  7400\n",
      "[6]  {diet=mostly anything,                                                                               \n",
      "      drinks=socially,                                                                                    \n",
      "      drugs=never,                                                                                        \n",
      "      orientation=straight}               => {status=single} 0.1189931  0.9722895 0.1223845 1.060414  7228\n",
      "[7]  {diet=mostly anything,                                                                               \n",
      "      drinks=socially,                                                                                    \n",
      "      drugs=never,                                                                                        \n",
      "      orientation=straight,                                                                               \n",
      "      smokes=no}                          => {status=single} 0.1031065  0.9719119 0.1060863 1.060003  6263\n",
      "[8]  {drinks=socially,                                                                                    \n",
      "      drugs=never,                                                                                        \n",
      "      income=-1,                                                                                          \n",
      "      orientation=straight,                                                                               \n",
      "      pets=}                              => {status=single} 0.1069753  0.9714457 0.1101197 1.059494  6498\n",
      "[9]  {drinks=socially,                                                                                    \n",
      "      drugs=never,                                                                                        \n",
      "      orientation=straight,                                                                               \n",
      "      speaks=english}                     => {status=single} 0.1368388  0.9713685 0.1408722 1.059410  8312\n",
      "[10] {body_type=athletic,                                                                                 \n",
      "      drugs=never,                                                                                        \n",
      "      orientation=straight}               => {status=single} 0.1131324  0.9710329 0.1165073 1.059044  6872\n"
     ]
    }
   ],
   "source": [
    "inspect(sort(asurv, by=\"confidence\")[1:10])"
   ]
  },
  {
   "cell_type": "code",
   "execution_count": 32,
   "metadata": {
    "vscode": {
     "languageId": "r"
    }
   },
   "outputs": [
    {
     "name": "stdout",
     "output_type": "stream",
     "text": [
      "     lhs                                               rhs           support confidence  coverage     lift count\n",
      "[1]  {body_type=athletic,                                                                                       \n",
      "      orientation=straight}                         => {sex=m}     0.1426831  0.8148740 0.1750984 1.381619  8667\n",
      "[2]  {body_type=athletic,                                                                                       \n",
      "      orientation=straight,                                                                                     \n",
      "      status=single}                                => {sex=m}     0.1372998  0.8128655 0.1689084 1.378214  8340\n",
      "[3]  {body_type=athletic,                                                                                       \n",
      "      drinks=socially,                                                                                          \n",
      "      orientation=straight}                         => {sex=m}     0.1048681  0.8081705 0.1297598 1.370253  6370\n",
      "[4]  {body_type=athletic,                                                                                       \n",
      "      drinks=socially,                                                                                          \n",
      "      orientation=straight,                                                                                     \n",
      "      status=single}                                => {sex=m}     0.1011804  0.8063500 0.1254795 1.367167  6146\n",
      "[5]  {body_type=athletic,                                                                                       \n",
      "      status=single}                                => {sex=m}     0.1499926  0.8048587 0.1863589 1.364638  9111\n",
      "[6]  {body_type=athletic}                           => {sex=m}     0.1565448  0.8045520 0.1945739 1.364118  9509\n",
      "[7]  {body_type=athletic,                                                                                       \n",
      "      drinks=socially,                                                                                          \n",
      "      status=single}                                => {sex=m}     0.1101691  0.8011493 0.1375138 1.358349  6692\n",
      "[8]  {body_type=athletic,                                                                                       \n",
      "      drinks=socially}                              => {sex=m}     0.1147128  0.8009195 0.1432264 1.357959  6968\n",
      "[9]  {drinks=socially,                                                                                          \n",
      "      drugs=never,                                                                                              \n",
      "      education=graduated from college/university,                                                              \n",
      "      income=-1,                                                                                                \n",
      "      orientation=straight}                         => {smokes=no} 0.1166719  0.8885406 0.1313073 1.229641  7087\n",
      "[10] {drugs=never,                                                                                              \n",
      "      education=graduated from college/university,                                                              \n",
      "      ethnicity=white,                                                                                          \n",
      "      orientation=straight}                         => {smokes=no} 0.1068930  0.8879923 0.1203760 1.228882  6493\n"
     ]
    }
   ],
   "source": [
    "inspect(sort(asurv, by=\"lift\")[1:10])"
   ]
  },
  {
   "attachments": {},
   "cell_type": "markdown",
   "metadata": {},
   "source": [
    "The summary of the association rules shows that there are 3656 rules in total, with the majority of the rules having 2, 3 or 4 items in their left-hand side and right-hand side. \n",
    "\n",
    "The minimum, first quartile, median, mean, third quartile and maximum values for support, confidence, coverage, and lift are also given. \n",
    "\n",
    "The top 10 rules sorted by support, confidence, and lift are also shown. \n",
    "The support measure represents the fraction of transactions that contain a rule.\n",
    "The confidence measure represents the fraction of transactions that contain the left-hand side of the rule that also contain the right-hand side of the rule, coverage represents the fraction of transactions that contain the right-hand side of the rule.\n",
    "The lift represents the ratio of the confidence to the expected confidence if the left-hand side and the right-hand side were independent."
   ]
  },
  {
   "attachments": {},
   "cell_type": "markdown",
   "metadata": {},
   "source": [
    "### adujst AR"
   ]
  },
  {
   "cell_type": "code",
   "execution_count": 33,
   "metadata": {
    "vscode": {
     "languageId": "r"
    }
   },
   "outputs": [
    {
     "name": "stderr",
     "output_type": "stream",
     "text": [
      "Warning message:\n",
      "\"Column(s) 1, 2, 3, 4, 5, 6, 7, 8, 9, 10, 11, 12, 13, 14, 15, 16, 17, 18, 19, 20, 21 not logical or factor. Applying default discretization (see '? discretizeDF').\"\n"
     ]
    },
    {
     "name": "stdout",
     "output_type": "stream",
     "text": [
      "Apriori\n",
      "\n",
      "Parameter specification:\n",
      " confidence minval smax arem  aval originalSupport maxtime support minlen\n",
      "        0.8    0.1    1 none FALSE            TRUE       5    0.04      1\n",
      " maxlen target  ext\n",
      "     10  rules TRUE\n",
      "\n",
      "Algorithmic control:\n",
      " filter tree heap memopt load sort verbose\n",
      "    0.1 TRUE TRUE  FALSE TRUE    2    TRUE\n",
      "\n",
      "Absolute minimum support count: 2429 \n",
      "\n",
      "set item appearances ...[0 item(s)] done [0.00s].\n",
      "set transactions ...[39500 item(s), 60743 transaction(s)] done [0.40s].\n",
      "sorting and recoding items ... [92 item(s)] done [0.02s].\n",
      "creating transaction tree ... done [0.03s].\n",
      "checking subsets of size 1 2 3 4 5 6 7 8 9 done [0.93s].\n",
      "writing ... [25375 rule(s)] done [0.01s].\n",
      "creating S4 object  ... done [0.05s].\n"
     ]
    }
   ],
   "source": [
    "# adjust thresholds\n",
    "asurv_adjust <- apriori(okcupid, parameter=list(supp=0.04, conf=.8))"
   ]
  },
  {
   "cell_type": "code",
   "execution_count": 34,
   "metadata": {
    "vscode": {
     "languageId": "r"
    }
   },
   "outputs": [
    {
     "data": {
      "text/plain": [
       "set of 25375 rules\n",
       "\n",
       "rule length distribution (lhs + rhs):sizes\n",
       "   1    2    3    4    5    6    7    8    9 \n",
       "   2  215 1598 4712 7742 7287 3230  582    7 \n",
       "\n",
       "   Min. 1st Qu.  Median    Mean 3rd Qu.    Max. \n",
       "  1.000   4.000   5.000   5.274   6.000   9.000 \n",
       "\n",
       "summary of quality measures:\n",
       "    support          confidence        coverage            lift       \n",
       " Min.   :0.04000   Min.   :0.8000   Min.   :0.04083   Min.   :0.8761  \n",
       " 1st Qu.:0.04601   1st Qu.:0.8570   1st Qu.:0.05155   1st Qu.:1.0262  \n",
       " Median :0.05615   Median :0.8909   Median :0.06285   Median :1.0467  \n",
       " Mean   :0.07247   Mean   :0.8950   Mean   :0.08137   Mean   :1.0690  \n",
       " 3rd Qu.:0.07779   3rd Qu.:0.9421   3rd Qu.:0.08755   3rd Qu.:1.0842  \n",
       " Max.   :0.91690   Max.   :0.9910   Max.   :1.00000   Max.   :2.5916  \n",
       "     count      \n",
       " Min.   : 2430  \n",
       " 1st Qu.: 2795  \n",
       " Median : 3411  \n",
       " Mean   : 4402  \n",
       " 3rd Qu.: 4725  \n",
       " Max.   :55695  \n",
       "\n",
       "mining info:\n",
       "    data ntransactions support confidence\n",
       " okcupid         60743    0.04        0.8\n",
       "                                                               call\n",
       " apriori(data = okcupid, parameter = list(supp = 0.04, conf = 0.8))"
      ]
     },
     "metadata": {},
     "output_type": "display_data"
    }
   ],
   "source": [
    "summary(asurv_adjust)"
   ]
  },
  {
   "cell_type": "code",
   "execution_count": 35,
   "metadata": {
    "vscode": {
     "languageId": "r"
    }
   },
   "outputs": [
    {
     "name": "stderr",
     "output_type": "stream",
     "text": [
      "Warning message:\n",
      "\"Column(s) 1, 2, 3, 4, 5, 6, 7, 8, 9, 10, 11, 12, 13, 14, 15, 16, 17, 18, 19, 20, 21 not logical or factor. Applying default discretization (see '? discretizeDF').\"\n"
     ]
    },
    {
     "name": "stdout",
     "output_type": "stream",
     "text": [
      "Apriori\n",
      "\n",
      "Parameter specification:\n",
      " confidence minval smax arem  aval originalSupport maxtime support minlen\n",
      "        0.8    0.1    1 none FALSE            TRUE       5    0.04      1\n",
      " maxlen target  ext\n",
      "     10  rules TRUE\n",
      "\n",
      "Algorithmic control:\n",
      " filter tree heap memopt load sort verbose\n",
      "    0.1 TRUE TRUE  FALSE TRUE    2    TRUE\n",
      "\n",
      "Absolute minimum support count: 2429 \n",
      "\n",
      "set item appearances ...[0 item(s)] done [0.00s].\n",
      "set transactions ...[39500 item(s), 60743 transaction(s)] done [0.40s].\n",
      "sorting and recoding items ... [92 item(s)] done [0.02s].\n",
      "creating transaction tree ... done [0.03s].\n",
      "checking subsets of size 1 2 3 4 5 6 7 8 9 done [0.93s].\n",
      "writing ... [25375 rule(s)] done [0.01s].\n",
      "creating S4 object  ... done [0.04s].\n",
      "     lhs                       rhs                    support    confidence\n",
      "[1]  {}                     => {orientation=straight} 0.84952999 0.8495300 \n",
      "[2]  {}                     => {status=single}        0.91689577 0.9168958 \n",
      "[3]  {height=74}            => {sex=m}                0.04155211 0.9909698 \n",
      "[4]  {religion=other}       => {status=single}        0.04170028 0.9412858 \n",
      "[5]  {religion=agnosticism} => {status=single}        0.04199661 0.9368344 \n",
      "[6]  {age=31}               => {status=single}        0.04181552 0.9287020 \n",
      "[7]  {height=63}            => {sex=f}                0.04331363 0.9508493 \n",
      "[8]  {height=63}            => {status=single}        0.04260573 0.9353090 \n",
      "[9]  {height=73}            => {sex=m}                0.04547026 0.9811723 \n",
      "[10] {height=73}            => {orientation=straight} 0.04063020 0.8767318 \n",
      "     coverage   lift     count\n",
      "[1]  1.00000000 1.000000 51603\n",
      "[2]  1.00000000 1.000000 55695\n",
      "[3]  0.04193076 1.680190  2524\n",
      "[4]  0.04430140 1.026601  2533\n",
      "[5]  0.04482821 1.021746  2551\n",
      "[6]  0.04502576 1.012876  2540\n",
      "[7]  0.04555257 2.394885  2631\n",
      "[8]  0.04555257 1.020082  2588\n",
      "[9]  0.04634279 1.663578  2762\n",
      "[10] 0.04634279 1.032020  2468\n"
     ]
    }
   ],
   "source": [
    "asurv_adjust <- apriori(okcupid, parameter=list(supp=0.04, conf=.8))\n",
    "inspect(asurv_adjust[1:10])"
   ]
  },
  {
   "attachments": {},
   "cell_type": "markdown",
   "metadata": {},
   "source": [
    "Based on the top 10 rules, it appears that the most frequent association is still between single status and straight orientation, and that there is also a high association between height, sex, and orientation. These rules have high support and confidence values indicating that they are frequent and trustworthy rules.\n",
    "\n",
    "Additionally, it can be seen that the height and sex have a strong association as well. For example, height=74 and sex=m have a high support, confidence, and lift values.\n",
    "\n",
    "It also appears that, with the new support and confidence, the rules are more specific with less generic rules like {} => {orientation=straight}, and that they are still consistent with the first analysis.\n",
    "\n",
    "It's worth noting that by increasing the support and confidence threshold, the number of rules generated will decrease and the rules that remain will be more specific and have a higher likelihood of being true."
   ]
  },
  {
   "attachments": {},
   "cell_type": "markdown",
   "metadata": {},
   "source": [
    "### There is some detailed info for support, confidence and lift"
   ]
  },
  {
   "cell_type": "code",
   "execution_count": 36,
   "metadata": {
    "vscode": {
     "languageId": "r"
    }
   },
   "outputs": [
    {
     "name": "stdout",
     "output_type": "stream",
     "text": [
      "     lhs                                  rhs                    support  \n",
      "[1]  {}                                => {status=single}        0.9168958\n",
      "[2]  {}                                => {orientation=straight} 0.8495300\n",
      "[3]  {orientation=straight}            => {status=single}        0.8018702\n",
      "[4]  {status=single}                   => {orientation=straight} 0.8018702\n",
      "[5]  {income=-1}                       => {status=single}        0.7446290\n",
      "[6]  {status=single}                   => {income=-1}            0.7446290\n",
      "[7]  {income=-1}                       => {orientation=straight} 0.6838154\n",
      "[8]  {orientation=straight}            => {income=-1}            0.6838154\n",
      "[9]  {smokes=no}                       => {status=single}        0.6710074\n",
      "[10] {income=-1, orientation=straight} => {status=single}        0.6479430\n",
      "     confidence coverage  lift     count\n",
      "[1]  0.9168958  1.0000000 1.000000 55695\n",
      "[2]  0.8495300  1.0000000 1.000000 51603\n",
      "[3]  0.9438986  0.8495300 1.029450 48708\n",
      "[4]  0.8745489  0.9168958 1.029450 48708\n",
      "[5]  0.9337531  0.7974581 1.018385 45231\n",
      "[6]  0.8121196  0.9168958 1.018385 45231\n",
      "[7]  0.8574938  0.7974581 1.009374 41537\n",
      "[8]  0.8049338  0.8495300 1.009374 41537\n",
      "[9]  0.9285991  0.7226018 1.012764 40759\n",
      "[10] 0.9475407  0.6838154 1.033423 39358\n"
     ]
    }
   ],
   "source": [
    "inspect(sort(asurv_adjust, by=\"support\")[1:10])"
   ]
  },
  {
   "cell_type": "code",
   "execution_count": 37,
   "metadata": {
    "vscode": {
     "languageId": "r"
    }
   },
   "outputs": [
    {
     "name": "stdout",
     "output_type": "stream",
     "text": [
      "     lhs                                                     rhs                support confidence   coverage     lift count\n",
      "[1]  {height=74}                                          => {sex=m}         0.04155211  0.9909698 0.04193076 1.680190  2524\n",
      "[2]  {offspring=doesn&rsquo;t have kids,                                                                                    \n",
      "      orientation=straight,                                                                                                 \n",
      "      religion=}                                          => {status=single} 0.04056434  0.9871795 0.04109115 1.076654  2464\n",
      "[3]  {drinks=socially,                                                                                                      \n",
      "      drugs=never,                                                                                                          \n",
      "      income=-1,                                                                                                            \n",
      "      offspring=doesn&rsquo;t have kids,                                                                                    \n",
      "      orientation=straight}                               => {status=single} 0.04362643  0.9865972 0.04421909 1.076019  2650\n",
      "[4]  {drinks=socially,                                                                                                      \n",
      "      drugs=never,                                                                                                          \n",
      "      offspring=doesn&rsquo;t have kids,                                                                                    \n",
      "      orientation=straight}                               => {status=single} 0.05151211  0.9848914 0.05230232 1.074159  3129\n",
      "[5]  {drinks=socially,                                                                                                      \n",
      "      drugs=never,                                                                                                          \n",
      "      offspring=doesn&rsquo;t have kids,                                                                                    \n",
      "      orientation=straight,                                                                                                 \n",
      "      smokes=no}                                          => {status=single} 0.04474590  0.9847826 0.04543733 1.074040  2718\n",
      "[6]  {body_type=curvy,                                                                                                      \n",
      "      income=-1,                                                                                                            \n",
      "      orientation=straight,                                                                                                 \n",
      "      status=single}                                      => {sex=f}         0.04069605  0.9844683 0.04133810 2.479560  2472\n",
      "[7]  {drugs=never,                                                                                                          \n",
      "      location=san francisco, california,                                                                                   \n",
      "      offspring=doesn&rsquo;t have kids}                  => {status=single} 0.04015277  0.9834677 0.04082775 1.072606  2439\n",
      "[8]  {body_type=curvy,                                                                                                      \n",
      "      income=-1,                                                                                                            \n",
      "      orientation=straight}                               => {sex=f}         0.04324778  0.9831587 0.04398861 2.476262  2627\n",
      "[9]  {drugs=never,                                                                                                          \n",
      "      income=-1,                                                                                                            \n",
      "      offspring=doesn&rsquo;t have kids,                                                                                    \n",
      "      orientation=straight}                               => {status=single} 0.05934840  0.9830924 0.06036910 1.072197  3605\n",
      "[10] {income=-1,                                                                                                            \n",
      "      offspring=doesn&rsquo;t have kids, but wants them,                                                                    \n",
      "      orientation=straight}                               => {status=single} 0.04191429  0.9830116 0.04263866 1.072108  2546\n"
     ]
    }
   ],
   "source": [
    "inspect(sort(asurv_adjust, by=\"confidence\")[1:10])\n"
   ]
  },
  {
   "cell_type": "code",
   "execution_count": 38,
   "metadata": {
    "vscode": {
     "languageId": "r"
    }
   },
   "outputs": [
    {
     "name": "stdout",
     "output_type": "stream",
     "text": [
      "     lhs                        rhs            support confidence   coverage     lift count\n",
      "[1]  {job=,                                                                                \n",
      "      offspring=,                                                                          \n",
      "      religion=,                                                                           \n",
      "      sign=}                 => {pets=}     0.04189783  0.8839875 0.04739641 2.591633  2545\n",
      "[2]  {education=,                                                                          \n",
      "      offspring=,                                                                          \n",
      "      sign=}                 => {pets=}     0.04038325  0.8732645 0.04624401 2.560196  2453\n",
      "[3]  {job=,                                                                                \n",
      "      religion=,                                                                           \n",
      "      sign=}                 => {pets=}     0.04456481  0.8531358 0.05223647 2.501184  2707\n",
      "[4]  {job=,                                                                                \n",
      "      offspring=,                                                                          \n",
      "      pets=,                                                                               \n",
      "      sign=}                 => {religion=} 0.04189783  0.8650578 0.04843356 2.499106  2545\n",
      "[5]  {education=,                                                                          \n",
      "      job=,                                                                                \n",
      "      religion=}             => {pets=}     0.04235879  0.8494553 0.04986583 2.490393  2573\n",
      "[6]  {diet=,                                                                               \n",
      "      job=,                                                                                \n",
      "      sign=}                 => {pets=}     0.04035033  0.8492723 0.04751165 2.489857  2451\n",
      "[7]  {body_type=curvy,                                                                     \n",
      "      income=-1,                                                                           \n",
      "      orientation=straight,                                                                \n",
      "      status=single}         => {sex=f}     0.04069605  0.9844683 0.04133810 2.479560  2472\n",
      "[8]  {body_type=curvy,                                                                     \n",
      "      income=-1,                                                                           \n",
      "      orientation=straight}  => {sex=f}     0.04324778  0.9831587 0.04398861 2.476262  2627\n",
      "[9]  {body_type=curvy,                                                                     \n",
      "      drinks=socially,                                                                     \n",
      "      status=single}         => {sex=f}     0.04059727  0.9797378 0.04143687 2.467646  2466\n",
      "[10] {body_type=curvy,                                                                     \n",
      "      income=-1,                                                                           \n",
      "      status=single}         => {sex=f}     0.04749518  0.9796265 0.04848295 2.467365  2885\n"
     ]
    }
   ],
   "source": [
    "inspect(sort(asurv_adjust, by=\"lift\")[1:10])"
   ]
  },
  {
   "attachments": {},
   "cell_type": "markdown",
   "metadata": {},
   "source": [
    "# Q3"
   ]
  },
  {
   "attachments": {},
   "cell_type": "markdown",
   "metadata": {},
   "source": [
    "<img src='/Users/gawain/Desktop/3.UBC/Block4/Data-572-Supervised learning/Assignment/Assignment1/Q3.jpeg'>"
   ]
  },
  {
   "attachments": {},
   "cell_type": "markdown",
   "metadata": {},
   "source": [
    "# Q4"
   ]
  },
  {
   "attachments": {},
   "cell_type": "markdown",
   "metadata": {},
   "source": [
    "<img src='/Users/gawain/Desktop/3.UBC/Block4/Data-572-Supervised learning/Assignment/Assignment1/Q4.jpeg'>"
   ]
  },
  {
   "cell_type": "markdown",
   "metadata": {},
   "source": []
  }
 ],
 "metadata": {
  "kernelspec": {
   "display_name": "R",
   "language": "R",
   "name": "ir"
  },
  "language_info": {
   "codemirror_mode": "r",
   "file_extension": ".r",
   "mimetype": "text/x-r-source",
   "name": "R",
   "pygments_lexer": "r",
   "version": "4.2.1"
  },
  "orig_nbformat": 4
 },
 "nbformat": 4,
 "nbformat_minor": 2
}
