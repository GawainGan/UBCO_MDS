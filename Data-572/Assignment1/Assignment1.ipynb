{
 "cells": [
  {
   "cell_type": "code",
   "execution_count": 127,
   "metadata": {
    "vscode": {
     "languageId": "r"
    }
   },
   "outputs": [],
   "source": [
    "library(MASS)\n",
    "library(MLmetrics)"
   ]
  },
  {
   "attachments": {},
   "cell_type": "markdown",
   "metadata": {},
   "source": [
    "### Tools"
   ]
  },
  {
   "cell_type": "code",
   "execution_count": 128,
   "metadata": {
    "vscode": {
     "languageId": "r"
    }
   },
   "outputs": [],
   "source": [
    "class_table <- function(a,b, response, model){\n",
    "      sen <- Sensitivity(a,b)\n",
    "      recal <- Recall(a,b)\n",
    "      preci <- Precision(a,b)\n",
    "      spec <- Specificity(a,b)\n",
    "      f1score <- F1_Score(a,b)\n",
    "      cat('Sensitivity:', sen,'\\nRecall:', recal,'\\nPrecision:',preci,'\\nF1_Score:',f1score)\n",
    "}"
   ]
  },
  {
   "attachments": {},
   "cell_type": "markdown",
   "metadata": {},
   "source": [
    "# Q1"
   ]
  },
  {
   "cell_type": "code",
   "execution_count": 129,
   "metadata": {
    "vscode": {
     "languageId": "r"
    }
   },
   "outputs": [
    {
     "data": {
      "text/html": [
       "<table class=\"dataframe\">\n",
       "<caption>A data.frame: 6 × 5</caption>\n",
       "<thead>\n",
       "\t<tr><th></th><th scope=col>Pop</th><th scope=col>hdlngth</th><th scope=col>skullw</th><th scope=col>totlngth</th><th scope=col>taill</th></tr>\n",
       "\t<tr><th></th><th scope=col>&lt;dbl&gt;</th><th scope=col>&lt;dbl&gt;</th><th scope=col>&lt;dbl&gt;</th><th scope=col>&lt;dbl&gt;</th><th scope=col>&lt;dbl&gt;</th></tr>\n",
       "</thead>\n",
       "<tbody>\n",
       "\t<tr><th scope=row>1</th><td>0</td><td>94.1</td><td>60.4</td><td>89.0</td><td>36.0</td></tr>\n",
       "\t<tr><th scope=row>2</th><td>0</td><td>92.5</td><td>57.6</td><td>91.5</td><td>36.5</td></tr>\n",
       "\t<tr><th scope=row>3</th><td>0</td><td>94.0</td><td>60.0</td><td>95.5</td><td>39.0</td></tr>\n",
       "\t<tr><th scope=row>4</th><td>0</td><td>93.2</td><td>57.1</td><td>92.0</td><td>38.0</td></tr>\n",
       "\t<tr><th scope=row>5</th><td>0</td><td>91.5</td><td>56.3</td><td>85.5</td><td>36.0</td></tr>\n",
       "\t<tr><th scope=row>6</th><td>0</td><td>93.1</td><td>54.8</td><td>90.5</td><td>35.5</td></tr>\n",
       "</tbody>\n",
       "</table>\n"
      ],
      "text/latex": [
       "A data.frame: 6 × 5\n",
       "\\begin{tabular}{r|lllll}\n",
       "  & Pop & hdlngth & skullw & totlngth & taill\\\\\n",
       "  & <dbl> & <dbl> & <dbl> & <dbl> & <dbl>\\\\\n",
       "\\hline\n",
       "\t1 & 0 & 94.1 & 60.4 & 89.0 & 36.0\\\\\n",
       "\t2 & 0 & 92.5 & 57.6 & 91.5 & 36.5\\\\\n",
       "\t3 & 0 & 94.0 & 60.0 & 95.5 & 39.0\\\\\n",
       "\t4 & 0 & 93.2 & 57.1 & 92.0 & 38.0\\\\\n",
       "\t5 & 0 & 91.5 & 56.3 & 85.5 & 36.0\\\\\n",
       "\t6 & 0 & 93.1 & 54.8 & 90.5 & 35.5\\\\\n",
       "\\end{tabular}\n"
      ],
      "text/markdown": [
       "\n",
       "A data.frame: 6 × 5\n",
       "\n",
       "| <!--/--> | Pop &lt;dbl&gt; | hdlngth &lt;dbl&gt; | skullw &lt;dbl&gt; | totlngth &lt;dbl&gt; | taill &lt;dbl&gt; |\n",
       "|---|---|---|---|---|---|\n",
       "| 1 | 0 | 94.1 | 60.4 | 89.0 | 36.0 |\n",
       "| 2 | 0 | 92.5 | 57.6 | 91.5 | 36.5 |\n",
       "| 3 | 0 | 94.0 | 60.0 | 95.5 | 39.0 |\n",
       "| 4 | 0 | 93.2 | 57.1 | 92.0 | 38.0 |\n",
       "| 5 | 0 | 91.5 | 56.3 | 85.5 | 36.0 |\n",
       "| 6 | 0 | 93.1 | 54.8 | 90.5 | 35.5 |\n",
       "\n"
      ],
      "text/plain": [
       "  Pop hdlngth skullw totlngth taill\n",
       "1 0   94.1    60.4   89.0     36.0 \n",
       "2 0   92.5    57.6   91.5     36.5 \n",
       "3 0   94.0    60.0   95.5     39.0 \n",
       "4 0   93.2    57.1   92.0     38.0 \n",
       "5 0   91.5    56.3   85.5     36.0 \n",
       "6 0   93.1    54.8   90.5     35.5 "
      ]
     },
     "metadata": {},
     "output_type": "display_data"
    },
    {
     "name": "stdout",
     "output_type": "stream",
     "text": [
      "unique value in possum$Pop: 0 1"
     ]
    }
   ],
   "source": [
    "# Use Pop as the response, with the remainder of the variables as predictors.\n",
    "# possum$Pop <- as.factor(possum$Pop)\n",
    "possum = read.csv('/Users/gawain/Desktop/3.UBC/Block4/Data-572-Supervised learning/Assignment/Assignment1/possum.csv')\n",
    "\n",
    "possum$Pop <- as.numeric(as.factor(possum$Pop))\n",
    "possum$Pop <- possum$Pop-1\n",
    "head(possum)\n",
    "cat('unique value in possum$Pop:', unique(possum$Pop))"
   ]
  },
  {
   "attachments": {},
   "cell_type": "markdown",
   "metadata": {},
   "source": [
    "### Part a\n",
    "\n",
    "Fit linear discriminant analysis. \n",
    "\n",
    "Provide a classification table and other metrics we have covered in lecture/lab."
   ]
  },
  {
   "cell_type": "code",
   "execution_count": 130,
   "metadata": {
    "vscode": {
     "languageId": "r"
    }
   },
   "outputs": [
    {
     "data": {
      "text/plain": [
       "   \n",
       "     0  1\n",
       "  0 37  9\n",
       "  1 10 48"
      ]
     },
     "metadata": {},
     "output_type": "display_data"
    }
   ],
   "source": [
    "Pop_lda <- lda(Pop~., data=possum, CV=TRUE)\n",
    "table(possum$Pop, Pop_lda$class)"
   ]
  },
  {
   "cell_type": "code",
   "execution_count": 131,
   "metadata": {
    "vscode": {
     "languageId": "r"
    }
   },
   "outputs": [
    {
     "name": "stdout",
     "output_type": "stream",
     "text": [
      "Sensitivity: 0.8043478 \n",
      "Recall: 0.8043478 \n",
      "Precision: 0.787234 \n",
      "F1_Score: 0.7956989\n",
      "Log Loss: 0.4215897"
     ]
    }
   ],
   "source": [
    "class_table(possum$Pop, Pop_lda$class)\n",
    "logloss_lda <- LogLoss(Pop_lda$posterior[,2], possum$Pop)\n",
    "cat('\\nLog Loss:', logloss_lda)"
   ]
  },
  {
   "cell_type": "code",
   "execution_count": 132,
   "metadata": {
    "vscode": {
     "languageId": "r"
    }
   },
   "outputs": [
    {
     "data": {
      "text/html": [
       "0.421589693041"
      ],
      "text/latex": [
       "0.421589693041"
      ],
      "text/markdown": [
       "0.421589693041"
      ],
      "text/plain": [
       "[1] 0.4215897"
      ]
     },
     "metadata": {},
     "output_type": "display_data"
    }
   ],
   "source": [
    "LogLoss(Pop_lda$posterior[,2], possum$Pop)"
   ]
  },
  {
   "attachments": {},
   "cell_type": "markdown",
   "metadata": {},
   "source": [
    "### Part b\n",
    "\n",
    "Fit quadratic discriminant analysis. Provide a classification table and other metrics we have covered in lecture/lab."
   ]
  },
  {
   "cell_type": "code",
   "execution_count": 133,
   "metadata": {
    "vscode": {
     "languageId": "r"
    }
   },
   "outputs": [
    {
     "data": {
      "text/plain": [
       "   \n",
       "     0  1\n",
       "  0 37  9\n",
       "  1  7 51"
      ]
     },
     "metadata": {},
     "output_type": "display_data"
    }
   ],
   "source": [
    "Pop_qda <- qda(Pop~., data=possum, CV=TRUE)\n",
    "table(possum$Pop, Pop_qda$class)"
   ]
  },
  {
   "cell_type": "code",
   "execution_count": 134,
   "metadata": {
    "vscode": {
     "languageId": "r"
    }
   },
   "outputs": [
    {
     "name": "stdout",
     "output_type": "stream",
     "text": [
      "Sensitivity: 0.8043478 \n",
      "Recall: 0.8043478 \n",
      "Precision: 0.8409091 \n",
      "F1_Score: 0.8222222\n",
      "Log Loss: 0.6214646"
     ]
    }
   ],
   "source": [
    "class_table(possum$Pop, Pop_qda$class)\n",
    "logloss_qda <- LogLoss(Pop_qda$posterior[,2], possum$Pop)\n",
    "cat('\\nLog Loss:', logloss_qda)"
   ]
  },
  {
   "attachments": {},
   "cell_type": "markdown",
   "metadata": {},
   "source": [
    "### Part c\n",
    "\n",
    "Fit k-nearest neighbours (K = 3). Provide a classification table and other metrics we have covered in lecture/lab."
   ]
  },
  {
   "cell_type": "code",
   "execution_count": 135,
   "metadata": {
    "vscode": {
     "languageId": "r"
    }
   },
   "outputs": [
    {
     "data": {
      "text/plain": [
       "   knn3\n",
       "     0  1\n",
       "  0 35 11\n",
       "  1  4 54"
      ]
     },
     "metadata": {},
     "output_type": "display_data"
    }
   ],
   "source": [
    "library(class)\n",
    "knn3 <- knn.cv(possum, possum$Pop, k=3, prob=TRUE)\n",
    "table(possum$Pop, knn3)"
   ]
  },
  {
   "cell_type": "code",
   "execution_count": 136,
   "metadata": {
    "vscode": {
     "languageId": "r"
    }
   },
   "outputs": [
    {
     "name": "stdout",
     "output_type": "stream",
     "text": [
      "Sensitivity: 0.7608696 \n",
      "Recall: 0.7608696 \n",
      "Precision: 0.8974359 \n",
      "F1_Score: 0.8235294"
     ]
    }
   ],
   "source": [
    "class_table(possum$Pop, knn3)"
   ]
  },
  {
   "cell_type": "code",
   "execution_count": 137,
   "metadata": {
    "vscode": {
     "languageId": "r"
    }
   },
   "outputs": [
    {
     "data": {
      "text/html": [
       "104"
      ],
      "text/latex": [
       "104"
      ],
      "text/markdown": [
       "104"
      ],
      "text/plain": [
       "[1] 104"
      ]
     },
     "metadata": {},
     "output_type": "display_data"
    }
   ],
   "source": [
    "length(possum$Pop)"
   ]
  },
  {
   "cell_type": "code",
   "execution_count": 138,
   "metadata": {
    "vscode": {
     "languageId": "r"
    }
   },
   "outputs": [
    {
     "name": "stdout",
     "output_type": "stream",
     "text": [
      "log Loss: 0.4027239"
     ]
    }
   ],
   "source": [
    "probs <- attr(knn3, \"prob\")\n",
    "missedprobs <- 1-probs[possum$Pop!=knn3]\n",
    "missedprobs[missedprobs==0] <- 1e-3\n",
    "probs[probs==0] <- 1e-3\n",
    "logloss_knn <- (sum(-log(probs[possum$Pop==knn3])) + sum(-log(missedprobs)))/104\n",
    "cat('log Loss:', logloss_knn)"
   ]
  },
  {
   "attachments": {},
   "cell_type": "markdown",
   "metadata": {},
   "source": [
    "### Part d\n",
    "\n",
    "Which of the above models would you suggest is ‘best’ for this data? Why?"
   ]
  },
  {
   "attachments": {},
   "cell_type": "markdown",
   "metadata": {},
   "source": [
    "|                 |LDA       |     QDA         | KNN(k=3) |\n",
    "| -----------     | ----------- | ----------- | ----------- |\n",
    "| **Evulation**   | **Result**  | - | - |\n",
    "| Sensitivity     | 0.8043478        |- | - |\n",
    "| Recall          | 0.8043478        |- | - |\n",
    "| Precision       | 0.787234        |- | - |\n",
    "| F1-Score        | 0.7956989       |- | - |\n",
    "| LogLoss         | 0.4215897       |- | - |\n",
    "\n"
   ]
  },
  {
   "cell_type": "code",
   "execution_count": 139,
   "metadata": {
    "vscode": {
     "languageId": "r"
    }
   },
   "outputs": [
    {
     "ename": "ERROR",
     "evalue": "Error in parse(text = x, srcfile = src): <text>:6:5: unexpected symbol\n5: F1_Score: 0.7956989\n6: Log Loss\n       ^\n",
     "output_type": "error",
     "traceback": [
      "Error in parse(text = x, srcfile = src): <text>:6:5: unexpected symbol\n5: F1_Score: 0.7956989\n6: Log Loss\n       ^\nTraceback:\n"
     ]
    }
   ],
   "source": [
    "LDA:\n",
    "Sensitivity: 0.8043478 \n",
    "Recall: 0.8043478 \n",
    "Precision: 0.787234 \n",
    "F1_Score: 0.7956989\n",
    "Log Loss: 0.4215897\n",
    "\n",
    "Sensitivity: 0.8043478 \n",
    "Recall: 0.8043478 \n",
    "Precision: 0.8409091 \n",
    "F1_Score: 0.8222222\n",
    "Log Loss: 0.6214646"
   ]
  },
  {
   "attachments": {},
   "cell_type": "markdown",
   "metadata": {},
   "source": [
    "# Q2"
   ]
  },
  {
   "cell_type": "code",
   "execution_count": null,
   "metadata": {
    "vscode": {
     "languageId": "r"
    }
   },
   "outputs": [],
   "source": [
    "okcupid = read.csv('/Users/gawain/Desktop/3.UBC/Block4/Data-572-Supervised learning/Assignment/Assignment1/okcupidprofiles.csv')\n",
    "head(okcupid)"
   ]
  },
  {
   "cell_type": "code",
   "execution_count": null,
   "metadata": {
    "vscode": {
     "languageId": "r"
    }
   },
   "outputs": [],
   "source": []
  },
  {
   "cell_type": "code",
   "execution_count": null,
   "metadata": {
    "vscode": {
     "languageId": "r"
    }
   },
   "outputs": [],
   "source": []
  },
  {
   "cell_type": "code",
   "execution_count": null,
   "metadata": {
    "vscode": {
     "languageId": "r"
    }
   },
   "outputs": [],
   "source": []
  }
 ],
 "metadata": {
  "kernelspec": {
   "display_name": "R",
   "language": "R",
   "name": "ir"
  },
  "language_info": {
   "codemirror_mode": "r",
   "file_extension": ".r",
   "mimetype": "text/x-r-source",
   "name": "R",
   "pygments_lexer": "r",
   "version": "4.2.1"
  },
  "orig_nbformat": 4
 },
 "nbformat": 4,
 "nbformat_minor": 2
}
