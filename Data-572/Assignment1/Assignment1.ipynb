{
 "cells": [
  {
   "cell_type": "code",
   "execution_count": 92,
   "metadata": {
    "vscode": {
     "languageId": "r"
    }
   },
   "outputs": [],
   "source": [
    "library(MASS)\n",
    "library(MLmetrics)"
   ]
  },
  {
   "attachments": {},
   "cell_type": "markdown",
   "metadata": {},
   "source": [
    "### Tools"
   ]
  },
  {
   "cell_type": "code",
   "execution_count": 93,
   "metadata": {
    "vscode": {
     "languageId": "r"
    }
   },
   "outputs": [],
   "source": [
    "class_table <- function(a,b, response, model){\n",
    "      sen <- Sensitivity(a,b)\n",
    "      recal <- Recall(a,b)\n",
    "      preci <- Precision(a,b)\n",
    "      spec <- Specificity(a,b)\n",
    "      f1score <- F1_Score(a,b)\n",
    "      cat('Sensitivity:', sen,'\\nRecall:', recal,'\\nPrecision:',preci,'\\nF1_Score:',f1score)\n",
    "}"
   ]
  },
  {
   "attachments": {},
   "cell_type": "markdown",
   "metadata": {},
   "source": [
    "# Q1"
   ]
  },
  {
   "cell_type": "code",
   "execution_count": 94,
   "metadata": {
    "vscode": {
     "languageId": "r"
    }
   },
   "outputs": [
    {
     "data": {
      "text/html": [
       "<table class=\"dataframe\">\n",
       "<caption>A data.frame: 6 × 5</caption>\n",
       "<thead>\n",
       "\t<tr><th></th><th scope=col>Pop</th><th scope=col>hdlngth</th><th scope=col>skullw</th><th scope=col>totlngth</th><th scope=col>taill</th></tr>\n",
       "\t<tr><th></th><th scope=col>&lt;chr&gt;</th><th scope=col>&lt;dbl&gt;</th><th scope=col>&lt;dbl&gt;</th><th scope=col>&lt;dbl&gt;</th><th scope=col>&lt;dbl&gt;</th></tr>\n",
       "</thead>\n",
       "<tbody>\n",
       "\t<tr><th scope=row>1</th><td>Vic</td><td>94.1</td><td>60.4</td><td>89.0</td><td>36.0</td></tr>\n",
       "\t<tr><th scope=row>2</th><td>Vic</td><td>92.5</td><td>57.6</td><td>91.5</td><td>36.5</td></tr>\n",
       "\t<tr><th scope=row>3</th><td>Vic</td><td>94.0</td><td>60.0</td><td>95.5</td><td>39.0</td></tr>\n",
       "\t<tr><th scope=row>4</th><td>Vic</td><td>93.2</td><td>57.1</td><td>92.0</td><td>38.0</td></tr>\n",
       "\t<tr><th scope=row>5</th><td>Vic</td><td>91.5</td><td>56.3</td><td>85.5</td><td>36.0</td></tr>\n",
       "\t<tr><th scope=row>6</th><td>Vic</td><td>93.1</td><td>54.8</td><td>90.5</td><td>35.5</td></tr>\n",
       "</tbody>\n",
       "</table>\n"
      ],
      "text/latex": [
       "A data.frame: 6 × 5\n",
       "\\begin{tabular}{r|lllll}\n",
       "  & Pop & hdlngth & skullw & totlngth & taill\\\\\n",
       "  & <chr> & <dbl> & <dbl> & <dbl> & <dbl>\\\\\n",
       "\\hline\n",
       "\t1 & Vic & 94.1 & 60.4 & 89.0 & 36.0\\\\\n",
       "\t2 & Vic & 92.5 & 57.6 & 91.5 & 36.5\\\\\n",
       "\t3 & Vic & 94.0 & 60.0 & 95.5 & 39.0\\\\\n",
       "\t4 & Vic & 93.2 & 57.1 & 92.0 & 38.0\\\\\n",
       "\t5 & Vic & 91.5 & 56.3 & 85.5 & 36.0\\\\\n",
       "\t6 & Vic & 93.1 & 54.8 & 90.5 & 35.5\\\\\n",
       "\\end{tabular}\n"
      ],
      "text/markdown": [
       "\n",
       "A data.frame: 6 × 5\n",
       "\n",
       "| <!--/--> | Pop &lt;chr&gt; | hdlngth &lt;dbl&gt; | skullw &lt;dbl&gt; | totlngth &lt;dbl&gt; | taill &lt;dbl&gt; |\n",
       "|---|---|---|---|---|---|\n",
       "| 1 | Vic | 94.1 | 60.4 | 89.0 | 36.0 |\n",
       "| 2 | Vic | 92.5 | 57.6 | 91.5 | 36.5 |\n",
       "| 3 | Vic | 94.0 | 60.0 | 95.5 | 39.0 |\n",
       "| 4 | Vic | 93.2 | 57.1 | 92.0 | 38.0 |\n",
       "| 5 | Vic | 91.5 | 56.3 | 85.5 | 36.0 |\n",
       "| 6 | Vic | 93.1 | 54.8 | 90.5 | 35.5 |\n",
       "\n"
      ],
      "text/plain": [
       "  Pop hdlngth skullw totlngth taill\n",
       "1 Vic 94.1    60.4   89.0     36.0 \n",
       "2 Vic 92.5    57.6   91.5     36.5 \n",
       "3 Vic 94.0    60.0   95.5     39.0 \n",
       "4 Vic 93.2    57.1   92.0     38.0 \n",
       "5 Vic 91.5    56.3   85.5     36.0 \n",
       "6 Vic 93.1    54.8   90.5     35.5 "
      ]
     },
     "metadata": {},
     "output_type": "display_data"
    }
   ],
   "source": [
    "possum = read.csv('/Users/gawain/Desktop/3.UBC/Block4/Data-572-Supervised learning/Assignment/Assignment1/possum.csv')\n",
    "head(possum)"
   ]
  },
  {
   "cell_type": "code",
   "execution_count": 95,
   "metadata": {
    "vscode": {
     "languageId": "r"
    }
   },
   "outputs": [
    {
     "data": {
      "text/html": [
       "<table class=\"dataframe\">\n",
       "<caption>A data.frame: 6 × 5</caption>\n",
       "<thead>\n",
       "\t<tr><th></th><th scope=col>Pop</th><th scope=col>hdlngth</th><th scope=col>skullw</th><th scope=col>totlngth</th><th scope=col>taill</th></tr>\n",
       "\t<tr><th></th><th scope=col>&lt;dbl&gt;</th><th scope=col>&lt;dbl&gt;</th><th scope=col>&lt;dbl&gt;</th><th scope=col>&lt;dbl&gt;</th><th scope=col>&lt;dbl&gt;</th></tr>\n",
       "</thead>\n",
       "<tbody>\n",
       "\t<tr><th scope=row>1</th><td>0</td><td>94.1</td><td>60.4</td><td>89.0</td><td>36.0</td></tr>\n",
       "\t<tr><th scope=row>2</th><td>0</td><td>92.5</td><td>57.6</td><td>91.5</td><td>36.5</td></tr>\n",
       "\t<tr><th scope=row>3</th><td>0</td><td>94.0</td><td>60.0</td><td>95.5</td><td>39.0</td></tr>\n",
       "\t<tr><th scope=row>4</th><td>0</td><td>93.2</td><td>57.1</td><td>92.0</td><td>38.0</td></tr>\n",
       "\t<tr><th scope=row>5</th><td>0</td><td>91.5</td><td>56.3</td><td>85.5</td><td>36.0</td></tr>\n",
       "\t<tr><th scope=row>6</th><td>0</td><td>93.1</td><td>54.8</td><td>90.5</td><td>35.5</td></tr>\n",
       "</tbody>\n",
       "</table>\n"
      ],
      "text/latex": [
       "A data.frame: 6 × 5\n",
       "\\begin{tabular}{r|lllll}\n",
       "  & Pop & hdlngth & skullw & totlngth & taill\\\\\n",
       "  & <dbl> & <dbl> & <dbl> & <dbl> & <dbl>\\\\\n",
       "\\hline\n",
       "\t1 & 0 & 94.1 & 60.4 & 89.0 & 36.0\\\\\n",
       "\t2 & 0 & 92.5 & 57.6 & 91.5 & 36.5\\\\\n",
       "\t3 & 0 & 94.0 & 60.0 & 95.5 & 39.0\\\\\n",
       "\t4 & 0 & 93.2 & 57.1 & 92.0 & 38.0\\\\\n",
       "\t5 & 0 & 91.5 & 56.3 & 85.5 & 36.0\\\\\n",
       "\t6 & 0 & 93.1 & 54.8 & 90.5 & 35.5\\\\\n",
       "\\end{tabular}\n"
      ],
      "text/markdown": [
       "\n",
       "A data.frame: 6 × 5\n",
       "\n",
       "| <!--/--> | Pop &lt;dbl&gt; | hdlngth &lt;dbl&gt; | skullw &lt;dbl&gt; | totlngth &lt;dbl&gt; | taill &lt;dbl&gt; |\n",
       "|---|---|---|---|---|---|\n",
       "| 1 | 0 | 94.1 | 60.4 | 89.0 | 36.0 |\n",
       "| 2 | 0 | 92.5 | 57.6 | 91.5 | 36.5 |\n",
       "| 3 | 0 | 94.0 | 60.0 | 95.5 | 39.0 |\n",
       "| 4 | 0 | 93.2 | 57.1 | 92.0 | 38.0 |\n",
       "| 5 | 0 | 91.5 | 56.3 | 85.5 | 36.0 |\n",
       "| 6 | 0 | 93.1 | 54.8 | 90.5 | 35.5 |\n",
       "\n"
      ],
      "text/plain": [
       "  Pop hdlngth skullw totlngth taill\n",
       "1 0   94.1    60.4   89.0     36.0 \n",
       "2 0   92.5    57.6   91.5     36.5 \n",
       "3 0   94.0    60.0   95.5     39.0 \n",
       "4 0   93.2    57.1   92.0     38.0 \n",
       "5 0   91.5    56.3   85.5     36.0 \n",
       "6 0   93.1    54.8   90.5     35.5 "
      ]
     },
     "metadata": {},
     "output_type": "display_data"
    },
    {
     "data": {
      "text/html": [
       "<style>\n",
       ".list-inline {list-style: none; margin:0; padding: 0}\n",
       ".list-inline>li {display: inline-block}\n",
       ".list-inline>li:not(:last-child)::after {content: \"\\00b7\"; padding: 0 .5ex}\n",
       "</style>\n",
       "<ol class=list-inline><li>0</li><li>0</li><li>0</li><li>0</li><li>0</li><li>0</li><li>0</li><li>0</li><li>0</li><li>0</li><li>0</li><li>0</li><li>0</li><li>0</li><li>0</li><li>0</li><li>0</li><li>0</li><li>0</li><li>0</li><li>0</li><li>0</li><li>0</li><li>0</li><li>0</li><li>0</li><li>0</li><li>0</li><li>0</li><li>0</li><li>0</li><li>0</li><li>0</li><li>0</li><li>0</li><li>0</li><li>0</li><li>0</li><li>0</li><li>0</li><li>0</li><li>0</li><li>0</li><li>0</li><li>0</li><li>0</li><li>1</li><li>1</li><li>1</li><li>1</li><li>1</li><li>1</li><li>1</li><li>1</li><li>1</li><li>1</li><li>1</li><li>1</li><li>1</li><li>1</li><li>1</li><li>1</li><li>1</li><li>1</li><li>1</li><li>1</li><li>1</li><li>1</li><li>1</li><li>1</li><li>1</li><li>1</li><li>1</li><li>1</li><li>1</li><li>1</li><li>1</li><li>1</li><li>1</li><li>1</li><li>1</li><li>1</li><li>1</li><li>1</li><li>1</li><li>1</li><li>1</li><li>1</li><li>1</li><li>1</li><li>1</li><li>1</li><li>1</li><li>1</li><li>1</li><li>1</li><li>1</li><li>1</li><li>1</li><li>1</li><li>1</li><li>1</li><li>1</li><li>1</li></ol>\n"
      ],
      "text/latex": [
       "\\begin{enumerate*}\n",
       "\\item 0\n",
       "\\item 0\n",
       "\\item 0\n",
       "\\item 0\n",
       "\\item 0\n",
       "\\item 0\n",
       "\\item 0\n",
       "\\item 0\n",
       "\\item 0\n",
       "\\item 0\n",
       "\\item 0\n",
       "\\item 0\n",
       "\\item 0\n",
       "\\item 0\n",
       "\\item 0\n",
       "\\item 0\n",
       "\\item 0\n",
       "\\item 0\n",
       "\\item 0\n",
       "\\item 0\n",
       "\\item 0\n",
       "\\item 0\n",
       "\\item 0\n",
       "\\item 0\n",
       "\\item 0\n",
       "\\item 0\n",
       "\\item 0\n",
       "\\item 0\n",
       "\\item 0\n",
       "\\item 0\n",
       "\\item 0\n",
       "\\item 0\n",
       "\\item 0\n",
       "\\item 0\n",
       "\\item 0\n",
       "\\item 0\n",
       "\\item 0\n",
       "\\item 0\n",
       "\\item 0\n",
       "\\item 0\n",
       "\\item 0\n",
       "\\item 0\n",
       "\\item 0\n",
       "\\item 0\n",
       "\\item 0\n",
       "\\item 0\n",
       "\\item 1\n",
       "\\item 1\n",
       "\\item 1\n",
       "\\item 1\n",
       "\\item 1\n",
       "\\item 1\n",
       "\\item 1\n",
       "\\item 1\n",
       "\\item 1\n",
       "\\item 1\n",
       "\\item 1\n",
       "\\item 1\n",
       "\\item 1\n",
       "\\item 1\n",
       "\\item 1\n",
       "\\item 1\n",
       "\\item 1\n",
       "\\item 1\n",
       "\\item 1\n",
       "\\item 1\n",
       "\\item 1\n",
       "\\item 1\n",
       "\\item 1\n",
       "\\item 1\n",
       "\\item 1\n",
       "\\item 1\n",
       "\\item 1\n",
       "\\item 1\n",
       "\\item 1\n",
       "\\item 1\n",
       "\\item 1\n",
       "\\item 1\n",
       "\\item 1\n",
       "\\item 1\n",
       "\\item 1\n",
       "\\item 1\n",
       "\\item 1\n",
       "\\item 1\n",
       "\\item 1\n",
       "\\item 1\n",
       "\\item 1\n",
       "\\item 1\n",
       "\\item 1\n",
       "\\item 1\n",
       "\\item 1\n",
       "\\item 1\n",
       "\\item 1\n",
       "\\item 1\n",
       "\\item 1\n",
       "\\item 1\n",
       "\\item 1\n",
       "\\item 1\n",
       "\\item 1\n",
       "\\item 1\n",
       "\\item 1\n",
       "\\item 1\n",
       "\\item 1\n",
       "\\item 1\n",
       "\\end{enumerate*}\n"
      ],
      "text/markdown": [
       "1. 0\n",
       "2. 0\n",
       "3. 0\n",
       "4. 0\n",
       "5. 0\n",
       "6. 0\n",
       "7. 0\n",
       "8. 0\n",
       "9. 0\n",
       "10. 0\n",
       "11. 0\n",
       "12. 0\n",
       "13. 0\n",
       "14. 0\n",
       "15. 0\n",
       "16. 0\n",
       "17. 0\n",
       "18. 0\n",
       "19. 0\n",
       "20. 0\n",
       "21. 0\n",
       "22. 0\n",
       "23. 0\n",
       "24. 0\n",
       "25. 0\n",
       "26. 0\n",
       "27. 0\n",
       "28. 0\n",
       "29. 0\n",
       "30. 0\n",
       "31. 0\n",
       "32. 0\n",
       "33. 0\n",
       "34. 0\n",
       "35. 0\n",
       "36. 0\n",
       "37. 0\n",
       "38. 0\n",
       "39. 0\n",
       "40. 0\n",
       "41. 0\n",
       "42. 0\n",
       "43. 0\n",
       "44. 0\n",
       "45. 0\n",
       "46. 0\n",
       "47. 1\n",
       "48. 1\n",
       "49. 1\n",
       "50. 1\n",
       "51. 1\n",
       "52. 1\n",
       "53. 1\n",
       "54. 1\n",
       "55. 1\n",
       "56. 1\n",
       "57. 1\n",
       "58. 1\n",
       "59. 1\n",
       "60. 1\n",
       "61. 1\n",
       "62. 1\n",
       "63. 1\n",
       "64. 1\n",
       "65. 1\n",
       "66. 1\n",
       "67. 1\n",
       "68. 1\n",
       "69. 1\n",
       "70. 1\n",
       "71. 1\n",
       "72. 1\n",
       "73. 1\n",
       "74. 1\n",
       "75. 1\n",
       "76. 1\n",
       "77. 1\n",
       "78. 1\n",
       "79. 1\n",
       "80. 1\n",
       "81. 1\n",
       "82. 1\n",
       "83. 1\n",
       "84. 1\n",
       "85. 1\n",
       "86. 1\n",
       "87. 1\n",
       "88. 1\n",
       "89. 1\n",
       "90. 1\n",
       "91. 1\n",
       "92. 1\n",
       "93. 1\n",
       "94. 1\n",
       "95. 1\n",
       "96. 1\n",
       "97. 1\n",
       "98. 1\n",
       "99. 1\n",
       "100. 1\n",
       "101. 1\n",
       "102. 1\n",
       "103. 1\n",
       "104. 1\n",
       "\n",
       "\n"
      ],
      "text/plain": [
       "  [1] 0 0 0 0 0 0 0 0 0 0 0 0 0 0 0 0 0 0 0 0 0 0 0 0 0 0 0 0 0 0 0 0 0 0 0 0 0\n",
       " [38] 0 0 0 0 0 0 0 0 0 1 1 1 1 1 1 1 1 1 1 1 1 1 1 1 1 1 1 1 1 1 1 1 1 1 1 1 1\n",
       " [75] 1 1 1 1 1 1 1 1 1 1 1 1 1 1 1 1 1 1 1 1 1 1 1 1 1 1 1 1 1 1"
      ]
     },
     "metadata": {},
     "output_type": "display_data"
    }
   ],
   "source": [
    "# Use Pop as the response, with the remainder of the variables as predictors.\n",
    "# possum$Pop <- as.factor(possum$Pop)\n",
    "\n",
    "possum$Pop <- as.numeric(as.factor(possum$Pop))\n",
    "possum$Pop <- possum$Pop-1\n",
    "head(possum)\n",
    "possum$Pop"
   ]
  },
  {
   "attachments": {},
   "cell_type": "markdown",
   "metadata": {},
   "source": [
    "### Part a\n",
    "\n",
    "Fit linear discriminant analysis. \n",
    "\n",
    "Provide a classification table and other metrics we have covered in lecture/lab."
   ]
  },
  {
   "cell_type": "code",
   "execution_count": 96,
   "metadata": {
    "vscode": {
     "languageId": "r"
    }
   },
   "outputs": [
    {
     "data": {
      "text/plain": [
       "   \n",
       "     0  1\n",
       "  0 37  9\n",
       "  1 10 48"
      ]
     },
     "metadata": {},
     "output_type": "display_data"
    }
   ],
   "source": [
    "Pop_lda <- lda(Pop~., data=possum, CV=TRUE)\n",
    "table(possum$Pop, Pop_lda$class)"
   ]
  },
  {
   "cell_type": "code",
   "execution_count": 97,
   "metadata": {
    "vscode": {
     "languageId": "r"
    }
   },
   "outputs": [
    {
     "name": "stdout",
     "output_type": "stream",
     "text": [
      "Sensitivity: 0.8043478 \n",
      "Recall: 0.8043478 \n",
      "Precision: 0.787234 \n",
      "F1_Score: 0.7956989\n",
      "Log Loss: 0.4215897"
     ]
    }
   ],
   "source": [
    "class_table(possum$Pop, Pop_lda$class)\n",
    "logloss_lda <- LogLoss(Pop_lda$posterior[,2], possum$Pop)\n",
    "cat('\\nLog Loss:', logloss_lda)"
   ]
  },
  {
   "attachments": {},
   "cell_type": "markdown",
   "metadata": {},
   "source": [
    "### Part b\n",
    "\n",
    "Fit quadratic discriminant analysis. Provide a classification table and other metrics we have covered in lecture/lab."
   ]
  },
  {
   "cell_type": "code",
   "execution_count": 98,
   "metadata": {
    "vscode": {
     "languageId": "r"
    }
   },
   "outputs": [
    {
     "data": {
      "text/plain": [
       "   \n",
       "     0  1\n",
       "  0 37  9\n",
       "  1  7 51"
      ]
     },
     "metadata": {},
     "output_type": "display_data"
    }
   ],
   "source": [
    "Pop_qda <- qda(Pop~., data=possum, CV=TRUE)\n",
    "table(possum$Pop, Pop_qda$class)"
   ]
  },
  {
   "cell_type": "code",
   "execution_count": 99,
   "metadata": {
    "vscode": {
     "languageId": "r"
    }
   },
   "outputs": [
    {
     "name": "stdout",
     "output_type": "stream",
     "text": [
      "Sensitivity: 0.8043478 \n",
      "Recall: 0.8043478 \n",
      "Precision: 0.8409091 \n",
      "F1_Score: 0.8222222\n",
      "Log Loss: 0.6214646"
     ]
    }
   ],
   "source": [
    "class_table(possum$Pop, Pop_qda$class)\n",
    "logloss_qda <- LogLoss(Pop_qda$posterior[,2], possum$Pop)\n",
    "cat('\\nLog Loss:', logloss_qda)"
   ]
  },
  {
   "attachments": {},
   "cell_type": "markdown",
   "metadata": {},
   "source": [
    "### Part c\n",
    "\n",
    "Fit k-nearest neighbours (K = 3). Provide a classification table and other metrics we have covered in lecture/lab."
   ]
  },
  {
   "cell_type": "code",
   "execution_count": 100,
   "metadata": {
    "vscode": {
     "languageId": "r"
    }
   },
   "outputs": [
    {
     "data": {
      "text/plain": [
       "   knn3\n",
       "     0  1\n",
       "  0 35 11\n",
       "  1  4 54"
      ]
     },
     "metadata": {},
     "output_type": "display_data"
    }
   ],
   "source": [
    "library(class)\n",
    "knn3 <- knn.cv(possum, possum$Pop, k=3, prob=TRUE)\n",
    "table(possum$Pop, knn3)"
   ]
  },
  {
   "cell_type": "code",
   "execution_count": 101,
   "metadata": {
    "vscode": {
     "languageId": "r"
    }
   },
   "outputs": [
    {
     "name": "stdout",
     "output_type": "stream",
     "text": [
      "Sensitivity: 0.7608696 \n",
      "Recall: 0.7608696 \n",
      "Precision: 0.8974359 \n",
      "F1_Score: 0.8235294"
     ]
    }
   ],
   "source": [
    "class_table(possum$Pop, knn3)"
   ]
  },
  {
   "cell_type": "code",
   "execution_count": 102,
   "metadata": {
    "vscode": {
     "languageId": "r"
    }
   },
   "outputs": [
    {
     "name": "stdout",
     "output_type": "stream",
     "text": [
      "log Loss: 0.08261003"
     ]
    }
   ],
   "source": [
    "probs <- attr(knn3, \"prob\")\n",
    "missedprobs <- 1-probs[possum$Pop!=knn3]\n",
    "missedprobs[missedprobs==0] <- 1e-3\n",
    "probs[probs==0] <- 1e-3\n",
    "logloss_knn <- (sum(-log(probs[possum$Pop==knn3])) + sum(-log(missedprobs)))/507\n",
    "cat('log Loss:', logloss_knn)"
   ]
  },
  {
   "attachments": {},
   "cell_type": "markdown",
   "metadata": {},
   "source": [
    "### Part d\n",
    "\n",
    "Which of the above models would you suggest is ‘best’ for this data? Why?"
   ]
  },
  {
   "attachments": {},
   "cell_type": "markdown",
   "metadata": {},
   "source": [
    "|                 |LDA       |     QDA         | KNN(k=3) |\n",
    "| -----------     | ----------- | ----------- | ----------- |\n",
    "| **Evulation**   | **Result**  | - | - |\n",
    "| Sensitivity     | 0.8043478        |- | - |\n",
    "| Recall          | 0.8043478        |- | - |\n",
    "| Precision       | 0.787234        |- | - |\n",
    "| F1-Score        | 0.7956989       |- | - |\n",
    "| LogLoss         | 0.4215897       |- | - |\n",
    "\n"
   ]
  },
  {
   "cell_type": "code",
   "execution_count": 103,
   "metadata": {
    "vscode": {
     "languageId": "r"
    }
   },
   "outputs": [
    {
     "ename": "ERROR",
     "evalue": "Error in parse(text = x, srcfile = src): <text>:6:5: unexpected symbol\n5: F1_Score: 0.7956989\n6: Log Loss\n       ^\n",
     "output_type": "error",
     "traceback": [
      "Error in parse(text = x, srcfile = src): <text>:6:5: unexpected symbol\n5: F1_Score: 0.7956989\n6: Log Loss\n       ^\nTraceback:\n"
     ]
    }
   ],
   "source": [
    "LDA:\n",
    "Sensitivity: 0.8043478 \n",
    "Recall: 0.8043478 \n",
    "Precision: 0.787234 \n",
    "F1_Score: 0.7956989\n",
    "Log Loss: 0.4215897\n",
    "\n",
    "Sensitivity: 0.8043478 \n",
    "Recall: 0.8043478 \n",
    "Precision: 0.8409091 \n",
    "F1_Score: 0.8222222\n",
    "Log Loss: 0.6214646"
   ]
  }
 ],
 "metadata": {
  "kernelspec": {
   "display_name": "R",
   "language": "R",
   "name": "ir"
  },
  "language_info": {
   "codemirror_mode": "r",
   "file_extension": ".r",
   "mimetype": "text/x-r-source",
   "name": "R",
   "pygments_lexer": "r",
   "version": "4.2.1"
  },
  "orig_nbformat": 4
 },
 "nbformat": 4,
 "nbformat_minor": 2
}
