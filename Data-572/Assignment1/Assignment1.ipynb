{
 "cells": [
  {
   "cell_type": "code",
   "execution_count": 92,
   "metadata": {
    "vscode": {
     "languageId": "r"
    }
   },
   "outputs": [],
   "source": [
    "library(MASS)\n",
    "library(MLmetrics)"
   ]
  },
  {
   "attachments": {},
   "cell_type": "markdown",
   "metadata": {},
   "source": [
    "### Tools"
   ]
  },
  {
   "cell_type": "code",
   "execution_count": 93,
   "metadata": {
    "vscode": {
     "languageId": "r"
    }
   },
   "outputs": [],
   "source": [
    "class_table <- function(a,b, response, model){\n",
    "      sen <- Sensitivity(a,b)\n",
    "      recal <- Recall(a,b)\n",
    "      preci <- Precision(a,b)\n",
    "      spec <- Specificity(a,b)\n",
    "      f1score <- F1_Score(a,b)\n",
    "      cat('Sensitivity:', sen,'\\nRecall:', recal,'\\nPrecision:',preci,'\\nF1_Score:',f1score)\n",
    "}"
   ]
  },
  {
   "attachments": {},
   "cell_type": "markdown",
   "metadata": {},
   "source": [
    "# Q1"
   ]
  },
  {
   "cell_type": "code",
   "execution_count": 110,
   "metadata": {
    "vscode": {
     "languageId": "r"
    }
   },
   "outputs": [
    {
     "data": {
      "text/html": [
       "<table class=\"dataframe\">\n",
       "<caption>A data.frame: 6 × 5</caption>\n",
       "<thead>\n",
       "\t<tr><th></th><th scope=col>Pop</th><th scope=col>hdlngth</th><th scope=col>skullw</th><th scope=col>totlngth</th><th scope=col>taill</th></tr>\n",
       "\t<tr><th></th><th scope=col>&lt;dbl&gt;</th><th scope=col>&lt;dbl&gt;</th><th scope=col>&lt;dbl&gt;</th><th scope=col>&lt;dbl&gt;</th><th scope=col>&lt;dbl&gt;</th></tr>\n",
       "</thead>\n",
       "<tbody>\n",
       "\t<tr><th scope=row>1</th><td>0</td><td>94.1</td><td>60.4</td><td>89.0</td><td>36.0</td></tr>\n",
       "\t<tr><th scope=row>2</th><td>0</td><td>92.5</td><td>57.6</td><td>91.5</td><td>36.5</td></tr>\n",
       "\t<tr><th scope=row>3</th><td>0</td><td>94.0</td><td>60.0</td><td>95.5</td><td>39.0</td></tr>\n",
       "\t<tr><th scope=row>4</th><td>0</td><td>93.2</td><td>57.1</td><td>92.0</td><td>38.0</td></tr>\n",
       "\t<tr><th scope=row>5</th><td>0</td><td>91.5</td><td>56.3</td><td>85.5</td><td>36.0</td></tr>\n",
       "\t<tr><th scope=row>6</th><td>0</td><td>93.1</td><td>54.8</td><td>90.5</td><td>35.5</td></tr>\n",
       "</tbody>\n",
       "</table>\n"
      ],
      "text/latex": [
       "A data.frame: 6 × 5\n",
       "\\begin{tabular}{r|lllll}\n",
       "  & Pop & hdlngth & skullw & totlngth & taill\\\\\n",
       "  & <dbl> & <dbl> & <dbl> & <dbl> & <dbl>\\\\\n",
       "\\hline\n",
       "\t1 & 0 & 94.1 & 60.4 & 89.0 & 36.0\\\\\n",
       "\t2 & 0 & 92.5 & 57.6 & 91.5 & 36.5\\\\\n",
       "\t3 & 0 & 94.0 & 60.0 & 95.5 & 39.0\\\\\n",
       "\t4 & 0 & 93.2 & 57.1 & 92.0 & 38.0\\\\\n",
       "\t5 & 0 & 91.5 & 56.3 & 85.5 & 36.0\\\\\n",
       "\t6 & 0 & 93.1 & 54.8 & 90.5 & 35.5\\\\\n",
       "\\end{tabular}\n"
      ],
      "text/markdown": [
       "\n",
       "A data.frame: 6 × 5\n",
       "\n",
       "| <!--/--> | Pop &lt;dbl&gt; | hdlngth &lt;dbl&gt; | skullw &lt;dbl&gt; | totlngth &lt;dbl&gt; | taill &lt;dbl&gt; |\n",
       "|---|---|---|---|---|---|\n",
       "| 1 | 0 | 94.1 | 60.4 | 89.0 | 36.0 |\n",
       "| 2 | 0 | 92.5 | 57.6 | 91.5 | 36.5 |\n",
       "| 3 | 0 | 94.0 | 60.0 | 95.5 | 39.0 |\n",
       "| 4 | 0 | 93.2 | 57.1 | 92.0 | 38.0 |\n",
       "| 5 | 0 | 91.5 | 56.3 | 85.5 | 36.0 |\n",
       "| 6 | 0 | 93.1 | 54.8 | 90.5 | 35.5 |\n",
       "\n"
      ],
      "text/plain": [
       "  Pop hdlngth skullw totlngth taill\n",
       "1 0   94.1    60.4   89.0     36.0 \n",
       "2 0   92.5    57.6   91.5     36.5 \n",
       "3 0   94.0    60.0   95.5     39.0 \n",
       "4 0   93.2    57.1   92.0     38.0 \n",
       "5 0   91.5    56.3   85.5     36.0 \n",
       "6 0   93.1    54.8   90.5     35.5 "
      ]
     },
     "metadata": {},
     "output_type": "display_data"
    },
    {
     "name": "stdout",
     "output_type": "stream",
     "text": [
      "unique value in possum$Pop: 0 1"
     ]
    }
   ],
   "source": [
    "# Use Pop as the response, with the remainder of the variables as predictors.\n",
    "# possum$Pop <- as.factor(possum$Pop)\n",
    "possum = read.csv('/Users/gawain/Desktop/3.UBC/Block4/Data-572-Supervised learning/Assignment/Assignment1/possum.csv')\n",
    "\n",
    "possum$Pop <- as.numeric(as.factor(possum$Pop))\n",
    "possum$Pop <- possum$Pop-1\n",
    "head(possum)\n",
    "cat('unique value in possum$Pop:', unique(possum$Pop))"
   ]
  },
  {
   "attachments": {},
   "cell_type": "markdown",
   "metadata": {},
   "source": [
    "### Part a\n",
    "\n",
    "Fit linear discriminant analysis. \n",
    "\n",
    "Provide a classification table and other metrics we have covered in lecture/lab."
   ]
  },
  {
   "cell_type": "code",
   "execution_count": 96,
   "metadata": {
    "vscode": {
     "languageId": "r"
    }
   },
   "outputs": [
    {
     "data": {
      "text/plain": [
       "   \n",
       "     0  1\n",
       "  0 37  9\n",
       "  1 10 48"
      ]
     },
     "metadata": {},
     "output_type": "display_data"
    }
   ],
   "source": [
    "Pop_lda <- lda(Pop~., data=possum, CV=TRUE)\n",
    "table(possum$Pop, Pop_lda$class)"
   ]
  },
  {
   "cell_type": "code",
   "execution_count": 108,
   "metadata": {
    "vscode": {
     "languageId": "r"
    }
   },
   "outputs": [
    {
     "name": "stdout",
     "output_type": "stream",
     "text": [
      "Sensitivity: 0.8043478 \n",
      "Recall: 0.8043478 \n",
      "Precision: 0.787234 \n",
      "F1_Score: 0.7956989\n",
      "Log Loss: 0.4215897"
     ]
    }
   ],
   "source": [
    "class_table(possum$Pop, Pop_lda$class)\n",
    "logloss_lda <- LogLoss(Pop_lda$posterior[,2], possum$Pop)\n",
    "cat('\\nLog Loss:', logloss_lda)"
   ]
  },
  {
   "cell_type": "code",
   "execution_count": 105,
   "metadata": {
    "vscode": {
     "languageId": "r"
    }
   },
   "outputs": [
    {
     "data": {
      "text/html": [
       "0.421589693041"
      ],
      "text/latex": [
       "0.421589693041"
      ],
      "text/markdown": [
       "0.421589693041"
      ],
      "text/plain": [
       "[1] 0.4215897"
      ]
     },
     "metadata": {},
     "output_type": "display_data"
    }
   ],
   "source": [
    "LogLoss(Pop_lda$posterior[,2], possum$Pop)"
   ]
  },
  {
   "attachments": {},
   "cell_type": "markdown",
   "metadata": {},
   "source": [
    "### Part b\n",
    "\n",
    "Fit quadratic discriminant analysis. Provide a classification table and other metrics we have covered in lecture/lab."
   ]
  },
  {
   "cell_type": "code",
   "execution_count": 98,
   "metadata": {
    "vscode": {
     "languageId": "r"
    }
   },
   "outputs": [
    {
     "data": {
      "text/plain": [
       "   \n",
       "     0  1\n",
       "  0 37  9\n",
       "  1  7 51"
      ]
     },
     "metadata": {},
     "output_type": "display_data"
    }
   ],
   "source": [
    "Pop_qda <- qda(Pop~., data=possum, CV=TRUE)\n",
    "table(possum$Pop, Pop_qda$class)"
   ]
  },
  {
   "cell_type": "code",
   "execution_count": 99,
   "metadata": {
    "vscode": {
     "languageId": "r"
    }
   },
   "outputs": [
    {
     "name": "stdout",
     "output_type": "stream",
     "text": [
      "Sensitivity: 0.8043478 \n",
      "Recall: 0.8043478 \n",
      "Precision: 0.8409091 \n",
      "F1_Score: 0.8222222\n",
      "Log Loss: 0.6214646"
     ]
    }
   ],
   "source": [
    "class_table(possum$Pop, Pop_qda$class)\n",
    "logloss_qda <- LogLoss(Pop_qda$posterior[,2], possum$Pop)\n",
    "cat('\\nLog Loss:', logloss_qda)"
   ]
  },
  {
   "attachments": {},
   "cell_type": "markdown",
   "metadata": {},
   "source": [
    "### Part c\n",
    "\n",
    "Fit k-nearest neighbours (K = 3). Provide a classification table and other metrics we have covered in lecture/lab."
   ]
  },
  {
   "cell_type": "code",
   "execution_count": 100,
   "metadata": {
    "vscode": {
     "languageId": "r"
    }
   },
   "outputs": [
    {
     "data": {
      "text/plain": [
       "   knn3\n",
       "     0  1\n",
       "  0 35 11\n",
       "  1  4 54"
      ]
     },
     "metadata": {},
     "output_type": "display_data"
    }
   ],
   "source": [
    "library(class)\n",
    "knn3 <- knn.cv(possum, possum$Pop, k=3, prob=TRUE)\n",
    "table(possum$Pop, knn3)"
   ]
  },
  {
   "cell_type": "code",
   "execution_count": 101,
   "metadata": {
    "vscode": {
     "languageId": "r"
    }
   },
   "outputs": [
    {
     "name": "stdout",
     "output_type": "stream",
     "text": [
      "Sensitivity: 0.7608696 \n",
      "Recall: 0.7608696 \n",
      "Precision: 0.8974359 \n",
      "F1_Score: 0.8235294"
     ]
    }
   ],
   "source": [
    "class_table(possum$Pop, knn3)"
   ]
  },
  {
   "cell_type": "code",
   "execution_count": 102,
   "metadata": {
    "vscode": {
     "languageId": "r"
    }
   },
   "outputs": [
    {
     "name": "stdout",
     "output_type": "stream",
     "text": [
      "log Loss: 0.08261003"
     ]
    }
   ],
   "source": [
    "probs <- attr(knn3, \"prob\")\n",
    "missedprobs <- 1-probs[possum$Pop!=knn3]\n",
    "missedprobs[missedprobs==0] <- 1e-3\n",
    "probs[probs==0] <- 1e-3\n",
    "logloss_knn <- (sum(-log(probs[possum$Pop==knn3])) + sum(-log(missedprobs)))/507\n",
    "cat('log Loss:', logloss_knn)"
   ]
  },
  {
   "attachments": {},
   "cell_type": "markdown",
   "metadata": {},
   "source": [
    "### Part d\n",
    "\n",
    "Which of the above models would you suggest is ‘best’ for this data? Why?"
   ]
  },
  {
   "attachments": {},
   "cell_type": "markdown",
   "metadata": {},
   "source": [
    "|                 |LDA       |     QDA         | KNN(k=3) |\n",
    "| -----------     | ----------- | ----------- | ----------- |\n",
    "| **Evulation**   | **Result**  | - | - |\n",
    "| Sensitivity     | 0.8043478        |- | - |\n",
    "| Recall          | 0.8043478        |- | - |\n",
    "| Precision       | 0.787234        |- | - |\n",
    "| F1-Score        | 0.7956989       |- | - |\n",
    "| LogLoss         | 0.4215897       |- | - |\n",
    "\n"
   ]
  },
  {
   "cell_type": "code",
   "execution_count": 103,
   "metadata": {
    "vscode": {
     "languageId": "r"
    }
   },
   "outputs": [
    {
     "ename": "ERROR",
     "evalue": "Error in parse(text = x, srcfile = src): <text>:6:5: unexpected symbol\n5: F1_Score: 0.7956989\n6: Log Loss\n       ^\n",
     "output_type": "error",
     "traceback": [
      "Error in parse(text = x, srcfile = src): <text>:6:5: unexpected symbol\n5: F1_Score: 0.7956989\n6: Log Loss\n       ^\nTraceback:\n"
     ]
    }
   ],
   "source": [
    "LDA:\n",
    "Sensitivity: 0.8043478 \n",
    "Recall: 0.8043478 \n",
    "Precision: 0.787234 \n",
    "F1_Score: 0.7956989\n",
    "Log Loss: 0.4215897\n",
    "\n",
    "Sensitivity: 0.8043478 \n",
    "Recall: 0.8043478 \n",
    "Precision: 0.8409091 \n",
    "F1_Score: 0.8222222\n",
    "Log Loss: 0.6214646"
   ]
  },
  {
   "attachments": {},
   "cell_type": "markdown",
   "metadata": {},
   "source": [
    "# Q2"
   ]
  },
  {
   "cell_type": "code",
   "execution_count": 104,
   "metadata": {
    "vscode": {
     "languageId": "r"
    }
   },
   "outputs": [
    {
     "data": {
      "text/html": [
       "<table class=\"dataframe\">\n",
       "<caption>A data.frame: 6 × 21</caption>\n",
       "<thead>\n",
       "\t<tr><th></th><th scope=col>age</th><th scope=col>body_type</th><th scope=col>diet</th><th scope=col>drinks</th><th scope=col>drugs</th><th scope=col>education</th><th scope=col>ethnicity</th><th scope=col>height</th><th scope=col>income</th><th scope=col>job</th><th scope=col>⋯</th><th scope=col>location</th><th scope=col>offspring</th><th scope=col>orientation</th><th scope=col>pets</th><th scope=col>religion</th><th scope=col>sex</th><th scope=col>sign</th><th scope=col>smokes</th><th scope=col>speaks</th><th scope=col>status</th></tr>\n",
       "\t<tr><th></th><th scope=col>&lt;chr&gt;</th><th scope=col>&lt;chr&gt;</th><th scope=col>&lt;chr&gt;</th><th scope=col>&lt;chr&gt;</th><th scope=col>&lt;chr&gt;</th><th scope=col>&lt;chr&gt;</th><th scope=col>&lt;chr&gt;</th><th scope=col>&lt;chr&gt;</th><th scope=col>&lt;chr&gt;</th><th scope=col>&lt;chr&gt;</th><th scope=col>⋯</th><th scope=col>&lt;chr&gt;</th><th scope=col>&lt;chr&gt;</th><th scope=col>&lt;chr&gt;</th><th scope=col>&lt;chr&gt;</th><th scope=col>&lt;chr&gt;</th><th scope=col>&lt;chr&gt;</th><th scope=col>&lt;chr&gt;</th><th scope=col>&lt;chr&gt;</th><th scope=col>&lt;chr&gt;</th><th scope=col>&lt;chr&gt;</th></tr>\n",
       "</thead>\n",
       "<tbody>\n",
       "\t<tr><th scope=row>1</th><td>22</td><td>a little extra</td><td>strictly anything</td><td>socially</td><td><span style=white-space:pre-wrap>never    </span></td><td><span style=white-space:pre-wrap>working on college/university    </span></td><td><span style=white-space:pre-wrap>asian, white       </span></td><td>75</td><td><span style=white-space:pre-wrap>-1   </span></td><td><span style=white-space:pre-wrap>transportation                </span></td><td>⋯</td><td>south san francisco, california</td><td>doesn&amp;rsquo;t have kids, but might want them</td><td>straight</td><td>likes dogs and likes cats</td><td><span style=white-space:pre-wrap>agnosticism and very serious about it   </span></td><td>m</td><td><span style=white-space:pre-wrap>gemini                            </span></td><td>sometimes</td><td><span style=white-space:pre-wrap>english                                              </span></td><td><span style=white-space:pre-wrap>single   </span></td></tr>\n",
       "\t<tr><th scope=row>2</th><td>35</td><td><span style=white-space:pre-wrap>average       </span></td><td><span style=white-space:pre-wrap>mostly other     </span></td><td><span style=white-space:pre-wrap>often   </span></td><td>sometimes</td><td><span style=white-space:pre-wrap>working on space camp            </span></td><td><span style=white-space:pre-wrap>white              </span></td><td>70</td><td>80000</td><td><span style=white-space:pre-wrap>hospitality / travel          </span></td><td>⋯</td><td><span style=white-space:pre-wrap>oakland, california            </span></td><td>doesn&amp;rsquo;t have kids, but might want them</td><td>straight</td><td>likes dogs and likes cats</td><td>agnosticism but not too serious about it</td><td>m</td><td><span style=white-space:pre-wrap>cancer                            </span></td><td><span style=white-space:pre-wrap>no       </span></td><td>english (fluently), spanish (poorly), french (poorly)</td><td><span style=white-space:pre-wrap>single   </span></td></tr>\n",
       "\t<tr><th scope=row>3</th><td>38</td><td><span style=white-space:pre-wrap>thin          </span></td><td><span style=white-space:pre-wrap>anything         </span></td><td>socially</td><td><span style=white-space:pre-wrap>         </span></td><td><span style=white-space:pre-wrap>graduated from masters program   </span></td><td><span style=white-space:pre-wrap>                   </span></td><td>68</td><td><span style=white-space:pre-wrap>-1   </span></td><td><span style=white-space:pre-wrap>                              </span></td><td>⋯</td><td><span style=white-space:pre-wrap>san francisco, california      </span></td><td><span style=white-space:pre-wrap>                                            </span></td><td>straight</td><td><span style=white-space:pre-wrap>has cats                 </span></td><td><span style=white-space:pre-wrap>                                        </span></td><td>m</td><td>pisces but it doesn&amp;rsquo;t matter</td><td><span style=white-space:pre-wrap>no       </span></td><td><span style=white-space:pre-wrap>english, french, c++                                 </span></td><td>available</td></tr>\n",
       "\t<tr><th scope=row>4</th><td>23</td><td><span style=white-space:pre-wrap>thin          </span></td><td><span style=white-space:pre-wrap>vegetarian       </span></td><td>socially</td><td><span style=white-space:pre-wrap>         </span></td><td><span style=white-space:pre-wrap>working on college/university    </span></td><td><span style=white-space:pre-wrap>white              </span></td><td>71</td><td>20000</td><td><span style=white-space:pre-wrap>student                       </span></td><td>⋯</td><td><span style=white-space:pre-wrap>berkeley, california           </span></td><td><span style=white-space:pre-wrap>doesn&amp;rsquo;t want kids                     </span></td><td>straight</td><td><span style=white-space:pre-wrap>likes cats               </span></td><td><span style=white-space:pre-wrap>                                        </span></td><td>m</td><td><span style=white-space:pre-wrap>pisces                            </span></td><td><span style=white-space:pre-wrap>no       </span></td><td><span style=white-space:pre-wrap>english, german (poorly)                             </span></td><td><span style=white-space:pre-wrap>single   </span></td></tr>\n",
       "\t<tr><th scope=row>5</th><td>29</td><td>athletic      </td><td>                 </td><td>socially</td><td>never    </td><td>graduated from college/university</td><td>asian, black, other</td><td>66</td><td>-1   </td><td>artistic / musical / writer   </td><td>⋯</td><td>san francisco, california      </td><td>                                            </td><td>straight</td><td>likes dogs and likes cats</td><td>                                        </td><td>m</td><td>aquarius                          </td><td>no       </td><td>english                                              </td><td>single   </td></tr>\n",
       "\t<tr><th scope=row>6</th><td>29</td><td><span style=white-space:pre-wrap>average       </span></td><td><span style=white-space:pre-wrap>mostly anything  </span></td><td>socially</td><td><span style=white-space:pre-wrap>         </span></td><td>graduated from college/university</td><td><span style=white-space:pre-wrap>white              </span></td><td>67</td><td><span style=white-space:pre-wrap>-1   </span></td><td>computer / hardware / software</td><td>⋯</td><td><span style=white-space:pre-wrap>san francisco, california      </span></td><td>doesn&amp;rsquo;t have kids, but might want them</td><td>straight</td><td><span style=white-space:pre-wrap>likes cats               </span></td><td><span style=white-space:pre-wrap>atheism                                 </span></td><td>m</td><td><span style=white-space:pre-wrap>taurus                            </span></td><td><span style=white-space:pre-wrap>no       </span></td><td><span style=white-space:pre-wrap>english (fluently), chinese (okay)                   </span></td><td><span style=white-space:pre-wrap>single   </span></td></tr>\n",
       "</tbody>\n",
       "</table>\n"
      ],
      "text/latex": [
       "A data.frame: 6 × 21\n",
       "\\begin{tabular}{r|lllllllllllllllllllll}\n",
       "  & age & body\\_type & diet & drinks & drugs & education & ethnicity & height & income & job & ⋯ & location & offspring & orientation & pets & religion & sex & sign & smokes & speaks & status\\\\\n",
       "  & <chr> & <chr> & <chr> & <chr> & <chr> & <chr> & <chr> & <chr> & <chr> & <chr> & ⋯ & <chr> & <chr> & <chr> & <chr> & <chr> & <chr> & <chr> & <chr> & <chr> & <chr>\\\\\n",
       "\\hline\n",
       "\t1 & 22 & a little extra & strictly anything & socially & never     & working on college/university     & asian, white        & 75 & -1    & transportation                 & ⋯ & south san francisco, california & doesn\\&rsquo;t have kids, but might want them & straight & likes dogs and likes cats & agnosticism and very serious about it    & m & gemini                             & sometimes & english                                               & single   \\\\\n",
       "\t2 & 35 & average        & mostly other      & often    & sometimes & working on space camp             & white               & 70 & 80000 & hospitality / travel           & ⋯ & oakland, california             & doesn\\&rsquo;t have kids, but might want them & straight & likes dogs and likes cats & agnosticism but not too serious about it & m & cancer                             & no        & english (fluently), spanish (poorly), french (poorly) & single   \\\\\n",
       "\t3 & 38 & thin           & anything          & socially &           & graduated from masters program    &                     & 68 & -1    &                                & ⋯ & san francisco, california       &                                              & straight & has cats                  &                                          & m & pisces but it doesn\\&rsquo;t matter & no        & english, french, c++                                  & available\\\\\n",
       "\t4 & 23 & thin           & vegetarian        & socially &           & working on college/university     & white               & 71 & 20000 & student                        & ⋯ & berkeley, california            & doesn\\&rsquo;t want kids                      & straight & likes cats                &                                          & m & pisces                             & no        & english, german (poorly)                              & single   \\\\\n",
       "\t5 & 29 & athletic       &                   & socially & never     & graduated from college/university & asian, black, other & 66 & -1    & artistic / musical / writer    & ⋯ & san francisco, california       &                                              & straight & likes dogs and likes cats &                                          & m & aquarius                           & no        & english                                               & single   \\\\\n",
       "\t6 & 29 & average        & mostly anything   & socially &           & graduated from college/university & white               & 67 & -1    & computer / hardware / software & ⋯ & san francisco, california       & doesn\\&rsquo;t have kids, but might want them & straight & likes cats                & atheism                                  & m & taurus                             & no        & english (fluently), chinese (okay)                    & single   \\\\\n",
       "\\end{tabular}\n"
      ],
      "text/markdown": [
       "\n",
       "A data.frame: 6 × 21\n",
       "\n",
       "| <!--/--> | age &lt;chr&gt; | body_type &lt;chr&gt; | diet &lt;chr&gt; | drinks &lt;chr&gt; | drugs &lt;chr&gt; | education &lt;chr&gt; | ethnicity &lt;chr&gt; | height &lt;chr&gt; | income &lt;chr&gt; | job &lt;chr&gt; | ⋯ ⋯ | location &lt;chr&gt; | offspring &lt;chr&gt; | orientation &lt;chr&gt; | pets &lt;chr&gt; | religion &lt;chr&gt; | sex &lt;chr&gt; | sign &lt;chr&gt; | smokes &lt;chr&gt; | speaks &lt;chr&gt; | status &lt;chr&gt; |\n",
       "|---|---|---|---|---|---|---|---|---|---|---|---|---|---|---|---|---|---|---|---|---|---|\n",
       "| 1 | 22 | a little extra | strictly anything | socially | never     | working on college/university     | asian, white        | 75 | -1    | transportation                 | ⋯ | south san francisco, california | doesn&amp;rsquo;t have kids, but might want them | straight | likes dogs and likes cats | agnosticism and very serious about it    | m | gemini                             | sometimes | english                                               | single    |\n",
       "| 2 | 35 | average        | mostly other      | often    | sometimes | working on space camp             | white               | 70 | 80000 | hospitality / travel           | ⋯ | oakland, california             | doesn&amp;rsquo;t have kids, but might want them | straight | likes dogs and likes cats | agnosticism but not too serious about it | m | cancer                             | no        | english (fluently), spanish (poorly), french (poorly) | single    |\n",
       "| 3 | 38 | thin           | anything          | socially | <!----> | graduated from masters program    | <!----> | 68 | -1    | <!----> | ⋯ | san francisco, california       | <!----> | straight | has cats                  | <!----> | m | pisces but it doesn&amp;rsquo;t matter | no        | english, french, c++                                  | available |\n",
       "| 4 | 23 | thin           | vegetarian        | socially | <!----> | working on college/university     | white               | 71 | 20000 | student                        | ⋯ | berkeley, california            | doesn&amp;rsquo;t want kids                      | straight | likes cats                | <!----> | m | pisces                             | no        | english, german (poorly)                              | single    |\n",
       "| 5 | 29 | athletic       | <!----> | socially | never     | graduated from college/university | asian, black, other | 66 | -1    | artistic / musical / writer    | ⋯ | san francisco, california       | <!----> | straight | likes dogs and likes cats | <!----> | m | aquarius                           | no        | english                                               | single    |\n",
       "| 6 | 29 | average        | mostly anything   | socially | <!----> | graduated from college/university | white               | 67 | -1    | computer / hardware / software | ⋯ | san francisco, california       | doesn&amp;rsquo;t have kids, but might want them | straight | likes cats                | atheism                                  | m | taurus                             | no        | english (fluently), chinese (okay)                    | single    |\n",
       "\n"
      ],
      "text/plain": [
       "  age body_type      diet              drinks   drugs    \n",
       "1 22  a little extra strictly anything socially never    \n",
       "2 35  average        mostly other      often    sometimes\n",
       "3 38  thin           anything          socially          \n",
       "4 23  thin           vegetarian        socially          \n",
       "5 29  athletic                         socially never    \n",
       "6 29  average        mostly anything   socially          \n",
       "  education                         ethnicity           height income\n",
       "1 working on college/university     asian, white        75     -1    \n",
       "2 working on space camp             white               70     80000 \n",
       "3 graduated from masters program                        68     -1    \n",
       "4 working on college/university     white               71     20000 \n",
       "5 graduated from college/university asian, black, other 66     -1    \n",
       "6 graduated from college/university white               67     -1    \n",
       "  job                            <U+22EF>        location                       \n",
       "1 transportation                 <U+22EF> south san francisco, california\n",
       "2 hospitality / travel           <U+22EF> oakland, california            \n",
       "3                                <U+22EF> san francisco, california      \n",
       "4 student                        <U+22EF> berkeley, california           \n",
       "5 artistic / musical / writer    <U+22EF> san francisco, california      \n",
       "6 computer / hardware / software <U+22EF> san francisco, california      \n",
       "  offspring                                    orientation\n",
       "1 doesn&rsquo;t have kids, but might want them straight   \n",
       "2 doesn&rsquo;t have kids, but might want them straight   \n",
       "3                                              straight   \n",
       "4 doesn&rsquo;t want kids                      straight   \n",
       "5                                              straight   \n",
       "6 doesn&rsquo;t have kids, but might want them straight   \n",
       "  pets                      religion                                 sex\n",
       "1 likes dogs and likes cats agnosticism and very serious about it    m  \n",
       "2 likes dogs and likes cats agnosticism but not too serious about it m  \n",
       "3 has cats                                                           m  \n",
       "4 likes cats                                                         m  \n",
       "5 likes dogs and likes cats                                          m  \n",
       "6 likes cats                atheism                                  m  \n",
       "  sign                               smokes   \n",
       "1 gemini                             sometimes\n",
       "2 cancer                             no       \n",
       "3 pisces but it doesn&rsquo;t matter no       \n",
       "4 pisces                             no       \n",
       "5 aquarius                           no       \n",
       "6 taurus                             no       \n",
       "  speaks                                                status   \n",
       "1 english                                               single   \n",
       "2 english (fluently), spanish (poorly), french (poorly) single   \n",
       "3 english, french, c++                                  available\n",
       "4 english, german (poorly)                              single   \n",
       "5 english                                               single   \n",
       "6 english (fluently), chinese (okay)                    single   "
      ]
     },
     "metadata": {},
     "output_type": "display_data"
    }
   ],
   "source": [
    "okcupid = read.csv('/Users/gawain/Desktop/3.UBC/Block4/Data-572-Supervised learning/Assignment/Assignment1/okcupidprofiles.csv')\n",
    "head(okcupid)"
   ]
  },
  {
   "cell_type": "code",
   "execution_count": null,
   "metadata": {
    "vscode": {
     "languageId": "r"
    }
   },
   "outputs": [],
   "source": []
  },
  {
   "cell_type": "code",
   "execution_count": null,
   "metadata": {
    "vscode": {
     "languageId": "r"
    }
   },
   "outputs": [],
   "source": []
  },
  {
   "cell_type": "code",
   "execution_count": null,
   "metadata": {
    "vscode": {
     "languageId": "r"
    }
   },
   "outputs": [],
   "source": []
  }
 ],
 "metadata": {
  "kernelspec": {
   "display_name": "R",
   "language": "R",
   "name": "ir"
  },
  "language_info": {
   "codemirror_mode": "r",
   "file_extension": ".r",
   "mimetype": "text/x-r-source",
   "name": "R",
   "pygments_lexer": "r",
   "version": "4.2.1"
  },
  "orig_nbformat": 4
 },
 "nbformat": 4,
 "nbformat_minor": 2
}
