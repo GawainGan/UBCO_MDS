{
 "cells": [
  {
   "attachments": {},
   "cell_type": "markdown",
   "metadata": {},
   "source": [
    "### load package"
   ]
  },
  {
   "cell_type": "code",
   "execution_count": 1,
   "metadata": {
    "vscode": {
     "languageId": "r"
    }
   },
   "outputs": [
    {
     "name": "stderr",
     "output_type": "stream",
     "text": [
      "Loading required package: ggplot2\n",
      "\n",
      "Loading required package: lattice\n",
      "\n",
      "\n",
      "Attaching package: 'boot'\n",
      "\n",
      "\n",
      "The following object is masked from 'package:lattice':\n",
      "\n",
      "    melanoma\n",
      "\n",
      "\n",
      "\n",
      "Attaching package: 'MLmetrics'\n",
      "\n",
      "\n",
      "The following objects are masked from 'package:caret':\n",
      "\n",
      "    MAE, RMSE\n",
      "\n",
      "\n",
      "The following object is masked from 'package:base':\n",
      "\n",
      "    Recall\n",
      "\n",
      "\n"
     ]
    }
   ],
   "source": [
    "library(caret)\n",
    "library(boot)\n",
    "library(MASS)\n",
    "library(MLmetrics)"
   ]
  },
  {
   "attachments": {},
   "cell_type": "markdown",
   "metadata": {},
   "source": [
    "# Q1"
   ]
  },
  {
   "attachments": {},
   "cell_type": "markdown",
   "metadata": {},
   "source": [
    "### Load data"
   ]
  },
  {
   "cell_type": "code",
   "execution_count": 2,
   "metadata": {
    "vscode": {
     "languageId": "r"
    }
   },
   "outputs": [
    {
     "data": {
      "text/html": [
       "<table class=\"dataframe\">\n",
       "<caption>A data.frame: 6 × 18</caption>\n",
       "<thead>\n",
       "\t<tr><th></th><th scope=col>Manufacturer</th><th scope=col>Model</th><th scope=col>Type</th><th scope=col>Price</th><th scope=col>MPG.city</th><th scope=col>MPG.highway</th><th scope=col>EngineSize</th><th scope=col>Horsepower</th><th scope=col>RPM</th><th scope=col>Rev.per.mile</th><th scope=col>Fuel.tank.capacity</th><th scope=col>Length</th><th scope=col>Wheelbase</th><th scope=col>Width</th><th scope=col>Turn.circle</th><th scope=col>Rear.seat.room</th><th scope=col>Luggage.room</th><th scope=col>Weight</th></tr>\n",
       "\t<tr><th></th><th scope=col>&lt;chr&gt;</th><th scope=col>&lt;chr&gt;</th><th scope=col>&lt;chr&gt;</th><th scope=col>&lt;dbl&gt;</th><th scope=col>&lt;int&gt;</th><th scope=col>&lt;int&gt;</th><th scope=col>&lt;dbl&gt;</th><th scope=col>&lt;int&gt;</th><th scope=col>&lt;int&gt;</th><th scope=col>&lt;int&gt;</th><th scope=col>&lt;dbl&gt;</th><th scope=col>&lt;int&gt;</th><th scope=col>&lt;int&gt;</th><th scope=col>&lt;int&gt;</th><th scope=col>&lt;int&gt;</th><th scope=col>&lt;dbl&gt;</th><th scope=col>&lt;int&gt;</th><th scope=col>&lt;int&gt;</th></tr>\n",
       "</thead>\n",
       "<tbody>\n",
       "\t<tr><th scope=row>1</th><td>Acura</td><td>Integra</td><td>Small  </td><td>15.9</td><td>25</td><td>31</td><td>1.8</td><td>140</td><td>6300</td><td>2890</td><td>13.2</td><td>177</td><td>102</td><td>68</td><td>37</td><td>26.5</td><td>11</td><td>2705</td></tr>\n",
       "\t<tr><th scope=row>2</th><td>Acura</td><td>Legend </td><td>Midsize</td><td>33.9</td><td>18</td><td>25</td><td>3.2</td><td>200</td><td>5500</td><td>2335</td><td>18.0</td><td>195</td><td>115</td><td>71</td><td>38</td><td>30.0</td><td>15</td><td>3560</td></tr>\n",
       "\t<tr><th scope=row>3</th><td>Audi </td><td>90     </td><td>Compact</td><td>29.1</td><td>20</td><td>26</td><td>2.8</td><td>172</td><td>5500</td><td>2280</td><td>16.9</td><td>180</td><td>102</td><td>67</td><td>37</td><td>28.0</td><td>14</td><td>3375</td></tr>\n",
       "\t<tr><th scope=row>4</th><td>Audi </td><td>100    </td><td>Midsize</td><td>37.7</td><td>19</td><td>26</td><td>2.8</td><td>172</td><td>5500</td><td>2535</td><td>21.1</td><td>193</td><td>106</td><td>70</td><td>37</td><td>31.0</td><td>17</td><td>3405</td></tr>\n",
       "\t<tr><th scope=row>5</th><td>BMW  </td><td>535i   </td><td>Midsize</td><td>30.0</td><td>22</td><td>30</td><td>3.5</td><td>208</td><td>5700</td><td>2545</td><td>21.1</td><td>186</td><td>109</td><td>69</td><td>39</td><td>27.0</td><td>13</td><td>3640</td></tr>\n",
       "\t<tr><th scope=row>6</th><td>Buick</td><td>Century</td><td>Midsize</td><td>15.7</td><td>22</td><td>31</td><td>2.2</td><td>110</td><td>5200</td><td>2565</td><td>16.4</td><td>189</td><td>105</td><td>69</td><td>41</td><td>28.0</td><td>16</td><td>2880</td></tr>\n",
       "</tbody>\n",
       "</table>\n"
      ],
      "text/latex": [
       "A data.frame: 6 × 18\n",
       "\\begin{tabular}{r|llllllllllllllllll}\n",
       "  & Manufacturer & Model & Type & Price & MPG.city & MPG.highway & EngineSize & Horsepower & RPM & Rev.per.mile & Fuel.tank.capacity & Length & Wheelbase & Width & Turn.circle & Rear.seat.room & Luggage.room & Weight\\\\\n",
       "  & <chr> & <chr> & <chr> & <dbl> & <int> & <int> & <dbl> & <int> & <int> & <int> & <dbl> & <int> & <int> & <int> & <int> & <dbl> & <int> & <int>\\\\\n",
       "\\hline\n",
       "\t1 & Acura & Integra & Small   & 15.9 & 25 & 31 & 1.8 & 140 & 6300 & 2890 & 13.2 & 177 & 102 & 68 & 37 & 26.5 & 11 & 2705\\\\\n",
       "\t2 & Acura & Legend  & Midsize & 33.9 & 18 & 25 & 3.2 & 200 & 5500 & 2335 & 18.0 & 195 & 115 & 71 & 38 & 30.0 & 15 & 3560\\\\\n",
       "\t3 & Audi  & 90      & Compact & 29.1 & 20 & 26 & 2.8 & 172 & 5500 & 2280 & 16.9 & 180 & 102 & 67 & 37 & 28.0 & 14 & 3375\\\\\n",
       "\t4 & Audi  & 100     & Midsize & 37.7 & 19 & 26 & 2.8 & 172 & 5500 & 2535 & 21.1 & 193 & 106 & 70 & 37 & 31.0 & 17 & 3405\\\\\n",
       "\t5 & BMW   & 535i    & Midsize & 30.0 & 22 & 30 & 3.5 & 208 & 5700 & 2545 & 21.1 & 186 & 109 & 69 & 39 & 27.0 & 13 & 3640\\\\\n",
       "\t6 & Buick & Century & Midsize & 15.7 & 22 & 31 & 2.2 & 110 & 5200 & 2565 & 16.4 & 189 & 105 & 69 & 41 & 28.0 & 16 & 2880\\\\\n",
       "\\end{tabular}\n"
      ],
      "text/markdown": [
       "\n",
       "A data.frame: 6 × 18\n",
       "\n",
       "| <!--/--> | Manufacturer &lt;chr&gt; | Model &lt;chr&gt; | Type &lt;chr&gt; | Price &lt;dbl&gt; | MPG.city &lt;int&gt; | MPG.highway &lt;int&gt; | EngineSize &lt;dbl&gt; | Horsepower &lt;int&gt; | RPM &lt;int&gt; | Rev.per.mile &lt;int&gt; | Fuel.tank.capacity &lt;dbl&gt; | Length &lt;int&gt; | Wheelbase &lt;int&gt; | Width &lt;int&gt; | Turn.circle &lt;int&gt; | Rear.seat.room &lt;dbl&gt; | Luggage.room &lt;int&gt; | Weight &lt;int&gt; |\n",
       "|---|---|---|---|---|---|---|---|---|---|---|---|---|---|---|---|---|---|---|\n",
       "| 1 | Acura | Integra | Small   | 15.9 | 25 | 31 | 1.8 | 140 | 6300 | 2890 | 13.2 | 177 | 102 | 68 | 37 | 26.5 | 11 | 2705 |\n",
       "| 2 | Acura | Legend  | Midsize | 33.9 | 18 | 25 | 3.2 | 200 | 5500 | 2335 | 18.0 | 195 | 115 | 71 | 38 | 30.0 | 15 | 3560 |\n",
       "| 3 | Audi  | 90      | Compact | 29.1 | 20 | 26 | 2.8 | 172 | 5500 | 2280 | 16.9 | 180 | 102 | 67 | 37 | 28.0 | 14 | 3375 |\n",
       "| 4 | Audi  | 100     | Midsize | 37.7 | 19 | 26 | 2.8 | 172 | 5500 | 2535 | 21.1 | 193 | 106 | 70 | 37 | 31.0 | 17 | 3405 |\n",
       "| 5 | BMW   | 535i    | Midsize | 30.0 | 22 | 30 | 3.5 | 208 | 5700 | 2545 | 21.1 | 186 | 109 | 69 | 39 | 27.0 | 13 | 3640 |\n",
       "| 6 | Buick | Century | Midsize | 15.7 | 22 | 31 | 2.2 | 110 | 5200 | 2565 | 16.4 | 189 | 105 | 69 | 41 | 28.0 | 16 | 2880 |\n",
       "\n"
      ],
      "text/plain": [
       "  Manufacturer Model   Type    Price MPG.city MPG.highway EngineSize Horsepower\n",
       "1 Acura        Integra Small   15.9  25       31          1.8        140       \n",
       "2 Acura        Legend  Midsize 33.9  18       25          3.2        200       \n",
       "3 Audi         90      Compact 29.1  20       26          2.8        172       \n",
       "4 Audi         100     Midsize 37.7  19       26          2.8        172       \n",
       "5 BMW          535i    Midsize 30.0  22       30          3.5        208       \n",
       "6 Buick        Century Midsize 15.7  22       31          2.2        110       \n",
       "  RPM  Rev.per.mile Fuel.tank.capacity Length Wheelbase Width Turn.circle\n",
       "1 6300 2890         13.2               177    102       68    37         \n",
       "2 5500 2335         18.0               195    115       71    38         \n",
       "3 5500 2280         16.9               180    102       67    37         \n",
       "4 5500 2535         21.1               193    106       70    37         \n",
       "5 5700 2545         21.1               186    109       69    39         \n",
       "6 5200 2565         16.4               189    105       69    41         \n",
       "  Rear.seat.room Luggage.room Weight\n",
       "1 26.5           11           2705  \n",
       "2 30.0           15           3560  \n",
       "3 28.0           14           3375  \n",
       "4 31.0           17           3405  \n",
       "5 27.0           13           3640  \n",
       "6 28.0           16           2880  "
      ]
     },
     "metadata": {},
     "output_type": "display_data"
    }
   ],
   "source": [
    "car93 <- read.csv(file = '/Users/gawain/Desktop/3.UBC/Block4/Data-572-Supervised learning/Assignment/Assignment2/car93.csv')\n",
    "head(car93)"
   ]
  },
  {
   "cell_type": "code",
   "execution_count": 3,
   "metadata": {
    "vscode": {
     "languageId": "r"
    }
   },
   "outputs": [
    {
     "data": {
      "text/html": [
       "<table class=\"dataframe\">\n",
       "<caption>A data.frame: 2 × 18</caption>\n",
       "<thead>\n",
       "\t<tr><th></th><th scope=col>Manufacturer</th><th scope=col>Model</th><th scope=col>Type</th><th scope=col>Price</th><th scope=col>MPG.city</th><th scope=col>MPG.highway</th><th scope=col>EngineSize</th><th scope=col>Horsepower</th><th scope=col>RPM</th><th scope=col>Rev.per.mile</th><th scope=col>Fuel.tank.capacity</th><th scope=col>Length</th><th scope=col>Wheelbase</th><th scope=col>Width</th><th scope=col>Turn.circle</th><th scope=col>Rear.seat.room</th><th scope=col>Luggage.room</th><th scope=col>Weight</th></tr>\n",
       "\t<tr><th></th><th scope=col>&lt;chr&gt;</th><th scope=col>&lt;chr&gt;</th><th scope=col>&lt;chr&gt;</th><th scope=col>&lt;dbl&gt;</th><th scope=col>&lt;int&gt;</th><th scope=col>&lt;int&gt;</th><th scope=col>&lt;dbl&gt;</th><th scope=col>&lt;int&gt;</th><th scope=col>&lt;int&gt;</th><th scope=col>&lt;int&gt;</th><th scope=col>&lt;dbl&gt;</th><th scope=col>&lt;int&gt;</th><th scope=col>&lt;int&gt;</th><th scope=col>&lt;int&gt;</th><th scope=col>&lt;int&gt;</th><th scope=col>&lt;dbl&gt;</th><th scope=col>&lt;int&gt;</th><th scope=col>&lt;int&gt;</th></tr>\n",
       "</thead>\n",
       "<tbody>\n",
       "\t<tr><th scope=row>1</th><td>Acura   </td><td>Integra</td><td>Small  </td><td>15.9</td><td>25</td><td>31</td><td>1.8</td><td>140</td><td>6300</td><td>2890</td><td>13.2</td><td>177</td><td>102</td><td>68</td><td>37</td><td>26.5</td><td>11</td><td>2705</td></tr>\n",
       "\t<tr><th scope=row>18</th><td>Chrysler</td><td>LeBaron</td><td>Compact</td><td>15.8</td><td>23</td><td>28</td><td>3.0</td><td>141</td><td>5000</td><td>2090</td><td>16.0</td><td>183</td><td>104</td><td>68</td><td>41</td><td>30.5</td><td>14</td><td>3085</td></tr>\n",
       "</tbody>\n",
       "</table>\n"
      ],
      "text/latex": [
       "A data.frame: 2 × 18\n",
       "\\begin{tabular}{r|llllllllllllllllll}\n",
       "  & Manufacturer & Model & Type & Price & MPG.city & MPG.highway & EngineSize & Horsepower & RPM & Rev.per.mile & Fuel.tank.capacity & Length & Wheelbase & Width & Turn.circle & Rear.seat.room & Luggage.room & Weight\\\\\n",
       "  & <chr> & <chr> & <chr> & <dbl> & <int> & <int> & <dbl> & <int> & <int> & <int> & <dbl> & <int> & <int> & <int> & <int> & <dbl> & <int> & <int>\\\\\n",
       "\\hline\n",
       "\t1 & Acura    & Integra & Small   & 15.9 & 25 & 31 & 1.8 & 140 & 6300 & 2890 & 13.2 & 177 & 102 & 68 & 37 & 26.5 & 11 & 2705\\\\\n",
       "\t18 & Chrysler & LeBaron & Compact & 15.8 & 23 & 28 & 3.0 & 141 & 5000 & 2090 & 16.0 & 183 & 104 & 68 & 41 & 30.5 & 14 & 3085\\\\\n",
       "\\end{tabular}\n"
      ],
      "text/markdown": [
       "\n",
       "A data.frame: 2 × 18\n",
       "\n",
       "| <!--/--> | Manufacturer &lt;chr&gt; | Model &lt;chr&gt; | Type &lt;chr&gt; | Price &lt;dbl&gt; | MPG.city &lt;int&gt; | MPG.highway &lt;int&gt; | EngineSize &lt;dbl&gt; | Horsepower &lt;int&gt; | RPM &lt;int&gt; | Rev.per.mile &lt;int&gt; | Fuel.tank.capacity &lt;dbl&gt; | Length &lt;int&gt; | Wheelbase &lt;int&gt; | Width &lt;int&gt; | Turn.circle &lt;int&gt; | Rear.seat.room &lt;dbl&gt; | Luggage.room &lt;int&gt; | Weight &lt;int&gt; |\n",
       "|---|---|---|---|---|---|---|---|---|---|---|---|---|---|---|---|---|---|---|\n",
       "| 1 | Acura    | Integra | Small   | 15.9 | 25 | 31 | 1.8 | 140 | 6300 | 2890 | 13.2 | 177 | 102 | 68 | 37 | 26.5 | 11 | 2705 |\n",
       "| 18 | Chrysler | LeBaron | Compact | 15.8 | 23 | 28 | 3.0 | 141 | 5000 | 2090 | 16.0 | 183 | 104 | 68 | 41 | 30.5 | 14 | 3085 |\n",
       "\n"
      ],
      "text/plain": [
       "   Manufacturer Model   Type    Price MPG.city MPG.highway EngineSize\n",
       "1  Acura        Integra Small   15.9  25       31          1.8       \n",
       "18 Chrysler     LeBaron Compact 15.8  23       28          3.0       \n",
       "   Horsepower RPM  Rev.per.mile Fuel.tank.capacity Length Wheelbase Width\n",
       "1  140        6300 2890         13.2               177    102       68   \n",
       "18 141        5000 2090         16.0               183    104       68   \n",
       "   Turn.circle Rear.seat.room Luggage.room Weight\n",
       "1  37          26.5           11           2705  \n",
       "18 41          30.5           14           3085  "
      ]
     },
     "metadata": {},
     "output_type": "display_data"
    }
   ],
   "source": [
    "car93[c(1, 18),]"
   ]
  },
  {
   "attachments": {},
   "cell_type": "markdown",
   "metadata": {},
   "source": [
    "## Part 1\n",
    "\n",
    "Perform a principal components analysis on the numeric variables within the car93 data set. \n",
    "\n",
    "Provide a summary of the fitted model and a biplot. \n",
    "\n",
    "Ensure you scale the data."
   ]
  },
  {
   "cell_type": "code",
   "execution_count": 4,
   "metadata": {
    "vscode": {
     "languageId": "r"
    }
   },
   "outputs": [
    {
     "data": {
      "text/html": [
       "<style>\n",
       ".dl-inline {width: auto; margin:0; padding: 0}\n",
       ".dl-inline>dt, .dl-inline>dd {float: none; width: auto; display: inline-block}\n",
       ".dl-inline>dt::after {content: \":\\0020\"; padding-right: .5ex}\n",
       ".dl-inline>dt:not(:first-of-type) {padding-left: .5ex}\n",
       "</style><dl class=dl-inline><dt>Manufacturer</dt><dd>0</dd><dt>Model</dt><dd>0</dd><dt>Type</dt><dd>0</dd><dt>Price</dt><dd>0</dd><dt>MPG.city</dt><dd>0</dd><dt>MPG.highway</dt><dd>0</dd><dt>EngineSize</dt><dd>0</dd><dt>Horsepower</dt><dd>0</dd><dt>RPM</dt><dd>0</dd><dt>Rev.per.mile</dt><dd>0</dd><dt>Fuel.tank.capacity</dt><dd>0</dd><dt>Length</dt><dd>0</dd><dt>Wheelbase</dt><dd>0</dd><dt>Width</dt><dd>0</dd><dt>Turn.circle</dt><dd>0</dd><dt>Rear.seat.room</dt><dd>0</dd><dt>Luggage.room</dt><dd>0</dd><dt>Weight</dt><dd>0</dd></dl>\n"
      ],
      "text/latex": [
       "\\begin{description*}\n",
       "\\item[Manufacturer] 0\n",
       "\\item[Model] 0\n",
       "\\item[Type] 0\n",
       "\\item[Price] 0\n",
       "\\item[MPG.city] 0\n",
       "\\item[MPG.highway] 0\n",
       "\\item[EngineSize] 0\n",
       "\\item[Horsepower] 0\n",
       "\\item[RPM] 0\n",
       "\\item[Rev.per.mile] 0\n",
       "\\item[Fuel.tank.capacity] 0\n",
       "\\item[Length] 0\n",
       "\\item[Wheelbase] 0\n",
       "\\item[Width] 0\n",
       "\\item[Turn.circle] 0\n",
       "\\item[Rear.seat.room] 0\n",
       "\\item[Luggage.room] 0\n",
       "\\item[Weight] 0\n",
       "\\end{description*}\n"
      ],
      "text/markdown": [
       "Manufacturer\n",
       ":   0Model\n",
       ":   0Type\n",
       ":   0Price\n",
       ":   0MPG.city\n",
       ":   0MPG.highway\n",
       ":   0EngineSize\n",
       ":   0Horsepower\n",
       ":   0RPM\n",
       ":   0Rev.per.mile\n",
       ":   0Fuel.tank.capacity\n",
       ":   0Length\n",
       ":   0Wheelbase\n",
       ":   0Width\n",
       ":   0Turn.circle\n",
       ":   0Rear.seat.room\n",
       ":   0Luggage.room\n",
       ":   0Weight\n",
       ":   0\n",
       "\n"
      ],
      "text/plain": [
       "      Manufacturer              Model               Type              Price \n",
       "                 0                  0                  0                  0 \n",
       "          MPG.city        MPG.highway         EngineSize         Horsepower \n",
       "                 0                  0                  0                  0 \n",
       "               RPM       Rev.per.mile Fuel.tank.capacity             Length \n",
       "                 0                  0                  0                  0 \n",
       "         Wheelbase              Width        Turn.circle     Rear.seat.room \n",
       "                 0                  0                  0                  0 \n",
       "      Luggage.room             Weight \n",
       "                 0                  0 "
      ]
     },
     "metadata": {},
     "output_type": "display_data"
    }
   ],
   "source": [
    "colSums(is.na(car93))"
   ]
  },
  {
   "cell_type": "code",
   "execution_count": 5,
   "metadata": {
    "vscode": {
     "languageId": "r"
    }
   },
   "outputs": [
    {
     "data": {
      "text/plain": [
       " Manufacturer          Model               Type               Price      \n",
       " Length:82          Length:82          Length:82          Min.   : 7.40  \n",
       " Class :character   Class :character   Class :character   1st Qu.:11.65  \n",
       " Mode  :character   Mode  :character   Mode  :character   Median :16.10  \n",
       "                                                          Mean   :19.17  \n",
       "                                                          3rd Qu.:23.60  \n",
       "                                                          Max.   :61.90  \n",
       "    MPG.city      MPG.highway      EngineSize      Horsepower         RPM      \n",
       " Min.   :16.00   Min.   :22.00   Min.   :1.000   Min.   : 55.0   Min.   :3800  \n",
       " 1st Qu.:19.00   1st Qu.:26.00   1st Qu.:1.800   1st Qu.:100.0   1st Qu.:5000  \n",
       " Median :22.00   Median :29.00   Median :2.300   Median :134.5   Median :5400  \n",
       " Mean   :23.09   Mean   :29.98   Mean   :2.589   Mean   :140.0   Mean   :5328  \n",
       " 3rd Qu.:25.00   3rd Qu.:32.75   3rd Qu.:3.200   3rd Qu.:170.0   3rd Qu.:5800  \n",
       " Max.   :46.00   Max.   :50.00   Max.   :5.700   Max.   :300.0   Max.   :6500  \n",
       "  Rev.per.mile  Fuel.tank.capacity     Length        Wheelbase    \n",
       " Min.   :1320   Min.   : 9.20      Min.   :141.0   Min.   : 90.0  \n",
       " 1st Qu.:2056   1st Qu.:13.78      1st Qu.:174.0   1st Qu.: 98.0  \n",
       " Median :2380   Median :15.95      Median :182.5   Median :103.0  \n",
       " Mean   :2368   Mean   :16.11      Mean   :183.2   Mean   :103.2  \n",
       " 3rd Qu.:2595   3rd Qu.:18.00      3rd Qu.:192.8   3rd Qu.:107.8  \n",
       " Max.   :3755   Max.   :23.00      Max.   :219.0   Max.   :117.0  \n",
       "     Width       Turn.circle    Rear.seat.room   Luggage.room       Weight    \n",
       " Min.   :60.0   Min.   :32.00   Min.   :19.00   Min.   : 6.00   Min.   :1695  \n",
       " 1st Qu.:67.0   1st Qu.:36.00   1st Qu.:26.00   1st Qu.:12.00   1st Qu.:2534  \n",
       " Median :68.0   Median :39.00   Median :27.50   Median :14.00   Median :2970  \n",
       " Mean   :68.9   Mean   :38.62   Mean   :27.54   Mean   :13.89   Mean   :2988  \n",
       " 3rd Qu.:71.0   3rd Qu.:41.00   3rd Qu.:29.50   3rd Qu.:15.00   3rd Qu.:3485  \n",
       " Max.   :78.0   Max.   :45.00   Max.   :36.00   Max.   :22.00   Max.   :4105  "
      ]
     },
     "metadata": {},
     "output_type": "display_data"
    }
   ],
   "source": [
    "summary((car93))"
   ]
  },
  {
   "attachments": {},
   "cell_type": "markdown",
   "metadata": {},
   "source": [
    "- The car93 is cleaned and has no null value\n",
    "- the variables measured are on vastly different scales. We should be careful to scale any PCA performed"
   ]
  },
  {
   "cell_type": "code",
   "execution_count": 6,
   "metadata": {
    "vscode": {
     "languageId": "r"
    }
   },
   "outputs": [
    {
     "data": {
      "text/plain": [
       "Importance of components:\n",
       "                          PC1    PC2     PC3     PC4    PC5    PC6     PC7\n",
       "Standard deviation     3.1704 1.2840 0.97225 0.76321 0.6504 0.5732 0.53562\n",
       "Proportion of Variance 0.6701 0.1099 0.06302 0.03883 0.0282 0.0219 0.01913\n",
       "Cumulative Proportion  0.6701 0.7800 0.84304 0.88187 0.9101 0.9320 0.95110\n",
       "                           PC8     PC9    PC10    PC11    PC12    PC13    PC14\n",
       "Standard deviation     0.44946 0.41551 0.34330 0.26369 0.26018 0.20809 0.19842\n",
       "Proportion of Variance 0.01347 0.01151 0.00786 0.00464 0.00451 0.00289 0.00262\n",
       "Cumulative Proportion  0.96457 0.97608 0.98393 0.98857 0.99308 0.99597 0.99859\n",
       "                          PC15\n",
       "Standard deviation     0.14522\n",
       "Proportion of Variance 0.00141\n",
       "Cumulative Proportion  1.00000"
      ]
     },
     "metadata": {},
     "output_type": "display_data"
    }
   ],
   "source": [
    "car93.numeric <- car93[sapply(car93, is.numeric)]\n",
    "car93.pca <- prcomp(car93.numeric, scale.=TRUE)\n",
    "summary(car93.pca)"
   ]
  },
  {
   "cell_type": "code",
   "execution_count": 7,
   "metadata": {
    "vscode": {
     "languageId": "r"
    }
   },
   "outputs": [
    {
     "data": {
      "image/png": "[encoded data removed]",
      "text/plain": [
       "Plot with title \"car93.pca\""
      ]
     },
     "metadata": {
      "image/png": {
       "height": 420,
       "width": 420
      }
     },
     "output_type": "display_data"
    }
   ],
   "source": [
    "plot(car93.pca, type='l')\n"
   ]
  },
  {
   "cell_type": "code",
   "execution_count": 8,
   "metadata": {
    "vscode": {
     "languageId": "r"
    }
   },
   "outputs": [
    {
     "data": {
      "image/png": "[encoded data removed]",
      "text/plain": [
       "plot without title"
      ]
     },
     "metadata": {
      "image/png": {
       "height": 420,
       "width": 420
      }
     },
     "output_type": "display_data"
    }
   ],
   "source": [
    "biplot(car93.pca)"
   ]
  },
  {
   "attachments": {},
   "cell_type": "markdown",
   "metadata": {},
   "source": [
    "## Part 2\n",
    "\n",
    "Interpret the loadings of the first principal component."
   ]
  },
  {
   "cell_type": "code",
   "execution_count": 9,
   "metadata": {
    "vscode": {
     "languageId": "r"
    }
   },
   "outputs": [
    {
     "data": {
      "text/html": [
       "<table class=\"dataframe\">\n",
       "<caption>A matrix: 15 × 2 of type dbl</caption>\n",
       "<thead>\n",
       "\t<tr><th></th><th scope=col>PC1</th><th scope=col>PC2</th></tr>\n",
       "</thead>\n",
       "<tbody>\n",
       "\t<tr><th scope=row>Price</th><td> 0.2204708</td><td> 0.37225168</td></tr>\n",
       "\t<tr><th scope=row>MPG.city</th><td>-0.2686351</td><td>-0.19307271</td></tr>\n",
       "\t<tr><th scope=row>MPG.highway</th><td>-0.2428963</td><td>-0.28759336</td></tr>\n",
       "\t<tr><th scope=row>EngineSize</th><td> 0.2993827</td><td>-0.05044005</td></tr>\n",
       "\t<tr><th scope=row>Horsepower</th><td> 0.2504771</td><td> 0.39222489</td></tr>\n",
       "\t<tr><th scope=row>RPM</th><td>-0.1427112</td><td> 0.52833268</td></tr>\n",
       "\t<tr><th scope=row>Rev.per.mile</th><td>-0.2626478</td><td> 0.12094301</td></tr>\n",
       "\t<tr><th scope=row>Fuel.tank.capacity</th><td> 0.2819184</td><td> 0.16643949</td></tr>\n",
       "\t<tr><th scope=row>Length</th><td> 0.2911181</td><td>-0.11364032</td></tr>\n",
       "\t<tr><th scope=row>Wheelbase</th><td> 0.2890445</td><td>-0.10287701</td></tr>\n",
       "\t<tr><th scope=row>Width</th><td> 0.2861280</td><td>-0.10943488</td></tr>\n",
       "\t<tr><th scope=row>Turn.circle</th><td> 0.2633530</td><td>-0.13849282</td></tr>\n",
       "\t<tr><th scope=row>Rear.seat.room</th><td> 0.1806914</td><td>-0.27829245</td></tr>\n",
       "\t<tr><th scope=row>Luggage.room</th><td> 0.2299132</td><td>-0.34560414</td></tr>\n",
       "\t<tr><th scope=row>Weight</th><td> 0.3065978</td><td> 0.10976982</td></tr>\n",
       "</tbody>\n",
       "</table>\n"
      ],
      "text/latex": [
       "A matrix: 15 × 2 of type dbl\n",
       "\\begin{tabular}{r|ll}\n",
       "  & PC1 & PC2\\\\\n",
       "\\hline\n",
       "\tPrice &  0.2204708 &  0.37225168\\\\\n",
       "\tMPG.city & -0.2686351 & -0.19307271\\\\\n",
       "\tMPG.highway & -0.2428963 & -0.28759336\\\\\n",
       "\tEngineSize &  0.2993827 & -0.05044005\\\\\n",
       "\tHorsepower &  0.2504771 &  0.39222489\\\\\n",
       "\tRPM & -0.1427112 &  0.52833268\\\\\n",
       "\tRev.per.mile & -0.2626478 &  0.12094301\\\\\n",
       "\tFuel.tank.capacity &  0.2819184 &  0.16643949\\\\\n",
       "\tLength &  0.2911181 & -0.11364032\\\\\n",
       "\tWheelbase &  0.2890445 & -0.10287701\\\\\n",
       "\tWidth &  0.2861280 & -0.10943488\\\\\n",
       "\tTurn.circle &  0.2633530 & -0.13849282\\\\\n",
       "\tRear.seat.room &  0.1806914 & -0.27829245\\\\\n",
       "\tLuggage.room &  0.2299132 & -0.34560414\\\\\n",
       "\tWeight &  0.3065978 &  0.10976982\\\\\n",
       "\\end{tabular}\n"
      ],
      "text/markdown": [
       "\n",
       "A matrix: 15 × 2 of type dbl\n",
       "\n",
       "| <!--/--> | PC1 | PC2 |\n",
       "|---|---|---|\n",
       "| Price |  0.2204708 |  0.37225168 |\n",
       "| MPG.city | -0.2686351 | -0.19307271 |\n",
       "| MPG.highway | -0.2428963 | -0.28759336 |\n",
       "| EngineSize |  0.2993827 | -0.05044005 |\n",
       "| Horsepower |  0.2504771 |  0.39222489 |\n",
       "| RPM | -0.1427112 |  0.52833268 |\n",
       "| Rev.per.mile | -0.2626478 |  0.12094301 |\n",
       "| Fuel.tank.capacity |  0.2819184 |  0.16643949 |\n",
       "| Length |  0.2911181 | -0.11364032 |\n",
       "| Wheelbase |  0.2890445 | -0.10287701 |\n",
       "| Width |  0.2861280 | -0.10943488 |\n",
       "| Turn.circle |  0.2633530 | -0.13849282 |\n",
       "| Rear.seat.room |  0.1806914 | -0.27829245 |\n",
       "| Luggage.room |  0.2299132 | -0.34560414 |\n",
       "| Weight |  0.3065978 |  0.10976982 |\n",
       "\n"
      ],
      "text/plain": [
       "                   PC1        PC2        \n",
       "Price               0.2204708  0.37225168\n",
       "MPG.city           -0.2686351 -0.19307271\n",
       "MPG.highway        -0.2428963 -0.28759336\n",
       "EngineSize          0.2993827 -0.05044005\n",
       "Horsepower          0.2504771  0.39222489\n",
       "RPM                -0.1427112  0.52833268\n",
       "Rev.per.mile       -0.2626478  0.12094301\n",
       "Fuel.tank.capacity  0.2819184  0.16643949\n",
       "Length              0.2911181 -0.11364032\n",
       "Wheelbase           0.2890445 -0.10287701\n",
       "Width               0.2861280 -0.10943488\n",
       "Turn.circle         0.2633530 -0.13849282\n",
       "Rear.seat.room      0.1806914 -0.27829245\n",
       "Luggage.room        0.2299132 -0.34560414\n",
       "Weight              0.3065978  0.10976982"
      ]
     },
     "metadata": {},
     "output_type": "display_data"
    }
   ],
   "source": [
    "# based on the plot in the part 1\n",
    "# I will take first 2 components to look in depth for part 2 and 3\n",
    "car93.pca$rotation[,1:2]"
   ]
  },
  {
   "cell_type": "code",
   "execution_count": 10,
   "metadata": {
    "vscode": {
     "languageId": "r"
    }
   },
   "outputs": [
    {
     "data": {
      "text/html": [
       "<table class=\"dataframe\">\n",
       "<caption>A matrix: 15 × 2 of type dbl</caption>\n",
       "<thead>\n",
       "\t<tr><th></th><th scope=col>PC1</th><th scope=col>PC2</th></tr>\n",
       "</thead>\n",
       "<tbody>\n",
       "\t<tr><th scope=row>Price</th><td> 0.22</td><td> 0.37</td></tr>\n",
       "\t<tr><th scope=row>MPG.city</th><td>-0.27</td><td>-0.19</td></tr>\n",
       "\t<tr><th scope=row>MPG.highway</th><td>-0.24</td><td>-0.29</td></tr>\n",
       "\t<tr><th scope=row>EngineSize</th><td> 0.30</td><td>-0.05</td></tr>\n",
       "\t<tr><th scope=row>Horsepower</th><td> 0.25</td><td> 0.39</td></tr>\n",
       "\t<tr><th scope=row>RPM</th><td>-0.14</td><td> 0.53</td></tr>\n",
       "\t<tr><th scope=row>Rev.per.mile</th><td>-0.26</td><td> 0.12</td></tr>\n",
       "\t<tr><th scope=row>Fuel.tank.capacity</th><td> 0.28</td><td> 0.17</td></tr>\n",
       "\t<tr><th scope=row>Length</th><td> 0.29</td><td>-0.11</td></tr>\n",
       "\t<tr><th scope=row>Wheelbase</th><td> 0.29</td><td>-0.10</td></tr>\n",
       "\t<tr><th scope=row>Width</th><td> 0.29</td><td>-0.11</td></tr>\n",
       "\t<tr><th scope=row>Turn.circle</th><td> 0.26</td><td>-0.14</td></tr>\n",
       "\t<tr><th scope=row>Rear.seat.room</th><td> 0.18</td><td>-0.28</td></tr>\n",
       "\t<tr><th scope=row>Luggage.room</th><td> 0.23</td><td>-0.35</td></tr>\n",
       "\t<tr><th scope=row>Weight</th><td> 0.31</td><td> 0.11</td></tr>\n",
       "</tbody>\n",
       "</table>\n"
      ],
      "text/latex": [
       "A matrix: 15 × 2 of type dbl\n",
       "\\begin{tabular}{r|ll}\n",
       "  & PC1 & PC2\\\\\n",
       "\\hline\n",
       "\tPrice &  0.22 &  0.37\\\\\n",
       "\tMPG.city & -0.27 & -0.19\\\\\n",
       "\tMPG.highway & -0.24 & -0.29\\\\\n",
       "\tEngineSize &  0.30 & -0.05\\\\\n",
       "\tHorsepower &  0.25 &  0.39\\\\\n",
       "\tRPM & -0.14 &  0.53\\\\\n",
       "\tRev.per.mile & -0.26 &  0.12\\\\\n",
       "\tFuel.tank.capacity &  0.28 &  0.17\\\\\n",
       "\tLength &  0.29 & -0.11\\\\\n",
       "\tWheelbase &  0.29 & -0.10\\\\\n",
       "\tWidth &  0.29 & -0.11\\\\\n",
       "\tTurn.circle &  0.26 & -0.14\\\\\n",
       "\tRear.seat.room &  0.18 & -0.28\\\\\n",
       "\tLuggage.room &  0.23 & -0.35\\\\\n",
       "\tWeight &  0.31 &  0.11\\\\\n",
       "\\end{tabular}\n"
      ],
      "text/markdown": [
       "\n",
       "A matrix: 15 × 2 of type dbl\n",
       "\n",
       "| <!--/--> | PC1 | PC2 |\n",
       "|---|---|---|\n",
       "| Price |  0.22 |  0.37 |\n",
       "| MPG.city | -0.27 | -0.19 |\n",
       "| MPG.highway | -0.24 | -0.29 |\n",
       "| EngineSize |  0.30 | -0.05 |\n",
       "| Horsepower |  0.25 |  0.39 |\n",
       "| RPM | -0.14 |  0.53 |\n",
       "| Rev.per.mile | -0.26 |  0.12 |\n",
       "| Fuel.tank.capacity |  0.28 |  0.17 |\n",
       "| Length |  0.29 | -0.11 |\n",
       "| Wheelbase |  0.29 | -0.10 |\n",
       "| Width |  0.29 | -0.11 |\n",
       "| Turn.circle |  0.26 | -0.14 |\n",
       "| Rear.seat.room |  0.18 | -0.28 |\n",
       "| Luggage.room |  0.23 | -0.35 |\n",
       "| Weight |  0.31 |  0.11 |\n",
       "\n"
      ],
      "text/plain": [
       "                   PC1   PC2  \n",
       "Price               0.22  0.37\n",
       "MPG.city           -0.27 -0.19\n",
       "MPG.highway        -0.24 -0.29\n",
       "EngineSize          0.30 -0.05\n",
       "Horsepower          0.25  0.39\n",
       "RPM                -0.14  0.53\n",
       "Rev.per.mile       -0.26  0.12\n",
       "Fuel.tank.capacity  0.28  0.17\n",
       "Length              0.29 -0.11\n",
       "Wheelbase           0.29 -0.10\n",
       "Width               0.29 -0.11\n",
       "Turn.circle         0.26 -0.14\n",
       "Rear.seat.room      0.18 -0.28\n",
       "Luggage.room        0.23 -0.35\n",
       "Weight              0.31  0.11"
      ]
     },
     "metadata": {},
     "output_type": "display_data"
    }
   ],
   "source": [
    "# do some rounding\n",
    "round(car93.pca$rotation[,1:2], 2)"
   ]
  },
  {
   "cell_type": "code",
   "execution_count": 11,
   "metadata": {
    "vscode": {
     "languageId": "r"
    }
   },
   "outputs": [
    {
     "data": {
      "text/html": [
       "<table class=\"dataframe\">\n",
       "<caption>A matrix: 15 × 2 of type dbl</caption>\n",
       "<thead>\n",
       "\t<tr><th></th><th scope=col>PC1</th><th scope=col>PC2</th></tr>\n",
       "</thead>\n",
       "<tbody>\n",
       "\t<tr><th scope=row>Price</th><td> 0.22</td><td> 0.37</td></tr>\n",
       "\t<tr><th scope=row>MPG.city</th><td>-0.27</td><td>   NA</td></tr>\n",
       "\t<tr><th scope=row>MPG.highway</th><td>-0.24</td><td>-0.29</td></tr>\n",
       "\t<tr><th scope=row>EngineSize</th><td> 0.30</td><td>   NA</td></tr>\n",
       "\t<tr><th scope=row>Horsepower</th><td> 0.25</td><td> 0.39</td></tr>\n",
       "\t<tr><th scope=row>RPM</th><td>   NA</td><td> 0.53</td></tr>\n",
       "\t<tr><th scope=row>Rev.per.mile</th><td>-0.26</td><td>   NA</td></tr>\n",
       "\t<tr><th scope=row>Fuel.tank.capacity</th><td> 0.28</td><td>   NA</td></tr>\n",
       "\t<tr><th scope=row>Length</th><td> 0.29</td><td>   NA</td></tr>\n",
       "\t<tr><th scope=row>Wheelbase</th><td> 0.29</td><td>   NA</td></tr>\n",
       "\t<tr><th scope=row>Width</th><td> 0.29</td><td>   NA</td></tr>\n",
       "\t<tr><th scope=row>Turn.circle</th><td> 0.26</td><td>   NA</td></tr>\n",
       "\t<tr><th scope=row>Rear.seat.room</th><td>   NA</td><td>-0.28</td></tr>\n",
       "\t<tr><th scope=row>Luggage.room</th><td> 0.23</td><td>-0.35</td></tr>\n",
       "\t<tr><th scope=row>Weight</th><td> 0.31</td><td>   NA</td></tr>\n",
       "</tbody>\n",
       "</table>\n"
      ],
      "text/latex": [
       "A matrix: 15 × 2 of type dbl\n",
       "\\begin{tabular}{r|ll}\n",
       "  & PC1 & PC2\\\\\n",
       "\\hline\n",
       "\tPrice &  0.22 &  0.37\\\\\n",
       "\tMPG.city & -0.27 &    NA\\\\\n",
       "\tMPG.highway & -0.24 & -0.29\\\\\n",
       "\tEngineSize &  0.30 &    NA\\\\\n",
       "\tHorsepower &  0.25 &  0.39\\\\\n",
       "\tRPM &    NA &  0.53\\\\\n",
       "\tRev.per.mile & -0.26 &    NA\\\\\n",
       "\tFuel.tank.capacity &  0.28 &    NA\\\\\n",
       "\tLength &  0.29 &    NA\\\\\n",
       "\tWheelbase &  0.29 &    NA\\\\\n",
       "\tWidth &  0.29 &    NA\\\\\n",
       "\tTurn.circle &  0.26 &    NA\\\\\n",
       "\tRear.seat.room &    NA & -0.28\\\\\n",
       "\tLuggage.room &  0.23 & -0.35\\\\\n",
       "\tWeight &  0.31 &    NA\\\\\n",
       "\\end{tabular}\n"
      ],
      "text/markdown": [
       "\n",
       "A matrix: 15 × 2 of type dbl\n",
       "\n",
       "| <!--/--> | PC1 | PC2 |\n",
       "|---|---|---|\n",
       "| Price |  0.22 |  0.37 |\n",
       "| MPG.city | -0.27 |    NA |\n",
       "| MPG.highway | -0.24 | -0.29 |\n",
       "| EngineSize |  0.30 |    NA |\n",
       "| Horsepower |  0.25 |  0.39 |\n",
       "| RPM |    NA |  0.53 |\n",
       "| Rev.per.mile | -0.26 |    NA |\n",
       "| Fuel.tank.capacity |  0.28 |    NA |\n",
       "| Length |  0.29 |    NA |\n",
       "| Wheelbase |  0.29 |    NA |\n",
       "| Width |  0.29 |    NA |\n",
       "| Turn.circle |  0.26 |    NA |\n",
       "| Rear.seat.room |    NA | -0.28 |\n",
       "| Luggage.room |  0.23 | -0.35 |\n",
       "| Weight |  0.31 |    NA |\n",
       "\n"
      ],
      "text/plain": [
       "                   PC1   PC2  \n",
       "Price               0.22  0.37\n",
       "MPG.city           -0.27    NA\n",
       "MPG.highway        -0.24 -0.29\n",
       "EngineSize          0.30    NA\n",
       "Horsepower          0.25  0.39\n",
       "RPM                   NA  0.53\n",
       "Rev.per.mile       -0.26    NA\n",
       "Fuel.tank.capacity  0.28    NA\n",
       "Length              0.29    NA\n",
       "Wheelbase           0.29    NA\n",
       "Width               0.29    NA\n",
       "Turn.circle         0.26    NA\n",
       "Rear.seat.room        NA -0.28\n",
       "Luggage.room        0.23 -0.35\n",
       "Weight              0.31    NA"
      ]
     },
     "metadata": {},
     "output_type": "display_data"
    }
   ],
   "source": [
    "# Let’s make it even more readable. \n",
    "# Since we have lots of values here, it is often easier to view just the variables that surpass some threshold of absolute magnitude. \n",
    "# the threshold I will set as 0.2 (like the one in the lab4)\n",
    "\n",
    "loadi <- round(car93.pca$rotation[,1:2], 2)\n",
    "loadi[abs(loadi)<0.2] <- NA\n",
    "loadi"
   ]
  },
  {
   "attachments": {},
   "cell_type": "markdown",
   "metadata": {},
   "source": [
    "- Let’s start with the first component. This component has relatively high loading of nearly all the variables. \n",
    "- Interestingly, most of the loadings (including those below the threshold) are positive. \n",
    "- So we don't change the direction of the PC1"
   ]
  },
  {
   "cell_type": "code",
   "execution_count": 12,
   "metadata": {
    "vscode": {
     "languageId": "r"
    }
   },
   "outputs": [
    {
     "data": {
      "text/html": [
       "<style>\n",
       ".list-inline {list-style: none; margin:0; padding: 0}\n",
       ".list-inline>li {display: inline-block}\n",
       ".list-inline>li:not(:last-child)::after {content: \"\\00b7\"; padding: 0 .5ex}\n",
       "</style>\n",
       "<ol class=list-inline><li>'Geo'</li><li>'Subaru'</li><li>'Suzuki'</li><li>'Ford'</li><li>'Toyota'</li><li>'Hyundai'</li></ol>\n"
      ],
      "text/latex": [
       "\\begin{enumerate*}\n",
       "\\item 'Geo'\n",
       "\\item 'Subaru'\n",
       "\\item 'Suzuki'\n",
       "\\item 'Ford'\n",
       "\\item 'Toyota'\n",
       "\\item 'Hyundai'\n",
       "\\end{enumerate*}\n"
      ],
      "text/markdown": [
       "1. 'Geo'\n",
       "2. 'Subaru'\n",
       "3. 'Suzuki'\n",
       "4. 'Ford'\n",
       "5. 'Toyota'\n",
       "6. 'Hyundai'\n",
       "\n",
       "\n"
      ],
      "text/plain": [
       "[1] \"Geo\"     \"Subaru\"  \"Suzuki\"  \"Ford\"    \"Toyota\"  \"Hyundai\""
      ]
     },
     "metadata": {},
     "output_type": "display_data"
    }
   ],
   "source": [
    "# Now we can check the correlation in different columns which can affect the 'Car quality', we will expect any car item that:\n",
    "# - scores high would be good car\n",
    "# - scores low would be not-good car\n",
    "head(car93[order(-car93.pca$x[,1], decreasing=TRUE),1])"
   ]
  },
  {
   "cell_type": "code",
   "execution_count": 13,
   "metadata": {
    "vscode": {
     "languageId": "r"
    }
   },
   "outputs": [
    {
     "data": {
      "text/html": [
       "<style>\n",
       ".list-inline {list-style: none; margin:0; padding: 0}\n",
       ".list-inline>li {display: inline-block}\n",
       ".list-inline>li:not(:last-child)::after {content: \"\\00b7\"; padding: 0 .5ex}\n",
       "</style>\n",
       "<ol class=list-inline><li>'Infiniti'</li><li>'Cadillac'</li><li>'Ford'</li><li>'Chevrolet'</li><li>'Lincoln'</li><li>'Buick'</li></ol>\n"
      ],
      "text/latex": [
       "\\begin{enumerate*}\n",
       "\\item 'Infiniti'\n",
       "\\item 'Cadillac'\n",
       "\\item 'Ford'\n",
       "\\item 'Chevrolet'\n",
       "\\item 'Lincoln'\n",
       "\\item 'Buick'\n",
       "\\end{enumerate*}\n"
      ],
      "text/markdown": [
       "1. 'Infiniti'\n",
       "2. 'Cadillac'\n",
       "3. 'Ford'\n",
       "4. 'Chevrolet'\n",
       "5. 'Lincoln'\n",
       "6. 'Buick'\n",
       "\n",
       "\n"
      ],
      "text/plain": [
       "[1] \"Infiniti\"  \"Cadillac\"  \"Ford\"      \"Chevrolet\" \"Lincoln\"   \"Buick\"    "
      ]
     },
     "metadata": {},
     "output_type": "display_data"
    }
   ],
   "source": [
    "tail(car93[order(-car93.pca$x[,1], decreasing=TRUE),1])"
   ]
  },
  {
   "attachments": {},
   "cell_type": "markdown",
   "metadata": {},
   "source": [
    "## Part C\n",
    "Interpret the loadings of the second principal component."
   ]
  },
  {
   "cell_type": "code",
   "execution_count": 14,
   "metadata": {
    "vscode": {
     "languageId": "r"
    }
   },
   "outputs": [
    {
     "data": {
      "text/html": [
       "<style>\n",
       ".list-inline {list-style: none; margin:0; padding: 0}\n",
       ".list-inline>li {display: inline-block}\n",
       ".list-inline>li:not(:last-child)::after {content: \"\\00b7\"; padding: 0 .5ex}\n",
       "</style>\n",
       "<ol class=list-inline><li>'Buick'</li><li>'Ford'</li><li>'Chevrolet'</li><li>'Mercury'</li><li>'Mazda'</li><li>'Saturn'</li></ol>\n"
      ],
      "text/latex": [
       "\\begin{enumerate*}\n",
       "\\item 'Buick'\n",
       "\\item 'Ford'\n",
       "\\item 'Chevrolet'\n",
       "\\item 'Mercury'\n",
       "\\item 'Mazda'\n",
       "\\item 'Saturn'\n",
       "\\end{enumerate*}\n"
      ],
      "text/markdown": [
       "1. 'Buick'\n",
       "2. 'Ford'\n",
       "3. 'Chevrolet'\n",
       "4. 'Mercury'\n",
       "5. 'Mazda'\n",
       "6. 'Saturn'\n",
       "\n",
       "\n"
      ],
      "text/plain": [
       "[1] \"Buick\"     \"Ford\"      \"Chevrolet\" \"Mercury\"   \"Mazda\"     \"Saturn\"   "
      ]
     },
     "metadata": {},
     "output_type": "display_data"
    }
   ],
   "source": [
    "head(car93[order(-car93.pca$x[,2], decreasing=TRUE),1])"
   ]
  },
  {
   "cell_type": "code",
   "execution_count": 15,
   "metadata": {
    "vscode": {
     "languageId": "r"
    }
   },
   "outputs": [
    {
     "data": {
      "text/html": [
       "<style>\n",
       ".list-inline {list-style: none; margin:0; padding: 0}\n",
       ".list-inline>li {display: inline-block}\n",
       ".list-inline>li:not(:last-child)::after {content: \"\\00b7\"; padding: 0 .5ex}\n",
       "</style>\n",
       "<ol class=list-inline><li>'Mercury'</li><li>'Cadillac'</li><li>'Mercedes-Benz'</li><li>'Infiniti'</li><li>'Lexus'</li><li>'Dodge'</li></ol>\n"
      ],
      "text/latex": [
       "\\begin{enumerate*}\n",
       "\\item 'Mercury'\n",
       "\\item 'Cadillac'\n",
       "\\item 'Mercedes-Benz'\n",
       "\\item 'Infiniti'\n",
       "\\item 'Lexus'\n",
       "\\item 'Dodge'\n",
       "\\end{enumerate*}\n"
      ],
      "text/markdown": [
       "1. 'Mercury'\n",
       "2. 'Cadillac'\n",
       "3. 'Mercedes-Benz'\n",
       "4. 'Infiniti'\n",
       "5. 'Lexus'\n",
       "6. 'Dodge'\n",
       "\n",
       "\n"
      ],
      "text/plain": [
       "[1] \"Mercury\"       \"Cadillac\"      \"Mercedes-Benz\" \"Infiniti\"     \n",
       "[5] \"Lexus\"         \"Dodge\"        "
      ]
     },
     "metadata": {},
     "output_type": "display_data"
    }
   ],
   "source": [
    "tail(car93[order(-car93.pca$x[,2], decreasing=TRUE),1])"
   ]
  },
  {
   "attachments": {},
   "cell_type": "markdown",
   "metadata": {},
   "source": [
    "## Part D\n",
    "\n",
    "How many principal components should be kept...\n",
    "\n",
    "      i. according to the Kaiser criterion?\n",
    "      ii. if we wish to retain at least 90% of the variance in the data?\n",
    "      iii. according to the scree plot?"
   ]
  },
  {
   "cell_type": "code",
   "execution_count": 16,
   "metadata": {
    "vscode": {
     "languageId": "r"
    }
   },
   "outputs": [
    {
     "data": {
      "text/plain": [
       "Importance of components:\n",
       "                          PC1    PC2     PC3     PC4    PC5    PC6     PC7\n",
       "Standard deviation     3.1704 1.2840 0.97225 0.76321 0.6504 0.5732 0.53562\n",
       "Proportion of Variance 0.6701 0.1099 0.06302 0.03883 0.0282 0.0219 0.01913\n",
       "Cumulative Proportion  0.6701 0.7800 0.84304 0.88187 0.9101 0.9320 0.95110\n",
       "                           PC8     PC9    PC10    PC11    PC12    PC13    PC14\n",
       "Standard deviation     0.44946 0.41551 0.34330 0.26369 0.26018 0.20809 0.19842\n",
       "Proportion of Variance 0.01347 0.01151 0.00786 0.00464 0.00451 0.00289 0.00262\n",
       "Cumulative Proportion  0.96457 0.97608 0.98393 0.98857 0.99308 0.99597 0.99859\n",
       "                          PC15\n",
       "Standard deviation     0.14522\n",
       "Proportion of Variance 0.00141\n",
       "Cumulative Proportion  1.00000"
      ]
     },
     "metadata": {},
     "output_type": "display_data"
    }
   ],
   "source": [
    "summary(car93.pca)"
   ]
  },
  {
   "attachments": {},
   "cell_type": "markdown",
   "metadata": {},
   "source": [
    "1. According to the Kaiser criterion(>= 1.0), we should only keep 2 components.\n",
    "\n",
    "2. As PC5 is the first one reach over 0.9 in the Cumulative Proportion, thus we should keep 5 components."
   ]
  },
  {
   "cell_type": "code",
   "execution_count": 17,
   "metadata": {
    "vscode": {
     "languageId": "r"
    }
   },
   "outputs": [
    {
     "data": {
      "image/png": "[encoded data removed]",
      "text/plain": [
       "Plot with title \"car93.pca\""
      ]
     },
     "metadata": {
      "image/png": {
       "height": 420,
       "width": 420
      }
     },
     "output_type": "display_data"
    }
   ],
   "source": [
    "plot(car93.pca, type='l', npcs = 16)"
   ]
  },
  {
   "attachments": {},
   "cell_type": "markdown",
   "metadata": {},
   "source": [
    "If we look at the screen plot, Best argument might be for 3 or 4 components, but it'll be leaving a lot of variance on the table."
   ]
  },
  {
   "attachments": {},
   "cell_type": "markdown",
   "metadata": {},
   "source": [
    "## Part E\n",
    "\n",
    "Keep the components suggested by the Kaiser criterion and.."
   ]
  },
  {
   "cell_type": "code",
   "execution_count": 18,
   "metadata": {
    "vscode": {
     "languageId": "r"
    }
   },
   "outputs": [
    {
     "data": {
      "text/html": [
       "<table class=\"dataframe\">\n",
       "<caption>A matrix: 6 × 2 of type dbl</caption>\n",
       "<thead>\n",
       "\t<tr><th scope=col>PC1</th><th scope=col>PC2</th></tr>\n",
       "</thead>\n",
       "<tbody>\n",
       "\t<tr><td>-2.0524746</td><td> 1.1810204</td></tr>\n",
       "\t<tr><td> 2.8553097</td><td> 1.1252703</td></tr>\n",
       "\t<tr><td> 0.7098199</td><td> 1.3061906</td></tr>\n",
       "\t<tr><td> 2.3029318</td><td> 1.0732966</td></tr>\n",
       "\t<tr><td> 1.7814785</td><td> 1.7221741</td></tr>\n",
       "\t<tr><td> 0.1462982</td><td>-0.9022327</td></tr>\n",
       "</tbody>\n",
       "</table>\n"
      ],
      "text/latex": [
       "A matrix: 6 × 2 of type dbl\n",
       "\\begin{tabular}{ll}\n",
       " PC1 & PC2\\\\\n",
       "\\hline\n",
       "\t -2.0524746 &  1.1810204\\\\\n",
       "\t  2.8553097 &  1.1252703\\\\\n",
       "\t  0.7098199 &  1.3061906\\\\\n",
       "\t  2.3029318 &  1.0732966\\\\\n",
       "\t  1.7814785 &  1.7221741\\\\\n",
       "\t  0.1462982 & -0.9022327\\\\\n",
       "\\end{tabular}\n"
      ],
      "text/markdown": [
       "\n",
       "A matrix: 6 × 2 of type dbl\n",
       "\n",
       "| PC1 | PC2 |\n",
       "|---|---|\n",
       "| -2.0524746 |  1.1810204 |\n",
       "|  2.8553097 |  1.1252703 |\n",
       "|  0.7098199 |  1.3061906 |\n",
       "|  2.3029318 |  1.0732966 |\n",
       "|  1.7814785 |  1.7221741 |\n",
       "|  0.1462982 | -0.9022327 |\n",
       "\n"
      ],
      "text/plain": [
       "     PC1        PC2       \n",
       "[1,] -2.0524746  1.1810204\n",
       "[2,]  2.8553097  1.1252703\n",
       "[3,]  0.7098199  1.3061906\n",
       "[4,]  2.3029318  1.0732966\n",
       "[5,]  1.7814785  1.7221741\n",
       "[6,]  0.1462982 -0.9022327"
      ]
     },
     "metadata": {},
     "output_type": "display_data"
    }
   ],
   "source": [
    "scr <- car93.pca$x[,1:2]\n",
    "head(scr)"
   ]
  },
  {
   "attachments": {},
   "cell_type": "markdown",
   "metadata": {},
   "source": [
    "### E.1\n",
    "perform logistic regression (with a manual loop for leave one out cross-validation) with our response being “Small” or “Not Small” for the “Type” of car and the predictors being the components retained. \n",
    "\n",
    "What is the cross-validated logloss of this model?"
   ]
  },
  {
   "cell_type": "code",
   "execution_count": 19,
   "metadata": {
    "vscode": {
     "languageId": "r"
    }
   },
   "outputs": [
    {
     "data": {
      "text/html": [
       "<table class=\"dataframe\">\n",
       "<caption>A data.frame: 6 × 18</caption>\n",
       "<thead>\n",
       "\t<tr><th></th><th scope=col>Manufacturer</th><th scope=col>Model</th><th scope=col>Type</th><th scope=col>Price</th><th scope=col>MPG.city</th><th scope=col>MPG.highway</th><th scope=col>EngineSize</th><th scope=col>Horsepower</th><th scope=col>RPM</th><th scope=col>Rev.per.mile</th><th scope=col>Fuel.tank.capacity</th><th scope=col>Length</th><th scope=col>Wheelbase</th><th scope=col>Width</th><th scope=col>Turn.circle</th><th scope=col>Rear.seat.room</th><th scope=col>Luggage.room</th><th scope=col>Weight</th></tr>\n",
       "\t<tr><th></th><th scope=col>&lt;chr&gt;</th><th scope=col>&lt;chr&gt;</th><th scope=col>&lt;dbl&gt;</th><th scope=col>&lt;dbl&gt;</th><th scope=col>&lt;int&gt;</th><th scope=col>&lt;int&gt;</th><th scope=col>&lt;dbl&gt;</th><th scope=col>&lt;int&gt;</th><th scope=col>&lt;int&gt;</th><th scope=col>&lt;int&gt;</th><th scope=col>&lt;dbl&gt;</th><th scope=col>&lt;int&gt;</th><th scope=col>&lt;int&gt;</th><th scope=col>&lt;int&gt;</th><th scope=col>&lt;int&gt;</th><th scope=col>&lt;dbl&gt;</th><th scope=col>&lt;int&gt;</th><th scope=col>&lt;int&gt;</th></tr>\n",
       "</thead>\n",
       "<tbody>\n",
       "\t<tr><th scope=row>1</th><td>Acura</td><td>Integra</td><td>1</td><td>15.9</td><td>25</td><td>31</td><td>1.8</td><td>140</td><td>6300</td><td>2890</td><td>13.2</td><td>177</td><td>102</td><td>68</td><td>37</td><td>26.5</td><td>11</td><td>2705</td></tr>\n",
       "\t<tr><th scope=row>2</th><td>Acura</td><td>Legend </td><td>0</td><td>33.9</td><td>18</td><td>25</td><td>3.2</td><td>200</td><td>5500</td><td>2335</td><td>18.0</td><td>195</td><td>115</td><td>71</td><td>38</td><td>30.0</td><td>15</td><td>3560</td></tr>\n",
       "\t<tr><th scope=row>3</th><td>Audi </td><td>90     </td><td>0</td><td>29.1</td><td>20</td><td>26</td><td>2.8</td><td>172</td><td>5500</td><td>2280</td><td>16.9</td><td>180</td><td>102</td><td>67</td><td>37</td><td>28.0</td><td>14</td><td>3375</td></tr>\n",
       "\t<tr><th scope=row>4</th><td>Audi </td><td>100    </td><td>0</td><td>37.7</td><td>19</td><td>26</td><td>2.8</td><td>172</td><td>5500</td><td>2535</td><td>21.1</td><td>193</td><td>106</td><td>70</td><td>37</td><td>31.0</td><td>17</td><td>3405</td></tr>\n",
       "\t<tr><th scope=row>5</th><td>BMW  </td><td>535i   </td><td>0</td><td>30.0</td><td>22</td><td>30</td><td>3.5</td><td>208</td><td>5700</td><td>2545</td><td>21.1</td><td>186</td><td>109</td><td>69</td><td>39</td><td>27.0</td><td>13</td><td>3640</td></tr>\n",
       "\t<tr><th scope=row>6</th><td>Buick</td><td>Century</td><td>0</td><td>15.7</td><td>22</td><td>31</td><td>2.2</td><td>110</td><td>5200</td><td>2565</td><td>16.4</td><td>189</td><td>105</td><td>69</td><td>41</td><td>28.0</td><td>16</td><td>2880</td></tr>\n",
       "</tbody>\n",
       "</table>\n"
      ],
      "text/latex": [
       "A data.frame: 6 × 18\n",
       "\\begin{tabular}{r|llllllllllllllllll}\n",
       "  & Manufacturer & Model & Type & Price & MPG.city & MPG.highway & EngineSize & Horsepower & RPM & Rev.per.mile & Fuel.tank.capacity & Length & Wheelbase & Width & Turn.circle & Rear.seat.room & Luggage.room & Weight\\\\\n",
       "  & <chr> & <chr> & <dbl> & <dbl> & <int> & <int> & <dbl> & <int> & <int> & <int> & <dbl> & <int> & <int> & <int> & <int> & <dbl> & <int> & <int>\\\\\n",
       "\\hline\n",
       "\t1 & Acura & Integra & 1 & 15.9 & 25 & 31 & 1.8 & 140 & 6300 & 2890 & 13.2 & 177 & 102 & 68 & 37 & 26.5 & 11 & 2705\\\\\n",
       "\t2 & Acura & Legend  & 0 & 33.9 & 18 & 25 & 3.2 & 200 & 5500 & 2335 & 18.0 & 195 & 115 & 71 & 38 & 30.0 & 15 & 3560\\\\\n",
       "\t3 & Audi  & 90      & 0 & 29.1 & 20 & 26 & 2.8 & 172 & 5500 & 2280 & 16.9 & 180 & 102 & 67 & 37 & 28.0 & 14 & 3375\\\\\n",
       "\t4 & Audi  & 100     & 0 & 37.7 & 19 & 26 & 2.8 & 172 & 5500 & 2535 & 21.1 & 193 & 106 & 70 & 37 & 31.0 & 17 & 3405\\\\\n",
       "\t5 & BMW   & 535i    & 0 & 30.0 & 22 & 30 & 3.5 & 208 & 5700 & 2545 & 21.1 & 186 & 109 & 69 & 39 & 27.0 & 13 & 3640\\\\\n",
       "\t6 & Buick & Century & 0 & 15.7 & 22 & 31 & 2.2 & 110 & 5200 & 2565 & 16.4 & 189 & 105 & 69 & 41 & 28.0 & 16 & 2880\\\\\n",
       "\\end{tabular}\n"
      ],
      "text/markdown": [
       "\n",
       "A data.frame: 6 × 18\n",
       "\n",
       "| <!--/--> | Manufacturer &lt;chr&gt; | Model &lt;chr&gt; | Type &lt;dbl&gt; | Price &lt;dbl&gt; | MPG.city &lt;int&gt; | MPG.highway &lt;int&gt; | EngineSize &lt;dbl&gt; | Horsepower &lt;int&gt; | RPM &lt;int&gt; | Rev.per.mile &lt;int&gt; | Fuel.tank.capacity &lt;dbl&gt; | Length &lt;int&gt; | Wheelbase &lt;int&gt; | Width &lt;int&gt; | Turn.circle &lt;int&gt; | Rear.seat.room &lt;dbl&gt; | Luggage.room &lt;int&gt; | Weight &lt;int&gt; |\n",
       "|---|---|---|---|---|---|---|---|---|---|---|---|---|---|---|---|---|---|---|\n",
       "| 1 | Acura | Integra | 1 | 15.9 | 25 | 31 | 1.8 | 140 | 6300 | 2890 | 13.2 | 177 | 102 | 68 | 37 | 26.5 | 11 | 2705 |\n",
       "| 2 | Acura | Legend  | 0 | 33.9 | 18 | 25 | 3.2 | 200 | 5500 | 2335 | 18.0 | 195 | 115 | 71 | 38 | 30.0 | 15 | 3560 |\n",
       "| 3 | Audi  | 90      | 0 | 29.1 | 20 | 26 | 2.8 | 172 | 5500 | 2280 | 16.9 | 180 | 102 | 67 | 37 | 28.0 | 14 | 3375 |\n",
       "| 4 | Audi  | 100     | 0 | 37.7 | 19 | 26 | 2.8 | 172 | 5500 | 2535 | 21.1 | 193 | 106 | 70 | 37 | 31.0 | 17 | 3405 |\n",
       "| 5 | BMW   | 535i    | 0 | 30.0 | 22 | 30 | 3.5 | 208 | 5700 | 2545 | 21.1 | 186 | 109 | 69 | 39 | 27.0 | 13 | 3640 |\n",
       "| 6 | Buick | Century | 0 | 15.7 | 22 | 31 | 2.2 | 110 | 5200 | 2565 | 16.4 | 189 | 105 | 69 | 41 | 28.0 | 16 | 2880 |\n",
       "\n"
      ],
      "text/plain": [
       "  Manufacturer Model   Type Price MPG.city MPG.highway EngineSize Horsepower\n",
       "1 Acura        Integra 1    15.9  25       31          1.8        140       \n",
       "2 Acura        Legend  0    33.9  18       25          3.2        200       \n",
       "3 Audi         90      0    29.1  20       26          2.8        172       \n",
       "4 Audi         100     0    37.7  19       26          2.8        172       \n",
       "5 BMW          535i    0    30.0  22       30          3.5        208       \n",
       "6 Buick        Century 0    15.7  22       31          2.2        110       \n",
       "  RPM  Rev.per.mile Fuel.tank.capacity Length Wheelbase Width Turn.circle\n",
       "1 6300 2890         13.2               177    102       68    37         \n",
       "2 5500 2335         18.0               195    115       71    38         \n",
       "3 5500 2280         16.9               180    102       67    37         \n",
       "4 5500 2535         21.1               193    106       70    37         \n",
       "5 5700 2545         21.1               186    109       69    39         \n",
       "6 5200 2565         16.4               189    105       69    41         \n",
       "  Rear.seat.room Luggage.room Weight\n",
       "1 26.5           11           2705  \n",
       "2 30.0           15           3560  \n",
       "3 28.0           14           3375  \n",
       "4 31.0           17           3405  \n",
       "5 27.0           13           3640  \n",
       "6 28.0           16           2880  "
      ]
     },
     "metadata": {},
     "output_type": "display_data"
    },
    {
     "data": {
      "text/html": [
       "<style>\n",
       ".list-inline {list-style: none; margin:0; padding: 0}\n",
       ".list-inline>li {display: inline-block}\n",
       ".list-inline>li:not(:last-child)::after {content: \"\\00b7\"; padding: 0 .5ex}\n",
       "</style>\n",
       "<ol class=list-inline><li>1</li><li>0</li><li>0</li><li>0</li><li>0</li><li>0</li><li>0</li><li>0</li><li>0</li><li>0</li><li>0</li><li>0</li><li>0</li><li>0</li><li>0</li><li>0</li><li>0</li><li>0</li><li>0</li><li>1</li><li>1</li><li>0</li><li>0</li><li>0</li><li>1</li><li>0</li><li>1</li><li>1</li><li>0</li><li>0</li><li>0</li><li>0</li><li>0</li><li>1</li><li>0</li><li>0</li><li>1</li><li>0</li><li>1</li><li>1</li><li>0</li><li>0</li><li>0</li><li>0</li><li>0</li><li>0</li><li>0</li><li>1</li><li>1</li><li>0</li><li>0</li><li>0</li><li>0</li><li>0</li><li>1</li><li>0</li><li>1</li><li>0</li><li>0</li><li>0</li><li>0</li><li>0</li><li>0</li><li>1</li><li>0</li><li>0</li><li>0</li><li>0</li><li>0</li><li>1</li><li>1</li><li>1</li><li>0</li><li>1</li><li>1</li><li>0</li><li>0</li><li>1</li><li>0</li><li>0</li><li>0</li><li>0</li></ol>\n"
      ],
      "text/latex": [
       "\\begin{enumerate*}\n",
       "\\item 1\n",
       "\\item 0\n",
       "\\item 0\n",
       "\\item 0\n",
       "\\item 0\n",
       "\\item 0\n",
       "\\item 0\n",
       "\\item 0\n",
       "\\item 0\n",
       "\\item 0\n",
       "\\item 0\n",
       "\\item 0\n",
       "\\item 0\n",
       "\\item 0\n",
       "\\item 0\n",
       "\\item 0\n",
       "\\item 0\n",
       "\\item 0\n",
       "\\item 0\n",
       "\\item 1\n",
       "\\item 1\n",
       "\\item 0\n",
       "\\item 0\n",
       "\\item 0\n",
       "\\item 1\n",
       "\\item 0\n",
       "\\item 1\n",
       "\\item 1\n",
       "\\item 0\n",
       "\\item 0\n",
       "\\item 0\n",
       "\\item 0\n",
       "\\item 0\n",
       "\\item 1\n",
       "\\item 0\n",
       "\\item 0\n",
       "\\item 1\n",
       "\\item 0\n",
       "\\item 1\n",
       "\\item 1\n",
       "\\item 0\n",
       "\\item 0\n",
       "\\item 0\n",
       "\\item 0\n",
       "\\item 0\n",
       "\\item 0\n",
       "\\item 0\n",
       "\\item 1\n",
       "\\item 1\n",
       "\\item 0\n",
       "\\item 0\n",
       "\\item 0\n",
       "\\item 0\n",
       "\\item 0\n",
       "\\item 1\n",
       "\\item 0\n",
       "\\item 1\n",
       "\\item 0\n",
       "\\item 0\n",
       "\\item 0\n",
       "\\item 0\n",
       "\\item 0\n",
       "\\item 0\n",
       "\\item 1\n",
       "\\item 0\n",
       "\\item 0\n",
       "\\item 0\n",
       "\\item 0\n",
       "\\item 0\n",
       "\\item 1\n",
       "\\item 1\n",
       "\\item 1\n",
       "\\item 0\n",
       "\\item 1\n",
       "\\item 1\n",
       "\\item 0\n",
       "\\item 0\n",
       "\\item 1\n",
       "\\item 0\n",
       "\\item 0\n",
       "\\item 0\n",
       "\\item 0\n",
       "\\end{enumerate*}\n"
      ],
      "text/markdown": [
       "1. 1\n",
       "2. 0\n",
       "3. 0\n",
       "4. 0\n",
       "5. 0\n",
       "6. 0\n",
       "7. 0\n",
       "8. 0\n",
       "9. 0\n",
       "10. 0\n",
       "11. 0\n",
       "12. 0\n",
       "13. 0\n",
       "14. 0\n",
       "15. 0\n",
       "16. 0\n",
       "17. 0\n",
       "18. 0\n",
       "19. 0\n",
       "20. 1\n",
       "21. 1\n",
       "22. 0\n",
       "23. 0\n",
       "24. 0\n",
       "25. 1\n",
       "26. 0\n",
       "27. 1\n",
       "28. 1\n",
       "29. 0\n",
       "30. 0\n",
       "31. 0\n",
       "32. 0\n",
       "33. 0\n",
       "34. 1\n",
       "35. 0\n",
       "36. 0\n",
       "37. 1\n",
       "38. 0\n",
       "39. 1\n",
       "40. 1\n",
       "41. 0\n",
       "42. 0\n",
       "43. 0\n",
       "44. 0\n",
       "45. 0\n",
       "46. 0\n",
       "47. 0\n",
       "48. 1\n",
       "49. 1\n",
       "50. 0\n",
       "51. 0\n",
       "52. 0\n",
       "53. 0\n",
       "54. 0\n",
       "55. 1\n",
       "56. 0\n",
       "57. 1\n",
       "58. 0\n",
       "59. 0\n",
       "60. 0\n",
       "61. 0\n",
       "62. 0\n",
       "63. 0\n",
       "64. 1\n",
       "65. 0\n",
       "66. 0\n",
       "67. 0\n",
       "68. 0\n",
       "69. 0\n",
       "70. 1\n",
       "71. 1\n",
       "72. 1\n",
       "73. 0\n",
       "74. 1\n",
       "75. 1\n",
       "76. 0\n",
       "77. 0\n",
       "78. 1\n",
       "79. 0\n",
       "80. 0\n",
       "81. 0\n",
       "82. 0\n",
       "\n",
       "\n"
      ],
      "text/plain": [
       " [1] 1 0 0 0 0 0 0 0 0 0 0 0 0 0 0 0 0 0 0 1 1 0 0 0 1 0 1 1 0 0 0 0 0 1 0 0 1 0\n",
       "[39] 1 1 0 0 0 0 0 0 0 1 1 0 0 0 0 0 1 0 1 0 0 0 0 0 0 1 0 0 0 0 0 1 1 1 0 1 1 0\n",
       "[77] 0 1 0 0 0 0"
      ]
     },
     "metadata": {},
     "output_type": "display_data"
    }
   ],
   "source": [
    "car93 <- read.csv(file = '/Users/gawain/Desktop/3.UBC/Block4/Data-572-Supervised learning/Assignment/Assignment2/car93.csv')\n",
    "# set Small as 1, else as 0\n",
    "car93$Type <- ifelse(car93$Type == \"Small\", 1, 0)\n",
    "\n",
    "head(car93)\n",
    "Type <- car93$Type\n",
    "Type"
   ]
  },
  {
   "cell_type": "code",
   "execution_count": 20,
   "metadata": {
    "vscode": {
     "languageId": "r"
    }
   },
   "outputs": [
    {
     "data": {
      "text/html": [
       "<table class=\"dataframe\">\n",
       "<caption>A data.frame: 6 × 3</caption>\n",
       "<thead>\n",
       "\t<tr><th></th><th scope=col>Type</th><th scope=col>PC1</th><th scope=col>PC2</th></tr>\n",
       "\t<tr><th></th><th scope=col>&lt;dbl&gt;</th><th scope=col>&lt;dbl&gt;</th><th scope=col>&lt;dbl&gt;</th></tr>\n",
       "</thead>\n",
       "<tbody>\n",
       "\t<tr><th scope=row>1</th><td>1</td><td>-2.0524746</td><td> 1.1810204</td></tr>\n",
       "\t<tr><th scope=row>2</th><td>0</td><td> 2.8553097</td><td> 1.1252703</td></tr>\n",
       "\t<tr><th scope=row>3</th><td>0</td><td> 0.7098199</td><td> 1.3061906</td></tr>\n",
       "\t<tr><th scope=row>4</th><td>0</td><td> 2.3029318</td><td> 1.0732966</td></tr>\n",
       "\t<tr><th scope=row>5</th><td>0</td><td> 1.7814785</td><td> 1.7221741</td></tr>\n",
       "\t<tr><th scope=row>6</th><td>0</td><td> 0.1462982</td><td>-0.9022327</td></tr>\n",
       "</tbody>\n",
       "</table>\n"
      ],
      "text/latex": [
       "A data.frame: 6 × 3\n",
       "\\begin{tabular}{r|lll}\n",
       "  & Type & PC1 & PC2\\\\\n",
       "  & <dbl> & <dbl> & <dbl>\\\\\n",
       "\\hline\n",
       "\t1 & 1 & -2.0524746 &  1.1810204\\\\\n",
       "\t2 & 0 &  2.8553097 &  1.1252703\\\\\n",
       "\t3 & 0 &  0.7098199 &  1.3061906\\\\\n",
       "\t4 & 0 &  2.3029318 &  1.0732966\\\\\n",
       "\t5 & 0 &  1.7814785 &  1.7221741\\\\\n",
       "\t6 & 0 &  0.1462982 & -0.9022327\\\\\n",
       "\\end{tabular}\n"
      ],
      "text/markdown": [
       "\n",
       "A data.frame: 6 × 3\n",
       "\n",
       "| <!--/--> | Type &lt;dbl&gt; | PC1 &lt;dbl&gt; | PC2 &lt;dbl&gt; |\n",
       "|---|---|---|---|\n",
       "| 1 | 1 | -2.0524746 |  1.1810204 |\n",
       "| 2 | 0 |  2.8553097 |  1.1252703 |\n",
       "| 3 | 0 |  0.7098199 |  1.3061906 |\n",
       "| 4 | 0 |  2.3029318 |  1.0732966 |\n",
       "| 5 | 0 |  1.7814785 |  1.7221741 |\n",
       "| 6 | 0 |  0.1462982 | -0.9022327 |\n",
       "\n"
      ],
      "text/plain": [
       "  Type PC1        PC2       \n",
       "1 1    -2.0524746  1.1810204\n",
       "2 0     2.8553097  1.1252703\n",
       "3 0     0.7098199  1.3061906\n",
       "4 0     2.3029318  1.0732966\n",
       "5 0     1.7814785  1.7221741\n",
       "6 0     0.1462982 -0.9022327"
      ]
     },
     "metadata": {},
     "output_type": "display_data"
    }
   ],
   "source": [
    "Type <- car93$Type\n",
    "\n",
    "df <- cbind(Type, scr) # combine Type column and PCA(1 to 3)\n",
    "df <- as.data.frame(df)\n",
    "head(df)"
   ]
  },
  {
   "cell_type": "code",
   "execution_count": 21,
   "metadata": {
    "vscode": {
     "languageId": "r"
    }
   },
   "outputs": [],
   "source": [
    "n <- nrow(car93)\n",
    "sum <- 0\n",
    "result <- rep(0, n)\n",
    "\n",
    "for(i in 1:n){\n",
    "      train <- df[-i,]\n",
    "      test <- df[i,]\n",
    "      model <- glm(factor(Type) ~ ., data = train, family = 'binomial')\n",
    "      y_pred <- predict(model, test ,type = 'response')\n",
    "      # print(y_pred)\n",
    "      \n",
    "      result[i] <- ifelse(y_pred > 0.5, 1, 0) \n",
    "      sum <- sum + test$Type*log(y_pred) + (1-test$Type)*log(1-y_pred)\n",
    "}\n"
   ]
  },
  {
   "cell_type": "code",
   "execution_count": 22,
   "metadata": {
    "vscode": {
     "languageId": "r"
    }
   },
   "outputs": [
    {
     "name": "stdout",
     "output_type": "stream",
     "text": [
      "Classification table:\n"
     ]
    },
    {
     "data": {
      "text/plain": [
       "   result\n",
       "     0  1\n",
       "  0 58  3\n",
       "  1  4 17"
      ]
     },
     "metadata": {},
     "output_type": "display_data"
    },
    {
     "name": "stdout",
     "output_type": "stream",
     "text": [
      "Log loss is:  0.2457001\n",
      "Classification Accuracy: 0.9146341"
     ]
    }
   ],
   "source": [
    "table1 <- table(df$Type, result)\n",
    "logloss <- -sum/n\n",
    "cat('Classification table:\\n')\n",
    "table1\n",
    "cat('Log loss is: ', logloss)\n",
    "class_acc <- sum(diag(table1))/n\n",
    "cat('\\nClassification Accuracy:', class_acc)"
   ]
  },
  {
   "attachments": {},
   "cell_type": "markdown",
   "metadata": {},
   "source": [
    "### E.2\n",
    "perform LDA (with built-in leave-one-out cross-validation) with our response being “Small” or “Not Small” for the “Type” of car and the predictors being the components retained. \n",
    "\n",
    "What is the cross-validated logloss of this model?"
   ]
  },
  {
   "cell_type": "code",
   "execution_count": 23,
   "metadata": {
    "vscode": {
     "languageId": "r"
    }
   },
   "outputs": [
    {
     "data": {
      "text/plain": [
       "   \n",
       "     0  1\n",
       "  0 58  3\n",
       "  1  4 17"
      ]
     },
     "metadata": {},
     "output_type": "display_data"
    },
    {
     "name": "stdout",
     "output_type": "stream",
     "text": [
      "Log loss for type with all Small and Not Small(0, 1): 0.2216978"
     ]
    }
   ],
   "source": [
    "car93.lda <- lda(Type ~ PC1 + PC2, data = df, CV=TRUE)\n",
    "table(df$Type, car93.lda$class)\n",
    "logloss2 <- LogLoss(car93.lda$posterior[,2], df$Type)\n",
    "cat('Log loss for type with all Small and Not Small(0, 1):', logloss2)"
   ]
  },
  {
   "attachments": {},
   "cell_type": "markdown",
   "metadata": {},
   "source": [
    "### E.3\n",
    "\n",
    "perform LDA (with built-in leave-one-out cross-validation) using all categories from the original “Type” variable as the response. \n",
    "\n",
    "What is the logloss of this model?"
   ]
  },
  {
   "cell_type": "code",
   "execution_count": 24,
   "metadata": {
    "vscode": {
     "languageId": "r"
    }
   },
   "outputs": [
    {
     "data": {
      "text/html": [
       "<style>\n",
       ".list-inline {list-style: none; margin:0; padding: 0}\n",
       ".list-inline>li {display: inline-block}\n",
       ".list-inline>li:not(:last-child)::after {content: \"\\00b7\"; padding: 0 .5ex}\n",
       "</style>\n",
       "<ol class=list-inline><li>'Small'</li><li>'Midsize'</li><li>'Compact'</li><li>'Large'</li><li>'Sporty'</li></ol>\n"
      ],
      "text/latex": [
       "\\begin{enumerate*}\n",
       "\\item 'Small'\n",
       "\\item 'Midsize'\n",
       "\\item 'Compact'\n",
       "\\item 'Large'\n",
       "\\item 'Sporty'\n",
       "\\end{enumerate*}\n"
      ],
      "text/markdown": [
       "1. 'Small'\n",
       "2. 'Midsize'\n",
       "3. 'Compact'\n",
       "4. 'Large'\n",
       "5. 'Sporty'\n",
       "\n",
       "\n"
      ],
      "text/plain": [
       "[1] \"Small\"   \"Midsize\" \"Compact\" \"Large\"   \"Sporty\" "
      ]
     },
     "metadata": {},
     "output_type": "display_data"
    }
   ],
   "source": [
    "car93 <- read.csv(file = '/Users/gawain/Desktop/3.UBC/Block4/Data-572-Supervised learning/Assignment/Assignment2/car93.csv')\n",
    "unique(car93$Type)"
   ]
  },
  {
   "cell_type": "code",
   "execution_count": 25,
   "metadata": {
    "vscode": {
     "languageId": "r"
    }
   },
   "outputs": [
    {
     "data": {
      "text/html": [
       "<table class=\"dataframe\">\n",
       "<caption>A data.frame: 6 × 3</caption>\n",
       "<thead>\n",
       "\t<tr><th></th><th scope=col>Type_numeric</th><th scope=col>PC1</th><th scope=col>PC2</th></tr>\n",
       "\t<tr><th></th><th scope=col>&lt;dbl&gt;</th><th scope=col>&lt;dbl&gt;</th><th scope=col>&lt;dbl&gt;</th></tr>\n",
       "</thead>\n",
       "<tbody>\n",
       "\t<tr><th scope=row>1</th><td>4</td><td>-2.0524746</td><td> 1.1810204</td></tr>\n",
       "\t<tr><th scope=row>2</th><td>3</td><td> 2.8553097</td><td> 1.1252703</td></tr>\n",
       "\t<tr><th scope=row>3</th><td>1</td><td> 0.7098199</td><td> 1.3061906</td></tr>\n",
       "\t<tr><th scope=row>4</th><td>3</td><td> 2.3029318</td><td> 1.0732966</td></tr>\n",
       "\t<tr><th scope=row>5</th><td>3</td><td> 1.7814785</td><td> 1.7221741</td></tr>\n",
       "\t<tr><th scope=row>6</th><td>3</td><td> 0.1462982</td><td>-0.9022327</td></tr>\n",
       "</tbody>\n",
       "</table>\n"
      ],
      "text/latex": [
       "A data.frame: 6 × 3\n",
       "\\begin{tabular}{r|lll}\n",
       "  & Type\\_numeric & PC1 & PC2\\\\\n",
       "  & <dbl> & <dbl> & <dbl>\\\\\n",
       "\\hline\n",
       "\t1 & 4 & -2.0524746 &  1.1810204\\\\\n",
       "\t2 & 3 &  2.8553097 &  1.1252703\\\\\n",
       "\t3 & 1 &  0.7098199 &  1.3061906\\\\\n",
       "\t4 & 3 &  2.3029318 &  1.0732966\\\\\n",
       "\t5 & 3 &  1.7814785 &  1.7221741\\\\\n",
       "\t6 & 3 &  0.1462982 & -0.9022327\\\\\n",
       "\\end{tabular}\n"
      ],
      "text/markdown": [
       "\n",
       "A data.frame: 6 × 3\n",
       "\n",
       "| <!--/--> | Type_numeric &lt;dbl&gt; | PC1 &lt;dbl&gt; | PC2 &lt;dbl&gt; |\n",
       "|---|---|---|---|\n",
       "| 1 | 4 | -2.0524746 |  1.1810204 |\n",
       "| 2 | 3 |  2.8553097 |  1.1252703 |\n",
       "| 3 | 1 |  0.7098199 |  1.3061906 |\n",
       "| 4 | 3 |  2.3029318 |  1.0732966 |\n",
       "| 5 | 3 |  1.7814785 |  1.7221741 |\n",
       "| 6 | 3 |  0.1462982 | -0.9022327 |\n",
       "\n"
      ],
      "text/plain": [
       "  Type_numeric PC1        PC2       \n",
       "1 4            -2.0524746  1.1810204\n",
       "2 3             2.8553097  1.1252703\n",
       "3 1             0.7098199  1.3061906\n",
       "4 3             2.3029318  1.0732966\n",
       "5 3             1.7814785  1.7221741\n",
       "6 3             0.1462982 -0.9022327"
      ]
     },
     "metadata": {},
     "output_type": "display_data"
    }
   ],
   "source": [
    "Type_numeric <-  as.numeric(factor(car93$Type))\n",
    "# Type_numeric\n",
    "df3 <- cbind(Type_numeric, scr) # combine Type column and PCA(1 to 3)\n",
    "df3 <- as.data.frame(df3)\n",
    "head(df3)"
   ]
  },
  {
   "cell_type": "code",
   "execution_count": 26,
   "metadata": {
    "vscode": {
     "languageId": "r"
    }
   },
   "outputs": [
    {
     "data": {
      "text/plain": [
       "   \n",
       "     1  2  3  4  5\n",
       "  0 20 11 22  4  4\n",
       "  1  2  0  0 16  3"
      ]
     },
     "metadata": {},
     "output_type": "display_data"
    },
    {
     "name": "stdout",
     "output_type": "stream",
     "text": [
      "Log loss for type with all unique category: 31.68824"
     ]
    }
   ],
   "source": [
    "car93.lda3 <- lda(Type_numeric ~ PC1 + PC2, data = df3, CV=TRUE)\n",
    "table(df$Type, car93.lda3$class)\n",
    "logloss3 <- LogLoss(car93.lda3$posterior[,2], df3$Type)\n",
    "cat('Log loss for type with all unique category:', logloss3)"
   ]
  },
  {
   "attachments": {},
   "cell_type": "markdown",
   "metadata": {},
   "source": [
    "# Q2"
   ]
  },
  {
   "attachments": {},
   "cell_type": "markdown",
   "metadata": {},
   "source": [
    "Fit a neural network (using nnet) on the “fish toxicity” data set (also on Canvas) with the 7th variable as the response, with one hidden layer and 5 hidden layer variables to predict toxicity using all other variables. \n",
    "\n",
    "Note: you can see the original source for this here: https://archive.ics.uci.edu/ml/datasets/QSAR+fish+toxicity. \n",
    "\n",
    "In order to provide a proper fit, you will need to normalize the variables. \n",
    "\n",
    "If you have an R object called fishdata, then we can use the following command to quickly normalize the way briefly described in class:"
   ]
  },
  {
   "attachments": {},
   "cell_type": "markdown",
   "metadata": {},
   "source": [
    "### load package"
   ]
  },
  {
   "cell_type": "code",
   "execution_count": 27,
   "metadata": {
    "vscode": {
     "languageId": "r"
    }
   },
   "outputs": [],
   "source": [
    "# install.packages('NeuralNetTools')\n",
    "# install.packages('neuralnet')"
   ]
  },
  {
   "cell_type": "code",
   "execution_count": 28,
   "metadata": {
    "vscode": {
     "languageId": "r"
    }
   },
   "outputs": [
    {
     "name": "stderr",
     "output_type": "stream",
     "text": [
      "Loading required package: cluster\n",
      "\n"
     ]
    }
   ],
   "source": [
    "library(neuralnet)\n",
    "library(NeuralNetTools)\n",
    "library(nnet)\n",
    "library(gclus)"
   ]
  },
  {
   "attachments": {},
   "cell_type": "markdown",
   "metadata": {},
   "source": [
    "### load data"
   ]
  },
  {
   "attachments": {},
   "cell_type": "markdown",
   "metadata": {},
   "source": [
    "1) CIC0\n",
    "2) SM1_Dz(Z)\n",
    "3) GATS1i\n",
    "4) NdsCH\n",
    "5) NdssC\n",
    "6) MLOGP\n",
    "7) quantitative response, LC50 [-LOG(mol/L)]"
   ]
  },
  {
   "cell_type": "code",
   "execution_count": 50,
   "metadata": {
    "vscode": {
     "languageId": "r"
    }
   },
   "outputs": [
    {
     "data": {
      "text/html": [
       "<table class=\"dataframe\">\n",
       "<caption>A data.frame: 6 × 7</caption>\n",
       "<thead>\n",
       "\t<tr><th></th><th scope=col>CIC0</th><th scope=col>SM1_Dz(Z)</th><th scope=col>GATS1i</th><th scope=col>NdsCH</th><th scope=col>NdssC</th><th scope=col>MLOGP</th><th scope=col>LC50</th></tr>\n",
       "\t<tr><th></th><th scope=col>&lt;dbl&gt;</th><th scope=col>&lt;dbl&gt;</th><th scope=col>&lt;dbl&gt;</th><th scope=col>&lt;dbl&gt;</th><th scope=col>&lt;dbl&gt;</th><th scope=col>&lt;dbl&gt;</th><th scope=col>&lt;dbl&gt;</th></tr>\n",
       "</thead>\n",
       "<tbody>\n",
       "\t<tr><th scope=row>1</th><td>0.4930595</td><td>0.3818517</td><td>0.5071315</td><td>0.00</td><td>0.1666667</td><td>0.4614321</td><td>3.770</td></tr>\n",
       "\t<tr><th scope=row>2</th><td>0.2894086</td><td>0.2671580</td><td>0.1850238</td><td>0.00</td><td>0.0000000</td><td>0.4502607</td><td>3.115</td></tr>\n",
       "\t<tr><th scope=row>3</th><td>0.2772390</td><td>0.2938738</td><td>0.1723455</td><td>0.00</td><td>0.0000000</td><td>0.4502607</td><td>3.531</td></tr>\n",
       "\t<tr><th scope=row>4</th><td>0.4487545</td><td>0.1524643</td><td>0.4263074</td><td>0.25</td><td>0.0000000</td><td>0.4990956</td><td>3.510</td></tr>\n",
       "\t<tr><th scope=row>5</th><td>0.2713444</td><td>0.3809304</td><td>0.1838352</td><td>0.00</td><td>0.0000000</td><td>0.5075008</td><td>5.390</td></tr>\n",
       "\t<tr><th scope=row>6</th><td>0.4858338</td><td>0.1524643</td><td>0.7056260</td><td>0.00</td><td>0.0000000</td><td>0.3819555</td><td>1.819</td></tr>\n",
       "</tbody>\n",
       "</table>\n"
      ],
      "text/latex": [
       "A data.frame: 6 × 7\n",
       "\\begin{tabular}{r|lllllll}\n",
       "  & CIC0 & SM1\\_Dz(Z) & GATS1i & NdsCH & NdssC & MLOGP & LC50\\\\\n",
       "  & <dbl> & <dbl> & <dbl> & <dbl> & <dbl> & <dbl> & <dbl>\\\\\n",
       "\\hline\n",
       "\t1 & 0.4930595 & 0.3818517 & 0.5071315 & 0.00 & 0.1666667 & 0.4614321 & 3.770\\\\\n",
       "\t2 & 0.2894086 & 0.2671580 & 0.1850238 & 0.00 & 0.0000000 & 0.4502607 & 3.115\\\\\n",
       "\t3 & 0.2772390 & 0.2938738 & 0.1723455 & 0.00 & 0.0000000 & 0.4502607 & 3.531\\\\\n",
       "\t4 & 0.4487545 & 0.1524643 & 0.4263074 & 0.25 & 0.0000000 & 0.4990956 & 3.510\\\\\n",
       "\t5 & 0.2713444 & 0.3809304 & 0.1838352 & 0.00 & 0.0000000 & 0.5075008 & 5.390\\\\\n",
       "\t6 & 0.4858338 & 0.1524643 & 0.7056260 & 0.00 & 0.0000000 & 0.3819555 & 1.819\\\\\n",
       "\\end{tabular}\n"
      ],
      "text/markdown": [
       "\n",
       "A data.frame: 6 × 7\n",
       "\n",
       "| <!--/--> | CIC0 &lt;dbl&gt; | SM1_Dz(Z) &lt;dbl&gt; | GATS1i &lt;dbl&gt; | NdsCH &lt;dbl&gt; | NdssC &lt;dbl&gt; | MLOGP &lt;dbl&gt; | LC50 &lt;dbl&gt; |\n",
       "|---|---|---|---|---|---|---|---|\n",
       "| 1 | 0.4930595 | 0.3818517 | 0.5071315 | 0.00 | 0.1666667 | 0.4614321 | 3.770 |\n",
       "| 2 | 0.2894086 | 0.2671580 | 0.1850238 | 0.00 | 0.0000000 | 0.4502607 | 3.115 |\n",
       "| 3 | 0.2772390 | 0.2938738 | 0.1723455 | 0.00 | 0.0000000 | 0.4502607 | 3.531 |\n",
       "| 4 | 0.4487545 | 0.1524643 | 0.4263074 | 0.25 | 0.0000000 | 0.4990956 | 3.510 |\n",
       "| 5 | 0.2713444 | 0.3809304 | 0.1838352 | 0.00 | 0.0000000 | 0.5075008 | 5.390 |\n",
       "| 6 | 0.4858338 | 0.1524643 | 0.7056260 | 0.00 | 0.0000000 | 0.3819555 | 1.819 |\n",
       "\n"
      ],
      "text/plain": [
       "  CIC0      SM1_Dz(Z) GATS1i    NdsCH NdssC     MLOGP     LC50 \n",
       "1 0.4930595 0.3818517 0.5071315 0.00  0.1666667 0.4614321 3.770\n",
       "2 0.2894086 0.2671580 0.1850238 0.00  0.0000000 0.4502607 3.115\n",
       "3 0.2772390 0.2938738 0.1723455 0.00  0.0000000 0.4502607 3.531\n",
       "4 0.4487545 0.1524643 0.4263074 0.25  0.0000000 0.4990956 3.510\n",
       "5 0.2713444 0.3809304 0.1838352 0.00  0.0000000 0.5075008 5.390\n",
       "6 0.4858338 0.1524643 0.7056260 0.00  0.0000000 0.3819555 1.819"
      ]
     },
     "metadata": {},
     "output_type": "display_data"
    }
   ],
   "source": [
    "fish_path = '/Users/gawain/Desktop/3.UBC/Block4/Data-572-Supervised learning/Assignment/Assignment2/fish_toxicity.csv'\n",
    "fish <- read.csv(fish_path, , header = FALSE,sep = \";\")\n",
    "colnames(fish) <- c(\"CIC0\", \"SM1_Dz(Z)\", \"GATS1i\", \"NdsCH\", \"NdssC\", \"MLOGP\", \"LC50\")\n",
    "sfish <- apply(fish[, 1:6], 2, function(v) (v-min(v))/(max(v)-min(v)))\n",
    "sfish <- as.data.frame(sfish)\n",
    "sfish$LC50 <- fish$LC50 \n",
    "# sfish$LC50 <- as.factor(sfish$LC50)\n",
    "head(sfish)"
   ]
  },
  {
   "attachments": {},
   "cell_type": "markdown",
   "metadata": {},
   "source": [
    "### Part A"
   ]
  },
  {
   "cell_type": "code",
   "execution_count": 49,
   "metadata": {
    "vscode": {
     "languageId": "r"
    }
   },
   "outputs": [],
   "source": [
    "# help(nnet)"
   ]
  },
  {
   "cell_type": "code",
   "execution_count": 51,
   "metadata": {
    "vscode": {
     "languageId": "r"
    }
   },
   "outputs": [
    {
     "name": "stdout",
     "output_type": "stream",
     "text": [
      "# weights:  41\n",
      "initial  value 13937.223393 \n",
      "final  value 10448.772959 \n",
      "converged\n"
     ]
    }
   ],
   "source": [
    "# size: number of units in the hidden layer. Can be zero if there are skip-layer units.\n",
    "set.seed(4521)\n",
    "nnfish <- nnet(x=sfish[, 1:6], y=sfish[, 7], size=5, maxit=1000)"
   ]
  },
  {
   "cell_type": "code",
   "execution_count": 52,
   "metadata": {
    "vscode": {
     "languageId": "r"
    }
   },
   "outputs": [
    {
     "data": {
      "text/html": [
       "11.5074592059471"
      ],
      "text/latex": [
       "11.5074592059471"
      ],
      "text/markdown": [
       "11.5074592059471"
      ],
      "text/plain": [
       "[1] 11.50746"
      ]
     },
     "metadata": {},
     "output_type": "display_data"
    }
   ],
   "source": [
    "# y_pred <- predict(nnfish, newdata=sfish[,1:6])[, 1]\n",
    "MSE <- mean((nnfish$fitted.values - sfish[, 7])^2)\n",
    "MSE"
   ]
  },
  {
   "attachments": {},
   "cell_type": "markdown",
   "metadata": {},
   "source": [
    "### Part B"
   ]
  },
  {
   "cell_type": "code",
   "execution_count": 53,
   "metadata": {
    "vscode": {
     "languageId": "r"
    }
   },
   "outputs": [
    {
     "name": "stderr",
     "output_type": "stream",
     "text": [
      "Warning message in set.seed(217, sample.kind = \"Rounding\"):\n",
      "\"non-uniform 'Rounding' sampler used\"\n"
     ]
    },
    {
     "name": "stdout",
     "output_type": "stream",
     "text": [
      "# weights:  41\n",
      "initial  value 6176.583897 \n",
      "final  value 5306.834135 \n",
      "converged\n"
     ]
    },
    {
     "data": {
      "text/html": [
       "11.3258564405286"
      ],
      "text/latex": [
       "11.3258564405286"
      ],
      "text/markdown": [
       "11.3258564405286"
      ],
      "text/plain": [
       "[1] 11.32586"
      ]
     },
     "metadata": {},
     "output_type": "display_data"
    }
   ],
   "source": [
    "set.seed(217, sample.kind=\"Rounding\")\n",
    "ind <- sample(1:nrow(sfish), 454)\n",
    "train <- sfish[ind,]\n",
    "test <- sfish[-ind,]\n",
    "nnfish2 <- nnet(LC50 ~ ., data=train, size=5, maxit=1000)\n",
    "y_pred2 <- predict(nnfish2, newdata=test[,1:6])[, 1]\n",
    "MSE2 <- mean((test[, 7] - y_pred2)^2)\n",
    "MSE2"
   ]
  },
  {
   "attachments": {},
   "cell_type": "markdown",
   "metadata": {},
   "source": [
    "### Part C\n",
    "\n",
    "The MSE from the previous question is on the normalized scale. \n",
    "\n",
    "Find the MSE for the test set on the original scale of the response variable."
   ]
  },
  {
   "cell_type": "code",
   "execution_count": null,
   "metadata": {
    "vscode": {
     "languageId": "r"
    }
   },
   "outputs": [],
   "source": [
    "head(fish)"
   ]
  },
  {
   "cell_type": "code",
   "execution_count": 54,
   "metadata": {
    "vscode": {
     "languageId": "r"
    }
   },
   "outputs": [
    {
     "name": "stderr",
     "output_type": "stream",
     "text": [
      "Warning message in set.seed(217, sample.kind = \"Rounding\"):\n",
      "\"non-uniform 'Rounding' sampler used\"\n"
     ]
    },
    {
     "name": "stdout",
     "output_type": "stream",
     "text": [
      "# weights:  41\n",
      "initial  value 12196.750531 \n",
      "final  value 10448.772959 \n",
      "converged\n"
     ]
    },
    {
     "data": {
      "text/html": [
       "11.3258564405286"
      ],
      "text/latex": [
       "11.3258564405286"
      ],
      "text/markdown": [
       "11.3258564405286"
      ],
      "text/plain": [
       "[1] 11.32586"
      ]
     },
     "metadata": {},
     "output_type": "display_data"
    }
   ],
   "source": [
    "set.seed(217, sample.kind=\"Rounding\")\n",
    "ind <- sample(1:nrow(fish), 454)\n",
    "train3 <- fish[ind,]\n",
    "test3 <- fish[-ind,]\n",
    "nnfish3 <- nnet(LC50 ~ ., data=fish, size=5, maxit=1000)\n",
    "y_pred3 <- predict(nnfish3, newdata=test3[,1:6])[, 1]\n",
    "MSE3 <- mean((test3[, 7] - y_pred3)^2)\n",
    "MSE3"
   ]
  },
  {
   "attachments": {},
   "cell_type": "markdown",
   "metadata": {},
   "source": [
    "### Part D\n",
    "\n",
    "Fit a linear model on the same training set (original scale of the data though) and compare the MSE from the test set to that which was found from a neural net.\n",
    "\n",
    "Which model is better in terms of prediction?"
   ]
  },
  {
   "cell_type": "code",
   "execution_count": 55,
   "metadata": {
    "vscode": {
     "languageId": "r"
    }
   },
   "outputs": [
    {
     "data": {
      "text/html": [
       "1.0007093502185"
      ],
      "text/latex": [
       "1.0007093502185"
      ],
      "text/markdown": [
       "1.0007093502185"
      ],
      "text/plain": [
       "[1] 1.000709"
      ]
     },
     "metadata": {},
     "output_type": "display_data"
    }
   ],
   "source": [
    "fish.lm <- lm(LC50 ~ ., data=fish)\n",
    "y_pred4 <- predict(fish.lm, newdata=test3[,1:6])\n",
    "MSE4 <- mean((test3[, 7] - y_pred4)^2)\n",
    "MSE4"
   ]
  },
  {
   "attachments": {},
   "cell_type": "markdown",
   "metadata": {},
   "source": [
    "Linear model is better in term of prediction."
   ]
  },
  {
   "attachments": {},
   "cell_type": "markdown",
   "metadata": {},
   "source": [
    "### Part e\n",
    "\n",
    "Investigate some other neural net structures as allowable within nnet (so effectively just # hidden layer variables and switching between logistic and linear activation functions). \n",
    "\n",
    "What structure appears to be best for the 50-50 training/testing split that we’ve already made? \n",
    "\n",
    "What’s the associated MSE on the original scale?"
   ]
  },
  {
   "cell_type": "code",
   "execution_count": 58,
   "metadata": {
    "vscode": {
     "languageId": "r"
    }
   },
   "outputs": [
    {
     "data": {
      "text/html": [
       "<table class=\"dataframe\">\n",
       "<caption>A data.frame: 6 × 7</caption>\n",
       "<thead>\n",
       "\t<tr><th></th><th scope=col>CIC0</th><th scope=col>SM1_Dz(Z)</th><th scope=col>GATS1i</th><th scope=col>NdsCH</th><th scope=col>NdssC</th><th scope=col>MLOGP</th><th scope=col>LC50</th></tr>\n",
       "\t<tr><th></th><th scope=col>&lt;dbl&gt;</th><th scope=col>&lt;dbl&gt;</th><th scope=col>&lt;dbl&gt;</th><th scope=col>&lt;int&gt;</th><th scope=col>&lt;int&gt;</th><th scope=col>&lt;dbl&gt;</th><th scope=col>&lt;dbl&gt;</th></tr>\n",
       "</thead>\n",
       "<tbody>\n",
       "\t<tr><th scope=row>2</th><td>2.189</td><td>0.580</td><td>0.863</td><td>0</td><td>0</td><td>1.348</td><td>3.115</td></tr>\n",
       "\t<tr><th scope=row>3</th><td>2.125</td><td>0.638</td><td>0.831</td><td>0</td><td>0</td><td>1.348</td><td>3.531</td></tr>\n",
       "\t<tr><th scope=row>4</th><td>3.027</td><td>0.331</td><td>1.472</td><td>1</td><td>0</td><td>1.807</td><td>3.510</td></tr>\n",
       "\t<tr><th scope=row>6</th><td>3.222</td><td>0.331</td><td>2.177</td><td>0</td><td>0</td><td>0.706</td><td>1.819</td></tr>\n",
       "\t<tr><th scope=row>8</th><td>3.000</td><td>0.000</td><td>0.938</td><td>1</td><td>0</td><td>2.851</td><td>3.513</td></tr>\n",
       "\t<tr><th scope=row>9</th><td>2.620</td><td>0.499</td><td>0.990</td><td>0</td><td>0</td><td>2.942</td><td>4.402</td></tr>\n",
       "</tbody>\n",
       "</table>\n"
      ],
      "text/latex": [
       "A data.frame: 6 × 7\n",
       "\\begin{tabular}{r|lllllll}\n",
       "  & CIC0 & SM1\\_Dz(Z) & GATS1i & NdsCH & NdssC & MLOGP & LC50\\\\\n",
       "  & <dbl> & <dbl> & <dbl> & <int> & <int> & <dbl> & <dbl>\\\\\n",
       "\\hline\n",
       "\t2 & 2.189 & 0.580 & 0.863 & 0 & 0 & 1.348 & 3.115\\\\\n",
       "\t3 & 2.125 & 0.638 & 0.831 & 0 & 0 & 1.348 & 3.531\\\\\n",
       "\t4 & 3.027 & 0.331 & 1.472 & 1 & 0 & 1.807 & 3.510\\\\\n",
       "\t6 & 3.222 & 0.331 & 2.177 & 0 & 0 & 0.706 & 1.819\\\\\n",
       "\t8 & 3.000 & 0.000 & 0.938 & 1 & 0 & 2.851 & 3.513\\\\\n",
       "\t9 & 2.620 & 0.499 & 0.990 & 0 & 0 & 2.942 & 4.402\\\\\n",
       "\\end{tabular}\n"
      ],
      "text/markdown": [
       "\n",
       "A data.frame: 6 × 7\n",
       "\n",
       "| <!--/--> | CIC0 &lt;dbl&gt; | SM1_Dz(Z) &lt;dbl&gt; | GATS1i &lt;dbl&gt; | NdsCH &lt;int&gt; | NdssC &lt;int&gt; | MLOGP &lt;dbl&gt; | LC50 &lt;dbl&gt; |\n",
       "|---|---|---|---|---|---|---|---|\n",
       "| 2 | 2.189 | 0.580 | 0.863 | 0 | 0 | 1.348 | 3.115 |\n",
       "| 3 | 2.125 | 0.638 | 0.831 | 0 | 0 | 1.348 | 3.531 |\n",
       "| 4 | 3.027 | 0.331 | 1.472 | 1 | 0 | 1.807 | 3.510 |\n",
       "| 6 | 3.222 | 0.331 | 2.177 | 0 | 0 | 0.706 | 1.819 |\n",
       "| 8 | 3.000 | 0.000 | 0.938 | 1 | 0 | 2.851 | 3.513 |\n",
       "| 9 | 2.620 | 0.499 | 0.990 | 0 | 0 | 2.942 | 4.402 |\n",
       "\n"
      ],
      "text/plain": [
       "  CIC0  SM1_Dz(Z) GATS1i NdsCH NdssC MLOGP LC50 \n",
       "2 2.189 0.580     0.863  0     0     1.348 3.115\n",
       "3 2.125 0.638     0.831  0     0     1.348 3.531\n",
       "4 3.027 0.331     1.472  1     0     1.807 3.510\n",
       "6 3.222 0.331     2.177  0     0     0.706 1.819\n",
       "8 3.000 0.000     0.938  1     0     2.851 3.513\n",
       "9 2.620 0.499     0.990  0     0     2.942 4.402"
      ]
     },
     "metadata": {},
     "output_type": "display_data"
    }
   ],
   "source": [
    "head(test3)"
   ]
  },
  {
   "cell_type": "code",
   "execution_count": 59,
   "metadata": {
    "vscode": {
     "languageId": "r"
    }
   },
   "outputs": [
    {
     "name": "stderr",
     "output_type": "stream",
     "text": [
      "Warning message in set.seed(217, sample.kind = \"Rounding\"):\n",
      "\"non-uniform 'Rounding' sampler used\"\n"
     ]
    },
    {
     "name": "stdout",
     "output_type": "stream",
     "text": [
      "# weights:  9\n",
      "initial  value 6344.647730 \n",
      "final  value 5306.834135 \n",
      "converged\n",
      "# weights:  9\n",
      "initial  value 11018.576978 \n",
      "iter  10 value 878.686669\n",
      "iter  20 value 782.587843\n",
      "iter  30 value 699.899373\n",
      "iter  40 value 587.162467\n",
      "iter  50 value 391.464815\n",
      "iter  60 value 347.011276\n",
      "iter  70 value 342.054812\n",
      "iter  80 value 341.092233\n",
      "iter  90 value 341.089996\n",
      "final  value 341.089984 \n",
      "converged\n",
      "# weights:  9\n",
      "initial  value 6547.969998 \n",
      "final  value 5306.834135 \n",
      "converged\n",
      "# weights:  9\n",
      "initial  value 6136.458829 \n",
      "iter  10 value 858.022062\n",
      "iter  20 value 723.621836\n",
      "iter  30 value 361.130268\n",
      "iter  40 value 342.486189\n",
      "iter  50 value 341.535502\n",
      "iter  60 value 341.089987\n",
      "iter  60 value 341.089987\n",
      "final  value 341.089987 \n",
      "converged\n",
      "# weights:  9\n",
      "initial  value 7051.906976 \n",
      "final  value 5306.834135 \n",
      "converged\n",
      "# weights:  9\n",
      "initial  value 9343.647618 \n",
      "final  value 891.714849 \n",
      "converged\n",
      "# weights:  9\n",
      "initial  value 6411.600293 \n",
      "final  value 5306.834135 \n",
      "converged\n",
      "# weights:  9\n",
      "initial  value 8627.456725 \n",
      "final  value 891.715370 \n",
      "converged\n",
      "# weights:  9\n",
      "initial  value 6598.822567 \n",
      "final  value 5306.834135 \n",
      "converged\n",
      "# weights:  9\n",
      "initial  value 10356.242619 \n",
      "final  value 891.714849 \n",
      "converged\n"
     ]
    }
   ],
   "source": [
    "# library(nnet)\n",
    "set.seed(217, sample.kind=\"Rounding\")\n",
    "ind <- sample(1:nrow(fish), 454)\n",
    "train3 <- fish[ind,]\n",
    "test3 <- fish[-ind,]\n",
    "results <- data.frame(Number_of_hidden_layer = numeric(), Activation_function = character(), MSE = numeric())\n",
    "\n",
    "for (i in c(1, 2, 3, 4, 5)) {\n",
    "      for (j in c(FALSE, TRUE)) {\n",
    "      nnfish3 <- nnet(LC50 ~ ., data=train3, size=1, linout=j, maxit=1000) # linout: switch for linear output units. Default logistic output units.\n",
    "      y_pred3 <- predict(nnfish3, newdata=test3[,1:6])[, 1]\n",
    "      MSE3 <- mean((test3[, 7] - y_pred3)^2)\n",
    "      results <- rbind(results, data.frame(Number_of_hidden_layer = i, Activation_function = j, MSE = MSE3))\n",
    "      }\n",
    "}\n",
    "\n",
    "min_MSE <- min(results$MSE)\n",
    "best_model <- results[results$MSE == min_MSE, ]\n"
   ]
  },
  {
   "cell_type": "code",
   "execution_count": 60,
   "metadata": {
    "vscode": {
     "languageId": "r"
    }
   },
   "outputs": [
    {
     "data": {
      "text/html": [
       "<table class=\"dataframe\">\n",
       "<caption>A data.frame: 1 × 3</caption>\n",
       "<thead>\n",
       "\t<tr><th></th><th scope=col>Number_of_hidden_layer</th><th scope=col>Activation_function</th><th scope=col>MSE</th></tr>\n",
       "\t<tr><th></th><th scope=col>&lt;dbl&gt;</th><th scope=col>&lt;chr&gt;</th><th scope=col>&lt;dbl&gt;</th></tr>\n",
       "</thead>\n",
       "<tbody>\n",
       "\t<tr><th scope=row>4</th><td>2</td><td>linear</td><td>1.031637</td></tr>\n",
       "</tbody>\n",
       "</table>\n"
      ],
      "text/latex": [
       "A data.frame: 1 × 3\n",
       "\\begin{tabular}{r|lll}\n",
       "  & Number\\_of\\_hidden\\_layer & Activation\\_function & MSE\\\\\n",
       "  & <dbl> & <chr> & <dbl>\\\\\n",
       "\\hline\n",
       "\t4 & 2 & linear & 1.031637\\\\\n",
       "\\end{tabular}\n"
      ],
      "text/markdown": [
       "\n",
       "A data.frame: 1 × 3\n",
       "\n",
       "| <!--/--> | Number_of_hidden_layer &lt;dbl&gt; | Activation_function &lt;chr&gt; | MSE &lt;dbl&gt; |\n",
       "|---|---|---|---|\n",
       "| 4 | 2 | linear | 1.031637 |\n",
       "\n"
      ],
      "text/plain": [
       "  Number_of_hidden_layer Activation_function MSE     \n",
       "4 2                      linear              1.031637"
      ]
     },
     "metadata": {},
     "output_type": "display_data"
    }
   ],
   "source": [
    "best_model$Activation_function <- ifelse(TRUE, \"linear\", \"logistic\")\n",
    "best_model"
   ]
  },
  {
   "cell_type": "code",
   "execution_count": null,
   "metadata": {
    "vscode": {
     "languageId": "r"
    }
   },
   "outputs": [],
   "source": []
  }
 ],
 "metadata": {
  "kernelspec": {
   "display_name": "R",
   "language": "R",
   "name": "ir"
  },
  "language_info": {
   "codemirror_mode": "r",
   "file_extension": ".r",
   "mimetype": "text/x-r-source",
   "name": "R",
   "pygments_lexer": "r",
   "version": "4.2.1"
  },
  "orig_nbformat": 4
 },
 "nbformat": 4,
 "nbformat_minor": 2
}
