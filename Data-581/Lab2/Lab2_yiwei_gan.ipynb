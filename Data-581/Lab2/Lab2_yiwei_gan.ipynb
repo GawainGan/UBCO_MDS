{
 "cells": [
  {
   "cell_type": "code",
   "execution_count": 47,
   "metadata": {
    "vscode": {
     "languageId": "r"
    }
   },
   "outputs": [
    {
     "data": {
      "text/html": [
       "<table class=\"dataframe\">\n",
       "<caption>A matrix: 6 × 2 of type dbl</caption>\n",
       "<tbody>\n",
       "\t<tr><td>0</td><td>1</td></tr>\n",
       "\t<tr><td>1</td><td>3</td></tr>\n",
       "\t<tr><td>2</td><td>5</td></tr>\n",
       "\t<tr><td>3</td><td>6</td></tr>\n",
       "\t<tr><td>4</td><td>5</td></tr>\n",
       "\t<tr><td>5</td><td>7</td></tr>\n",
       "</tbody>\n",
       "</table>\n"
      ],
      "text/latex": [
       "A matrix: 6 × 2 of type dbl\n",
       "\\begin{tabular}{ll}\n",
       "\t 0 & 1\\\\\n",
       "\t 1 & 3\\\\\n",
       "\t 2 & 5\\\\\n",
       "\t 3 & 6\\\\\n",
       "\t 4 & 5\\\\\n",
       "\t 5 & 7\\\\\n",
       "\\end{tabular}\n"
      ],
      "text/markdown": [
       "\n",
       "A matrix: 6 × 2 of type dbl\n",
       "\n",
       "| 0 | 1 |\n",
       "| 1 | 3 |\n",
       "| 2 | 5 |\n",
       "| 3 | 6 |\n",
       "| 4 | 5 |\n",
       "| 5 | 7 |\n",
       "\n"
      ],
      "text/plain": [
       "     [,1] [,2]\n",
       "[1,] 0    1   \n",
       "[2,] 1    3   \n",
       "[3,] 2    5   \n",
       "[4,] 3    6   \n",
       "[5,] 4    5   \n",
       "[6,] 5    7   "
      ]
     },
     "metadata": {},
     "output_type": "display_data"
    },
    {
     "data": {
      "text/html": [
       "<table class=\"dataframe\">\n",
       "<caption>A matrix: 6 × 2 of type dbl</caption>\n",
       "<thead>\n",
       "\t<tr><th scope=col>X1</th><th scope=col>X</th></tr>\n",
       "</thead>\n",
       "<tbody>\n",
       "\t<tr><td>1</td><td>0</td></tr>\n",
       "\t<tr><td>1</td><td>1</td></tr>\n",
       "\t<tr><td>1</td><td>2</td></tr>\n",
       "\t<tr><td>1</td><td>3</td></tr>\n",
       "\t<tr><td>1</td><td>4</td></tr>\n",
       "\t<tr><td>1</td><td>5</td></tr>\n",
       "</tbody>\n",
       "</table>\n"
      ],
      "text/latex": [
       "A matrix: 6 × 2 of type dbl\n",
       "\\begin{tabular}{ll}\n",
       " X1 & X\\\\\n",
       "\\hline\n",
       "\t 1 & 0\\\\\n",
       "\t 1 & 1\\\\\n",
       "\t 1 & 2\\\\\n",
       "\t 1 & 3\\\\\n",
       "\t 1 & 4\\\\\n",
       "\t 1 & 5\\\\\n",
       "\\end{tabular}\n"
      ],
      "text/markdown": [
       "\n",
       "A matrix: 6 × 2 of type dbl\n",
       "\n",
       "| X1 | X |\n",
       "|---|---|\n",
       "| 1 | 0 |\n",
       "| 1 | 1 |\n",
       "| 1 | 2 |\n",
       "| 1 | 3 |\n",
       "| 1 | 4 |\n",
       "| 1 | 5 |\n",
       "\n"
      ],
      "text/plain": [
       "     X1 X\n",
       "[1,] 1  0\n",
       "[2,] 1  1\n",
       "[3,] 1  2\n",
       "[4,] 1  3\n",
       "[5,] 1  4\n",
       "[6,] 1  5"
      ]
     },
     "metadata": {},
     "output_type": "display_data"
    }
   ],
   "source": [
    "# Use R for this question, but do not use the lm() function.\n",
    "# Suppose (0, 1), (1, 3), (2, 5), (3, 6), (4, 5), (5, 7) are 6 independently observed data points, and a simple regression model (with intercept) is to be ﬁt to these data.\n",
    "\n",
    "\n",
    "# Write down the design matrix X.\n",
    "X = matrix(c(0, 1, 1, 3, 2, 5, 3, 6, 4, 5, 5, 7), nrow = 6, ncol = 2, byrow = TRUE)\n",
    "head(X)\n",
    "n = nrow(X)\n",
    "y <- X[, 2]\n",
    "X <- X[, 1] # remove y\n",
    "\n",
    "\n",
    "X1 <- rep(1, n)\n",
    "X_design_matrix <- cbind(X1, X)\n",
    "head(X_design_matrix)"
   ]
  },
  {
   "cell_type": "code",
   "execution_count": 48,
   "metadata": {
    "vscode": {
     "languageId": "r"
    }
   },
   "outputs": [
    {
     "data": {
      "text/plain": [
       "$qr\n",
       "             X1          X\n",
       "[1,] -2.4494897 -6.1237244\n",
       "[2,]  0.4082483  4.1833001\n",
       "[3,]  0.4082483 -0.0537243\n",
       "[4,]  0.4082483 -0.2927700\n",
       "[5,]  0.4082483 -0.5318157\n",
       "[6,]  0.4082483 -0.7708615\n",
       "\n",
       "$rank\n",
       "[1] 2\n",
       "\n",
       "$qraux\n",
       "[1] 1.408248 1.185321\n",
       "\n",
       "$pivot\n",
       "[1] 1 2\n",
       "\n",
       "attr(,\"class\")\n",
       "[1] \"qr\""
      ]
     },
     "metadata": {},
     "output_type": "display_data"
    }
   ],
   "source": [
    "# Determine the QR decomposition for X.\n",
    "QR <- qr(X_design_matrix)\n",
    "QR"
   ]
  },
  {
   "cell_type": "code",
   "execution_count": 50,
   "metadata": {
    "vscode": {
     "languageId": "r"
    }
   },
   "outputs": [
    {
     "data": {
      "text/html": [
       "<table class=\"dataframe\">\n",
       "<caption>A matrix: 2 × 1 of type dbl</caption>\n",
       "<tbody>\n",
       "\t<tr><th scope=row>X1</th><td>1.857143</td></tr>\n",
       "\t<tr><th scope=row>X</th><td>1.057143</td></tr>\n",
       "</tbody>\n",
       "</table>\n"
      ],
      "text/latex": [
       "A matrix: 2 × 1 of type dbl\n",
       "\\begin{tabular}{r|l}\n",
       "\tX1 & 1.857143\\\\\n",
       "\tX & 1.057143\\\\\n",
       "\\end{tabular}\n"
      ],
      "text/markdown": [
       "\n",
       "A matrix: 2 × 1 of type dbl\n",
       "\n",
       "| X1 | 1.857143 |\n",
       "| X | 1.057143 |\n",
       "\n"
      ],
      "text/plain": [
       "   [,1]    \n",
       "X1 1.857143\n",
       "X  1.057143"
      ]
     },
     "metadata": {},
     "output_type": "display_data"
    }
   ],
   "source": [
    "# Calculate inverse U\n",
    "Q <- qr.Q(QR, complete = TRUE)\n",
    "R <- qr.R(QR)\n",
    "p <- 2  # number of columns in X -> 2\n",
    "Q1 <- Q[, 1:p]\n",
    "# y <- X[, 1] # 这里改成X的第二列是y\n",
    "Q1y <- t(Q1)%*%y\n",
    "U <- qr.R(QR)\n",
    "Uinv <- solve(U, Q1y)\n",
    "Uinv"
   ]
  },
  {
   "cell_type": "code",
   "execution_count": null,
   "metadata": {
    "vscode": {
     "languageId": "r"
    }
   },
   "outputs": [],
   "source": []
  }
 ],
 "metadata": {
  "kernelspec": {
   "display_name": "R",
   "language": "R",
   "name": "ir"
  },
  "language_info": {
   "codemirror_mode": "r",
   "file_extension": ".r",
   "mimetype": "text/x-r-source",
   "name": "R",
   "pygments_lexer": "r",
   "version": "4.2.1"
  },
  "orig_nbformat": 4
 },
 "nbformat": 4,
 "nbformat_minor": 2
}
