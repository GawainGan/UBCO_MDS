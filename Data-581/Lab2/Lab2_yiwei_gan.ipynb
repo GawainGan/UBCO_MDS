{
 "cells": [
  {
   "cell_type": "code",
   "execution_count": 6,
   "metadata": {
    "vscode": {
     "languageId": "r"
    }
   },
   "outputs": [
    {
     "data": {
      "text/html": [
       "<table class=\"dataframe\">\n",
       "<caption>A matrix: 6 × 2 of type dbl</caption>\n",
       "<tbody>\n",
       "\t<tr><td>0</td><td>1</td></tr>\n",
       "\t<tr><td>1</td><td>3</td></tr>\n",
       "\t<tr><td>2</td><td>5</td></tr>\n",
       "\t<tr><td>3</td><td>6</td></tr>\n",
       "\t<tr><td>4</td><td>5</td></tr>\n",
       "\t<tr><td>5</td><td>7</td></tr>\n",
       "</tbody>\n",
       "</table>\n"
      ],
      "text/latex": [
       "A matrix: 6 × 2 of type dbl\n",
       "\\begin{tabular}{ll}\n",
       "\t 0 & 1\\\\\n",
       "\t 1 & 3\\\\\n",
       "\t 2 & 5\\\\\n",
       "\t 3 & 6\\\\\n",
       "\t 4 & 5\\\\\n",
       "\t 5 & 7\\\\\n",
       "\\end{tabular}\n"
      ],
      "text/markdown": [
       "\n",
       "A matrix: 6 × 2 of type dbl\n",
       "\n",
       "| 0 | 1 |\n",
       "| 1 | 3 |\n",
       "| 2 | 5 |\n",
       "| 3 | 6 |\n",
       "| 4 | 5 |\n",
       "| 5 | 7 |\n",
       "\n"
      ],
      "text/plain": [
       "     [,1] [,2]\n",
       "[1,] 0    1   \n",
       "[2,] 1    3   \n",
       "[3,] 2    5   \n",
       "[4,] 3    6   \n",
       "[5,] 4    5   \n",
       "[6,] 5    7   "
      ]
     },
     "metadata": {},
     "output_type": "display_data"
    }
   ],
   "source": [
    "# Use R for this question, but do not use the lm() function.\n",
    "# Suppose (0, 1), (1, 3), (2, 5), (3, 6), (4, 5), (5, 7) are 6 independently observed data points, and a simple regression model (with intercept) is to be ﬁt to these data.\n",
    "\n",
    "\n",
    "# Write down the design matrix X.\n",
    "X = matrix(c(0,1,1,3,2,5,3,6,4,5,5,7), nrow = 6, ncol = 2, byrow = TRUE)\n",
    "X\n",
    "n = nrow(X)\n",
    "X_added <- cbind(x0=rep(1, n), X)"
   ]
  },
  {
   "cell_type": "code",
   "execution_count": 7,
   "metadata": {
    "vscode": {
     "languageId": "r"
    }
   },
   "outputs": [
    {
     "data": {
      "text/html": [
       "<table class=\"dataframe\">\n",
       "<caption>A matrix: 6 × 3 of type dbl</caption>\n",
       "<thead>\n",
       "\t<tr><th scope=col>x0</th><th scope=col></th><th scope=col></th></tr>\n",
       "</thead>\n",
       "<tbody>\n",
       "\t<tr><td>1</td><td>0</td><td>1</td></tr>\n",
       "\t<tr><td>1</td><td>1</td><td>3</td></tr>\n",
       "\t<tr><td>1</td><td>2</td><td>5</td></tr>\n",
       "\t<tr><td>1</td><td>3</td><td>6</td></tr>\n",
       "\t<tr><td>1</td><td>4</td><td>5</td></tr>\n",
       "\t<tr><td>1</td><td>5</td><td>7</td></tr>\n",
       "</tbody>\n",
       "</table>\n"
      ],
      "text/latex": [
       "A matrix: 6 × 3 of type dbl\n",
       "\\begin{tabular}{lll}\n",
       " x0 &  & \\\\\n",
       "\\hline\n",
       "\t 1 & 0 & 1\\\\\n",
       "\t 1 & 1 & 3\\\\\n",
       "\t 1 & 2 & 5\\\\\n",
       "\t 1 & 3 & 6\\\\\n",
       "\t 1 & 4 & 5\\\\\n",
       "\t 1 & 5 & 7\\\\\n",
       "\\end{tabular}\n"
      ],
      "text/markdown": [
       "\n",
       "A matrix: 6 × 3 of type dbl\n",
       "\n",
       "| x0 | <!----> | <!----> |\n",
       "|---|---|---|\n",
       "| 1 | 0 | 1 |\n",
       "| 1 | 1 | 3 |\n",
       "| 1 | 2 | 5 |\n",
       "| 1 | 3 | 6 |\n",
       "| 1 | 4 | 5 |\n",
       "| 1 | 5 | 7 |\n",
       "\n"
      ],
      "text/plain": [
       "     x0    \n",
       "[1,] 1  0 1\n",
       "[2,] 1  1 3\n",
       "[3,] 1  2 5\n",
       "[4,] 1  3 6\n",
       "[5,] 1  4 5\n",
       "[6,] 1  5 7"
      ]
     },
     "metadata": {},
     "output_type": "display_data"
    }
   ],
   "source": [
    "X_added"
   ]
  },
  {
   "cell_type": "code",
   "execution_count": 8,
   "metadata": {
    "vscode": {
     "languageId": "r"
    }
   },
   "outputs": [],
   "source": [
    "# Determine the QR decomposition for X.\n",
    "QR <- qr(X_added)\n",
    "# QR"
   ]
  },
  {
   "cell_type": "code",
   "execution_count": 10,
   "metadata": {
    "vscode": {
     "languageId": "r"
    }
   },
   "outputs": [],
   "source": [
    "# Calculate U −1.\n",
    "Q <- qr.Q(QR, complete = TRUE)\n",
    "R <- qr.R(QR)\n",
    "p <- 2 + 1\n",
    "Q1 <- Q[, 1:p]\n",
    "y <- X[,1]\n",
    "Q1y <- t(Q1)%*%y\n",
    "U <- qr.R(QR)\n",
    "Uinv <- solve(U, Q1y)"
   ]
  },
  {
   "cell_type": "code",
   "execution_count": 11,
   "metadata": {
    "vscode": {
     "languageId": "r"
    }
   },
   "outputs": [
    {
     "data": {
      "text/html": [
       "<table class=\"dataframe\">\n",
       "<caption>A matrix: 3 × 1 of type dbl</caption>\n",
       "<tbody>\n",
       "\t<tr><th scope=row>x0</th><td> 2.175584e-15</td></tr>\n",
       "\t<tr><th scope=row></th><td> 1.000000e+00</td></tr>\n",
       "\t<tr><th scope=row></th><td>-3.354718e-16</td></tr>\n",
       "</tbody>\n",
       "</table>\n"
      ],
      "text/latex": [
       "A matrix: 3 × 1 of type dbl\n",
       "\\begin{tabular}{r|l}\n",
       "\tx0 &  2.175584e-15\\\\\n",
       "\t &  1.000000e+00\\\\\n",
       "\t & -3.354718e-16\\\\\n",
       "\\end{tabular}\n"
      ],
      "text/markdown": [
       "\n",
       "A matrix: 3 × 1 of type dbl\n",
       "\n",
       "| x0 |  2.175584e-15 |\n",
       "| <!----> |  1.000000e+00 |\n",
       "| <!----> | -3.354718e-16 |\n",
       "\n"
      ],
      "text/plain": [
       "   [,1]         \n",
       "x0  2.175584e-15\n",
       "    1.000000e+00\n",
       "   -3.354718e-16"
      ]
     },
     "metadata": {},
     "output_type": "display_data"
    }
   ],
   "source": [
    "Uinv"
   ]
  }
 ],
 "metadata": {
  "kernelspec": {
   "display_name": "R",
   "language": "R",
   "name": "ir"
  },
  "language_info": {
   "codemirror_mode": "r",
   "file_extension": ".r",
   "mimetype": "text/x-r-source",
   "name": "R",
   "pygments_lexer": "r",
   "version": "4.2.1"
  },
  "orig_nbformat": 4
 },
 "nbformat": 4,
 "nbformat_minor": 2
}
