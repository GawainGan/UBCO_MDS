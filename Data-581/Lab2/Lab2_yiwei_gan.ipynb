{
 "cells": [
  {
   "cell_type": "code",
   "execution_count": 16,
   "metadata": {
    "vscode": {
     "languageId": "r"
    }
   },
   "outputs": [
    {
     "data": {
      "text/html": [
       "<table class=\"dataframe\">\n",
       "<caption>A matrix: 6 × 2 of type dbl</caption>\n",
       "<tbody>\n",
       "\t<tr><td>0</td><td>1</td></tr>\n",
       "\t<tr><td>1</td><td>3</td></tr>\n",
       "\t<tr><td>2</td><td>5</td></tr>\n",
       "\t<tr><td>3</td><td>6</td></tr>\n",
       "\t<tr><td>4</td><td>5</td></tr>\n",
       "\t<tr><td>5</td><td>7</td></tr>\n",
       "</tbody>\n",
       "</table>\n"
      ],
      "text/latex": [
       "A matrix: 6 × 2 of type dbl\n",
       "\\begin{tabular}{ll}\n",
       "\t 0 & 1\\\\\n",
       "\t 1 & 3\\\\\n",
       "\t 2 & 5\\\\\n",
       "\t 3 & 6\\\\\n",
       "\t 4 & 5\\\\\n",
       "\t 5 & 7\\\\\n",
       "\\end{tabular}\n"
      ],
      "text/markdown": [
       "\n",
       "A matrix: 6 × 2 of type dbl\n",
       "\n",
       "| 0 | 1 |\n",
       "| 1 | 3 |\n",
       "| 2 | 5 |\n",
       "| 3 | 6 |\n",
       "| 4 | 5 |\n",
       "| 5 | 7 |\n",
       "\n"
      ],
      "text/plain": [
       "     [,1] [,2]\n",
       "[1,] 0    1   \n",
       "[2,] 1    3   \n",
       "[3,] 2    5   \n",
       "[4,] 3    6   \n",
       "[5,] 4    5   \n",
       "[6,] 5    7   "
      ]
     },
     "metadata": {},
     "output_type": "display_data"
    },
    {
     "data": {
      "text/html": [
       "<table class=\"dataframe\">\n",
       "<caption>A matrix: 6 × 3 of type dbl</caption>\n",
       "<thead>\n",
       "\t<tr><th scope=col>x0</th><th scope=col></th><th scope=col></th></tr>\n",
       "</thead>\n",
       "<tbody>\n",
       "\t<tr><td>1</td><td>0</td><td>1</td></tr>\n",
       "\t<tr><td>1</td><td>1</td><td>3</td></tr>\n",
       "\t<tr><td>1</td><td>2</td><td>5</td></tr>\n",
       "\t<tr><td>1</td><td>3</td><td>6</td></tr>\n",
       "\t<tr><td>1</td><td>4</td><td>5</td></tr>\n",
       "\t<tr><td>1</td><td>5</td><td>7</td></tr>\n",
       "</tbody>\n",
       "</table>\n"
      ],
      "text/latex": [
       "A matrix: 6 × 3 of type dbl\n",
       "\\begin{tabular}{lll}\n",
       " x0 &  & \\\\\n",
       "\\hline\n",
       "\t 1 & 0 & 1\\\\\n",
       "\t 1 & 1 & 3\\\\\n",
       "\t 1 & 2 & 5\\\\\n",
       "\t 1 & 3 & 6\\\\\n",
       "\t 1 & 4 & 5\\\\\n",
       "\t 1 & 5 & 7\\\\\n",
       "\\end{tabular}\n"
      ],
      "text/markdown": [
       "\n",
       "A matrix: 6 × 3 of type dbl\n",
       "\n",
       "| x0 | <!----> | <!----> |\n",
       "|---|---|---|\n",
       "| 1 | 0 | 1 |\n",
       "| 1 | 1 | 3 |\n",
       "| 1 | 2 | 5 |\n",
       "| 1 | 3 | 6 |\n",
       "| 1 | 4 | 5 |\n",
       "| 1 | 5 | 7 |\n",
       "\n"
      ],
      "text/plain": [
       "     x0    \n",
       "[1,] 1  0 1\n",
       "[2,] 1  1 3\n",
       "[3,] 1  2 5\n",
       "[4,] 1  3 6\n",
       "[5,] 1  4 5\n",
       "[6,] 1  5 7"
      ]
     },
     "metadata": {},
     "output_type": "display_data"
    }
   ],
   "source": [
    "# Use R for this question, but do not use the lm() function.\n",
    "# Suppose (0, 1), (1, 3), (2, 5), (3, 6), (4, 5), (5, 7) are 6 independently observed data points, and a simple regression model (with intercept) is to be ﬁt to these data.\n",
    "\n",
    "\n",
    "# Write down the design matrix X.\n",
    "X = matrix(c(0,1,1,3,2,5,3,6,4,5,5,7), nrow = 6, ncol = 2, byrow = TRUE)\n",
    "head(X)\n",
    "n = nrow(X)\n",
    "X_added <- cbind(x0=rep(1, n), X)\n",
    "head(X_added)"
   ]
  },
  {
   "cell_type": "code",
   "execution_count": 12,
   "metadata": {
    "vscode": {
     "languageId": "r"
    }
   },
   "outputs": [
    {
     "data": {
      "text/plain": [
       "$qr\n",
       "             x0                       \n",
       "[1,] -2.4494897 -6.1237244 -11.0227038\n",
       "[2,]  0.4082483  4.1833001   4.4223459\n",
       "[3,]  0.4082483 -0.0537243  -1.9856629\n",
       "[4,]  0.4082483 -0.2927700   0.6559312\n",
       "[5,]  0.4082483 -0.5318157  -0.3461244\n",
       "[6,]  0.4082483 -0.7708615   0.1626506\n",
       "\n",
       "$rank\n",
       "[1] 3\n",
       "\n",
       "$qraux\n",
       "[1] 1.408248 1.185321 1.650766\n",
       "\n",
       "$pivot\n",
       "[1] 1 2 3\n",
       "\n",
       "attr(,\"class\")\n",
       "[1] \"qr\""
      ]
     },
     "metadata": {},
     "output_type": "display_data"
    }
   ],
   "source": [
    "# Determine the QR decomposition for X.\n",
    "QR <- qr(X_added)\n",
    "QR"
   ]
  },
  {
   "cell_type": "code",
   "execution_count": 14,
   "metadata": {
    "vscode": {
     "languageId": "r"
    }
   },
   "outputs": [],
   "source": [
    "# Calculate U −1.\n",
    "Q <- qr.Q(QR, complete = TRUE)\n",
    "R <- qr.R(QR)\n",
    "p <- 2 + 1\n",
    "Q1 <- Q[, 1:p]\n",
    "y <- X[,2] # 这里改成X的第二列是y\n",
    "Q1y <- t(Q1)%*%y\n",
    "U <- qr.R(QR)\n",
    "Uinv <- solve(U, Q1y)"
   ]
  },
  {
   "cell_type": "code",
   "execution_count": 15,
   "metadata": {
    "vscode": {
     "languageId": "r"
    }
   },
   "outputs": [
    {
     "data": {
      "text/html": [
       "<table class=\"dataframe\">\n",
       "<caption>A matrix: 3 × 1 of type dbl</caption>\n",
       "<tbody>\n",
       "\t<tr><th scope=row>x0</th><td>-2.033609e-15</td></tr>\n",
       "\t<tr><th scope=row></th><td>-6.369458e-16</td></tr>\n",
       "\t<tr><th scope=row></th><td> 1.000000e+00</td></tr>\n",
       "</tbody>\n",
       "</table>\n"
      ],
      "text/latex": [
       "A matrix: 3 × 1 of type dbl\n",
       "\\begin{tabular}{r|l}\n",
       "\tx0 & -2.033609e-15\\\\\n",
       "\t & -6.369458e-16\\\\\n",
       "\t &  1.000000e+00\\\\\n",
       "\\end{tabular}\n"
      ],
      "text/markdown": [
       "\n",
       "A matrix: 3 × 1 of type dbl\n",
       "\n",
       "| x0 | -2.033609e-15 |\n",
       "| <!----> | -6.369458e-16 |\n",
       "| <!----> |  1.000000e+00 |\n",
       "\n"
      ],
      "text/plain": [
       "   [,1]         \n",
       "x0 -2.033609e-15\n",
       "   -6.369458e-16\n",
       "    1.000000e+00"
      ]
     },
     "metadata": {},
     "output_type": "display_data"
    }
   ],
   "source": [
    "Uinv"
   ]
  },
  {
   "cell_type": "code",
   "execution_count": null,
   "metadata": {
    "vscode": {
     "languageId": "r"
    }
   },
   "outputs": [],
   "source": []
  }
 ],
 "metadata": {
  "kernelspec": {
   "display_name": "R",
   "language": "R",
   "name": "ir"
  },
  "language_info": {
   "codemirror_mode": "r",
   "file_extension": ".r",
   "mimetype": "text/x-r-source",
   "name": "R",
   "pygments_lexer": "r",
   "version": "4.2.1"
  },
  "orig_nbformat": 4
 },
 "nbformat": 4,
 "nbformat_minor": 2
}
