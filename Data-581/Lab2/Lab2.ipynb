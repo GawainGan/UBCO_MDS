{
 "cells": [
  {
   "cell_type": "markdown",
   "metadata": {},
   "source": [
    "# Q1"
   ]
  },
  {
   "cell_type": "markdown",
   "metadata": {},
   "source": [
    "### part a\n",
    "write down the design matrix X"
   ]
  },
  {
   "cell_type": "code",
   "execution_count": 54,
   "metadata": {
    "vscode": {
     "languageId": "r"
    }
   },
   "outputs": [
    {
     "data": {
      "text/html": [
       "<table class=\"dataframe\">\n",
       "<caption>A matrix: 6 × 2 of type dbl</caption>\n",
       "<tbody>\n",
       "\t<tr><td>0</td><td>1</td></tr>\n",
       "\t<tr><td>1</td><td>3</td></tr>\n",
       "\t<tr><td>2</td><td>5</td></tr>\n",
       "\t<tr><td>3</td><td>6</td></tr>\n",
       "\t<tr><td>4</td><td>5</td></tr>\n",
       "\t<tr><td>5</td><td>7</td></tr>\n",
       "</tbody>\n",
       "</table>\n"
      ],
      "text/latex": [
       "A matrix: 6 × 2 of type dbl\n",
       "\\begin{tabular}{ll}\n",
       "\t 0 & 1\\\\\n",
       "\t 1 & 3\\\\\n",
       "\t 2 & 5\\\\\n",
       "\t 3 & 6\\\\\n",
       "\t 4 & 5\\\\\n",
       "\t 5 & 7\\\\\n",
       "\\end{tabular}\n"
      ],
      "text/markdown": [
       "\n",
       "A matrix: 6 × 2 of type dbl\n",
       "\n",
       "| 0 | 1 |\n",
       "| 1 | 3 |\n",
       "| 2 | 5 |\n",
       "| 3 | 6 |\n",
       "| 4 | 5 |\n",
       "| 5 | 7 |\n",
       "\n"
      ],
      "text/plain": [
       "     [,1] [,2]\n",
       "[1,] 0    1   \n",
       "[2,] 1    3   \n",
       "[3,] 2    5   \n",
       "[4,] 3    6   \n",
       "[5,] 4    5   \n",
       "[6,] 5    7   "
      ]
     },
     "metadata": {},
     "output_type": "display_data"
    },
    {
     "data": {
      "text/html": [
       "<table class=\"dataframe\">\n",
       "<caption>A matrix: 6 × 2 of type dbl</caption>\n",
       "<thead>\n",
       "\t<tr><th scope=col>X1</th><th scope=col>X</th></tr>\n",
       "</thead>\n",
       "<tbody>\n",
       "\t<tr><td>1</td><td>0</td></tr>\n",
       "\t<tr><td>1</td><td>1</td></tr>\n",
       "\t<tr><td>1</td><td>2</td></tr>\n",
       "\t<tr><td>1</td><td>3</td></tr>\n",
       "\t<tr><td>1</td><td>4</td></tr>\n",
       "\t<tr><td>1</td><td>5</td></tr>\n",
       "</tbody>\n",
       "</table>\n"
      ],
      "text/latex": [
       "A matrix: 6 × 2 of type dbl\n",
       "\\begin{tabular}{ll}\n",
       " X1 & X\\\\\n",
       "\\hline\n",
       "\t 1 & 0\\\\\n",
       "\t 1 & 1\\\\\n",
       "\t 1 & 2\\\\\n",
       "\t 1 & 3\\\\\n",
       "\t 1 & 4\\\\\n",
       "\t 1 & 5\\\\\n",
       "\\end{tabular}\n"
      ],
      "text/markdown": [
       "\n",
       "A matrix: 6 × 2 of type dbl\n",
       "\n",
       "| X1 | X |\n",
       "|---|---|\n",
       "| 1 | 0 |\n",
       "| 1 | 1 |\n",
       "| 1 | 2 |\n",
       "| 1 | 3 |\n",
       "| 1 | 4 |\n",
       "| 1 | 5 |\n",
       "\n"
      ],
      "text/plain": [
       "     X1 X\n",
       "[1,] 1  0\n",
       "[2,] 1  1\n",
       "[3,] 1  2\n",
       "[4,] 1  3\n",
       "[5,] 1  4\n",
       "[6,] 1  5"
      ]
     },
     "metadata": {},
     "output_type": "display_data"
    }
   ],
   "source": [
    "# Use R for this question, but do not use the lm() function.\n",
    "# Suppose (0, 1), (1, 3), (2, 5), (3, 6), (4, 5), (5, 7) are 6 independently observed data points, and a simple regression model (with intercept) is to be ﬁt to these data.\n",
    "\n",
    "\n",
    "# Write down the design matrix X.\n",
    "X = matrix(c(0, 1, 1, 3, 2, 5, 3, 6, 4, 5, 5, 7), nrow = 6, ncol = 2, byrow = TRUE)\n",
    "head(X)\n",
    "n = nrow(X)\n",
    "y <- X[, 2]\n",
    "X <- X[, 1] # remove y\n",
    "\n",
    "X1 <- rep(1, n)\n",
    "X_design_matrix <- cbind(X1, X)\n",
    "head(X_design_matrix)"
   ]
  },
  {
   "cell_type": "markdown",
   "metadata": {},
   "source": [
    "### Part b\n",
    "\n",
    "determine the QR decomposition for X"
   ]
  },
  {
   "cell_type": "code",
   "execution_count": 55,
   "metadata": {
    "vscode": {
     "languageId": "r"
    }
   },
   "outputs": [
    {
     "data": {
      "text/html": [
       "<table class=\"dataframe\">\n",
       "<caption>A matrix: 6 × 6 of type dbl</caption>\n",
       "<tbody>\n",
       "\t<tr><td>-0.4082483</td><td>-0.5976143</td><td>-0.39966534</td><td>-0.3614756</td><td>-0.3232858</td><td>-0.2850961</td></tr>\n",
       "\t<tr><td>-0.4082483</td><td>-0.3585686</td><td>-0.06213786</td><td> 0.1879790</td><td> 0.4380958</td><td> 0.6882127</td></tr>\n",
       "\t<tr><td>-0.4082483</td><td>-0.1195229</td><td> 0.88170280</td><td>-0.1180607</td><td>-0.1178243</td><td>-0.1175878</td></tr>\n",
       "\t<tr><td>-0.4082483</td><td> 0.1195229</td><td>-0.12913187</td><td> 0.8228959</td><td>-0.2250764</td><td>-0.2730487</td></tr>\n",
       "\t<tr><td>-0.4082483</td><td> 0.3585686</td><td>-0.13996653</td><td>-0.2361476</td><td> 0.6676714</td><td>-0.4285096</td></tr>\n",
       "\t<tr><td>-0.4082483</td><td> 0.5976143</td><td>-0.15080120</td><td>-0.2951910</td><td>-0.4395807</td><td> 0.4160295</td></tr>\n",
       "</tbody>\n",
       "</table>\n"
      ],
      "text/latex": [
       "A matrix: 6 × 6 of type dbl\n",
       "\\begin{tabular}{llllll}\n",
       "\t -0.4082483 & -0.5976143 & -0.39966534 & -0.3614756 & -0.3232858 & -0.2850961\\\\\n",
       "\t -0.4082483 & -0.3585686 & -0.06213786 &  0.1879790 &  0.4380958 &  0.6882127\\\\\n",
       "\t -0.4082483 & -0.1195229 &  0.88170280 & -0.1180607 & -0.1178243 & -0.1175878\\\\\n",
       "\t -0.4082483 &  0.1195229 & -0.12913187 &  0.8228959 & -0.2250764 & -0.2730487\\\\\n",
       "\t -0.4082483 &  0.3585686 & -0.13996653 & -0.2361476 &  0.6676714 & -0.4285096\\\\\n",
       "\t -0.4082483 &  0.5976143 & -0.15080120 & -0.2951910 & -0.4395807 &  0.4160295\\\\\n",
       "\\end{tabular}\n"
      ],
      "text/markdown": [
       "\n",
       "A matrix: 6 × 6 of type dbl\n",
       "\n",
       "| -0.4082483 | -0.5976143 | -0.39966534 | -0.3614756 | -0.3232858 | -0.2850961 |\n",
       "| -0.4082483 | -0.3585686 | -0.06213786 |  0.1879790 |  0.4380958 |  0.6882127 |\n",
       "| -0.4082483 | -0.1195229 |  0.88170280 | -0.1180607 | -0.1178243 | -0.1175878 |\n",
       "| -0.4082483 |  0.1195229 | -0.12913187 |  0.8228959 | -0.2250764 | -0.2730487 |\n",
       "| -0.4082483 |  0.3585686 | -0.13996653 | -0.2361476 |  0.6676714 | -0.4285096 |\n",
       "| -0.4082483 |  0.5976143 | -0.15080120 | -0.2951910 | -0.4395807 |  0.4160295 |\n",
       "\n"
      ],
      "text/plain": [
       "     [,1]       [,2]       [,3]        [,4]       [,5]       [,6]      \n",
       "[1,] -0.4082483 -0.5976143 -0.39966534 -0.3614756 -0.3232858 -0.2850961\n",
       "[2,] -0.4082483 -0.3585686 -0.06213786  0.1879790  0.4380958  0.6882127\n",
       "[3,] -0.4082483 -0.1195229  0.88170280 -0.1180607 -0.1178243 -0.1175878\n",
       "[4,] -0.4082483  0.1195229 -0.12913187  0.8228959 -0.2250764 -0.2730487\n",
       "[5,] -0.4082483  0.3585686 -0.13996653 -0.2361476  0.6676714 -0.4285096\n",
       "[6,] -0.4082483  0.5976143 -0.15080120 -0.2951910 -0.4395807  0.4160295"
      ]
     },
     "metadata": {},
     "output_type": "display_data"
    },
    {
     "data": {
      "text/html": [
       "<table class=\"dataframe\">\n",
       "<caption>A matrix: 2 × 2 of type dbl</caption>\n",
       "<thead>\n",
       "\t<tr><th scope=col>X1</th><th scope=col>X</th></tr>\n",
       "</thead>\n",
       "<tbody>\n",
       "\t<tr><td>-2.44949</td><td>-6.123724</td></tr>\n",
       "\t<tr><td> 0.00000</td><td> 4.183300</td></tr>\n",
       "</tbody>\n",
       "</table>\n"
      ],
      "text/latex": [
       "A matrix: 2 × 2 of type dbl\n",
       "\\begin{tabular}{ll}\n",
       " X1 & X\\\\\n",
       "\\hline\n",
       "\t -2.44949 & -6.123724\\\\\n",
       "\t  0.00000 &  4.183300\\\\\n",
       "\\end{tabular}\n"
      ],
      "text/markdown": [
       "\n",
       "A matrix: 2 × 2 of type dbl\n",
       "\n",
       "| X1 | X |\n",
       "|---|---|\n",
       "| -2.44949 | -6.123724 |\n",
       "|  0.00000 |  4.183300 |\n",
       "\n"
      ],
      "text/plain": [
       "     X1       X        \n",
       "[1,] -2.44949 -6.123724\n",
       "[2,]  0.00000  4.183300"
      ]
     },
     "metadata": {},
     "output_type": "display_data"
    }
   ],
   "source": [
    "# Determine the QR decomposition for X.\n",
    "QR <- qr(X_design_matrix)\n",
    "# QR\n",
    "\n",
    "Q <- qr.Q(QR, complete = TRUE)\n",
    "R <- qr.R(QR)\n",
    "Q\n",
    "R"
   ]
  },
  {
   "cell_type": "markdown",
   "metadata": {},
   "source": [
    "### part c\n",
    "\n",
    "Calculate inverse U"
   ]
  },
  {
   "cell_type": "code",
   "execution_count": 56,
   "metadata": {
    "vscode": {
     "languageId": "r"
    }
   },
   "outputs": [
    {
     "data": {
      "text/html": [
       "<table class=\"dataframe\">\n",
       "<caption>A matrix: 6 × 2 of type dbl</caption>\n",
       "<tbody>\n",
       "\t<tr><td>-0.4082483</td><td>-0.5976143</td></tr>\n",
       "\t<tr><td>-0.4082483</td><td>-0.3585686</td></tr>\n",
       "\t<tr><td>-0.4082483</td><td>-0.1195229</td></tr>\n",
       "\t<tr><td>-0.4082483</td><td> 0.1195229</td></tr>\n",
       "\t<tr><td>-0.4082483</td><td> 0.3585686</td></tr>\n",
       "\t<tr><td>-0.4082483</td><td> 0.5976143</td></tr>\n",
       "</tbody>\n",
       "</table>\n"
      ],
      "text/latex": [
       "A matrix: 6 × 2 of type dbl\n",
       "\\begin{tabular}{ll}\n",
       "\t -0.4082483 & -0.5976143\\\\\n",
       "\t -0.4082483 & -0.3585686\\\\\n",
       "\t -0.4082483 & -0.1195229\\\\\n",
       "\t -0.4082483 &  0.1195229\\\\\n",
       "\t -0.4082483 &  0.3585686\\\\\n",
       "\t -0.4082483 &  0.5976143\\\\\n",
       "\\end{tabular}\n"
      ],
      "text/markdown": [
       "\n",
       "A matrix: 6 × 2 of type dbl\n",
       "\n",
       "| -0.4082483 | -0.5976143 |\n",
       "| -0.4082483 | -0.3585686 |\n",
       "| -0.4082483 | -0.1195229 |\n",
       "| -0.4082483 |  0.1195229 |\n",
       "| -0.4082483 |  0.3585686 |\n",
       "| -0.4082483 |  0.5976143 |\n",
       "\n"
      ],
      "text/plain": [
       "     [,1]       [,2]      \n",
       "[1,] -0.4082483 -0.5976143\n",
       "[2,] -0.4082483 -0.3585686\n",
       "[3,] -0.4082483 -0.1195229\n",
       "[4,] -0.4082483  0.1195229\n",
       "[5,] -0.4082483  0.3585686\n",
       "[6,] -0.4082483  0.5976143"
      ]
     },
     "metadata": {},
     "output_type": "display_data"
    },
    {
     "data": {
      "text/html": [
       "<table class=\"dataframe\">\n",
       "<caption>A matrix: 2 × 2 of type dbl</caption>\n",
       "<tbody>\n",
       "\t<tr><th scope=row>X1</th><td>-0.4082483</td><td>-0.5976143</td></tr>\n",
       "\t<tr><th scope=row>X</th><td> 0.0000000</td><td> 0.2390457</td></tr>\n",
       "</tbody>\n",
       "</table>\n"
      ],
      "text/latex": [
       "A matrix: 2 × 2 of type dbl\n",
       "\\begin{tabular}{r|ll}\n",
       "\tX1 & -0.4082483 & -0.5976143\\\\\n",
       "\tX &  0.0000000 &  0.2390457\\\\\n",
       "\\end{tabular}\n"
      ],
      "text/markdown": [
       "\n",
       "A matrix: 2 × 2 of type dbl\n",
       "\n",
       "| X1 | -0.4082483 | -0.5976143 |\n",
       "| X |  0.0000000 |  0.2390457 |\n",
       "\n"
      ],
      "text/plain": [
       "   [,1]       [,2]      \n",
       "X1 -0.4082483 -0.5976143\n",
       "X   0.0000000  0.2390457"
      ]
     },
     "metadata": {},
     "output_type": "display_data"
    }
   ],
   "source": [
    "p <- 2  # number of columns in X -> 2\n",
    "Q1 <- Q[, 1:p]\n",
    "Q1\n",
    "# y <- X[, 1] # 这里改成X的第二列是y\n",
    "Q1y <- t(Q1)%*%y\n",
    "U <- qr.R(QR)\n",
    "inverse_U <- solve(U)\n",
    "inverse_U"
   ]
  },
  {
   "cell_type": "markdown",
   "metadata": {},
   "source": [
    "### part d \n",
    "\n",
    "slope and intercept estimate"
   ]
  },
  {
   "cell_type": "code",
   "execution_count": 57,
   "metadata": {
    "vscode": {
     "languageId": "r"
    }
   },
   "outputs": [
    {
     "data": {
      "text/html": [
       "<table class=\"dataframe\">\n",
       "<caption>A matrix: 2 × 1 of type dbl</caption>\n",
       "<tbody>\n",
       "\t<tr><th scope=row>X1</th><td>1.857143</td></tr>\n",
       "\t<tr><th scope=row>X</th><td>1.057143</td></tr>\n",
       "</tbody>\n",
       "</table>\n"
      ],
      "text/latex": [
       "A matrix: 2 × 1 of type dbl\n",
       "\\begin{tabular}{r|l}\n",
       "\tX1 & 1.857143\\\\\n",
       "\tX & 1.057143\\\\\n",
       "\\end{tabular}\n"
      ],
      "text/markdown": [
       "\n",
       "A matrix: 2 × 1 of type dbl\n",
       "\n",
       "| X1 | 1.857143 |\n",
       "| X | 1.057143 |\n",
       "\n"
      ],
      "text/plain": [
       "   [,1]    \n",
       "X1 1.857143\n",
       "X  1.057143"
      ]
     },
     "metadata": {},
     "output_type": "display_data"
    }
   ],
   "source": [
    "betahat <- solve(U, Q1y)\n",
    "betahat"
   ]
  },
  {
   "cell_type": "markdown",
   "metadata": {},
   "source": [
    "### part e\n",
    "\n",
    "determine the residual sum of square"
   ]
  },
  {
   "cell_type": "code",
   "execution_count": 58,
   "metadata": {
    "vscode": {
     "languageId": "r"
    }
   },
   "outputs": [
    {
     "data": {
      "text/html": [
       "<table class=\"dataframe\">\n",
       "<caption>A matrix: 6 × 4 of type dbl</caption>\n",
       "<tbody>\n",
       "\t<tr><td>-0.39966534</td><td>-0.3614756</td><td>-0.3232858</td><td>-0.2850961</td></tr>\n",
       "\t<tr><td>-0.06213786</td><td> 0.1879790</td><td> 0.4380958</td><td> 0.6882127</td></tr>\n",
       "\t<tr><td> 0.88170280</td><td>-0.1180607</td><td>-0.1178243</td><td>-0.1175878</td></tr>\n",
       "\t<tr><td>-0.12913187</td><td> 0.8228959</td><td>-0.2250764</td><td>-0.2730487</td></tr>\n",
       "\t<tr><td>-0.13996653</td><td>-0.2361476</td><td> 0.6676714</td><td>-0.4285096</td></tr>\n",
       "\t<tr><td>-0.15080120</td><td>-0.2951910</td><td>-0.4395807</td><td> 0.4160295</td></tr>\n",
       "</tbody>\n",
       "</table>\n"
      ],
      "text/latex": [
       "A matrix: 6 × 4 of type dbl\n",
       "\\begin{tabular}{llll}\n",
       "\t -0.39966534 & -0.3614756 & -0.3232858 & -0.2850961\\\\\n",
       "\t -0.06213786 &  0.1879790 &  0.4380958 &  0.6882127\\\\\n",
       "\t  0.88170280 & -0.1180607 & -0.1178243 & -0.1175878\\\\\n",
       "\t -0.12913187 &  0.8228959 & -0.2250764 & -0.2730487\\\\\n",
       "\t -0.13996653 & -0.2361476 &  0.6676714 & -0.4285096\\\\\n",
       "\t -0.15080120 & -0.2951910 & -0.4395807 &  0.4160295\\\\\n",
       "\\end{tabular}\n"
      ],
      "text/markdown": [
       "\n",
       "A matrix: 6 × 4 of type dbl\n",
       "\n",
       "| -0.39966534 | -0.3614756 | -0.3232858 | -0.2850961 |\n",
       "| -0.06213786 |  0.1879790 |  0.4380958 |  0.6882127 |\n",
       "|  0.88170280 | -0.1180607 | -0.1178243 | -0.1175878 |\n",
       "| -0.12913187 |  0.8228959 | -0.2250764 | -0.2730487 |\n",
       "| -0.13996653 | -0.2361476 |  0.6676714 | -0.4285096 |\n",
       "| -0.15080120 | -0.2951910 | -0.4395807 |  0.4160295 |\n",
       "\n"
      ],
      "text/plain": [
       "     [,1]        [,2]       [,3]       [,4]      \n",
       "[1,] -0.39966534 -0.3614756 -0.3232858 -0.2850961\n",
       "[2,] -0.06213786  0.1879790  0.4380958  0.6882127\n",
       "[3,]  0.88170280 -0.1180607 -0.1178243 -0.1175878\n",
       "[4,] -0.12913187  0.8228959 -0.2250764 -0.2730487\n",
       "[5,] -0.13996653 -0.2361476  0.6676714 -0.4285096\n",
       "[6,] -0.15080120 -0.2951910 -0.4395807  0.4160295"
      ]
     },
     "metadata": {},
     "output_type": "display_data"
    },
    {
     "data": {
      "text/html": [
       "<table class=\"dataframe\">\n",
       "<caption>A matrix: 1 × 1 of type dbl</caption>\n",
       "<tbody>\n",
       "\t<tr><td>3.942857</td></tr>\n",
       "</tbody>\n",
       "</table>\n"
      ],
      "text/latex": [
       "A matrix: 1 × 1 of type dbl\n",
       "\\begin{tabular}{l}\n",
       "\t 3.942857\\\\\n",
       "\\end{tabular}\n"
      ],
      "text/markdown": [
       "\n",
       "A matrix: 1 × 1 of type dbl\n",
       "\n",
       "| 3.942857 |\n",
       "\n"
      ],
      "text/plain": [
       "     [,1]    \n",
       "[1,] 3.942857"
      ]
     },
     "metadata": {},
     "output_type": "display_data"
    }
   ],
   "source": [
    "Q2 <- Q[, -(1:p)]\n",
    "Q2\n",
    "Q2y <- t(Q2)%*%y\n",
    "\n",
    "SSE <- t(Q2y)%*%Q2y\n",
    "SSE"
   ]
  },
  {
   "cell_type": "markdown",
   "metadata": {},
   "source": [
    "### part f\n",
    "\n",
    "estimate the error variance"
   ]
  },
  {
   "cell_type": "code",
   "execution_count": 61,
   "metadata": {
    "vscode": {
     "languageId": "r"
    }
   },
   "outputs": [
    {
     "name": "stdout",
     "output_type": "stream",
     "text": [
      "MSE =  0.9857143"
     ]
    }
   ],
   "source": [
    "# estimate the error variance\n",
    "MSE <- SSE/(n-p)\n",
    "cat(\"MSE = \", MSE)\n",
    "# MSE"
   ]
  },
  {
   "cell_type": "markdown",
   "metadata": {},
   "source": [
    "### part g\n",
    "\n",
    "calculate the test statistic used to determine whether the slope is 0 or not"
   ]
  },
  {
   "cell_type": "code",
   "execution_count": 62,
   "metadata": {
    "vscode": {
     "languageId": "r"
    }
   },
   "outputs": [
    {
     "data": {
      "text/html": [
       "4.45427656417346"
      ],
      "text/latex": [
       "4.45427656417346"
      ],
      "text/markdown": [
       "4.45427656417346"
      ],
      "text/plain": [
       "[1] 4.454277"
      ]
     },
     "metadata": {},
     "output_type": "display_data"
    }
   ],
   "source": [
    "QTy <- t(Q)%*%y\n",
    "Q2Ty <- QTy[-(1:p)] \n",
    "MSE <- mean(Q2Ty^2) # MSE\n",
    "\n",
    "U_1 <- solve(U) # inverse of U\n",
    "U.diag <- diag(U_1%*%t(U_1))# extracts the diagonal from a matrix\n",
    "T <- betahat/sqrt(MSE * U.diag) \n",
    "T[2] # slope of the 2nd value"
   ]
  },
  {
   "cell_type": "markdown",
   "metadata": {},
   "source": [
    "### part h"
   ]
  },
  {
   "cell_type": "code",
   "execution_count": 63,
   "metadata": {
    "vscode": {
     "languageId": "r"
    }
   },
   "outputs": [],
   "source": [
    "# conﬁdence interval\n",
    "Cii <- sqrt(diag(solve(t(U)%*%U))) \n",
    "SEii <- Cii*as.numeric(sqrt(MSE))"
   ]
  },
  {
   "cell_type": "code",
   "execution_count": 64,
   "metadata": {
    "vscode": {
     "languageId": "r"
    }
   },
   "outputs": [
    {
     "data": {
      "text/html": [
       "<style>\n",
       ".list-inline {list-style: none; margin:0; padding: 0}\n",
       ".list-inline>li {display: inline-block}\n",
       ".list-inline>li:not(:last-child)::after {content: \"\\00b7\"; padding: 0 .5ex}\n",
       "</style>\n",
       "<ol class=list-inline><li>0.39820328100234</li><li>1.71608243328337</li></ol>\n"
      ],
      "text/latex": [
       "\\begin{enumerate*}\n",
       "\\item 0.39820328100234\n",
       "\\item 1.71608243328337\n",
       "\\end{enumerate*}\n"
      ],
      "text/markdown": [
       "1. 0.39820328100234\n",
       "2. 1.71608243328337\n",
       "\n",
       "\n"
      ],
      "text/plain": [
       "[1] 0.3982033 1.7160824"
      ]
     },
     "metadata": {},
     "output_type": "display_data"
    }
   ],
   "source": [
    "# A 95% conﬁdence interval for the slope is\n",
    "betahat[2] + SEii[2]*qt(c(.025, .975), df = n-p)"
   ]
  },
  {
   "cell_type": "markdown",
   "metadata": {},
   "source": [
    "**Answer**\n",
    "\n",
    "Based on the 95% CI, we can tell that there are 95% possibility that the slope is lying in the range of (0.39820328100234, 1.71608243328337). \n",
    "\n",
    "It CI does not contain the 0, which means we can reject the nul hypothesis(slope = 0)."
   ]
  },
  {
   "cell_type": "markdown",
   "metadata": {},
   "source": [
    "# Q2"
   ]
  },
  {
   "cell_type": "markdown",
   "metadata": {},
   "source": [
    "The p13.2 data frame in the MPV package has 20 observations on home ownership as it relates to family income. Fit a logistic regression model to the data and use the output to"
   ]
  },
  {
   "cell_type": "code",
   "execution_count": 65,
   "metadata": {
    "vscode": {
     "languageId": "r"
    }
   },
   "outputs": [
    {
     "data": {
      "text/html": [
       "<table class=\"dataframe\">\n",
       "<caption>A data.frame: 6 × 2</caption>\n",
       "<thead>\n",
       "\t<tr><th></th><th scope=col>x</th><th scope=col>y</th></tr>\n",
       "\t<tr><th></th><th scope=col>&lt;dbl&gt;</th><th scope=col>&lt;dbl&gt;</th></tr>\n",
       "</thead>\n",
       "<tbody>\n",
       "\t<tr><th scope=row>1</th><td>38000</td><td>0</td></tr>\n",
       "\t<tr><th scope=row>2</th><td>51200</td><td>1</td></tr>\n",
       "\t<tr><th scope=row>3</th><td>39600</td><td>0</td></tr>\n",
       "\t<tr><th scope=row>4</th><td>43400</td><td>1</td></tr>\n",
       "\t<tr><th scope=row>5</th><td>47700</td><td>0</td></tr>\n",
       "\t<tr><th scope=row>6</th><td>53000</td><td>0</td></tr>\n",
       "</tbody>\n",
       "</table>\n"
      ],
      "text/latex": [
       "A data.frame: 6 × 2\n",
       "\\begin{tabular}{r|ll}\n",
       "  & x & y\\\\\n",
       "  & <dbl> & <dbl>\\\\\n",
       "\\hline\n",
       "\t1 & 38000 & 0\\\\\n",
       "\t2 & 51200 & 1\\\\\n",
       "\t3 & 39600 & 0\\\\\n",
       "\t4 & 43400 & 1\\\\\n",
       "\t5 & 47700 & 0\\\\\n",
       "\t6 & 53000 & 0\\\\\n",
       "\\end{tabular}\n"
      ],
      "text/markdown": [
       "\n",
       "A data.frame: 6 × 2\n",
       "\n",
       "| <!--/--> | x &lt;dbl&gt; | y &lt;dbl&gt; |\n",
       "|---|---|---|\n",
       "| 1 | 38000 | 0 |\n",
       "| 2 | 51200 | 1 |\n",
       "| 3 | 39600 | 0 |\n",
       "| 4 | 43400 | 1 |\n",
       "| 5 | 47700 | 0 |\n",
       "| 6 | 53000 | 0 |\n",
       "\n"
      ],
      "text/plain": [
       "  x     y\n",
       "1 38000 0\n",
       "2 51200 1\n",
       "3 39600 0\n",
       "4 43400 1\n",
       "5 47700 0\n",
       "6 53000 0"
      ]
     },
     "metadata": {},
     "output_type": "display_data"
    },
    {
     "data": {
      "text/html": [
       "20"
      ],
      "text/latex": [
       "20"
      ],
      "text/markdown": [
       "20"
      ],
      "text/plain": [
       "[1] 20"
      ]
     },
     "metadata": {},
     "output_type": "display_data"
    }
   ],
   "source": [
    "library(MPV)\n",
    "head(p13.2)\n",
    "# X: family income\n",
    "# Y: home ownership\n",
    "nrow(p13.2)"
   ]
  },
  {
   "cell_type": "markdown",
   "metadata": {},
   "source": [
    "### part a\n",
    "\n",
    "identify the logit of the probability of home ownership as a linear function of family income."
   ]
  },
  {
   "cell_type": "code",
   "execution_count": 66,
   "metadata": {
    "vscode": {
     "languageId": "r"
    }
   },
   "outputs": [
    {
     "data": {
      "text/html": [
       "<style>\n",
       ".dl-inline {width: auto; margin:0; padding: 0}\n",
       ".dl-inline>dt, .dl-inline>dd {float: none; width: auto; display: inline-block}\n",
       ".dl-inline>dt::after {content: \":\\0020\"; padding-right: .5ex}\n",
       ".dl-inline>dt:not(:first-of-type) {padding-left: .5ex}\n",
       "</style><dl class=dl-inline><dt>(Intercept)</dt><dd>-8.7395139020794</dd><dt>x</dt><dd>0.000200905637370257</dd></dl>\n"
      ],
      "text/latex": [
       "\\begin{description*}\n",
       "\\item[(Intercept)] -8.7395139020794\n",
       "\\item[x] 0.000200905637370257\n",
       "\\end{description*}\n"
      ],
      "text/markdown": [
       "(Intercept)\n",
       ":   -8.7395139020794x\n",
       ":   0.000200905637370257\n",
       "\n"
      ],
      "text/plain": [
       "  (Intercept)             x \n",
       "-8.7395139021  0.0002009056 "
      ]
     },
     "metadata": {},
     "output_type": "display_data"
    }
   ],
   "source": [
    "p13.2.glm <- glm(y~x, data = p13.2, family = binomial)\n",
    "coef(p13.2.glm)"
   ]
  },
  {
   "cell_type": "markdown",
   "metadata": {},
   "source": [
    "### part b\n",
    "\n",
    "determine if the logistic model is reasonable."
   ]
  },
  {
   "cell_type": "code",
   "execution_count": null,
   "metadata": {
    "vscode": {
     "languageId": "r"
    }
   },
   "outputs": [],
   "source": [
    "min(p13.2$x)\n",
    "max(p13.2$x)"
   ]
  },
  {
   "cell_type": "code",
   "execution_count": 67,
   "metadata": {
    "vscode": {
     "languageId": "r"
    }
   },
   "outputs": [
    {
     "data": {
      "image/png": "[encoded data removed]",
      "text/plain": [
       "plot without title"
      ]
     },
     "metadata": {
      "image/png": {
       "height": 420,
       "width": 420
      }
     },
     "output_type": "display_data"
    }
   ],
   "source": [
    "plot(y~x, data = p13.2, col=ifelse(p13.2$y==1, \"red\", \"blue\"), xlab=\"Family Income\", ylab=\"Home Ownership\", pch=20, cex=1.5)\n",
    "xpoints <- seq(38000, 54000, length=401)\n",
    "ypredict <- predict(p13.2.glm, newdata=data.frame(x = xpoints), type=\"response\")\n",
    "lines(xpoints, ypredict)"
   ]
  },
  {
   "cell_type": "markdown",
   "metadata": {},
   "source": [
    "The curve seems to predict low probability of owning a home at low values of income and higher probability at high values of income."
   ]
  },
  {
   "cell_type": "markdown",
   "metadata": {},
   "source": [
    "### part c\n",
    "\n",
    "estimate the probability that a family with an income of $40000 owns their home."
   ]
  },
  {
   "cell_type": "code",
   "execution_count": 68,
   "metadata": {
    "vscode": {
     "languageId": "r"
    }
   },
   "outputs": [
    {
     "name": "stdout",
     "output_type": "stream",
     "text": [
      "There is a 33.10835 % chance that a family with an income of $40,000 will own a home."
     ]
    }
   ],
   "source": [
    "y_pred <- predict(p13.2.glm, newdata=data.frame(x = 40000), type=\"response\")\n",
    "cat(\"There is a\", y_pred*100, \"% chance that a family with an income of $40,000 will own a home.\")"
   ]
  },
  {
   "cell_type": "markdown",
   "metadata": {},
   "source": [
    "# Q3"
   ]
  },
  {
   "cell_type": "markdown",
   "metadata": {},
   "source": [
    "Inspect the dependency of the number of seizures ( y ) in the age of the patient (age) and the treatment (trt)."
   ]
  },
  {
   "cell_type": "code",
   "execution_count": 69,
   "metadata": {
    "vscode": {
     "languageId": "r"
    }
   },
   "outputs": [],
   "source": [
    "# ? MASS::epil\n",
    "library(MASS)"
   ]
  },
  {
   "cell_type": "code",
   "execution_count": 70,
   "metadata": {
    "vscode": {
     "languageId": "r"
    }
   },
   "outputs": [
    {
     "data": {
      "text/html": [
       "<table class=\"dataframe\">\n",
       "<caption>A data.frame: 6 × 9</caption>\n",
       "<thead>\n",
       "\t<tr><th></th><th scope=col>y</th><th scope=col>trt</th><th scope=col>base</th><th scope=col>age</th><th scope=col>V4</th><th scope=col>subject</th><th scope=col>period</th><th scope=col>lbase</th><th scope=col>lage</th></tr>\n",
       "\t<tr><th></th><th scope=col>&lt;int&gt;</th><th scope=col>&lt;fct&gt;</th><th scope=col>&lt;int&gt;</th><th scope=col>&lt;int&gt;</th><th scope=col>&lt;int&gt;</th><th scope=col>&lt;int&gt;</th><th scope=col>&lt;int&gt;</th><th scope=col>&lt;dbl&gt;</th><th scope=col>&lt;dbl&gt;</th></tr>\n",
       "</thead>\n",
       "<tbody>\n",
       "\t<tr><th scope=row>1</th><td>5</td><td>placebo</td><td>11</td><td>31</td><td>0</td><td>1</td><td>1</td><td>-0.7563538</td><td>0.11420370</td></tr>\n",
       "\t<tr><th scope=row>2</th><td>3</td><td>placebo</td><td>11</td><td>31</td><td>0</td><td>1</td><td>2</td><td>-0.7563538</td><td>0.11420370</td></tr>\n",
       "\t<tr><th scope=row>3</th><td>3</td><td>placebo</td><td>11</td><td>31</td><td>0</td><td>1</td><td>3</td><td>-0.7563538</td><td>0.11420370</td></tr>\n",
       "\t<tr><th scope=row>4</th><td>3</td><td>placebo</td><td>11</td><td>31</td><td>1</td><td>1</td><td>4</td><td>-0.7563538</td><td>0.11420370</td></tr>\n",
       "\t<tr><th scope=row>5</th><td>3</td><td>placebo</td><td>11</td><td>30</td><td>0</td><td>2</td><td>1</td><td>-0.7563538</td><td>0.08141387</td></tr>\n",
       "\t<tr><th scope=row>6</th><td>5</td><td>placebo</td><td>11</td><td>30</td><td>0</td><td>2</td><td>2</td><td>-0.7563538</td><td>0.08141387</td></tr>\n",
       "</tbody>\n",
       "</table>\n"
      ],
      "text/latex": [
       "A data.frame: 6 × 9\n",
       "\\begin{tabular}{r|lllllllll}\n",
       "  & y & trt & base & age & V4 & subject & period & lbase & lage\\\\\n",
       "  & <int> & <fct> & <int> & <int> & <int> & <int> & <int> & <dbl> & <dbl>\\\\\n",
       "\\hline\n",
       "\t1 & 5 & placebo & 11 & 31 & 0 & 1 & 1 & -0.7563538 & 0.11420370\\\\\n",
       "\t2 & 3 & placebo & 11 & 31 & 0 & 1 & 2 & -0.7563538 & 0.11420370\\\\\n",
       "\t3 & 3 & placebo & 11 & 31 & 0 & 1 & 3 & -0.7563538 & 0.11420370\\\\\n",
       "\t4 & 3 & placebo & 11 & 31 & 1 & 1 & 4 & -0.7563538 & 0.11420370\\\\\n",
       "\t5 & 3 & placebo & 11 & 30 & 0 & 2 & 1 & -0.7563538 & 0.08141387\\\\\n",
       "\t6 & 5 & placebo & 11 & 30 & 0 & 2 & 2 & -0.7563538 & 0.08141387\\\\\n",
       "\\end{tabular}\n"
      ],
      "text/markdown": [
       "\n",
       "A data.frame: 6 × 9\n",
       "\n",
       "| <!--/--> | y &lt;int&gt; | trt &lt;fct&gt; | base &lt;int&gt; | age &lt;int&gt; | V4 &lt;int&gt; | subject &lt;int&gt; | period &lt;int&gt; | lbase &lt;dbl&gt; | lage &lt;dbl&gt; |\n",
       "|---|---|---|---|---|---|---|---|---|---|\n",
       "| 1 | 5 | placebo | 11 | 31 | 0 | 1 | 1 | -0.7563538 | 0.11420370 |\n",
       "| 2 | 3 | placebo | 11 | 31 | 0 | 1 | 2 | -0.7563538 | 0.11420370 |\n",
       "| 3 | 3 | placebo | 11 | 31 | 0 | 1 | 3 | -0.7563538 | 0.11420370 |\n",
       "| 4 | 3 | placebo | 11 | 31 | 1 | 1 | 4 | -0.7563538 | 0.11420370 |\n",
       "| 5 | 3 | placebo | 11 | 30 | 0 | 2 | 1 | -0.7563538 | 0.08141387 |\n",
       "| 6 | 5 | placebo | 11 | 30 | 0 | 2 | 2 | -0.7563538 | 0.08141387 |\n",
       "\n"
      ],
      "text/plain": [
       "  y trt     base age V4 subject period lbase      lage      \n",
       "1 5 placebo 11   31  0  1       1      -0.7563538 0.11420370\n",
       "2 3 placebo 11   31  0  1       2      -0.7563538 0.11420370\n",
       "3 3 placebo 11   31  0  1       3      -0.7563538 0.11420370\n",
       "4 3 placebo 11   31  1  1       4      -0.7563538 0.11420370\n",
       "5 3 placebo 11   30  0  2       1      -0.7563538 0.08141387\n",
       "6 5 placebo 11   30  0  2       2      -0.7563538 0.08141387"
      ]
     },
     "metadata": {},
     "output_type": "display_data"
    },
    {
     "data": {
      "text/html": [
       "<table class=\"dataframe\">\n",
       "<caption>A data.frame: 6 × 3</caption>\n",
       "<thead>\n",
       "\t<tr><th></th><th scope=col>age</th><th scope=col>trt</th><th scope=col>y</th></tr>\n",
       "\t<tr><th></th><th scope=col>&lt;int&gt;</th><th scope=col>&lt;fct&gt;</th><th scope=col>&lt;int&gt;</th></tr>\n",
       "</thead>\n",
       "<tbody>\n",
       "\t<tr><th scope=row>1</th><td>31</td><td>placebo</td><td>5</td></tr>\n",
       "\t<tr><th scope=row>2</th><td>31</td><td>placebo</td><td>3</td></tr>\n",
       "\t<tr><th scope=row>3</th><td>31</td><td>placebo</td><td>3</td></tr>\n",
       "\t<tr><th scope=row>4</th><td>31</td><td>placebo</td><td>3</td></tr>\n",
       "\t<tr><th scope=row>5</th><td>30</td><td>placebo</td><td>3</td></tr>\n",
       "\t<tr><th scope=row>6</th><td>30</td><td>placebo</td><td>5</td></tr>\n",
       "</tbody>\n",
       "</table>\n"
      ],
      "text/latex": [
       "A data.frame: 6 × 3\n",
       "\\begin{tabular}{r|lll}\n",
       "  & age & trt & y\\\\\n",
       "  & <int> & <fct> & <int>\\\\\n",
       "\\hline\n",
       "\t1 & 31 & placebo & 5\\\\\n",
       "\t2 & 31 & placebo & 3\\\\\n",
       "\t3 & 31 & placebo & 3\\\\\n",
       "\t4 & 31 & placebo & 3\\\\\n",
       "\t5 & 30 & placebo & 3\\\\\n",
       "\t6 & 30 & placebo & 5\\\\\n",
       "\\end{tabular}\n"
      ],
      "text/markdown": [
       "\n",
       "A data.frame: 6 × 3\n",
       "\n",
       "| <!--/--> | age &lt;int&gt; | trt &lt;fct&gt; | y &lt;int&gt; |\n",
       "|---|---|---|---|\n",
       "| 1 | 31 | placebo | 5 |\n",
       "| 2 | 31 | placebo | 3 |\n",
       "| 3 | 31 | placebo | 3 |\n",
       "| 4 | 31 | placebo | 3 |\n",
       "| 5 | 30 | placebo | 3 |\n",
       "| 6 | 30 | placebo | 5 |\n",
       "\n"
      ],
      "text/plain": [
       "  age trt     y\n",
       "1 31  placebo 5\n",
       "2 31  placebo 3\n",
       "3 31  placebo 3\n",
       "4 31  placebo 3\n",
       "5 30  placebo 3\n",
       "6 30  placebo 5"
      ]
     },
     "metadata": {},
     "output_type": "display_data"
    }
   ],
   "source": [
    "# X: the age of the patient (age) and the treatment (trt).\n",
    "# Y : number of seizures\n",
    "head(epil)\n",
    "df <- data.frame(age = epil$age, trt = epil$trt, y = epil$y)\n",
    "head(df)"
   ]
  },
  {
   "cell_type": "markdown",
   "metadata": {},
   "source": [
    "### part a\n",
    "\n",
    "Fit a Poisson regression with glm."
   ]
  },
  {
   "cell_type": "code",
   "execution_count": 71,
   "metadata": {
    "vscode": {
     "languageId": "r"
    }
   },
   "outputs": [
    {
     "data": {
      "text/html": [
       "<style>\n",
       ".list-inline {list-style: none; margin:0; padding: 0}\n",
       ".list-inline>li {display: inline-block}\n",
       ".list-inline>li:not(:last-child)::after {content: \"\\00b7\"; padding: 0 .5ex}\n",
       "</style>\n",
       "<ol class=list-inline><li>placebo</li><li>progabide</li></ol>\n",
       "\n",
       "<details>\n",
       "\t<summary style=display:list-item;cursor:pointer>\n",
       "\t\t<strong>Levels</strong>:\n",
       "\t</summary>\n",
       "\t<style>\n",
       "\t.list-inline {list-style: none; margin:0; padding: 0}\n",
       "\t.list-inline>li {display: inline-block}\n",
       "\t.list-inline>li:not(:last-child)::after {content: \"\\00b7\"; padding: 0 .5ex}\n",
       "\t</style>\n",
       "\t<ol class=list-inline><li>'placebo'</li><li>'progabide'</li></ol>\n",
       "</details>"
      ],
      "text/latex": [
       "\\begin{enumerate*}\n",
       "\\item placebo\n",
       "\\item progabide\n",
       "\\end{enumerate*}\n",
       "\n",
       "\\emph{Levels}: \\begin{enumerate*}\n",
       "\\item 'placebo'\n",
       "\\item 'progabide'\n",
       "\\end{enumerate*}\n"
      ],
      "text/markdown": [
       "1. placebo\n",
       "2. progabide\n",
       "\n",
       "\n",
       "\n",
       "**Levels**: 1. 'placebo'\n",
       "2. 'progabide'\n",
       "\n",
       "\n"
      ],
      "text/plain": [
       "[1] placebo   progabide\n",
       "Levels: placebo progabide"
      ]
     },
     "metadata": {},
     "output_type": "display_data"
    },
    {
     "data": {
      "text/html": [
       "<table class=\"dataframe\">\n",
       "<caption>A data.frame: 6 × 3</caption>\n",
       "<thead>\n",
       "\t<tr><th></th><th scope=col>age</th><th scope=col>trt</th><th scope=col>y</th></tr>\n",
       "\t<tr><th></th><th scope=col>&lt;int&gt;</th><th scope=col>&lt;dbl&gt;</th><th scope=col>&lt;int&gt;</th></tr>\n",
       "</thead>\n",
       "<tbody>\n",
       "\t<tr><th scope=row>1</th><td>31</td><td>0</td><td>5</td></tr>\n",
       "\t<tr><th scope=row>2</th><td>31</td><td>0</td><td>3</td></tr>\n",
       "\t<tr><th scope=row>3</th><td>31</td><td>0</td><td>3</td></tr>\n",
       "\t<tr><th scope=row>4</th><td>31</td><td>0</td><td>3</td></tr>\n",
       "\t<tr><th scope=row>5</th><td>30</td><td>0</td><td>3</td></tr>\n",
       "\t<tr><th scope=row>6</th><td>30</td><td>0</td><td>5</td></tr>\n",
       "</tbody>\n",
       "</table>\n"
      ],
      "text/latex": [
       "A data.frame: 6 × 3\n",
       "\\begin{tabular}{r|lll}\n",
       "  & age & trt & y\\\\\n",
       "  & <int> & <dbl> & <int>\\\\\n",
       "\\hline\n",
       "\t1 & 31 & 0 & 5\\\\\n",
       "\t2 & 31 & 0 & 3\\\\\n",
       "\t3 & 31 & 0 & 3\\\\\n",
       "\t4 & 31 & 0 & 3\\\\\n",
       "\t5 & 30 & 0 & 3\\\\\n",
       "\t6 & 30 & 0 & 5\\\\\n",
       "\\end{tabular}\n"
      ],
      "text/markdown": [
       "\n",
       "A data.frame: 6 × 3\n",
       "\n",
       "| <!--/--> | age &lt;int&gt; | trt &lt;dbl&gt; | y &lt;int&gt; |\n",
       "|---|---|---|---|\n",
       "| 1 | 31 | 0 | 5 |\n",
       "| 2 | 31 | 0 | 3 |\n",
       "| 3 | 31 | 0 | 3 |\n",
       "| 4 | 31 | 0 | 3 |\n",
       "| 5 | 30 | 0 | 3 |\n",
       "| 6 | 30 | 0 | 5 |\n",
       "\n"
      ],
      "text/plain": [
       "  age trt y\n",
       "1 31  0   5\n",
       "2 31  0   3\n",
       "3 31  0   3\n",
       "4 31  0   3\n",
       "5 30  0   3\n",
       "6 30  0   5"
      ]
     },
     "metadata": {},
     "output_type": "display_data"
    }
   ],
   "source": [
    "# find how many unique value in trt\n",
    "unique(df$trt)\n",
    "# convert the trt into 1 and 0\n",
    "df$trt <- ifelse(df$trt == \"placebo\", 0, 1)\n",
    "head(df)"
   ]
  },
  {
   "cell_type": "code",
   "execution_count": 76,
   "metadata": {
    "vscode": {
     "languageId": "r"
    }
   },
   "outputs": [
    {
     "data": {
      "text/html": [
       "<style>\n",
       ".dl-inline {width: auto; margin:0; padding: 0}\n",
       ".dl-inline>dt, .dl-inline>dd {float: none; width: auto; display: inline-block}\n",
       ".dl-inline>dt::after {content: \":\\0020\"; padding-right: .5ex}\n",
       ".dl-inline>dt:not(:first-of-type) {padding-left: .5ex}\n",
       "</style><dl class=dl-inline><dt>(Intercept)</dt><dd>2.53303136562063</dd><dt>age</dt><dd>-0.0133314736907041</dd><dt>trtprogabide</dt><dd>-0.0925137545992156</dd></dl>\n"
      ],
      "text/latex": [
       "\\begin{description*}\n",
       "\\item[(Intercept)] 2.53303136562063\n",
       "\\item[age] -0.0133314736907041\n",
       "\\item[trtprogabide] -0.0925137545992156\n",
       "\\end{description*}\n"
      ],
      "text/markdown": [
       "(Intercept)\n",
       ":   2.53303136562063age\n",
       ":   -0.0133314736907041trtprogabide\n",
       ":   -0.0925137545992156\n",
       "\n"
      ],
      "text/plain": [
       " (Intercept)          age trtprogabide \n",
       "  2.53303137  -0.01333147  -0.09251375 "
      ]
     },
     "metadata": {},
     "output_type": "display_data"
    }
   ],
   "source": [
    "# x contain age and trt\n",
    "df.glm <- glm(y~age+trt, data=epil, family=poisson)\n",
    "coef(df.glm)"
   ]
  },
  {
   "cell_type": "markdown",
   "metadata": {},
   "source": [
    "### part b\n",
    "\n",
    "Are the coeﬃcients signiﬁcant?"
   ]
  },
  {
   "cell_type": "code",
   "execution_count": 77,
   "metadata": {
    "vscode": {
     "languageId": "r"
    }
   },
   "outputs": [
    {
     "data": {
      "text/plain": [
       "\n",
       "Call:\n",
       "glm(formula = y ~ age + trt, family = poisson, data = epil)\n",
       "\n",
       "Deviance Residuals: \n",
       "    Min       1Q   Median       3Q      Max  \n",
       "-4.3628  -2.4087  -1.3791   0.0006  17.8489  \n",
       "\n",
       "Coefficients:\n",
       "              Estimate Std. Error z value Pr(>|z|)    \n",
       "(Intercept)   2.533031   0.110638  22.895  < 2e-16 ***\n",
       "age          -0.013331   0.003708  -3.596 0.000324 ***\n",
       "trtprogabide -0.092514   0.045596  -2.029 0.042460 *  \n",
       "---\n",
       "Signif. codes:  0 '***' 0.001 '**' 0.01 '*' 0.05 '.' 0.1 ' ' 1\n",
       "\n",
       "(Dispersion parameter for poisson family taken to be 1)\n",
       "\n",
       "    Null deviance: 2517.8  on 235  degrees of freedom\n",
       "Residual deviance: 2502.0  on 233  degrees of freedom\n",
       "AIC: 3273.9\n",
       "\n",
       "Number of Fisher Scoring iterations: 6\n"
      ]
     },
     "metadata": {},
     "output_type": "display_data"
    }
   ],
   "source": [
    "summary(df.glm)"
   ]
  },
  {
   "cell_type": "markdown",
   "metadata": {},
   "source": [
    "Based on the P_value from Pr(>|t|), both \"age\" and \"trt\" are not significant.\n",
    "\n",
    "Only intercept has a significant value."
   ]
  },
  {
   "cell_type": "markdown",
   "metadata": {},
   "source": [
    "### part c\n",
    "\n",
    "What is the 95% conﬁdence interval for the estimates of the coeﬃcients."
   ]
  },
  {
   "cell_type": "code",
   "execution_count": 78,
   "metadata": {
    "vscode": {
     "languageId": "r"
    }
   },
   "outputs": [
    {
     "name": "stderr",
     "output_type": "stream",
     "text": [
      "Waiting for profiling to be done...\n",
      "\n"
     ]
    },
    {
     "data": {
      "text/html": [
       "<table class=\"dataframe\">\n",
       "<caption>A matrix: 3 × 2 of type dbl</caption>\n",
       "<thead>\n",
       "\t<tr><th></th><th scope=col>2.5 %</th><th scope=col>97.5 %</th></tr>\n",
       "</thead>\n",
       "<tbody>\n",
       "\t<tr><th scope=row>(Intercept)</th><td> 2.31587948</td><td> 2.749603939</td></tr>\n",
       "\t<tr><th scope=row>age</th><td>-0.02062141</td><td>-0.006086226</td></tr>\n",
       "\t<tr><th scope=row>trtprogabide</th><td>-0.18188033</td><td>-0.003117740</td></tr>\n",
       "</tbody>\n",
       "</table>\n"
      ],
      "text/latex": [
       "A matrix: 3 × 2 of type dbl\n",
       "\\begin{tabular}{r|ll}\n",
       "  & 2.5 \\% & 97.5 \\%\\\\\n",
       "\\hline\n",
       "\t(Intercept) &  2.31587948 &  2.749603939\\\\\n",
       "\tage & -0.02062141 & -0.006086226\\\\\n",
       "\ttrtprogabide & -0.18188033 & -0.003117740\\\\\n",
       "\\end{tabular}\n"
      ],
      "text/markdown": [
       "\n",
       "A matrix: 3 × 2 of type dbl\n",
       "\n",
       "| <!--/--> | 2.5 % | 97.5 % |\n",
       "|---|---|---|\n",
       "| (Intercept) |  2.31587948 |  2.749603939 |\n",
       "| age | -0.02062141 | -0.006086226 |\n",
       "| trtprogabide | -0.18188033 | -0.003117740 |\n",
       "\n"
      ],
      "text/plain": [
       "             2.5 %       97.5 %      \n",
       "(Intercept)   2.31587948  2.749603939\n",
       "age          -0.02062141 -0.006086226\n",
       "trtprogabide -0.18188033 -0.003117740"
      ]
     },
     "metadata": {},
     "output_type": "display_data"
    }
   ],
   "source": [
    "confint(df.glm, level=0.95)"
   ]
  },
  {
   "cell_type": "markdown",
   "metadata": {},
   "source": [
    "### part d\n",
    "\n",
    "Does the treatment reduce the frequency of the seizures?"
   ]
  },
  {
   "cell_type": "markdown",
   "metadata": {},
   "source": [
    "Due to the coefficient by trtprogabide is negative, so the treatment reduce the frequency of the seizures\n",
    "\n",
    "The 95% confidence interval for the treatment effect is (-0.18188033, -0.003117740), so there is 95% possibility that the treatment can reduce the frequency of the seizures"
   ]
  },
  {
   "cell_type": "markdown",
   "metadata": {},
   "source": [
    "### part e\n",
    "\n",
    "According to this model, what would be the number of seizures for 20 years old patient with progabide treatment?"
   ]
  },
  {
   "cell_type": "code",
   "execution_count": 85,
   "metadata": {
    "vscode": {
     "languageId": "r"
    }
   },
   "outputs": [
    {
     "name": "stdout",
     "output_type": "stream",
     "text": [
      "the number of seizures for 20 years old patient with progabide treatment is 8.792404"
     ]
    }
   ],
   "source": [
    "# According to this model, what would be the number of seizures for 20 years old patient with progabide treatment?\n",
    "\n",
    "y_pred <- predict(df.glm, newdata=data.frame(age = 20, trt='progabide'), type=\"response\")\n",
    "cat(\"the number of seizures for 20 years old patient with progabide treatment is\", y_pred)"
   ]
  }
 ],
 "metadata": {
  "kernelspec": {
   "display_name": "R",
   "language": "R",
   "name": "ir"
  },
  "language_info": {
   "codemirror_mode": "r",
   "file_extension": ".r",
   "mimetype": "text/x-r-source",
   "name": "R",
   "pygments_lexer": "r",
   "version": "4.2.1"
  },
  "orig_nbformat": 4
 },
 "nbformat": 4,
 "nbformat_minor": 2
}
