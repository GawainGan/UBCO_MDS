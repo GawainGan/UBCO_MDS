{
 "cells": [
  {
   "cell_type": "markdown",
   "metadata": {},
   "source": [
    "### part a\n",
    "write down the design matrix X"
   ]
  },
  {
   "cell_type": "code",
   "execution_count": 59,
   "metadata": {
    "vscode": {
     "languageId": "r"
    }
   },
   "outputs": [
    {
     "data": {
      "text/html": [
       "<table class=\"dataframe\">\n",
       "<caption>A matrix: 6 × 2 of type dbl</caption>\n",
       "<tbody>\n",
       "\t<tr><td>0</td><td>1</td></tr>\n",
       "\t<tr><td>1</td><td>3</td></tr>\n",
       "\t<tr><td>2</td><td>5</td></tr>\n",
       "\t<tr><td>3</td><td>6</td></tr>\n",
       "\t<tr><td>4</td><td>5</td></tr>\n",
       "\t<tr><td>5</td><td>7</td></tr>\n",
       "</tbody>\n",
       "</table>\n"
      ],
      "text/latex": [
       "A matrix: 6 × 2 of type dbl\n",
       "\\begin{tabular}{ll}\n",
       "\t 0 & 1\\\\\n",
       "\t 1 & 3\\\\\n",
       "\t 2 & 5\\\\\n",
       "\t 3 & 6\\\\\n",
       "\t 4 & 5\\\\\n",
       "\t 5 & 7\\\\\n",
       "\\end{tabular}\n"
      ],
      "text/markdown": [
       "\n",
       "A matrix: 6 × 2 of type dbl\n",
       "\n",
       "| 0 | 1 |\n",
       "| 1 | 3 |\n",
       "| 2 | 5 |\n",
       "| 3 | 6 |\n",
       "| 4 | 5 |\n",
       "| 5 | 7 |\n",
       "\n"
      ],
      "text/plain": [
       "     [,1] [,2]\n",
       "[1,] 0    1   \n",
       "[2,] 1    3   \n",
       "[3,] 2    5   \n",
       "[4,] 3    6   \n",
       "[5,] 4    5   \n",
       "[6,] 5    7   "
      ]
     },
     "metadata": {},
     "output_type": "display_data"
    },
    {
     "data": {
      "text/html": [
       "<table class=\"dataframe\">\n",
       "<caption>A matrix: 6 × 2 of type dbl</caption>\n",
       "<thead>\n",
       "\t<tr><th scope=col>X1</th><th scope=col>X</th></tr>\n",
       "</thead>\n",
       "<tbody>\n",
       "\t<tr><td>1</td><td>0</td></tr>\n",
       "\t<tr><td>1</td><td>1</td></tr>\n",
       "\t<tr><td>1</td><td>2</td></tr>\n",
       "\t<tr><td>1</td><td>3</td></tr>\n",
       "\t<tr><td>1</td><td>4</td></tr>\n",
       "\t<tr><td>1</td><td>5</td></tr>\n",
       "</tbody>\n",
       "</table>\n"
      ],
      "text/latex": [
       "A matrix: 6 × 2 of type dbl\n",
       "\\begin{tabular}{ll}\n",
       " X1 & X\\\\\n",
       "\\hline\n",
       "\t 1 & 0\\\\\n",
       "\t 1 & 1\\\\\n",
       "\t 1 & 2\\\\\n",
       "\t 1 & 3\\\\\n",
       "\t 1 & 4\\\\\n",
       "\t 1 & 5\\\\\n",
       "\\end{tabular}\n"
      ],
      "text/markdown": [
       "\n",
       "A matrix: 6 × 2 of type dbl\n",
       "\n",
       "| X1 | X |\n",
       "|---|---|\n",
       "| 1 | 0 |\n",
       "| 1 | 1 |\n",
       "| 1 | 2 |\n",
       "| 1 | 3 |\n",
       "| 1 | 4 |\n",
       "| 1 | 5 |\n",
       "\n"
      ],
      "text/plain": [
       "     X1 X\n",
       "[1,] 1  0\n",
       "[2,] 1  1\n",
       "[3,] 1  2\n",
       "[4,] 1  3\n",
       "[5,] 1  4\n",
       "[6,] 1  5"
      ]
     },
     "metadata": {},
     "output_type": "display_data"
    }
   ],
   "source": [
    "# Use R for this question, but do not use the lm() function.\n",
    "# Suppose (0, 1), (1, 3), (2, 5), (3, 6), (4, 5), (5, 7) are 6 independently observed data points, and a simple regression model (with intercept) is to be ﬁt to these data.\n",
    "\n",
    "\n",
    "# Write down the design matrix X.\n",
    "X = matrix(c(0, 1, 1, 3, 2, 5, 3, 6, 4, 5, 5, 7), nrow = 6, ncol = 2, byrow = TRUE)\n",
    "head(X)\n",
    "n = nrow(X)\n",
    "y <- X[, 2]\n",
    "X <- X[, 1] # remove y\n",
    "\n",
    "X1 <- rep(1, n)\n",
    "X_design_matrix <- cbind(X1, X)\n",
    "head(X_design_matrix)"
   ]
  },
  {
   "cell_type": "markdown",
   "metadata": {},
   "source": [
    "### Part b\n",
    "\n",
    "determine the QR decomposition for X"
   ]
  },
  {
   "cell_type": "code",
   "execution_count": 60,
   "metadata": {
    "vscode": {
     "languageId": "r"
    }
   },
   "outputs": [
    {
     "data": {
      "text/html": [
       "<table class=\"dataframe\">\n",
       "<caption>A matrix: 6 × 6 of type dbl</caption>\n",
       "<tbody>\n",
       "\t<tr><td>-0.4082483</td><td>-0.5976143</td><td>-0.39966534</td><td>-0.3614756</td><td>-0.3232858</td><td>-0.2850961</td></tr>\n",
       "\t<tr><td>-0.4082483</td><td>-0.3585686</td><td>-0.06213786</td><td> 0.1879790</td><td> 0.4380958</td><td> 0.6882127</td></tr>\n",
       "\t<tr><td>-0.4082483</td><td>-0.1195229</td><td> 0.88170280</td><td>-0.1180607</td><td>-0.1178243</td><td>-0.1175878</td></tr>\n",
       "\t<tr><td>-0.4082483</td><td> 0.1195229</td><td>-0.12913187</td><td> 0.8228959</td><td>-0.2250764</td><td>-0.2730487</td></tr>\n",
       "\t<tr><td>-0.4082483</td><td> 0.3585686</td><td>-0.13996653</td><td>-0.2361476</td><td> 0.6676714</td><td>-0.4285096</td></tr>\n",
       "\t<tr><td>-0.4082483</td><td> 0.5976143</td><td>-0.15080120</td><td>-0.2951910</td><td>-0.4395807</td><td> 0.4160295</td></tr>\n",
       "</tbody>\n",
       "</table>\n"
      ],
      "text/latex": [
       "A matrix: 6 × 6 of type dbl\n",
       "\\begin{tabular}{llllll}\n",
       "\t -0.4082483 & -0.5976143 & -0.39966534 & -0.3614756 & -0.3232858 & -0.2850961\\\\\n",
       "\t -0.4082483 & -0.3585686 & -0.06213786 &  0.1879790 &  0.4380958 &  0.6882127\\\\\n",
       "\t -0.4082483 & -0.1195229 &  0.88170280 & -0.1180607 & -0.1178243 & -0.1175878\\\\\n",
       "\t -0.4082483 &  0.1195229 & -0.12913187 &  0.8228959 & -0.2250764 & -0.2730487\\\\\n",
       "\t -0.4082483 &  0.3585686 & -0.13996653 & -0.2361476 &  0.6676714 & -0.4285096\\\\\n",
       "\t -0.4082483 &  0.5976143 & -0.15080120 & -0.2951910 & -0.4395807 &  0.4160295\\\\\n",
       "\\end{tabular}\n"
      ],
      "text/markdown": [
       "\n",
       "A matrix: 6 × 6 of type dbl\n",
       "\n",
       "| -0.4082483 | -0.5976143 | -0.39966534 | -0.3614756 | -0.3232858 | -0.2850961 |\n",
       "| -0.4082483 | -0.3585686 | -0.06213786 |  0.1879790 |  0.4380958 |  0.6882127 |\n",
       "| -0.4082483 | -0.1195229 |  0.88170280 | -0.1180607 | -0.1178243 | -0.1175878 |\n",
       "| -0.4082483 |  0.1195229 | -0.12913187 |  0.8228959 | -0.2250764 | -0.2730487 |\n",
       "| -0.4082483 |  0.3585686 | -0.13996653 | -0.2361476 |  0.6676714 | -0.4285096 |\n",
       "| -0.4082483 |  0.5976143 | -0.15080120 | -0.2951910 | -0.4395807 |  0.4160295 |\n",
       "\n"
      ],
      "text/plain": [
       "     [,1]       [,2]       [,3]        [,4]       [,5]       [,6]      \n",
       "[1,] -0.4082483 -0.5976143 -0.39966534 -0.3614756 -0.3232858 -0.2850961\n",
       "[2,] -0.4082483 -0.3585686 -0.06213786  0.1879790  0.4380958  0.6882127\n",
       "[3,] -0.4082483 -0.1195229  0.88170280 -0.1180607 -0.1178243 -0.1175878\n",
       "[4,] -0.4082483  0.1195229 -0.12913187  0.8228959 -0.2250764 -0.2730487\n",
       "[5,] -0.4082483  0.3585686 -0.13996653 -0.2361476  0.6676714 -0.4285096\n",
       "[6,] -0.4082483  0.5976143 -0.15080120 -0.2951910 -0.4395807  0.4160295"
      ]
     },
     "metadata": {},
     "output_type": "display_data"
    },
    {
     "data": {
      "text/html": [
       "<table class=\"dataframe\">\n",
       "<caption>A matrix: 2 × 2 of type dbl</caption>\n",
       "<thead>\n",
       "\t<tr><th scope=col>X1</th><th scope=col>X</th></tr>\n",
       "</thead>\n",
       "<tbody>\n",
       "\t<tr><td>-2.44949</td><td>-6.123724</td></tr>\n",
       "\t<tr><td> 0.00000</td><td> 4.183300</td></tr>\n",
       "</tbody>\n",
       "</table>\n"
      ],
      "text/latex": [
       "A matrix: 2 × 2 of type dbl\n",
       "\\begin{tabular}{ll}\n",
       " X1 & X\\\\\n",
       "\\hline\n",
       "\t -2.44949 & -6.123724\\\\\n",
       "\t  0.00000 &  4.183300\\\\\n",
       "\\end{tabular}\n"
      ],
      "text/markdown": [
       "\n",
       "A matrix: 2 × 2 of type dbl\n",
       "\n",
       "| X1 | X |\n",
       "|---|---|\n",
       "| -2.44949 | -6.123724 |\n",
       "|  0.00000 |  4.183300 |\n",
       "\n"
      ],
      "text/plain": [
       "     X1       X        \n",
       "[1,] -2.44949 -6.123724\n",
       "[2,]  0.00000  4.183300"
      ]
     },
     "metadata": {},
     "output_type": "display_data"
    }
   ],
   "source": [
    "# Determine the QR decomposition for X.\n",
    "QR <- qr(X_design_matrix)\n",
    "# QR\n",
    "\n",
    "Q <- qr.Q(QR, complete = TRUE)\n",
    "R <- qr.R(QR)\n",
    "Q\n",
    "R"
   ]
  },
  {
   "cell_type": "markdown",
   "metadata": {},
   "source": [
    "# part c\n",
    "\n",
    "Calculate inverse U"
   ]
  },
  {
   "cell_type": "code",
   "execution_count": 61,
   "metadata": {
    "vscode": {
     "languageId": "r"
    }
   },
   "outputs": [
    {
     "data": {
      "text/html": [
       "<table class=\"dataframe\">\n",
       "<caption>A matrix: 6 × 2 of type dbl</caption>\n",
       "<tbody>\n",
       "\t<tr><td>-0.4082483</td><td>-0.5976143</td></tr>\n",
       "\t<tr><td>-0.4082483</td><td>-0.3585686</td></tr>\n",
       "\t<tr><td>-0.4082483</td><td>-0.1195229</td></tr>\n",
       "\t<tr><td>-0.4082483</td><td> 0.1195229</td></tr>\n",
       "\t<tr><td>-0.4082483</td><td> 0.3585686</td></tr>\n",
       "\t<tr><td>-0.4082483</td><td> 0.5976143</td></tr>\n",
       "</tbody>\n",
       "</table>\n"
      ],
      "text/latex": [
       "A matrix: 6 × 2 of type dbl\n",
       "\\begin{tabular}{ll}\n",
       "\t -0.4082483 & -0.5976143\\\\\n",
       "\t -0.4082483 & -0.3585686\\\\\n",
       "\t -0.4082483 & -0.1195229\\\\\n",
       "\t -0.4082483 &  0.1195229\\\\\n",
       "\t -0.4082483 &  0.3585686\\\\\n",
       "\t -0.4082483 &  0.5976143\\\\\n",
       "\\end{tabular}\n"
      ],
      "text/markdown": [
       "\n",
       "A matrix: 6 × 2 of type dbl\n",
       "\n",
       "| -0.4082483 | -0.5976143 |\n",
       "| -0.4082483 | -0.3585686 |\n",
       "| -0.4082483 | -0.1195229 |\n",
       "| -0.4082483 |  0.1195229 |\n",
       "| -0.4082483 |  0.3585686 |\n",
       "| -0.4082483 |  0.5976143 |\n",
       "\n"
      ],
      "text/plain": [
       "     [,1]       [,2]      \n",
       "[1,] -0.4082483 -0.5976143\n",
       "[2,] -0.4082483 -0.3585686\n",
       "[3,] -0.4082483 -0.1195229\n",
       "[4,] -0.4082483  0.1195229\n",
       "[5,] -0.4082483  0.3585686\n",
       "[6,] -0.4082483  0.5976143"
      ]
     },
     "metadata": {},
     "output_type": "display_data"
    },
    {
     "data": {
      "text/html": [
       "<table class=\"dataframe\">\n",
       "<caption>A matrix: 2 × 2 of type dbl</caption>\n",
       "<tbody>\n",
       "\t<tr><th scope=row>X1</th><td>-0.4082483</td><td>-0.5976143</td></tr>\n",
       "\t<tr><th scope=row>X</th><td> 0.0000000</td><td> 0.2390457</td></tr>\n",
       "</tbody>\n",
       "</table>\n"
      ],
      "text/latex": [
       "A matrix: 2 × 2 of type dbl\n",
       "\\begin{tabular}{r|ll}\n",
       "\tX1 & -0.4082483 & -0.5976143\\\\\n",
       "\tX &  0.0000000 &  0.2390457\\\\\n",
       "\\end{tabular}\n"
      ],
      "text/markdown": [
       "\n",
       "A matrix: 2 × 2 of type dbl\n",
       "\n",
       "| X1 | -0.4082483 | -0.5976143 |\n",
       "| X |  0.0000000 |  0.2390457 |\n",
       "\n"
      ],
      "text/plain": [
       "   [,1]       [,2]      \n",
       "X1 -0.4082483 -0.5976143\n",
       "X   0.0000000  0.2390457"
      ]
     },
     "metadata": {},
     "output_type": "display_data"
    }
   ],
   "source": [
    "p <- 2  # number of columns in X -> 2\n",
    "Q1 <- Q[, 1:p]\n",
    "Q1\n",
    "# y <- X[, 1] # 这里改成X的第二列是y\n",
    "Q1y <- t(Q1)%*%y\n",
    "U <- qr.R(QR)\n",
    "inverse <- solve(U)\n",
    "inverse\n"
   ]
  },
  {
   "cell_type": "markdown",
   "metadata": {},
   "source": [
    "### part d \n",
    "\n",
    "slope and intercept estimate"
   ]
  },
  {
   "cell_type": "code",
   "execution_count": 62,
   "metadata": {
    "vscode": {
     "languageId": "r"
    }
   },
   "outputs": [
    {
     "data": {
      "text/html": [
       "<table class=\"dataframe\">\n",
       "<caption>A matrix: 2 × 1 of type dbl</caption>\n",
       "<tbody>\n",
       "\t<tr><th scope=row>X1</th><td>1.857143</td></tr>\n",
       "\t<tr><th scope=row>X</th><td>1.057143</td></tr>\n",
       "</tbody>\n",
       "</table>\n"
      ],
      "text/latex": [
       "A matrix: 2 × 1 of type dbl\n",
       "\\begin{tabular}{r|l}\n",
       "\tX1 & 1.857143\\\\\n",
       "\tX & 1.057143\\\\\n",
       "\\end{tabular}\n"
      ],
      "text/markdown": [
       "\n",
       "A matrix: 2 × 1 of type dbl\n",
       "\n",
       "| X1 | 1.857143 |\n",
       "| X | 1.057143 |\n",
       "\n"
      ],
      "text/plain": [
       "   [,1]    \n",
       "X1 1.857143\n",
       "X  1.057143"
      ]
     },
     "metadata": {},
     "output_type": "display_data"
    }
   ],
   "source": [
    "betahat <- solve(U, Q1y)\n",
    "betahat"
   ]
  },
  {
   "cell_type": "markdown",
   "metadata": {},
   "source": [
    "### part e\n",
    "\n",
    "determine the residual sum of square"
   ]
  },
  {
   "cell_type": "code",
   "execution_count": 65,
   "metadata": {
    "vscode": {
     "languageId": "r"
    }
   },
   "outputs": [
    {
     "data": {
      "text/html": [
       "<table class=\"dataframe\">\n",
       "<caption>A matrix: 6 × 4 of type dbl</caption>\n",
       "<tbody>\n",
       "\t<tr><td>-0.39966534</td><td>-0.3614756</td><td>-0.3232858</td><td>-0.2850961</td></tr>\n",
       "\t<tr><td>-0.06213786</td><td> 0.1879790</td><td> 0.4380958</td><td> 0.6882127</td></tr>\n",
       "\t<tr><td> 0.88170280</td><td>-0.1180607</td><td>-0.1178243</td><td>-0.1175878</td></tr>\n",
       "\t<tr><td>-0.12913187</td><td> 0.8228959</td><td>-0.2250764</td><td>-0.2730487</td></tr>\n",
       "\t<tr><td>-0.13996653</td><td>-0.2361476</td><td> 0.6676714</td><td>-0.4285096</td></tr>\n",
       "\t<tr><td>-0.15080120</td><td>-0.2951910</td><td>-0.4395807</td><td> 0.4160295</td></tr>\n",
       "</tbody>\n",
       "</table>\n"
      ],
      "text/latex": [
       "A matrix: 6 × 4 of type dbl\n",
       "\\begin{tabular}{llll}\n",
       "\t -0.39966534 & -0.3614756 & -0.3232858 & -0.2850961\\\\\n",
       "\t -0.06213786 &  0.1879790 &  0.4380958 &  0.6882127\\\\\n",
       "\t  0.88170280 & -0.1180607 & -0.1178243 & -0.1175878\\\\\n",
       "\t -0.12913187 &  0.8228959 & -0.2250764 & -0.2730487\\\\\n",
       "\t -0.13996653 & -0.2361476 &  0.6676714 & -0.4285096\\\\\n",
       "\t -0.15080120 & -0.2951910 & -0.4395807 &  0.4160295\\\\\n",
       "\\end{tabular}\n"
      ],
      "text/markdown": [
       "\n",
       "A matrix: 6 × 4 of type dbl\n",
       "\n",
       "| -0.39966534 | -0.3614756 | -0.3232858 | -0.2850961 |\n",
       "| -0.06213786 |  0.1879790 |  0.4380958 |  0.6882127 |\n",
       "|  0.88170280 | -0.1180607 | -0.1178243 | -0.1175878 |\n",
       "| -0.12913187 |  0.8228959 | -0.2250764 | -0.2730487 |\n",
       "| -0.13996653 | -0.2361476 |  0.6676714 | -0.4285096 |\n",
       "| -0.15080120 | -0.2951910 | -0.4395807 |  0.4160295 |\n",
       "\n"
      ],
      "text/plain": [
       "     [,1]        [,2]       [,3]       [,4]      \n",
       "[1,] -0.39966534 -0.3614756 -0.3232858 -0.2850961\n",
       "[2,] -0.06213786  0.1879790  0.4380958  0.6882127\n",
       "[3,]  0.88170280 -0.1180607 -0.1178243 -0.1175878\n",
       "[4,] -0.12913187  0.8228959 -0.2250764 -0.2730487\n",
       "[5,] -0.13996653 -0.2361476  0.6676714 -0.4285096\n",
       "[6,] -0.15080120 -0.2951910 -0.4395807  0.4160295"
      ]
     },
     "metadata": {},
     "output_type": "display_data"
    },
    {
     "data": {
      "text/html": [
       "<table class=\"dataframe\">\n",
       "<caption>A matrix: 1 × 1 of type dbl</caption>\n",
       "<tbody>\n",
       "\t<tr><td>3.942857</td></tr>\n",
       "</tbody>\n",
       "</table>\n"
      ],
      "text/latex": [
       "A matrix: 1 × 1 of type dbl\n",
       "\\begin{tabular}{l}\n",
       "\t 3.942857\\\\\n",
       "\\end{tabular}\n"
      ],
      "text/markdown": [
       "\n",
       "A matrix: 1 × 1 of type dbl\n",
       "\n",
       "| 3.942857 |\n",
       "\n"
      ],
      "text/plain": [
       "     [,1]    \n",
       "[1,] 3.942857"
      ]
     },
     "metadata": {},
     "output_type": "display_data"
    }
   ],
   "source": [
    "Q2 <- Q[, -(1:p)]\n",
    "Q2\n",
    "Q2y <- t(Q2)%*%y\n",
    "\n",
    "SSE <- t(Q2y)%*%Q2y\n",
    "SSE"
   ]
  },
  {
   "cell_type": "markdown",
   "metadata": {},
   "source": [
    "### part f\n",
    "\n",
    "estimate the error variance"
   ]
  },
  {
   "cell_type": "code",
   "execution_count": 66,
   "metadata": {
    "vscode": {
     "languageId": "r"
    }
   },
   "outputs": [
    {
     "data": {
      "text/html": [
       "<table class=\"dataframe\">\n",
       "<caption>A matrix: 1 × 1 of type dbl</caption>\n",
       "<tbody>\n",
       "\t<tr><td>0.9857143</td></tr>\n",
       "</tbody>\n",
       "</table>\n"
      ],
      "text/latex": [
       "A matrix: 1 × 1 of type dbl\n",
       "\\begin{tabular}{l}\n",
       "\t 0.9857143\\\\\n",
       "\\end{tabular}\n"
      ],
      "text/markdown": [
       "\n",
       "A matrix: 1 × 1 of type dbl\n",
       "\n",
       "| 0.9857143 |\n",
       "\n"
      ],
      "text/plain": [
       "     [,1]     \n",
       "[1,] 0.9857143"
      ]
     },
     "metadata": {},
     "output_type": "display_data"
    }
   ],
   "source": [
    "# estimate the error variance\n",
    "MSE <- SSE/(n-p)\n",
    "MSE"
   ]
  },
  {
   "cell_type": "markdown",
   "metadata": {},
   "source": [
    "### part g\n",
    "\n",
    "calculate the test statistic used to determine whether the slope is 0 or not"
   ]
  },
  {
   "cell_type": "code",
   "execution_count": 82,
   "metadata": {
    "vscode": {
     "languageId": "r"
    }
   },
   "outputs": [
    {
     "ename": "ERROR",
     "evalue": "Error in eval(expr, envir, enclos): object 'sigma2hat' not found\n",
     "output_type": "error",
     "traceback": [
      "Error in eval(expr, envir, enclos): object 'sigma2hat' not found\nTraceback:\n"
     ]
    }
   ],
   "source": [
    "# calculate the test statistic used to determine whether the slope is 0 or not\n",
    "\n",
    "\n",
    "Uinv <- solve(U) # inverse of U \n",
    "U.diag <- diag(Uinv%*%t(Uinv)) # diag extracts the diagonal from a matrix \n",
    "T <- betahat/sqrt(sigma2hat * U.diag) \n",
    "T"
   ]
  },
  {
   "cell_type": "code",
   "execution_count": 80,
   "metadata": {
    "vscode": {
     "languageId": "r"
    }
   },
   "outputs": [
    {
     "data": {
      "text/html": [
       "<style>\n",
       ".list-inline {list-style: none; margin:0; padding: 0}\n",
       ".list-inline>li {display: inline-block}\n",
       ".list-inline>li:not(:last-child)::after {content: \"\\00b7\"; padding: 0 .5ex}\n",
       "</style>\n",
       "<ol class=list-inline><li>1</li><li>1</li><li>6</li><li>1.5</li><li>1</li><li>6</li><li>2</li><li>60</li><li>0</li></ol>\n"
      ],
      "text/latex": [
       "\\begin{enumerate*}\n",
       "\\item 1\n",
       "\\item 1\n",
       "\\item 6\n",
       "\\item 1.5\n",
       "\\item 1\n",
       "\\item 6\n",
       "\\item 2\n",
       "\\item 60\n",
       "\\item 0\n",
       "\\end{enumerate*}\n"
      ],
      "text/markdown": [
       "1. 1\n",
       "2. 1\n",
       "3. 6\n",
       "4. 1.5\n",
       "5. 1\n",
       "6. 6\n",
       "7. 2\n",
       "8. 60\n",
       "9. 0\n",
       "\n",
       "\n"
      ],
      "text/plain": [
       "[1]  1.0  1.0  6.0  1.5  1.0  6.0  2.0 60.0  0.0"
      ]
     },
     "metadata": {},
     "output_type": "display_data"
    },
    {
     "data": {
      "text/html": [
       "<style>\n",
       ".list-inline {list-style: none; margin:0; padding: 0}\n",
       ".list-inline>li {display: inline-block}\n",
       ".list-inline>li:not(:last-child)::after {content: \"\\00b7\"; padding: 0 .5ex}\n",
       "</style>\n",
       "<ol class=list-inline><li>1</li><li>1</li><li>1</li><li>6</li><li>1.5</li><li>1</li><li>6</li><li>2</li><li>60</li><li>0</li></ol>\n"
      ],
      "text/latex": [
       "\\begin{enumerate*}\n",
       "\\item 1\n",
       "\\item 1\n",
       "\\item 1\n",
       "\\item 6\n",
       "\\item 1.5\n",
       "\\item 1\n",
       "\\item 6\n",
       "\\item 2\n",
       "\\item 60\n",
       "\\item 0\n",
       "\\end{enumerate*}\n"
      ],
      "text/markdown": [
       "1. 1\n",
       "2. 1\n",
       "3. 1\n",
       "4. 6\n",
       "5. 1.5\n",
       "6. 1\n",
       "7. 6\n",
       "8. 2\n",
       "9. 60\n",
       "10. 0\n",
       "\n",
       "\n"
      ],
      "text/plain": [
       " [1]  1.0  1.0  1.0  6.0  1.5  1.0  6.0  2.0 60.0  0.0"
      ]
     },
     "metadata": {},
     "output_type": "display_data"
    },
    {
     "ename": "ERROR",
     "evalue": "Error in x0 %*% betahat: non-conformable arguments\n",
     "output_type": "error",
     "traceback": [
      "Error in x0 %*% betahat: non-conformable arguments\nTraceback:\n"
     ]
    }
   ],
   "source": [
    "x <- c(1, 1, 6, 1.5, 1, 6, 2, 60, 0)\n",
    "x0 <- c(1, x)\n",
    "x\n",
    "x0\n",
    "x0%*%betahat"
   ]
  },
  {
   "cell_type": "code",
   "execution_count": null,
   "metadata": {
    "vscode": {
     "languageId": "r"
    }
   },
   "outputs": [],
   "source": []
  }
 ],
 "metadata": {
  "kernelspec": {
   "display_name": "R",
   "language": "R",
   "name": "ir"
  },
  "language_info": {
   "codemirror_mode": "r",
   "file_extension": ".r",
   "mimetype": "text/x-r-source",
   "name": "R",
   "pygments_lexer": "r",
   "version": "4.2.1"
  },
  "orig_nbformat": 4
 },
 "nbformat": 4,
 "nbformat_minor": 2
}
