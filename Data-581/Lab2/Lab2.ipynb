{
 "cells": [
  {
   "cell_type": "markdown",
   "metadata": {},
   "source": [
    "# Q1"
   ]
  },
  {
   "cell_type": "markdown",
   "metadata": {},
   "source": [
    "### part a\n",
    "write down the design matrix X"
   ]
  },
  {
   "cell_type": "code",
   "execution_count": null,
   "metadata": {
    "vscode": {
     "languageId": "r"
    }
   },
   "outputs": [],
   "source": [
    "# Use R for this question, but do not use the lm() function.\n",
    "# Suppose (0, 1), (1, 3), (2, 5), (3, 6), (4, 5), (5, 7) are 6 independently observed data points, and a simple regression model (with intercept) is to be ﬁt to these data.\n",
    "\n",
    "\n",
    "# Write down the design matrix X.\n",
    "X = matrix(c(0, 1, 1, 3, 2, 5, 3, 6, 4, 5, 5, 7), nrow = 6, ncol = 2, byrow = TRUE)\n",
    "head(X)\n",
    "n = nrow(X)\n",
    "y <- X[, 2]\n",
    "X <- X[, 1] # remove y\n",
    "\n",
    "X1 <- rep(1, n)\n",
    "X_design_matrix <- cbind(X1, X)\n",
    "head(X_design_matrix)"
   ]
  },
  {
   "cell_type": "markdown",
   "metadata": {},
   "source": [
    "### Part b\n",
    "\n",
    "determine the QR decomposition for X"
   ]
  },
  {
   "cell_type": "code",
   "execution_count": null,
   "metadata": {
    "vscode": {
     "languageId": "r"
    }
   },
   "outputs": [],
   "source": [
    "# Determine the QR decomposition for X.\n",
    "QR <- qr(X_design_matrix)\n",
    "# QR\n",
    "\n",
    "Q <- qr.Q(QR, complete = TRUE)\n",
    "R <- qr.R(QR)\n",
    "Q\n",
    "R"
   ]
  },
  {
   "cell_type": "markdown",
   "metadata": {},
   "source": [
    "### part c\n",
    "\n",
    "Calculate inverse U"
   ]
  },
  {
   "cell_type": "code",
   "execution_count": null,
   "metadata": {
    "vscode": {
     "languageId": "r"
    }
   },
   "outputs": [],
   "source": [
    "p <- 2  # number of columns in X -> 2\n",
    "Q1 <- Q[, 1:p]\n",
    "Q1\n",
    "# y <- X[, 1] # 这里改成X的第二列是y\n",
    "Q1y <- t(Q1)%*%y\n",
    "U <- qr.R(QR)\n",
    "inverse <- solve(U)\n",
    "inverse\n"
   ]
  },
  {
   "cell_type": "markdown",
   "metadata": {},
   "source": [
    "### part d \n",
    "\n",
    "slope and intercept estimate"
   ]
  },
  {
   "cell_type": "code",
   "execution_count": null,
   "metadata": {
    "vscode": {
     "languageId": "r"
    }
   },
   "outputs": [],
   "source": [
    "betahat <- solve(U, Q1y)\n",
    "betahat"
   ]
  },
  {
   "cell_type": "markdown",
   "metadata": {},
   "source": [
    "### part e\n",
    "\n",
    "determine the residual sum of square"
   ]
  },
  {
   "cell_type": "code",
   "execution_count": null,
   "metadata": {
    "vscode": {
     "languageId": "r"
    }
   },
   "outputs": [],
   "source": [
    "Q2 <- Q[, -(1:p)]\n",
    "Q2\n",
    "Q2y <- t(Q2)%*%y\n",
    "\n",
    "SSE <- t(Q2y)%*%Q2y\n",
    "SSE"
   ]
  },
  {
   "cell_type": "markdown",
   "metadata": {},
   "source": [
    "### part f\n",
    "\n",
    "estimate the error variance"
   ]
  },
  {
   "cell_type": "code",
   "execution_count": null,
   "metadata": {
    "vscode": {
     "languageId": "r"
    }
   },
   "outputs": [],
   "source": [
    "# estimate the error variance\n",
    "MSE <- SSE/(n-p)\n",
    "MSE"
   ]
  },
  {
   "cell_type": "markdown",
   "metadata": {},
   "source": [
    "### part g\n",
    "\n",
    "calculate the test statistic used to determine whether the slope is 0 or not"
   ]
  },
  {
   "cell_type": "code",
   "execution_count": null,
   "metadata": {
    "vscode": {
     "languageId": "r"
    }
   },
   "outputs": [],
   "source": [
    "Q2Ty <- QTy[-(1:p)] \n",
    "MSE <- mean(Q2Ty^2) # MSE\n",
    "\n",
    "U_1 <- solve(U) # inverse of U\n",
    "U.diag <- diag(U_1%*%t(U_1))# extracts the diagonal from a matrix\n",
    "T <- betahat/sqrt(MSE * U.diag) \n",
    "T[2] # slope of the 2nd value"
   ]
  },
  {
   "cell_type": "markdown",
   "metadata": {},
   "source": [
    "### part h"
   ]
  },
  {
   "cell_type": "code",
   "execution_count": null,
   "metadata": {
    "vscode": {
     "languageId": "r"
    }
   },
   "outputs": [],
   "source": [
    "# conﬁdence interval\n",
    "Cii <- sqrt(diag(solve(t(U)%*%U))) \n",
    "SEii <- Cii*as.numeric(sqrt(MSE))"
   ]
  },
  {
   "cell_type": "code",
   "execution_count": null,
   "metadata": {
    "vscode": {
     "languageId": "r"
    }
   },
   "outputs": [],
   "source": [
    "# A 95% conﬁdence interval for the slope is\n",
    "betahat[2] + SEii[2]*qt(c(.025, .975), df = n-p)"
   ]
  },
  {
   "cell_type": "markdown",
   "metadata": {},
   "source": [
    "**Answer**\n",
    "\n",
    "Based on the 95% CI, we can tell that there are 95% possibility that the slope is lying in the range of (0.39820328100234, 1.71608243328337). \n",
    "\n",
    "It CI does not contain the 0, which means we can reject the nul hypothesis(slope = 0)."
   ]
  },
  {
   "cell_type": "markdown",
   "metadata": {},
   "source": [
    "# Q2"
   ]
  },
  {
   "cell_type": "markdown",
   "metadata": {},
   "source": [
    "The p13.2 data frame in the MPV package has 20 observations on home ownership as it relates to family income. Fit a logistic regression model to the data and use the output to"
   ]
  },
  {
   "cell_type": "code",
   "execution_count": null,
   "metadata": {
    "vscode": {
     "languageId": "r"
    }
   },
   "outputs": [],
   "source": [
    "library(MPV)\n",
    "head(p13.2)\n",
    "# X: family income\n",
    "# Y: home ownership"
   ]
  },
  {
   "cell_type": "code",
   "execution_count": null,
   "metadata": {
    "vscode": {
     "languageId": "r"
    }
   },
   "outputs": [],
   "source": [
    "nrow(p13.2)"
   ]
  },
  {
   "cell_type": "markdown",
   "metadata": {},
   "source": [
    "### part a\n",
    "\n",
    "identify the logit of the probability of home ownership as a linear function of family income."
   ]
  },
  {
   "cell_type": "code",
   "execution_count": null,
   "metadata": {
    "vscode": {
     "languageId": "r"
    }
   },
   "outputs": [],
   "source": [
    "p13.2.glm <- glm(y~x, data = p13.2, family = binomial)\n",
    "coef(p13.2.glm)"
   ]
  },
  {
   "cell_type": "markdown",
   "metadata": {},
   "source": [
    "### part b\n",
    "\n",
    "determine if the logistic model is reasonable."
   ]
  },
  {
   "cell_type": "code",
   "execution_count": null,
   "metadata": {
    "vscode": {
     "languageId": "r"
    }
   },
   "outputs": [],
   "source": [
    "min(p13.2$x)\n",
    "max(p13.2$x)"
   ]
  },
  {
   "cell_type": "code",
   "execution_count": null,
   "metadata": {
    "vscode": {
     "languageId": "r"
    }
   },
   "outputs": [],
   "source": [
    "plot(y~x, data = p13.2, col=ifelse(p13.2$y==1, \"red\", \"blue\"), xlab=\"Family Income\", ylab=\"Home Ownership\", pch=20, cex=1.5)\n",
    "xpoints <- seq(38000, 54000, length=401)\n",
    "ypredict <- predict(p13.2.glm, newdata=data.frame(x = xpoints), type=\"response\")\n",
    "lines(xpoints, ypredict)"
   ]
  },
  {
   "cell_type": "markdown",
   "metadata": {},
   "source": [
    "The curve seems to predict low probability of owning a home at low values of income and higher probability at high values of income."
   ]
  },
  {
   "cell_type": "markdown",
   "metadata": {},
   "source": [
    "### part c\n",
    "\n",
    "estimate the probability that a family with an income of $40000 owns their home."
   ]
  },
  {
   "cell_type": "code",
   "execution_count": null,
   "metadata": {
    "vscode": {
     "languageId": "r"
    }
   },
   "outputs": [],
   "source": [
    "y_pred <- predict(p13.2.glm, newdata=data.frame(x = 40000), type=\"response\")\n",
    "cat(\"There is a\", y_pred*100, \"% chance that a family with an income of $40,000 will own a home.\")"
   ]
  },
  {
   "cell_type": "markdown",
   "metadata": {},
   "source": [
    "# Q3"
   ]
  },
  {
   "cell_type": "markdown",
   "metadata": {},
   "source": [
    "Inspect the dependency of the number of seizures ( y ) in the age of the patient (age) and the treatment (trt)."
   ]
  },
  {
   "cell_type": "code",
   "execution_count": null,
   "metadata": {
    "vscode": {
     "languageId": "r"
    }
   },
   "outputs": [],
   "source": [
    "# ? MASS::epil\n",
    "library(MASS)"
   ]
  },
  {
   "cell_type": "code",
   "execution_count": 43,
   "metadata": {
    "vscode": {
     "languageId": "r"
    }
   },
   "outputs": [
    {
     "data": {
      "text/html": [
       "<table class=\"dataframe\">\n",
       "<caption>A data.frame: 6 × 9</caption>\n",
       "<thead>\n",
       "\t<tr><th></th><th scope=col>y</th><th scope=col>trt</th><th scope=col>base</th><th scope=col>age</th><th scope=col>V4</th><th scope=col>subject</th><th scope=col>period</th><th scope=col>lbase</th><th scope=col>lage</th></tr>\n",
       "\t<tr><th></th><th scope=col>&lt;int&gt;</th><th scope=col>&lt;fct&gt;</th><th scope=col>&lt;int&gt;</th><th scope=col>&lt;int&gt;</th><th scope=col>&lt;int&gt;</th><th scope=col>&lt;int&gt;</th><th scope=col>&lt;int&gt;</th><th scope=col>&lt;dbl&gt;</th><th scope=col>&lt;dbl&gt;</th></tr>\n",
       "</thead>\n",
       "<tbody>\n",
       "\t<tr><th scope=row>1</th><td>5</td><td>placebo</td><td>11</td><td>31</td><td>0</td><td>1</td><td>1</td><td>-0.7563538</td><td>0.11420370</td></tr>\n",
       "\t<tr><th scope=row>2</th><td>3</td><td>placebo</td><td>11</td><td>31</td><td>0</td><td>1</td><td>2</td><td>-0.7563538</td><td>0.11420370</td></tr>\n",
       "\t<tr><th scope=row>3</th><td>3</td><td>placebo</td><td>11</td><td>31</td><td>0</td><td>1</td><td>3</td><td>-0.7563538</td><td>0.11420370</td></tr>\n",
       "\t<tr><th scope=row>4</th><td>3</td><td>placebo</td><td>11</td><td>31</td><td>1</td><td>1</td><td>4</td><td>-0.7563538</td><td>0.11420370</td></tr>\n",
       "\t<tr><th scope=row>5</th><td>3</td><td>placebo</td><td>11</td><td>30</td><td>0</td><td>2</td><td>1</td><td>-0.7563538</td><td>0.08141387</td></tr>\n",
       "\t<tr><th scope=row>6</th><td>5</td><td>placebo</td><td>11</td><td>30</td><td>0</td><td>2</td><td>2</td><td>-0.7563538</td><td>0.08141387</td></tr>\n",
       "</tbody>\n",
       "</table>\n"
      ],
      "text/latex": [
       "A data.frame: 6 × 9\n",
       "\\begin{tabular}{r|lllllllll}\n",
       "  & y & trt & base & age & V4 & subject & period & lbase & lage\\\\\n",
       "  & <int> & <fct> & <int> & <int> & <int> & <int> & <int> & <dbl> & <dbl>\\\\\n",
       "\\hline\n",
       "\t1 & 5 & placebo & 11 & 31 & 0 & 1 & 1 & -0.7563538 & 0.11420370\\\\\n",
       "\t2 & 3 & placebo & 11 & 31 & 0 & 1 & 2 & -0.7563538 & 0.11420370\\\\\n",
       "\t3 & 3 & placebo & 11 & 31 & 0 & 1 & 3 & -0.7563538 & 0.11420370\\\\\n",
       "\t4 & 3 & placebo & 11 & 31 & 1 & 1 & 4 & -0.7563538 & 0.11420370\\\\\n",
       "\t5 & 3 & placebo & 11 & 30 & 0 & 2 & 1 & -0.7563538 & 0.08141387\\\\\n",
       "\t6 & 5 & placebo & 11 & 30 & 0 & 2 & 2 & -0.7563538 & 0.08141387\\\\\n",
       "\\end{tabular}\n"
      ],
      "text/markdown": [
       "\n",
       "A data.frame: 6 × 9\n",
       "\n",
       "| <!--/--> | y &lt;int&gt; | trt &lt;fct&gt; | base &lt;int&gt; | age &lt;int&gt; | V4 &lt;int&gt; | subject &lt;int&gt; | period &lt;int&gt; | lbase &lt;dbl&gt; | lage &lt;dbl&gt; |\n",
       "|---|---|---|---|---|---|---|---|---|---|\n",
       "| 1 | 5 | placebo | 11 | 31 | 0 | 1 | 1 | -0.7563538 | 0.11420370 |\n",
       "| 2 | 3 | placebo | 11 | 31 | 0 | 1 | 2 | -0.7563538 | 0.11420370 |\n",
       "| 3 | 3 | placebo | 11 | 31 | 0 | 1 | 3 | -0.7563538 | 0.11420370 |\n",
       "| 4 | 3 | placebo | 11 | 31 | 1 | 1 | 4 | -0.7563538 | 0.11420370 |\n",
       "| 5 | 3 | placebo | 11 | 30 | 0 | 2 | 1 | -0.7563538 | 0.08141387 |\n",
       "| 6 | 5 | placebo | 11 | 30 | 0 | 2 | 2 | -0.7563538 | 0.08141387 |\n",
       "\n"
      ],
      "text/plain": [
       "  y trt     base age V4 subject period lbase      lage      \n",
       "1 5 placebo 11   31  0  1       1      -0.7563538 0.11420370\n",
       "2 3 placebo 11   31  0  1       2      -0.7563538 0.11420370\n",
       "3 3 placebo 11   31  0  1       3      -0.7563538 0.11420370\n",
       "4 3 placebo 11   31  1  1       4      -0.7563538 0.11420370\n",
       "5 3 placebo 11   30  0  2       1      -0.7563538 0.08141387\n",
       "6 5 placebo 11   30  0  2       2      -0.7563538 0.08141387"
      ]
     },
     "metadata": {},
     "output_type": "display_data"
    },
    {
     "data": {
      "text/html": [
       "<table class=\"dataframe\">\n",
       "<caption>A data.frame: 6 × 3</caption>\n",
       "<thead>\n",
       "\t<tr><th></th><th scope=col>age</th><th scope=col>trt</th><th scope=col>y</th></tr>\n",
       "\t<tr><th></th><th scope=col>&lt;int&gt;</th><th scope=col>&lt;fct&gt;</th><th scope=col>&lt;int&gt;</th></tr>\n",
       "</thead>\n",
       "<tbody>\n",
       "\t<tr><th scope=row>1</th><td>31</td><td>placebo</td><td>5</td></tr>\n",
       "\t<tr><th scope=row>2</th><td>31</td><td>placebo</td><td>3</td></tr>\n",
       "\t<tr><th scope=row>3</th><td>31</td><td>placebo</td><td>3</td></tr>\n",
       "\t<tr><th scope=row>4</th><td>31</td><td>placebo</td><td>3</td></tr>\n",
       "\t<tr><th scope=row>5</th><td>30</td><td>placebo</td><td>3</td></tr>\n",
       "\t<tr><th scope=row>6</th><td>30</td><td>placebo</td><td>5</td></tr>\n",
       "</tbody>\n",
       "</table>\n"
      ],
      "text/latex": [
       "A data.frame: 6 × 3\n",
       "\\begin{tabular}{r|lll}\n",
       "  & age & trt & y\\\\\n",
       "  & <int> & <fct> & <int>\\\\\n",
       "\\hline\n",
       "\t1 & 31 & placebo & 5\\\\\n",
       "\t2 & 31 & placebo & 3\\\\\n",
       "\t3 & 31 & placebo & 3\\\\\n",
       "\t4 & 31 & placebo & 3\\\\\n",
       "\t5 & 30 & placebo & 3\\\\\n",
       "\t6 & 30 & placebo & 5\\\\\n",
       "\\end{tabular}\n"
      ],
      "text/markdown": [
       "\n",
       "A data.frame: 6 × 3\n",
       "\n",
       "| <!--/--> | age &lt;int&gt; | trt &lt;fct&gt; | y &lt;int&gt; |\n",
       "|---|---|---|---|\n",
       "| 1 | 31 | placebo | 5 |\n",
       "| 2 | 31 | placebo | 3 |\n",
       "| 3 | 31 | placebo | 3 |\n",
       "| 4 | 31 | placebo | 3 |\n",
       "| 5 | 30 | placebo | 3 |\n",
       "| 6 | 30 | placebo | 5 |\n",
       "\n"
      ],
      "text/plain": [
       "  age trt     y\n",
       "1 31  placebo 5\n",
       "2 31  placebo 3\n",
       "3 31  placebo 3\n",
       "4 31  placebo 3\n",
       "5 30  placebo 3\n",
       "6 30  placebo 5"
      ]
     },
     "metadata": {},
     "output_type": "display_data"
    }
   ],
   "source": [
    "# X: the age of the patient (age) and the treatment (trt).\n",
    "# Y : number of seizures\n",
    "head(epil)\n",
    "df <- data.frame(age = epil$age, trt = epil$trt, y = epil$y)\n",
    "head(df)"
   ]
  },
  {
   "cell_type": "markdown",
   "metadata": {},
   "source": [
    "### part a\n",
    "\n",
    "Fit a Poisson regression with glm."
   ]
  },
  {
   "cell_type": "code",
   "execution_count": 47,
   "metadata": {
    "vscode": {
     "languageId": "r"
    }
   },
   "outputs": [
    {
     "data": {
      "text/html": [
       "<style>\n",
       ".list-inline {list-style: none; margin:0; padding: 0}\n",
       ".list-inline>li {display: inline-block}\n",
       ".list-inline>li:not(:last-child)::after {content: \"\\00b7\"; padding: 0 .5ex}\n",
       "</style>\n",
       "<ol class=list-inline><li>placebo</li><li>progabide</li></ol>\n",
       "\n",
       "<details>\n",
       "\t<summary style=display:list-item;cursor:pointer>\n",
       "\t\t<strong>Levels</strong>:\n",
       "\t</summary>\n",
       "\t<style>\n",
       "\t.list-inline {list-style: none; margin:0; padding: 0}\n",
       "\t.list-inline>li {display: inline-block}\n",
       "\t.list-inline>li:not(:last-child)::after {content: \"\\00b7\"; padding: 0 .5ex}\n",
       "\t</style>\n",
       "\t<ol class=list-inline><li>'placebo'</li><li>'progabide'</li></ol>\n",
       "</details>"
      ],
      "text/latex": [
       "\\begin{enumerate*}\n",
       "\\item placebo\n",
       "\\item progabide\n",
       "\\end{enumerate*}\n",
       "\n",
       "\\emph{Levels}: \\begin{enumerate*}\n",
       "\\item 'placebo'\n",
       "\\item 'progabide'\n",
       "\\end{enumerate*}\n"
      ],
      "text/markdown": [
       "1. placebo\n",
       "2. progabide\n",
       "\n",
       "\n",
       "\n",
       "**Levels**: 1. 'placebo'\n",
       "2. 'progabide'\n",
       "\n",
       "\n"
      ],
      "text/plain": [
       "[1] placebo   progabide\n",
       "Levels: placebo progabide"
      ]
     },
     "metadata": {},
     "output_type": "display_data"
    },
    {
     "data": {
      "text/html": [
       "<table class=\"dataframe\">\n",
       "<caption>A data.frame: 6 × 3</caption>\n",
       "<thead>\n",
       "\t<tr><th></th><th scope=col>age</th><th scope=col>trt</th><th scope=col>y</th></tr>\n",
       "\t<tr><th></th><th scope=col>&lt;int&gt;</th><th scope=col>&lt;dbl&gt;</th><th scope=col>&lt;int&gt;</th></tr>\n",
       "</thead>\n",
       "<tbody>\n",
       "\t<tr><th scope=row>1</th><td>31</td><td>0</td><td>5</td></tr>\n",
       "\t<tr><th scope=row>2</th><td>31</td><td>0</td><td>3</td></tr>\n",
       "\t<tr><th scope=row>3</th><td>31</td><td>0</td><td>3</td></tr>\n",
       "\t<tr><th scope=row>4</th><td>31</td><td>0</td><td>3</td></tr>\n",
       "\t<tr><th scope=row>5</th><td>30</td><td>0</td><td>3</td></tr>\n",
       "\t<tr><th scope=row>6</th><td>30</td><td>0</td><td>5</td></tr>\n",
       "</tbody>\n",
       "</table>\n"
      ],
      "text/latex": [
       "A data.frame: 6 × 3\n",
       "\\begin{tabular}{r|lll}\n",
       "  & age & trt & y\\\\\n",
       "  & <int> & <dbl> & <int>\\\\\n",
       "\\hline\n",
       "\t1 & 31 & 0 & 5\\\\\n",
       "\t2 & 31 & 0 & 3\\\\\n",
       "\t3 & 31 & 0 & 3\\\\\n",
       "\t4 & 31 & 0 & 3\\\\\n",
       "\t5 & 30 & 0 & 3\\\\\n",
       "\t6 & 30 & 0 & 5\\\\\n",
       "\\end{tabular}\n"
      ],
      "text/markdown": [
       "\n",
       "A data.frame: 6 × 3\n",
       "\n",
       "| <!--/--> | age &lt;int&gt; | trt &lt;dbl&gt; | y &lt;int&gt; |\n",
       "|---|---|---|---|\n",
       "| 1 | 31 | 0 | 5 |\n",
       "| 2 | 31 | 0 | 3 |\n",
       "| 3 | 31 | 0 | 3 |\n",
       "| 4 | 31 | 0 | 3 |\n",
       "| 5 | 30 | 0 | 3 |\n",
       "| 6 | 30 | 0 | 5 |\n",
       "\n"
      ],
      "text/plain": [
       "  age trt y\n",
       "1 31  0   5\n",
       "2 31  0   3\n",
       "3 31  0   3\n",
       "4 31  0   3\n",
       "5 30  0   3\n",
       "6 30  0   5"
      ]
     },
     "metadata": {},
     "output_type": "display_data"
    }
   ],
   "source": [
    "# find how many unique value in trt\n",
    "unique(df$trt)\n",
    "# convert the trt into 1 and 0\n",
    "df$trt <- ifelse(df$trt == \"placebo\", 0, 1)\n",
    "head(df)"
   ]
  },
  {
   "cell_type": "code",
   "execution_count": 51,
   "metadata": {
    "vscode": {
     "languageId": "r"
    }
   },
   "outputs": [
    {
     "data": {
      "text/html": [
       "<style>\n",
       ".dl-inline {width: auto; margin:0; padding: 0}\n",
       ".dl-inline>dt, .dl-inline>dd {float: none; width: auto; display: inline-block}\n",
       ".dl-inline>dt::after {content: \":\\0020\"; padding-right: .5ex}\n",
       ".dl-inline>dt:not(:first-of-type) {padding-left: .5ex}\n",
       "</style><dl class=dl-inline><dt>(Intercept)</dt><dd>11.7134961677305</dd><dt>age</dt><dd>-0.108039276719772</dd><dt>trt</dt><dd>-0.756600103891694</dd></dl>\n"
      ],
      "text/latex": [
       "\\begin{description*}\n",
       "\\item[(Intercept)] 11.7134961677305\n",
       "\\item[age] -0.108039276719772\n",
       "\\item[trt] -0.756600103891694\n",
       "\\end{description*}\n"
      ],
      "text/markdown": [
       "(Intercept)\n",
       ":   11.7134961677305age\n",
       ":   -0.108039276719772trt\n",
       ":   -0.756600103891694\n",
       "\n"
      ],
      "text/plain": [
       "(Intercept)         age         trt \n",
       " 11.7134962  -0.1080393  -0.7566001 "
      ]
     },
     "metadata": {},
     "output_type": "display_data"
    }
   ],
   "source": [
    "# x contain age and trt\n",
    "df.glm <- glm(y~age+trt, data=df)\n",
    "coef(df.glm)"
   ]
  },
  {
   "cell_type": "markdown",
   "metadata": {},
   "source": [
    "### part b\n",
    "\n",
    "Are the coeﬃcients signiﬁcant?"
   ]
  },
  {
   "cell_type": "code",
   "execution_count": 52,
   "metadata": {
    "vscode": {
     "languageId": "r"
    }
   },
   "outputs": [
    {
     "data": {
      "text/plain": [
       "\n",
       "Call:\n",
       "glm(formula = y ~ age + trt, data = df)\n",
       "\n",
       "Deviance Residuals: \n",
       "   Min      1Q  Median      3Q     Max  \n",
       "-9.445  -5.830  -3.500   0.015  93.420  \n",
       "\n",
       "Coefficients:\n",
       "            Estimate Std. Error t value Pr(>|t|)   \n",
       "(Intercept)  11.7135     3.9364   2.976  0.00323 **\n",
       "age          -0.1080     0.1296  -0.834  0.40538   \n",
       "trt          -0.7566     1.6217  -0.467  0.64126   \n",
       "---\n",
       "Signif. codes:  0 '***' 0.001 '**' 0.01 '*' 0.05 '.' 0.1 ' ' 1\n",
       "\n",
       "(Dispersion parameter for gaussian family taken to be 153.2001)\n",
       "\n",
       "    Null deviance: 35825  on 235  degrees of freedom\n",
       "Residual deviance: 35696  on 233  degrees of freedom\n",
       "AIC: 1862.2\n",
       "\n",
       "Number of Fisher Scoring iterations: 2\n"
      ]
     },
     "metadata": {},
     "output_type": "display_data"
    }
   ],
   "source": [
    "summary(df.glm)"
   ]
  },
  {
   "cell_type": "markdown",
   "metadata": {},
   "source": [
    "Based on the P_value from Pr(>|t|), both \"age\" and \"trt\" are not significant.\n",
    "\n",
    "Only intercept has a significant value."
   ]
  },
  {
   "cell_type": "markdown",
   "metadata": {},
   "source": [
    "### Part c\n",
    "\n",
    "What is the 95% conﬁdence interval for the estimates of the coeﬃcients."
   ]
  },
  {
   "cell_type": "code",
   "execution_count": 53,
   "metadata": {
    "vscode": {
     "languageId": "r"
    }
   },
   "outputs": [
    {
     "name": "stdout",
     "output_type": "stream",
     "text": [
      "Fail to reject the null hypothesis that the means are equal."
     ]
    }
   ],
   "source": [
    "# find 95% confidence interval\n",
    "\n",
    "t_test <- function(x, y, alpha = 0.05) {\n",
    "      n1 <- length(x)\n",
    "      n2 <- length(y)\n",
    "      xbar <- mean(x)\n",
    "      ybar <- mean(y)\n",
    "      s1 <- sd(x)\n",
    "      s2 <- sd(y)\n",
    "      se <- sqrt(s1^2/n1 + s2^2/n2)\n",
    "      t <- (xbar - ybar)/se\n",
    "      df <- n1 + n2 - 2\n",
    "      p <- 2*pt(-abs(t), df)\n",
    "      if (p < alpha) {\n",
    "            cat(\"Reject the null hypothesis that the means are equal.\")\n",
    "      } \n",
    "      else {\n",
    "            cat(\"Fail to reject the null hypothesis that the means are equal.\")\n",
    "      }\n",
    "}\n",
    "t_test(df$age[df$trt == 0], df$age[df$trt == 1])"
   ]
  },
  {
   "cell_type": "code",
   "execution_count": null,
   "metadata": {
    "vscode": {
     "languageId": "r"
    }
   },
   "outputs": [],
   "source": []
  }
 ],
 "metadata": {
  "kernelspec": {
   "display_name": "R",
   "language": "R",
   "name": "ir"
  },
  "language_info": {
   "codemirror_mode": "r",
   "file_extension": ".r",
   "mimetype": "text/x-r-source",
   "name": "R",
   "pygments_lexer": "r",
   "version": "4.2.1"
  },
  "orig_nbformat": 4
 },
 "nbformat": 4,
 "nbformat_minor": 2
}
