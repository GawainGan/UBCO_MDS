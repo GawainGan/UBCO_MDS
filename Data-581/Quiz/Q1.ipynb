{
 "cells": [
  {
   "cell_type": "code",
   "execution_count": 2,
   "metadata": {
    "vscode": {
     "languageId": "r"
    }
   },
   "outputs": [
    {
     "data": {
      "text/html": [
       "<style>\n",
       ".list-inline {list-style: none; margin:0; padding: 0}\n",
       ".list-inline>li {display: inline-block}\n",
       ".list-inline>li:not(:last-child)::after {content: \"\\00b7\"; padding: 0 .5ex}\n",
       "</style>\n",
       "<ol class=list-inline><li>78</li><li>86</li><li>97</li><li>91</li><li>83</li><li>89</li><li>92</li><li>88</li><li>79</li><li>68</li></ol>\n"
      ],
      "text/latex": [
       "\\begin{enumerate*}\n",
       "\\item 78\n",
       "\\item 86\n",
       "\\item 97\n",
       "\\item 91\n",
       "\\item 83\n",
       "\\item 89\n",
       "\\item 92\n",
       "\\item 88\n",
       "\\item 79\n",
       "\\item 68\n",
       "\\end{enumerate*}\n"
      ],
      "text/markdown": [
       "1. 78\n",
       "2. 86\n",
       "3. 97\n",
       "4. 91\n",
       "5. 83\n",
       "6. 89\n",
       "7. 92\n",
       "8. 88\n",
       "9. 79\n",
       "10. 68\n",
       "\n",
       "\n"
      ],
      "text/plain": [
       " [1] 78 86 97 91 83 89 92 88 79 68"
      ]
     },
     "metadata": {},
     "output_type": "display_data"
    }
   ],
   "source": [
    "set.seed(1413)\n",
    "x <- c(78, 86, 97, 91, 83, 89, 92, 88, 79, 68)\n",
    "x"
   ]
  },
  {
   "cell_type": "code",
   "execution_count": 5,
   "metadata": {
    "vscode": {
     "languageId": "r"
    }
   },
   "outputs": [
    {
     "data": {
      "text/plain": [
       "\n",
       "ORDINARY NONPARAMETRIC BOOTSTRAP\n",
       "\n",
       "\n",
       "Call:\n",
       "boot(data = x, statistic = my_mean, R = 1000)\n",
       "\n",
       "\n",
       "Bootstrap Statistics :\n",
       "    original  bias    std. error\n",
       "t1*       86  -0.166    2.776807"
      ]
     },
     "metadata": {},
     "output_type": "display_data"
    }
   ],
   "source": [
    "library(boot)\n",
    "my_mean <- function(x,i) { \n",
    "      mean(x[i], trim=0.2) \n",
    "}\n",
    "boot(x, my_mean, R=1000)"
   ]
  },
  {
   "cell_type": "code",
   "execution_count": 6,
   "metadata": {
    "vscode": {
     "languageId": "r"
    }
   },
   "outputs": [
    {
     "data": {
      "text/plain": [
       "BOOTSTRAP CONFIDENCE INTERVAL CALCULATIONS\n",
       "Based on 1000 bootstrap replicates\n",
       "\n",
       "CALL : \n",
       "boot.ci(boot.out = boot(x, my_mean, R = 1000), conf = 0.9, type = \"perc\")\n",
       "\n",
       "Intervals : \n",
       "Level     Percentile     \n",
       "90%   (81.01, 90.00 )  \n",
       "Calculations and Intervals on Original Scale"
      ]
     },
     "metadata": {},
     "output_type": "display_data"
    }
   ],
   "source": [
    "# 90% CI\n",
    "boot.ci(boot(x, my_mean, R=1000), type=\"perc\", conf=0.90)\n",
    "\n"
   ]
  },
  {
   "cell_type": "code",
   "execution_count": null,
   "metadata": {
    "vscode": {
     "languageId": "r"
    }
   },
   "outputs": [],
   "source": [
    "# if we know the data are from a normal distribution. How does this change the bootstrapping produce?\n",
    "# if we know it's  a normal distribution, when we using bootstrap, we can use the normal distribution to calculate the CI\n",
    "\n",
    "# we can use the t distribution to calculate the CI\n",
    "# t distribution is more accurate than the normal distribution\n",
    "# t distribution is more accurate when the sample size is small\n",
    "# t distribution is more accurate when the population standard deviation is unknown"
   ]
  },
  {
   "cell_type": "markdown",
   "metadata": {},
   "source": [
    "### Q3"
   ]
  },
  {
   "cell_type": "code",
   "execution_count": 8,
   "metadata": {
    "vscode": {
     "languageId": "r"
    }
   },
   "outputs": [],
   "source": [
    "# install.package(\"mlbench\")\n",
    "library(mlbench)\n",
    "data(\"PimaIndiansDiabetes2\", package = \"mlbench\")\n",
    "\n",
    "mydata <- PimaIndiansDiabetes2"
   ]
  },
  {
   "cell_type": "code",
   "execution_count": 10,
   "metadata": {
    "vscode": {
     "languageId": "r"
    }
   },
   "outputs": [
    {
     "data": {
      "text/html": [
       "<table class=\"dataframe\">\n",
       "<caption>A data.frame: 6 × 9</caption>\n",
       "<thead>\n",
       "\t<tr><th></th><th scope=col>pregnant</th><th scope=col>glucose</th><th scope=col>pressure</th><th scope=col>triceps</th><th scope=col>insulin</th><th scope=col>mass</th><th scope=col>pedigree</th><th scope=col>age</th><th scope=col>diabetes</th></tr>\n",
       "\t<tr><th></th><th scope=col>&lt;dbl&gt;</th><th scope=col>&lt;dbl&gt;</th><th scope=col>&lt;dbl&gt;</th><th scope=col>&lt;dbl&gt;</th><th scope=col>&lt;dbl&gt;</th><th scope=col>&lt;dbl&gt;</th><th scope=col>&lt;dbl&gt;</th><th scope=col>&lt;dbl&gt;</th><th scope=col>&lt;fct&gt;</th></tr>\n",
       "</thead>\n",
       "<tbody>\n",
       "\t<tr><th scope=row>1</th><td>6</td><td>148</td><td>72</td><td>35</td><td> NA</td><td>33.6</td><td>0.627</td><td>50</td><td>pos</td></tr>\n",
       "\t<tr><th scope=row>2</th><td>1</td><td> 85</td><td>66</td><td>29</td><td> NA</td><td>26.6</td><td>0.351</td><td>31</td><td>neg</td></tr>\n",
       "\t<tr><th scope=row>3</th><td>8</td><td>183</td><td>64</td><td>NA</td><td> NA</td><td>23.3</td><td>0.672</td><td>32</td><td>pos</td></tr>\n",
       "\t<tr><th scope=row>4</th><td>1</td><td> 89</td><td>66</td><td>23</td><td> 94</td><td>28.1</td><td>0.167</td><td>21</td><td>neg</td></tr>\n",
       "\t<tr><th scope=row>5</th><td>0</td><td>137</td><td>40</td><td>35</td><td>168</td><td>43.1</td><td>2.288</td><td>33</td><td>pos</td></tr>\n",
       "\t<tr><th scope=row>6</th><td>5</td><td>116</td><td>74</td><td>NA</td><td> NA</td><td>25.6</td><td>0.201</td><td>30</td><td>neg</td></tr>\n",
       "</tbody>\n",
       "</table>\n"
      ],
      "text/latex": [
       "A data.frame: 6 × 9\n",
       "\\begin{tabular}{r|lllllllll}\n",
       "  & pregnant & glucose & pressure & triceps & insulin & mass & pedigree & age & diabetes\\\\\n",
       "  & <dbl> & <dbl> & <dbl> & <dbl> & <dbl> & <dbl> & <dbl> & <dbl> & <fct>\\\\\n",
       "\\hline\n",
       "\t1 & 6 & 148 & 72 & 35 &  NA & 33.6 & 0.627 & 50 & pos\\\\\n",
       "\t2 & 1 &  85 & 66 & 29 &  NA & 26.6 & 0.351 & 31 & neg\\\\\n",
       "\t3 & 8 & 183 & 64 & NA &  NA & 23.3 & 0.672 & 32 & pos\\\\\n",
       "\t4 & 1 &  89 & 66 & 23 &  94 & 28.1 & 0.167 & 21 & neg\\\\\n",
       "\t5 & 0 & 137 & 40 & 35 & 168 & 43.1 & 2.288 & 33 & pos\\\\\n",
       "\t6 & 5 & 116 & 74 & NA &  NA & 25.6 & 0.201 & 30 & neg\\\\\n",
       "\\end{tabular}\n"
      ],
      "text/markdown": [
       "\n",
       "A data.frame: 6 × 9\n",
       "\n",
       "| <!--/--> | pregnant &lt;dbl&gt; | glucose &lt;dbl&gt; | pressure &lt;dbl&gt; | triceps &lt;dbl&gt; | insulin &lt;dbl&gt; | mass &lt;dbl&gt; | pedigree &lt;dbl&gt; | age &lt;dbl&gt; | diabetes &lt;fct&gt; |\n",
       "|---|---|---|---|---|---|---|---|---|---|\n",
       "| 1 | 6 | 148 | 72 | 35 |  NA | 33.6 | 0.627 | 50 | pos |\n",
       "| 2 | 1 |  85 | 66 | 29 |  NA | 26.6 | 0.351 | 31 | neg |\n",
       "| 3 | 8 | 183 | 64 | NA |  NA | 23.3 | 0.672 | 32 | pos |\n",
       "| 4 | 1 |  89 | 66 | 23 |  94 | 28.1 | 0.167 | 21 | neg |\n",
       "| 5 | 0 | 137 | 40 | 35 | 168 | 43.1 | 2.288 | 33 | pos |\n",
       "| 6 | 5 | 116 | 74 | NA |  NA | 25.6 | 0.201 | 30 | neg |\n",
       "\n"
      ],
      "text/plain": [
       "  pregnant glucose pressure triceps insulin mass pedigree age diabetes\n",
       "1 6        148     72       35       NA     33.6 0.627    50  pos     \n",
       "2 1         85     66       29       NA     26.6 0.351    31  neg     \n",
       "3 8        183     64       NA       NA     23.3 0.672    32  pos     \n",
       "4 1         89     66       23       94     28.1 0.167    21  neg     \n",
       "5 0        137     40       35      168     43.1 2.288    33  pos     \n",
       "6 5        116     74       NA       NA     25.6 0.201    30  neg     "
      ]
     },
     "metadata": {},
     "output_type": "display_data"
    }
   ],
   "source": [
    "head(mydata)"
   ]
  },
  {
   "cell_type": "code",
   "execution_count": 11,
   "metadata": {
    "vscode": {
     "languageId": "r"
    }
   },
   "outputs": [],
   "source": [
    "y <- mydata$diabetes # y is the response variable\n",
    "x <- mydata[, -9] # x is the predictor variables"
   ]
  },
  {
   "cell_type": "code",
   "execution_count": 15,
   "metadata": {
    "vscode": {
     "languageId": "r"
    }
   },
   "outputs": [
    {
     "data": {
      "text/html": [
       "TRUE"
      ],
      "text/latex": [
       "TRUE"
      ],
      "text/markdown": [
       "TRUE"
      ],
      "text/plain": [
       "[1] TRUE"
      ]
     },
     "metadata": {},
     "output_type": "display_data"
    },
    {
     "data": {
      "text/html": [
       "FALSE"
      ],
      "text/latex": [
       "FALSE"
      ],
      "text/markdown": [
       "FALSE"
      ],
      "text/plain": [
       "[1] FALSE"
      ]
     },
     "metadata": {},
     "output_type": "display_data"
    }
   ],
   "source": [
    "# check if there is any NA value\n",
    "any(is.na(mydata))\n",
    "# remove NA values\n",
    "mydata <- na.omit(mydata)\n",
    "any(is.na(mydata))\n"
   ]
  },
  {
   "cell_type": "code",
   "execution_count": 17,
   "metadata": {
    "vscode": {
     "languageId": "r"
    }
   },
   "outputs": [
    {
     "data": {
      "text/plain": [
       "\n",
       "Call:  glm(formula = diabetes ~ ., family = binomial, data = mydata)\n",
       "\n",
       "Coefficients:\n",
       "(Intercept)     pregnant      glucose     pressure      triceps      insulin  \n",
       " -1.004e+01    8.216e-02    3.827e-02   -1.420e-03    1.122e-02   -8.253e-04  \n",
       "       mass     pedigree          age  \n",
       "  7.054e-02    1.141e+00    3.395e-02  \n",
       "\n",
       "Degrees of Freedom: 391 Total (i.e. Null);  383 Residual\n",
       "Null Deviance:\t    498.1 \n",
       "Residual Deviance: 344 \tAIC: 362"
      ]
     },
     "metadata": {},
     "output_type": "display_data"
    },
    {
     "name": "stdout",
     "output_type": "stream",
     "text": [
      "\n",
      "The coefficient of the gml model:\n"
     ]
    },
    {
     "data": {
      "text/html": [
       "<style>\n",
       ".dl-inline {width: auto; margin:0; padding: 0}\n",
       ".dl-inline>dt, .dl-inline>dd {float: none; width: auto; display: inline-block}\n",
       ".dl-inline>dt::after {content: \":\\0020\"; padding-right: .5ex}\n",
       ".dl-inline>dt:not(:first-of-type) {padding-left: .5ex}\n",
       "</style><dl class=dl-inline><dt>(Intercept)</dt><dd>-10.0407391797622</dd><dt>pregnant</dt><dd>0.0821594218815756</dd><dt>glucose</dt><dd>0.0382695223006247</dd><dt>pressure</dt><dd>-0.00142029018085538</dd><dt>triceps</dt><dd>0.0112213898341394</dd><dt>insulin</dt><dd>-0.000825312785721295</dd><dt>mass</dt><dd>0.0705375826035547</dd><dt>pedigree</dt><dd>1.14090862259484</dd><dt>age</dt><dd>0.0339516232389671</dd></dl>\n"
      ],
      "text/latex": [
       "\\begin{description*}\n",
       "\\item[(Intercept)] -10.0407391797622\n",
       "\\item[pregnant] 0.0821594218815756\n",
       "\\item[glucose] 0.0382695223006247\n",
       "\\item[pressure] -0.00142029018085538\n",
       "\\item[triceps] 0.0112213898341394\n",
       "\\item[insulin] -0.000825312785721295\n",
       "\\item[mass] 0.0705375826035547\n",
       "\\item[pedigree] 1.14090862259484\n",
       "\\item[age] 0.0339516232389671\n",
       "\\end{description*}\n"
      ],
      "text/markdown": [
       "(Intercept)\n",
       ":   -10.0407391797622pregnant\n",
       ":   0.0821594218815756glucose\n",
       ":   0.0382695223006247pressure\n",
       ":   -0.00142029018085538triceps\n",
       ":   0.0112213898341394insulin\n",
       ":   -0.000825312785721295mass\n",
       ":   0.0705375826035547pedigree\n",
       ":   1.14090862259484age\n",
       ":   0.0339516232389671\n",
       "\n"
      ],
      "text/plain": [
       "  (Intercept)      pregnant       glucose      pressure       triceps \n",
       "-1.004074e+01  8.215942e-02  3.826952e-02 -1.420290e-03  1.122139e-02 \n",
       "      insulin          mass      pedigree           age \n",
       "-8.253128e-04  7.053758e-02  1.140909e+00  3.395162e-02 "
      ]
     },
     "metadata": {},
     "output_type": "display_data"
    }
   ],
   "source": [
    "y <- mydata$diabetes\n",
    "x <- mydata[, -9]\n",
    "mydata.glm <- glm(diabetes ~ ., data=mydata, family=binomial)\n",
    "mydata.glm\n",
    "cat(\"\\nThe coefficient of the gml model:\\n\")\n",
    "mydata.glm.coef <- coef(mydata.glm)\n",
    "mydata.glm.coef"
   ]
  },
  {
   "cell_type": "code",
   "execution_count": 19,
   "metadata": {
    "vscode": {
     "languageId": "r"
    }
   },
   "outputs": [
    {
     "data": {
      "text/html": [
       "<strong>glucose:</strong> 0.0382695223006247"
      ],
      "text/latex": [
       "\\textbf{glucose:} 0.0382695223006247"
      ],
      "text/markdown": [
       "**glucose:** 0.0382695223006247"
      ],
      "text/plain": [
       "   glucose \n",
       "0.03826952 "
      ]
     },
     "metadata": {},
     "output_type": "display_data"
    }
   ],
   "source": [
    "# interpre the coefficient for glucose. How does this effect the response variable?\n",
    "# for every unit increase in glucose, the log odds of diabetes increases by 0.0382695223006247\n",
    "coef(mydata.glm)[3]"
   ]
  },
  {
   "cell_type": "code",
   "execution_count": 21,
   "metadata": {
    "vscode": {
     "languageId": "r"
    }
   },
   "outputs": [
    {
     "data": {
      "text/plain": [
       "\n",
       "Call:\n",
       "glm(formula = diabetes ~ ., family = binomial, data = mydata)\n",
       "\n",
       "Deviance Residuals: \n",
       "    Min       1Q   Median       3Q      Max  \n",
       "-2.7823  -0.6603  -0.3642   0.6409   2.5612  \n",
       "\n",
       "Coefficients:\n",
       "              Estimate Std. Error z value Pr(>|z|)    \n",
       "(Intercept) -1.004e+01  1.218e+00  -8.246  < 2e-16 ***\n",
       "pregnant     8.216e-02  5.543e-02   1.482  0.13825    \n",
       "glucose      3.827e-02  5.768e-03   6.635 3.24e-11 ***\n",
       "pressure    -1.420e-03  1.183e-02  -0.120  0.90446    \n",
       "triceps      1.122e-02  1.708e-02   0.657  0.51128    \n",
       "insulin     -8.253e-04  1.306e-03  -0.632  0.52757    \n",
       "mass         7.054e-02  2.734e-02   2.580  0.00989 ** \n",
       "pedigree     1.141e+00  4.274e-01   2.669  0.00760 ** \n",
       "age          3.395e-02  1.838e-02   1.847  0.06474 .  \n",
       "---\n",
       "Signif. codes:  0 '***' 0.001 '**' 0.01 '*' 0.05 '.' 0.1 ' ' 1\n",
       "\n",
       "(Dispersion parameter for binomial family taken to be 1)\n",
       "\n",
       "    Null deviance: 498.10  on 391  degrees of freedom\n",
       "Residual deviance: 344.02  on 383  degrees of freedom\n",
       "AIC: 362.02\n",
       "\n",
       "Number of Fisher Scoring iterations: 5\n"
      ]
     },
     "metadata": {},
     "output_type": "display_data"
    }
   ],
   "source": [
    "# which variable has the largest effect on the response variable?\n",
    "# find the largest effect variables\n",
    "# max(abs(coef(mydata.glm)))\n",
    "summary(mydata.glm)\n",
    "\n"
   ]
  },
  {
   "cell_type": "code",
   "execution_count": 22,
   "metadata": {
    "vscode": {
     "languageId": "r"
    }
   },
   "outputs": [
    {
     "name": "stdout",
     "output_type": "stream",
     "text": [
      "Start:  AIC=362.02\n",
      "diabetes ~ pregnant + glucose + pressure + triceps + insulin + \n",
      "    mass + pedigree + age\n",
      "\n",
      "           Df Deviance    AIC\n",
      "- pressure  1   344.04 360.04\n",
      "- insulin   1   344.42 360.42\n",
      "- triceps   1   344.45 360.45\n",
      "<none>          344.02 362.02\n",
      "- pregnant  1   346.24 362.24\n",
      "- age       1   347.55 363.55\n",
      "- mass      1   350.89 366.89\n",
      "- pedigree  1   351.58 367.58\n",
      "- glucose   1   396.95 412.95\n",
      "\n",
      "Step:  AIC=360.04\n",
      "diabetes ~ pregnant + glucose + triceps + insulin + mass + pedigree + \n",
      "    age\n",
      "\n",
      "           Df Deviance    AIC\n",
      "- insulin   1   344.42 358.42\n",
      "- triceps   1   344.46 358.46\n",
      "<none>          344.04 360.04\n",
      "- pregnant  1   346.24 360.24\n",
      "- age       1   347.60 361.60\n",
      "- mass      1   351.28 365.28\n",
      "- pedigree  1   351.67 365.67\n",
      "- glucose   1   397.31 411.31\n",
      "\n",
      "Step:  AIC=358.42\n",
      "diabetes ~ pregnant + glucose + triceps + mass + pedigree + age\n",
      "\n",
      "           Df Deviance    AIC\n",
      "- triceps   1   344.89 356.89\n",
      "<none>          344.42 358.42\n",
      "- pregnant  1   346.74 358.74\n",
      "- age       1   347.87 359.87\n",
      "- mass      1   351.32 363.32\n",
      "- pedigree  1   351.90 363.90\n",
      "- glucose   1   411.11 423.11\n",
      "\n",
      "Step:  AIC=356.89\n",
      "diabetes ~ pregnant + glucose + mass + pedigree + age\n",
      "\n",
      "           Df Deviance    AIC\n",
      "<none>          344.89 356.89\n",
      "- pregnant  1   347.23 357.23\n",
      "- age       1   348.72 358.72\n",
      "- pedigree  1   352.72 362.72\n",
      "- mass      1   360.44 370.44\n",
      "- glucose   1   411.85 421.85\n"
     ]
    },
    {
     "data": {
      "text/plain": [
       "\n",
       "Call:  glm(formula = diabetes ~ pregnant + glucose + mass + pedigree + \n",
       "    age, family = binomial, data = mydata)\n",
       "\n",
       "Coefficients:\n",
       "(Intercept)     pregnant      glucose         mass     pedigree          age  \n",
       "   -9.99208      0.08395      0.03646      0.07814      1.15091      0.03436  \n",
       "\n",
       "Degrees of Freedom: 391 Total (i.e. Null);  386 Residual\n",
       "Null Deviance:\t    498.1 \n",
       "Residual Deviance: 344.9 \tAIC: 356.9"
      ]
     },
     "metadata": {},
     "output_type": "display_data"
    },
    {
     "data": {
      "text/plain": [
       "\n",
       "Call:\n",
       "glm(formula = diabetes ~ pregnant + glucose + mass + pedigree + \n",
       "    age, family = binomial, data = mydata)\n",
       "\n",
       "Deviance Residuals: \n",
       "    Min       1Q   Median       3Q      Max  \n",
       "-2.8827  -0.6535  -0.3694   0.6521   2.5814  \n",
       "\n",
       "Coefficients:\n",
       "             Estimate Std. Error z value Pr(>|z|)    \n",
       "(Intercept) -9.992080   1.086866  -9.193  < 2e-16 ***\n",
       "pregnant     0.083953   0.055031   1.526 0.127117    \n",
       "glucose      0.036458   0.004978   7.324 2.41e-13 ***\n",
       "mass         0.078139   0.020605   3.792 0.000149 ***\n",
       "pedigree     1.150913   0.424242   2.713 0.006670 ** \n",
       "age          0.034360   0.017810   1.929 0.053692 .  \n",
       "---\n",
       "Signif. codes:  0 '***' 0.001 '**' 0.01 '*' 0.05 '.' 0.1 ' ' 1\n",
       "\n",
       "(Dispersion parameter for binomial family taken to be 1)\n",
       "\n",
       "    Null deviance: 498.10  on 391  degrees of freedom\n",
       "Residual deviance: 344.89  on 386  degrees of freedom\n",
       "AIC: 356.89\n",
       "\n",
       "Number of Fisher Scoring iterations: 5\n"
      ]
     },
     "metadata": {},
     "output_type": "display_data"
    }
   ],
   "source": [
    "# use step() to make backward selection\n",
    "mydata.glm.step <- step(mydata.glm, direction=\"backward\")\n",
    "mydata.glm.step\n",
    "summary(mydata.glm.step)"
   ]
  },
  {
   "cell_type": "code",
   "execution_count": null,
   "metadata": {
    "vscode": {
     "languageId": "r"
    }
   },
   "outputs": [],
   "source": [
    "# compare Mallow's Cp for both model in glm and backward-select glm and choose the best model\n",
    "# Mallow's Cp is the sum of the squared residuals plus 2 times the number of parameters\n",
    "# the smaller the Cp, the better the model\n",
    "# the smaller the Cp, the better the model\n",
    "# the smaller the Cp, the better the model\n",
    "\n"
   ]
  },
  {
   "cell_type": "code",
   "execution_count": 24,
   "metadata": {
    "vscode": {
     "languageId": "r"
    }
   },
   "outputs": [
    {
     "data": {
      "text/html": [
       "356.885131855522"
      ],
      "text/latex": [
       "356.885131855522"
      ],
      "text/markdown": [
       "356.885131855522"
      ],
      "text/plain": [
       "[1] 356.8851"
      ]
     },
     "metadata": {},
     "output_type": "display_data"
    },
    {
     "data": {
      "text/html": [
       "362.021231823945"
      ],
      "text/latex": [
       "362.021231823945"
      ],
      "text/markdown": [
       "362.021231823945"
      ],
      "text/plain": [
       "[1] 362.0212"
      ]
     },
     "metadata": {},
     "output_type": "display_data"
    }
   ],
   "source": [
    "# mydata.glm.step\n",
    "# mydata.glm\n",
    "Cp <- function(model) {\n",
    "      return (sum(resid(model)^2) + 2*length(coef(model)))\n",
    "}\n",
    "Cp(mydata.glm.step)\n",
    "Cp(mydata.glm)"
   ]
  },
  {
   "cell_type": "code",
   "execution_count": 26,
   "metadata": {
    "vscode": {
     "languageId": "r"
    }
   },
   "outputs": [
    {
     "data": {
      "text/html": [
       "<table class=\"dataframe\">\n",
       "<caption>A data.frame: 9 × 9</caption>\n",
       "<thead>\n",
       "\t<tr><th></th><th scope=col>pregnant</th><th scope=col>glucose</th><th scope=col>pressure</th><th scope=col>triceps</th><th scope=col>insulin</th><th scope=col>mass</th><th scope=col>pedigree</th><th scope=col>age</th><th scope=col>diabetespos</th></tr>\n",
       "\t<tr><th></th><th scope=col>&lt;chr&gt;</th><th scope=col>&lt;chr&gt;</th><th scope=col>&lt;chr&gt;</th><th scope=col>&lt;chr&gt;</th><th scope=col>&lt;chr&gt;</th><th scope=col>&lt;chr&gt;</th><th scope=col>&lt;chr&gt;</th><th scope=col>&lt;chr&gt;</th><th scope=col>&lt;chr&gt;</th></tr>\n",
       "</thead>\n",
       "<tbody>\n",
       "\t<tr><th scope=row>1  ( 1 )</th><td> </td><td> </td><td> </td><td> </td><td> </td><td> </td><td> </td><td> </td><td>*</td></tr>\n",
       "\t<tr><th scope=row>2  ( 1 )</th><td> </td><td> </td><td> </td><td> </td><td> </td><td>*</td><td> </td><td> </td><td>*</td></tr>\n",
       "\t<tr><th scope=row>3  ( 1 )</th><td> </td><td>*</td><td> </td><td> </td><td> </td><td>*</td><td> </td><td> </td><td>*</td></tr>\n",
       "\t<tr><th scope=row>4  ( 1 )</th><td>*</td><td>*</td><td> </td><td> </td><td> </td><td>*</td><td> </td><td> </td><td>*</td></tr>\n",
       "\t<tr><th scope=row>5  ( 1 )</th><td>*</td><td>*</td><td>*</td><td> </td><td> </td><td>*</td><td> </td><td> </td><td>*</td></tr>\n",
       "\t<tr><th scope=row>6  ( 1 )</th><td>*</td><td>*</td><td>*</td><td> </td><td>*</td><td>*</td><td> </td><td> </td><td>*</td></tr>\n",
       "\t<tr><th scope=row>7  ( 1 )</th><td>*</td><td>*</td><td>*</td><td>*</td><td>*</td><td>*</td><td> </td><td> </td><td>*</td></tr>\n",
       "\t<tr><th scope=row>8  ( 1 )</th><td>*</td><td>*</td><td>*</td><td>*</td><td>*</td><td>*</td><td> </td><td>*</td><td>*</td></tr>\n",
       "\t<tr><th scope=row>9  ( 1 )</th><td>*</td><td>*</td><td>*</td><td>*</td><td>*</td><td>*</td><td>*</td><td>*</td><td>*</td></tr>\n",
       "</tbody>\n",
       "</table>\n"
      ],
      "text/latex": [
       "A data.frame: 9 × 9\n",
       "\\begin{tabular}{r|lllllllll}\n",
       "  & pregnant & glucose & pressure & triceps & insulin & mass & pedigree & age & diabetespos\\\\\n",
       "  & <chr> & <chr> & <chr> & <chr> & <chr> & <chr> & <chr> & <chr> & <chr>\\\\\n",
       "\\hline\n",
       "\t1  ( 1 ) &   &   &   &   &   &   &   &   & *\\\\\n",
       "\t2  ( 1 ) &   &   &   &   &   & * &   &   & *\\\\\n",
       "\t3  ( 1 ) &   & * &   &   &   & * &   &   & *\\\\\n",
       "\t4  ( 1 ) & * & * &   &   &   & * &   &   & *\\\\\n",
       "\t5  ( 1 ) & * & * & * &   &   & * &   &   & *\\\\\n",
       "\t6  ( 1 ) & * & * & * &   & * & * &   &   & *\\\\\n",
       "\t7  ( 1 ) & * & * & * & * & * & * &   &   & *\\\\\n",
       "\t8  ( 1 ) & * & * & * & * & * & * &   & * & *\\\\\n",
       "\t9  ( 1 ) & * & * & * & * & * & * & * & * & *\\\\\n",
       "\\end{tabular}\n"
      ],
      "text/markdown": [
       "\n",
       "A data.frame: 9 × 9\n",
       "\n",
       "| <!--/--> | pregnant &lt;chr&gt; | glucose &lt;chr&gt; | pressure &lt;chr&gt; | triceps &lt;chr&gt; | insulin &lt;chr&gt; | mass &lt;chr&gt; | pedigree &lt;chr&gt; | age &lt;chr&gt; | diabetespos &lt;chr&gt; |\n",
       "|---|---|---|---|---|---|---|---|---|---|\n",
       "| 1  ( 1 ) | <!----> | <!----> | <!----> | <!----> | <!----> | <!----> | <!----> | <!----> | * |\n",
       "| 2  ( 1 ) | <!----> | <!----> | <!----> | <!----> | <!----> | * | <!----> | <!----> | * |\n",
       "| 3  ( 1 ) | <!----> | * | <!----> | <!----> | <!----> | * | <!----> | <!----> | * |\n",
       "| 4  ( 1 ) | * | * | <!----> | <!----> | <!----> | * | <!----> | <!----> | * |\n",
       "| 5  ( 1 ) | * | * | * | <!----> | <!----> | * | <!----> | <!----> | * |\n",
       "| 6  ( 1 ) | * | * | * | <!----> | * | * | <!----> | <!----> | * |\n",
       "| 7  ( 1 ) | * | * | * | * | * | * | <!----> | <!----> | * |\n",
       "| 8  ( 1 ) | * | * | * | * | * | * | <!----> | * | * |\n",
       "| 9  ( 1 ) | * | * | * | * | * | * | * | * | * |\n",
       "\n"
      ],
      "text/plain": [
       "         pregnant glucose pressure triceps insulin mass pedigree age\n",
       "1  ( 1 )                                                            \n",
       "2  ( 1 )                                           *                \n",
       "3  ( 1 )          *                                *                \n",
       "4  ( 1 ) *        *                                *                \n",
       "5  ( 1 ) *        *       *                        *                \n",
       "6  ( 1 ) *        *       *                *       *                \n",
       "7  ( 1 ) *        *       *        *       *       *                \n",
       "8  ( 1 ) *        *       *        *       *       *             *  \n",
       "9  ( 1 ) *        *       *        *       *       *    *        *  \n",
       "         diabetespos\n",
       "1  ( 1 ) *          \n",
       "2  ( 1 ) *          \n",
       "3  ( 1 ) *          \n",
       "4  ( 1 ) *          \n",
       "5  ( 1 ) *          \n",
       "6  ( 1 ) *          \n",
       "7  ( 1 ) *          \n",
       "8  ( 1 ) *          \n",
       "9  ( 1 ) *          "
      ]
     },
     "metadata": {},
     "output_type": "display_data"
    }
   ],
   "source": [
    "library(leaps)\n",
    "bwd <- regsubsets(y ~ ., data = mydata, nvmax = NULL, method = \"backward\")\n",
    "as.data.frame(summary(bwd)$outmat)\n"
   ]
  },
  {
   "cell_type": "code",
   "execution_count": 27,
   "metadata": {
    "vscode": {
     "languageId": "r"
    }
   },
   "outputs": [
    {
     "data": {
      "image/png": "[encoded data removed]",
      "text/plain": [
       "plot without title"
      ]
     },
     "metadata": {
      "image/png": {
       "height": 420,
       "width": 420
      }
     },
     "output_type": "display_data"
    }
   ],
   "source": [
    "plot(summary(bwd)$cp, col = \"blue\", type = \"l\", xlab = \"Model size\", ylab = \"Cp\")"
   ]
  },
  {
   "cell_type": "code",
   "execution_count": 28,
   "metadata": {
    "vscode": {
     "languageId": "r"
    }
   },
   "outputs": [
    {
     "data": {
      "image/png": "[encoded data removed]",
      "text/plain": [
       "Plot with title \"Backward\""
      ]
     },
     "metadata": {
      "image/png": {
       "height": 420,
       "width": 420
      }
     },
     "output_type": "display_data"
    }
   ],
   "source": [
    "plot(bwd, main = \"Backward\")"
   ]
  },
  {
   "cell_type": "markdown",
   "metadata": {},
   "source": []
  }
 ],
 "metadata": {
  "kernelspec": {
   "display_name": "R",
   "language": "R",
   "name": "ir"
  },
  "language_info": {
   "codemirror_mode": "r",
   "file_extension": ".r",
   "mimetype": "text/x-r-source",
   "name": "R",
   "pygments_lexer": "r",
   "version": "4.2.1"
  },
  "orig_nbformat": 4
 },
 "nbformat": 4,
 "nbformat_minor": 2
}
