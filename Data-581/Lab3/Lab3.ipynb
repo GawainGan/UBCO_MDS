{
 "cells": [
  {
   "attachments": {},
   "cell_type": "markdown",
   "metadata": {},
   "source": [
    "# Q1-7"
   ]
  },
  {
   "cell_type": "code",
   "execution_count": 1,
   "metadata": {
    "vscode": {
     "languageId": "r"
    }
   },
   "outputs": [
    {
     "data": {
      "text/html": [
       "<style>\n",
       ".list-inline {list-style: none; margin:0; padding: 0}\n",
       ".list-inline>li {display: inline-block}\n",
       ".list-inline>li:not(:last-child)::after {content: \"\\00b7\"; padding: 0 .5ex}\n",
       "</style>\n",
       "<ol class=list-inline><li>'The idea of bootstrapping is to replace the population by the given '</li><li>'sample Then resamples are taken from this population For each resample a '</li><li>'sample mean can be computed The bootstrap standard error estimate is the '</li><li>'standard deviation of this collection of sample means For this problem '</li><li>'we can calculate an explicit formula for this bootstrap standard error '</li><li>'It should be emphasized that this discussion has centered on a '</li></ol>\n"
      ],
      "text/latex": [
       "\\begin{enumerate*}\n",
       "\\item 'The idea of bootstrapping is to replace the population by the given '\n",
       "\\item 'sample Then resamples are taken from this population For each resample a '\n",
       "\\item 'sample mean can be computed The bootstrap standard error estimate is the '\n",
       "\\item 'standard deviation of this collection of sample means For this problem '\n",
       "\\item 'we can calculate an explicit formula for this bootstrap standard error '\n",
       "\\item 'It should be emphasized that this discussion has centered on a '\n",
       "\\end{enumerate*}\n"
      ],
      "text/markdown": [
       "1. 'The idea of bootstrapping is to replace the population by the given '\n",
       "2. 'sample Then resamples are taken from this population For each resample a '\n",
       "3. 'sample mean can be computed The bootstrap standard error estimate is the '\n",
       "4. 'standard deviation of this collection of sample means For this problem '\n",
       "5. 'we can calculate an explicit formula for this bootstrap standard error '\n",
       "6. 'It should be emphasized that this discussion has centered on a '\n",
       "\n",
       "\n"
      ],
      "text/plain": [
       "[1] \"The idea of bootstrapping is to replace the population by the given \"     \n",
       "[2] \"sample Then resamples are taken from this population For each resample a \"\n",
       "[3] \"sample mean can be computed The bootstrap standard error estimate is the \"\n",
       "[4] \"standard deviation of this collection of sample means For this problem \"  \n",
       "[5] \"we can calculate an explicit formula for this bootstrap standard error \"  \n",
       "[6] \"It should be emphasized that this discussion has centered on a \"          "
      ]
     },
     "metadata": {},
     "output_type": "display_data"
    }
   ],
   "source": [
    "MyText <- readLines(\"/Users/gawain/Desktop/3.UBC/Block3/Data-581 - Modelling/Labs/Lab3/text.txt\")\n",
    "head(MyText)"
   ]
  },
  {
   "cell_type": "code",
   "execution_count": 3,
   "metadata": {
    "vscode": {
     "languageId": "r"
    }
   },
   "outputs": [
    {
     "data": {
      "text/html": [
       "<ol>\n",
       "\t<li><style>\n",
       ".list-inline {list-style: none; margin:0; padding: 0}\n",
       ".list-inline>li {display: inline-block}\n",
       ".list-inline>li:not(:last-child)::after {content: \"\\00b7\"; padding: 0 .5ex}\n",
       "</style>\n",
       "<ol class=list-inline><li>'The'</li><li>'idea'</li><li>'of'</li><li>'bootstrapping'</li><li>'is'</li><li>'to'</li><li>'replace'</li><li>'the'</li><li>'population'</li><li>'by'</li><li>'the'</li><li>'given'</li></ol>\n",
       "</li>\n",
       "\t<li><style>\n",
       ".list-inline {list-style: none; margin:0; padding: 0}\n",
       ".list-inline>li {display: inline-block}\n",
       ".list-inline>li:not(:last-child)::after {content: \"\\00b7\"; padding: 0 .5ex}\n",
       "</style>\n",
       "<ol class=list-inline><li>'sample'</li><li>'Then'</li><li>'resamples'</li><li>'are'</li><li>'taken'</li><li>'from'</li><li>'this'</li><li>'population'</li><li>'For'</li><li>'each'</li><li>'resample'</li><li>'a'</li></ol>\n",
       "</li>\n",
       "\t<li><style>\n",
       ".list-inline {list-style: none; margin:0; padding: 0}\n",
       ".list-inline>li {display: inline-block}\n",
       ".list-inline>li:not(:last-child)::after {content: \"\\00b7\"; padding: 0 .5ex}\n",
       "</style>\n",
       "<ol class=list-inline><li>'sample'</li><li>'mean'</li><li>'can'</li><li>'be'</li><li>'computed'</li><li>'The'</li><li>'bootstrap'</li><li>'standard'</li><li>'error'</li><li>'estimate'</li><li>'is'</li><li>'the'</li></ol>\n",
       "</li>\n",
       "\t<li><style>\n",
       ".list-inline {list-style: none; margin:0; padding: 0}\n",
       ".list-inline>li {display: inline-block}\n",
       ".list-inline>li:not(:last-child)::after {content: \"\\00b7\"; padding: 0 .5ex}\n",
       "</style>\n",
       "<ol class=list-inline><li>'standard'</li><li>'deviation'</li><li>'of'</li><li>'this'</li><li>'collection'</li><li>'of'</li><li>'sample'</li><li>'means'</li><li>'For'</li><li>'this'</li><li>'problem'</li></ol>\n",
       "</li>\n",
       "\t<li><style>\n",
       ".list-inline {list-style: none; margin:0; padding: 0}\n",
       ".list-inline>li {display: inline-block}\n",
       ".list-inline>li:not(:last-child)::after {content: \"\\00b7\"; padding: 0 .5ex}\n",
       "</style>\n",
       "<ol class=list-inline><li>'we'</li><li>'can'</li><li>'calculate'</li><li>'an'</li><li>'explicit'</li><li>'formula'</li><li>'for'</li><li>'this'</li><li>'bootstrap'</li><li>'standard'</li><li>'error'</li></ol>\n",
       "</li>\n",
       "\t<li><style>\n",
       ".list-inline {list-style: none; margin:0; padding: 0}\n",
       ".list-inline>li {display: inline-block}\n",
       ".list-inline>li:not(:last-child)::after {content: \"\\00b7\"; padding: 0 .5ex}\n",
       "</style>\n",
       "<ol class=list-inline><li>'It'</li><li>'should'</li><li>'be'</li><li>'emphasized'</li><li>'that'</li><li>'this'</li><li>'discussion'</li><li>'has'</li><li>'centered'</li><li>'on'</li><li>'a'</li></ol>\n",
       "</li>\n",
       "</ol>\n"
      ],
      "text/latex": [
       "\\begin{enumerate}\n",
       "\\item \\begin{enumerate*}\n",
       "\\item 'The'\n",
       "\\item 'idea'\n",
       "\\item 'of'\n",
       "\\item 'bootstrapping'\n",
       "\\item 'is'\n",
       "\\item 'to'\n",
       "\\item 'replace'\n",
       "\\item 'the'\n",
       "\\item 'population'\n",
       "\\item 'by'\n",
       "\\item 'the'\n",
       "\\item 'given'\n",
       "\\end{enumerate*}\n",
       "\n",
       "\\item \\begin{enumerate*}\n",
       "\\item 'sample'\n",
       "\\item 'Then'\n",
       "\\item 'resamples'\n",
       "\\item 'are'\n",
       "\\item 'taken'\n",
       "\\item 'from'\n",
       "\\item 'this'\n",
       "\\item 'population'\n",
       "\\item 'For'\n",
       "\\item 'each'\n",
       "\\item 'resample'\n",
       "\\item 'a'\n",
       "\\end{enumerate*}\n",
       "\n",
       "\\item \\begin{enumerate*}\n",
       "\\item 'sample'\n",
       "\\item 'mean'\n",
       "\\item 'can'\n",
       "\\item 'be'\n",
       "\\item 'computed'\n",
       "\\item 'The'\n",
       "\\item 'bootstrap'\n",
       "\\item 'standard'\n",
       "\\item 'error'\n",
       "\\item 'estimate'\n",
       "\\item 'is'\n",
       "\\item 'the'\n",
       "\\end{enumerate*}\n",
       "\n",
       "\\item \\begin{enumerate*}\n",
       "\\item 'standard'\n",
       "\\item 'deviation'\n",
       "\\item 'of'\n",
       "\\item 'this'\n",
       "\\item 'collection'\n",
       "\\item 'of'\n",
       "\\item 'sample'\n",
       "\\item 'means'\n",
       "\\item 'For'\n",
       "\\item 'this'\n",
       "\\item 'problem'\n",
       "\\end{enumerate*}\n",
       "\n",
       "\\item \\begin{enumerate*}\n",
       "\\item 'we'\n",
       "\\item 'can'\n",
       "\\item 'calculate'\n",
       "\\item 'an'\n",
       "\\item 'explicit'\n",
       "\\item 'formula'\n",
       "\\item 'for'\n",
       "\\item 'this'\n",
       "\\item 'bootstrap'\n",
       "\\item 'standard'\n",
       "\\item 'error'\n",
       "\\end{enumerate*}\n",
       "\n",
       "\\item \\begin{enumerate*}\n",
       "\\item 'It'\n",
       "\\item 'should'\n",
       "\\item 'be'\n",
       "\\item 'emphasized'\n",
       "\\item 'that'\n",
       "\\item 'this'\n",
       "\\item 'discussion'\n",
       "\\item 'has'\n",
       "\\item 'centered'\n",
       "\\item 'on'\n",
       "\\item 'a'\n",
       "\\end{enumerate*}\n",
       "\n",
       "\\end{enumerate}\n"
      ],
      "text/markdown": [
       "1. 1. 'The'\n",
       "2. 'idea'\n",
       "3. 'of'\n",
       "4. 'bootstrapping'\n",
       "5. 'is'\n",
       "6. 'to'\n",
       "7. 'replace'\n",
       "8. 'the'\n",
       "9. 'population'\n",
       "10. 'by'\n",
       "11. 'the'\n",
       "12. 'given'\n",
       "\n",
       "\n",
       "\n",
       "2. 1. 'sample'\n",
       "2. 'Then'\n",
       "3. 'resamples'\n",
       "4. 'are'\n",
       "5. 'taken'\n",
       "6. 'from'\n",
       "7. 'this'\n",
       "8. 'population'\n",
       "9. 'For'\n",
       "10. 'each'\n",
       "11. 'resample'\n",
       "12. 'a'\n",
       "\n",
       "\n",
       "\n",
       "3. 1. 'sample'\n",
       "2. 'mean'\n",
       "3. 'can'\n",
       "4. 'be'\n",
       "5. 'computed'\n",
       "6. 'The'\n",
       "7. 'bootstrap'\n",
       "8. 'standard'\n",
       "9. 'error'\n",
       "10. 'estimate'\n",
       "11. 'is'\n",
       "12. 'the'\n",
       "\n",
       "\n",
       "\n",
       "4. 1. 'standard'\n",
       "2. 'deviation'\n",
       "3. 'of'\n",
       "4. 'this'\n",
       "5. 'collection'\n",
       "6. 'of'\n",
       "7. 'sample'\n",
       "8. 'means'\n",
       "9. 'For'\n",
       "10. 'this'\n",
       "11. 'problem'\n",
       "\n",
       "\n",
       "\n",
       "5. 1. 'we'\n",
       "2. 'can'\n",
       "3. 'calculate'\n",
       "4. 'an'\n",
       "5. 'explicit'\n",
       "6. 'formula'\n",
       "7. 'for'\n",
       "8. 'this'\n",
       "9. 'bootstrap'\n",
       "10. 'standard'\n",
       "11. 'error'\n",
       "\n",
       "\n",
       "\n",
       "6. 1. 'It'\n",
       "2. 'should'\n",
       "3. 'be'\n",
       "4. 'emphasized'\n",
       "5. 'that'\n",
       "6. 'this'\n",
       "7. 'discussion'\n",
       "8. 'has'\n",
       "9. 'centered'\n",
       "10. 'on'\n",
       "11. 'a'\n",
       "\n",
       "\n",
       "\n",
       "\n",
       "\n"
      ],
      "text/plain": [
       "[[1]]\n",
       " [1] \"The\"           \"idea\"          \"of\"            \"bootstrapping\"\n",
       " [5] \"is\"            \"to\"            \"replace\"       \"the\"          \n",
       " [9] \"population\"    \"by\"            \"the\"           \"given\"        \n",
       "\n",
       "[[2]]\n",
       " [1] \"sample\"     \"Then\"       \"resamples\"  \"are\"        \"taken\"     \n",
       " [6] \"from\"       \"this\"       \"population\" \"For\"        \"each\"      \n",
       "[11] \"resample\"   \"a\"         \n",
       "\n",
       "[[3]]\n",
       " [1] \"sample\"    \"mean\"      \"can\"       \"be\"        \"computed\"  \"The\"      \n",
       " [7] \"bootstrap\" \"standard\"  \"error\"     \"estimate\"  \"is\"        \"the\"      \n",
       "\n",
       "[[4]]\n",
       " [1] \"standard\"   \"deviation\"  \"of\"         \"this\"       \"collection\"\n",
       " [6] \"of\"         \"sample\"     \"means\"      \"For\"        \"this\"      \n",
       "[11] \"problem\"   \n",
       "\n",
       "[[5]]\n",
       " [1] \"we\"        \"can\"       \"calculate\" \"an\"        \"explicit\"  \"formula\"  \n",
       " [7] \"for\"       \"this\"      \"bootstrap\" \"standard\"  \"error\"    \n",
       "\n",
       "[[6]]\n",
       " [1] \"It\"         \"should\"     \"be\"         \"emphasized\" \"that\"      \n",
       " [6] \"this\"       \"discussion\" \"has\"        \"centered\"   \"on\"        \n",
       "[11] \"a\"         \n"
      ]
     },
     "metadata": {},
     "output_type": "display_data"
    }
   ],
   "source": [
    "# 2.1  separates strings at spaces, resulting in lists of single words\n",
    "MyTextStrings <- strsplit(MyText, \" \")\n",
    "head(MyTextStrings)"
   ]
  },
  {
   "cell_type": "code",
   "execution_count": 5,
   "metadata": {
    "vscode": {
     "languageId": "r"
    }
   },
   "outputs": [
    {
     "data": {
      "text/html": [
       "<style>\n",
       ".list-inline {list-style: none; margin:0; padding: 0}\n",
       ".list-inline>li {display: inline-block}\n",
       ".list-inline>li:not(:last-child)::after {content: \"\\00b7\"; padding: 0 .5ex}\n",
       "</style>\n",
       "<ol class=list-inline><li>'The'</li><li>'idea'</li><li>'of'</li><li>'bootstrapping'</li><li>'is'</li><li>'to'</li><li>'replace'</li><li>'the'</li><li>'population'</li><li>'by'</li></ol>\n"
      ],
      "text/latex": [
       "\\begin{enumerate*}\n",
       "\\item 'The'\n",
       "\\item 'idea'\n",
       "\\item 'of'\n",
       "\\item 'bootstrapping'\n",
       "\\item 'is'\n",
       "\\item 'to'\n",
       "\\item 'replace'\n",
       "\\item 'the'\n",
       "\\item 'population'\n",
       "\\item 'by'\n",
       "\\end{enumerate*}\n"
      ],
      "text/markdown": [
       "1. 'The'\n",
       "2. 'idea'\n",
       "3. 'of'\n",
       "4. 'bootstrapping'\n",
       "5. 'is'\n",
       "6. 'to'\n",
       "7. 'replace'\n",
       "8. 'the'\n",
       "9. 'population'\n",
       "10. 'by'\n",
       "\n",
       "\n"
      ],
      "text/plain": [
       " [1] \"The\"           \"idea\"          \"of\"            \"bootstrapping\"\n",
       " [5] \"is\"            \"to\"            \"replace\"       \"the\"          \n",
       " [9] \"population\"    \"by\"           "
      ]
     },
     "metadata": {},
     "output_type": "display_data"
    }
   ],
   "source": [
    "# 2.2 use the unlist() function to remove the list structure, resulting in a plain vector of strings (none of which contain blank spaces\n",
    "MyTextStrings <- unlist(MyTextStrings)\n",
    "MyTextStrings[1:10]"
   ]
  },
  {
   "cell_type": "code",
   "execution_count": 7,
   "metadata": {
    "vscode": {
     "languageId": "r"
    }
   },
   "outputs": [
    {
     "data": {
      "text/html": [
       "<style>\n",
       ".list-inline {list-style: none; margin:0; padding: 0}\n",
       ".list-inline>li {display: inline-block}\n",
       ".list-inline>li:not(:last-child)::after {content: \"\\00b7\"; padding: 0 .5ex}\n",
       "</style>\n",
       "<ol class=list-inline><li>3</li><li>4</li><li>2</li><li>13</li><li>2</li><li>2</li><li>7</li><li>3</li><li>10</li><li>2</li><li>3</li><li>5</li></ol>\n"
      ],
      "text/latex": [
       "\\begin{enumerate*}\n",
       "\\item 3\n",
       "\\item 4\n",
       "\\item 2\n",
       "\\item 13\n",
       "\\item 2\n",
       "\\item 2\n",
       "\\item 7\n",
       "\\item 3\n",
       "\\item 10\n",
       "\\item 2\n",
       "\\item 3\n",
       "\\item 5\n",
       "\\end{enumerate*}\n"
      ],
      "text/markdown": [
       "1. 3\n",
       "2. 4\n",
       "3. 2\n",
       "4. 13\n",
       "5. 2\n",
       "6. 2\n",
       "7. 7\n",
       "8. 3\n",
       "9. 10\n",
       "10. 2\n",
       "11. 3\n",
       "12. 5\n",
       "\n",
       "\n"
      ],
      "text/plain": [
       " [1]  3  4  2 13  2  2  7  3 10  2  3  5"
      ]
     },
     "metadata": {},
     "output_type": "display_data"
    }
   ],
   "source": [
    "# 2.3 Markov chain analysis of the text strings\n",
    "# count the number characters in each string using the nchar() function\n",
    "lettercounts <- nchar(MyTextStrings)\n",
    "lettercounts[1:12]"
   ]
  },
  {
   "cell_type": "code",
   "execution_count": 10,
   "metadata": {
    "vscode": {
     "languageId": "r"
    }
   },
   "outputs": [
    {
     "data": {
      "text/html": [
       "<style>\n",
       ".list-inline {list-style: none; margin:0; padding: 0}\n",
       ".list-inline>li {display: inline-block}\n",
       ".list-inline>li:not(:last-child)::after {content: \"\\00b7\"; padding: 0 .5ex}\n",
       "</style>\n",
       "<ol class=list-inline><li>3</li><li>4</li><li>2</li><li>13</li><li>2</li><li>2</li><li>7</li><li>3</li><li>10</li><li>2</li><li>3</li><li>5</li></ol>\n"
      ],
      "text/latex": [
       "\\begin{enumerate*}\n",
       "\\item 3\n",
       "\\item 4\n",
       "\\item 2\n",
       "\\item 13\n",
       "\\item 2\n",
       "\\item 2\n",
       "\\item 7\n",
       "\\item 3\n",
       "\\item 10\n",
       "\\item 2\n",
       "\\item 3\n",
       "\\item 5\n",
       "\\end{enumerate*}\n"
      ],
      "text/markdown": [
       "1. 3\n",
       "2. 4\n",
       "3. 2\n",
       "4. 13\n",
       "5. 2\n",
       "6. 2\n",
       "7. 7\n",
       "8. 3\n",
       "9. 10\n",
       "10. 2\n",
       "11. 3\n",
       "12. 5\n",
       "\n",
       "\n"
      ],
      "text/plain": [
       " [1]  3  4  2 13  2  2  7  3 10  2  3  5"
      ]
     },
     "metadata": {},
     "output_type": "display_data"
    }
   ],
   "source": [
    "# 3. remove the remaining blank spaces:\n",
    "lettercounts <- lettercounts[lettercounts > 0]\n",
    "lettercounts[1:12]"
   ]
  },
  {
   "cell_type": "code",
   "execution_count": 12,
   "metadata": {
    "vscode": {
     "languageId": "r"
    }
   },
   "outputs": [],
   "source": [
    "# 4. use the following truncation to reduce the size of the state space\n",
    "lettercountsT <- lettercounts\n",
    "lettercountsT[lettercounts > 11] <- 12\n",
    "# We only need to estimate 144 elements of our transition matrix instead of 196, \n",
    "#      so we gain some accuracy by giving up this degree of precision"
   ]
  },
  {
   "cell_type": "code",
   "execution_count": 13,
   "metadata": {
    "vscode": {
     "languageId": "r"
    }
   },
   "outputs": [
    {
     "data": {
      "text/html": [
       "12"
      ],
      "text/latex": [
       "12"
      ],
      "text/markdown": [
       "12"
      ],
      "text/plain": [
       "[1] 12"
      ]
     },
     "metadata": {},
     "output_type": "display_data"
    },
    {
     "data": {
      "text/html": [
       "<table class=\"dataframe\">\n",
       "<caption>A matrix: 12 × 12 of type dbl</caption>\n",
       "<tbody>\n",
       "\t<tr><td>0.00000000</td><td>0.00000000</td><td>0.04166667</td><td>0.12500000</td><td>0.12500000</td><td>0.25000000</td><td>0.00000000</td><td>0.16666667</td><td>0.16666667</td><td>0.04166667</td><td>0.08333333</td><td>0.000000000</td></tr>\n",
       "\t<tr><td>0.06164384</td><td>0.08219178</td><td>0.21917808</td><td>0.13698630</td><td>0.09589041</td><td>0.09589041</td><td>0.07534247</td><td>0.04794521</td><td>0.04109589</td><td>0.05479452</td><td>0.04794521</td><td>0.041095890</td></tr>\n",
       "\t<tr><td>0.02013423</td><td>0.12080537</td><td>0.11409396</td><td>0.15436242</td><td>0.10738255</td><td>0.06040268</td><td>0.08053691</td><td>0.12080537</td><td>0.08724832</td><td>0.04026846</td><td>0.05369128</td><td>0.040268456</td></tr>\n",
       "\t<tr><td>0.04273504</td><td>0.14529915</td><td>0.27350427</td><td>0.13675214</td><td>0.02564103</td><td>0.06837607</td><td>0.10256410</td><td>0.05128205</td><td>0.02564103</td><td>0.05982906</td><td>0.05982906</td><td>0.008547009</td></tr>\n",
       "\t<tr><td>0.02631579</td><td>0.18421053</td><td>0.30263158</td><td>0.13157895</td><td>0.09210526</td><td>0.10526316</td><td>0.09210526</td><td>0.02631579</td><td>0.01315789</td><td>0.00000000</td><td>0.01315789</td><td>0.013157895</td></tr>\n",
       "\t<tr><td>0.01492537</td><td>0.23880597</td><td>0.14925373</td><td>0.14925373</td><td>0.07462687</td><td>0.08955224</td><td>0.04477612</td><td>0.07462687</td><td>0.08955224</td><td>0.01492537</td><td>0.01492537</td><td>0.044776119</td></tr>\n",
       "\t<tr><td>0.01724138</td><td>0.39655172</td><td>0.13793103</td><td>0.17241379</td><td>0.12068966</td><td>0.01724138</td><td>0.06896552</td><td>0.03448276</td><td>0.01724138</td><td>0.01724138</td><td>0.00000000</td><td>0.000000000</td></tr>\n",
       "\t<tr><td>0.03278689</td><td>0.22950820</td><td>0.13114754</td><td>0.06557377</td><td>0.21311475</td><td>0.06557377</td><td>0.08196721</td><td>0.06557377</td><td>0.01639344</td><td>0.01639344</td><td>0.03278689</td><td>0.049180328</td></tr>\n",
       "\t<tr><td>0.02222222</td><td>0.28888889</td><td>0.11111111</td><td>0.15555556</td><td>0.04444444</td><td>0.02222222</td><td>0.00000000</td><td>0.15555556</td><td>0.06666667</td><td>0.06666667</td><td>0.02222222</td><td>0.044444444</td></tr>\n",
       "\t<tr><td>0.00000000</td><td>0.20689655</td><td>0.24137931</td><td>0.17241379</td><td>0.00000000</td><td>0.13793103</td><td>0.13793103</td><td>0.00000000</td><td>0.10344828</td><td>0.00000000</td><td>0.00000000</td><td>0.000000000</td></tr>\n",
       "\t<tr><td>0.00000000</td><td>0.12500000</td><td>0.12500000</td><td>0.21875000</td><td>0.18750000</td><td>0.18750000</td><td>0.00000000</td><td>0.00000000</td><td>0.03125000</td><td>0.00000000</td><td>0.09375000</td><td>0.031250000</td></tr>\n",
       "\t<tr><td>0.00000000</td><td>0.43478261</td><td>0.04347826</td><td>0.08695652</td><td>0.00000000</td><td>0.00000000</td><td>0.00000000</td><td>0.26086957</td><td>0.13043478</td><td>0.04347826</td><td>0.00000000</td><td>0.000000000</td></tr>\n",
       "</tbody>\n",
       "</table>\n"
      ],
      "text/latex": [
       "A matrix: 12 × 12 of type dbl\n",
       "\\begin{tabular}{llllllllllll}\n",
       "\t 0.00000000 & 0.00000000 & 0.04166667 & 0.12500000 & 0.12500000 & 0.25000000 & 0.00000000 & 0.16666667 & 0.16666667 & 0.04166667 & 0.08333333 & 0.000000000\\\\\n",
       "\t 0.06164384 & 0.08219178 & 0.21917808 & 0.13698630 & 0.09589041 & 0.09589041 & 0.07534247 & 0.04794521 & 0.04109589 & 0.05479452 & 0.04794521 & 0.041095890\\\\\n",
       "\t 0.02013423 & 0.12080537 & 0.11409396 & 0.15436242 & 0.10738255 & 0.06040268 & 0.08053691 & 0.12080537 & 0.08724832 & 0.04026846 & 0.05369128 & 0.040268456\\\\\n",
       "\t 0.04273504 & 0.14529915 & 0.27350427 & 0.13675214 & 0.02564103 & 0.06837607 & 0.10256410 & 0.05128205 & 0.02564103 & 0.05982906 & 0.05982906 & 0.008547009\\\\\n",
       "\t 0.02631579 & 0.18421053 & 0.30263158 & 0.13157895 & 0.09210526 & 0.10526316 & 0.09210526 & 0.02631579 & 0.01315789 & 0.00000000 & 0.01315789 & 0.013157895\\\\\n",
       "\t 0.01492537 & 0.23880597 & 0.14925373 & 0.14925373 & 0.07462687 & 0.08955224 & 0.04477612 & 0.07462687 & 0.08955224 & 0.01492537 & 0.01492537 & 0.044776119\\\\\n",
       "\t 0.01724138 & 0.39655172 & 0.13793103 & 0.17241379 & 0.12068966 & 0.01724138 & 0.06896552 & 0.03448276 & 0.01724138 & 0.01724138 & 0.00000000 & 0.000000000\\\\\n",
       "\t 0.03278689 & 0.22950820 & 0.13114754 & 0.06557377 & 0.21311475 & 0.06557377 & 0.08196721 & 0.06557377 & 0.01639344 & 0.01639344 & 0.03278689 & 0.049180328\\\\\n",
       "\t 0.02222222 & 0.28888889 & 0.11111111 & 0.15555556 & 0.04444444 & 0.02222222 & 0.00000000 & 0.15555556 & 0.06666667 & 0.06666667 & 0.02222222 & 0.044444444\\\\\n",
       "\t 0.00000000 & 0.20689655 & 0.24137931 & 0.17241379 & 0.00000000 & 0.13793103 & 0.13793103 & 0.00000000 & 0.10344828 & 0.00000000 & 0.00000000 & 0.000000000\\\\\n",
       "\t 0.00000000 & 0.12500000 & 0.12500000 & 0.21875000 & 0.18750000 & 0.18750000 & 0.00000000 & 0.00000000 & 0.03125000 & 0.00000000 & 0.09375000 & 0.031250000\\\\\n",
       "\t 0.00000000 & 0.43478261 & 0.04347826 & 0.08695652 & 0.00000000 & 0.00000000 & 0.00000000 & 0.26086957 & 0.13043478 & 0.04347826 & 0.00000000 & 0.000000000\\\\\n",
       "\\end{tabular}\n"
      ],
      "text/markdown": [
       "\n",
       "A matrix: 12 × 12 of type dbl\n",
       "\n",
       "| 0.00000000 | 0.00000000 | 0.04166667 | 0.12500000 | 0.12500000 | 0.25000000 | 0.00000000 | 0.16666667 | 0.16666667 | 0.04166667 | 0.08333333 | 0.000000000 |\n",
       "| 0.06164384 | 0.08219178 | 0.21917808 | 0.13698630 | 0.09589041 | 0.09589041 | 0.07534247 | 0.04794521 | 0.04109589 | 0.05479452 | 0.04794521 | 0.041095890 |\n",
       "| 0.02013423 | 0.12080537 | 0.11409396 | 0.15436242 | 0.10738255 | 0.06040268 | 0.08053691 | 0.12080537 | 0.08724832 | 0.04026846 | 0.05369128 | 0.040268456 |\n",
       "| 0.04273504 | 0.14529915 | 0.27350427 | 0.13675214 | 0.02564103 | 0.06837607 | 0.10256410 | 0.05128205 | 0.02564103 | 0.05982906 | 0.05982906 | 0.008547009 |\n",
       "| 0.02631579 | 0.18421053 | 0.30263158 | 0.13157895 | 0.09210526 | 0.10526316 | 0.09210526 | 0.02631579 | 0.01315789 | 0.00000000 | 0.01315789 | 0.013157895 |\n",
       "| 0.01492537 | 0.23880597 | 0.14925373 | 0.14925373 | 0.07462687 | 0.08955224 | 0.04477612 | 0.07462687 | 0.08955224 | 0.01492537 | 0.01492537 | 0.044776119 |\n",
       "| 0.01724138 | 0.39655172 | 0.13793103 | 0.17241379 | 0.12068966 | 0.01724138 | 0.06896552 | 0.03448276 | 0.01724138 | 0.01724138 | 0.00000000 | 0.000000000 |\n",
       "| 0.03278689 | 0.22950820 | 0.13114754 | 0.06557377 | 0.21311475 | 0.06557377 | 0.08196721 | 0.06557377 | 0.01639344 | 0.01639344 | 0.03278689 | 0.049180328 |\n",
       "| 0.02222222 | 0.28888889 | 0.11111111 | 0.15555556 | 0.04444444 | 0.02222222 | 0.00000000 | 0.15555556 | 0.06666667 | 0.06666667 | 0.02222222 | 0.044444444 |\n",
       "| 0.00000000 | 0.20689655 | 0.24137931 | 0.17241379 | 0.00000000 | 0.13793103 | 0.13793103 | 0.00000000 | 0.10344828 | 0.00000000 | 0.00000000 | 0.000000000 |\n",
       "| 0.00000000 | 0.12500000 | 0.12500000 | 0.21875000 | 0.18750000 | 0.18750000 | 0.00000000 | 0.00000000 | 0.03125000 | 0.00000000 | 0.09375000 | 0.031250000 |\n",
       "| 0.00000000 | 0.43478261 | 0.04347826 | 0.08695652 | 0.00000000 | 0.00000000 | 0.00000000 | 0.26086957 | 0.13043478 | 0.04347826 | 0.00000000 | 0.000000000 |\n",
       "\n"
      ],
      "text/plain": [
       "      [,1]       [,2]       [,3]       [,4]       [,5]       [,6]      \n",
       " [1,] 0.00000000 0.00000000 0.04166667 0.12500000 0.12500000 0.25000000\n",
       " [2,] 0.06164384 0.08219178 0.21917808 0.13698630 0.09589041 0.09589041\n",
       " [3,] 0.02013423 0.12080537 0.11409396 0.15436242 0.10738255 0.06040268\n",
       " [4,] 0.04273504 0.14529915 0.27350427 0.13675214 0.02564103 0.06837607\n",
       " [5,] 0.02631579 0.18421053 0.30263158 0.13157895 0.09210526 0.10526316\n",
       " [6,] 0.01492537 0.23880597 0.14925373 0.14925373 0.07462687 0.08955224\n",
       " [7,] 0.01724138 0.39655172 0.13793103 0.17241379 0.12068966 0.01724138\n",
       " [8,] 0.03278689 0.22950820 0.13114754 0.06557377 0.21311475 0.06557377\n",
       " [9,] 0.02222222 0.28888889 0.11111111 0.15555556 0.04444444 0.02222222\n",
       "[10,] 0.00000000 0.20689655 0.24137931 0.17241379 0.00000000 0.13793103\n",
       "[11,] 0.00000000 0.12500000 0.12500000 0.21875000 0.18750000 0.18750000\n",
       "[12,] 0.00000000 0.43478261 0.04347826 0.08695652 0.00000000 0.00000000\n",
       "      [,7]       [,8]       [,9]       [,10]      [,11]      [,12]      \n",
       " [1,] 0.00000000 0.16666667 0.16666667 0.04166667 0.08333333 0.000000000\n",
       " [2,] 0.07534247 0.04794521 0.04109589 0.05479452 0.04794521 0.041095890\n",
       " [3,] 0.08053691 0.12080537 0.08724832 0.04026846 0.05369128 0.040268456\n",
       " [4,] 0.10256410 0.05128205 0.02564103 0.05982906 0.05982906 0.008547009\n",
       " [5,] 0.09210526 0.02631579 0.01315789 0.00000000 0.01315789 0.013157895\n",
       " [6,] 0.04477612 0.07462687 0.08955224 0.01492537 0.01492537 0.044776119\n",
       " [7,] 0.06896552 0.03448276 0.01724138 0.01724138 0.00000000 0.000000000\n",
       " [8,] 0.08196721 0.06557377 0.01639344 0.01639344 0.03278689 0.049180328\n",
       " [9,] 0.00000000 0.15555556 0.06666667 0.06666667 0.02222222 0.044444444\n",
       "[10,] 0.13793103 0.00000000 0.10344828 0.00000000 0.00000000 0.000000000\n",
       "[11,] 0.00000000 0.00000000 0.03125000 0.00000000 0.09375000 0.031250000\n",
       "[12,] 0.00000000 0.26086957 0.13043478 0.04347826 0.00000000 0.000000000"
      ]
     },
     "metadata": {},
     "output_type": "display_data"
    }
   ],
   "source": [
    "# 5. Construct the transition matrix\n",
    "P <- matrix(0, nrow=12, ncol=12)\n",
    "for (i in 2:length(lettercountsT)) {\n",
    "      P[lettercountsT[i-1], lettercountsT[i]] <- P[lettercountsT[i-1],lettercountsT[i]] + 1\n",
    "}\n",
    "P <- P/as.numeric(table(lettercountsT[-length(lettercountsT)]))\n",
    "length(table(lettercountsT[-length(lettercountsT)]))\n",
    "P"
   ]
  },
  {
   "cell_type": "code",
   "execution_count": 16,
   "metadata": {
    "vscode": {
     "languageId": "r"
    }
   },
   "outputs": [
    {
     "name": "stdout",
     "output_type": "stream",
     "text": [
      "The original mean: 5.134058\n",
      "The original var: 8.79821\n",
      "The proportion of the time that the diff in subsequent word length exceeds 7: 0.05199516"
     ]
    }
   ],
   "source": [
    "# 6. Find the mean and standard deviation of the word lengths in the original data set \n",
    "#     as well as the proportion of the time that the difference in subsequent word lengths exceeds 7\n",
    "\n",
    "miu <- mean(lettercounts)           # the mean of the word lengths in the original dataset\n",
    "v_val <- var(lettercounts)          # the variance of the word lengths in the original dataset\n",
    "pro_diff_over_7 <- mean(diff(lettercountsT) > 7)\n",
    "cat(\"The original mean:\", miu)\n",
    "cat(\"\\nThe original var:\", v_val)\n",
    "cat(\"\\nThe proportion of the time that the diff in subsequent word length exceeds 7:\", pro_diff_over_7)"
   ]
  },
  {
   "cell_type": "code",
   "execution_count": 17,
   "metadata": {
    "vscode": {
     "languageId": "r"
    }
   },
   "outputs": [],
   "source": [
    "# 7. To check another text to see if its authorship would be different from the given text\n",
    "wordlengthAVGs <- numeric(1000)\n",
    "wordlengthSDs <- numeric(1000)\n",
    "diff9 <- numeric(1000)\n",
    "\n",
    "for (i in 1:1000) {\n",
    "      Ntransitions <- length(lettercounts) # number of words\n",
    "      wordlength <- numeric(Ntransitions)#initializing the Markov chain\n",
    "      current.state <- lettercountsT[1] # initial wordlength\n",
    "      for (j in 1:Ntransitions) {\n",
    "            current.state <- sample(1:12,\n",
    "            size = 1, prob = P[current.state, ])\n",
    "            wordlength[j] <- current.state\n",
    "      }\n",
    "      wordlengthAVGs[i] <- mean(wordlength)\n",
    "      wordlengthSDs[i] <- sd(wordlength)\n",
    "      diff9[i] <- mean(abs(diff(wordlength)) > 9)\n",
    "}"
   ]
  },
  {
   "cell_type": "code",
   "execution_count": 18,
   "metadata": {
    "vscode": {
     "languageId": "r"
    }
   },
   "outputs": [
    {
     "data": {
      "image/png": "[encoded data removed]",
      "text/plain": [
       "Plot with title \"Histogram of diff9\""
      ]
     },
     "metadata": {
      "image/png": {
       "height": 420,
       "width": 420
      }
     },
     "output_type": "display_data"
    }
   ],
   "source": [
    "# we have calculated the mean and standard deviation of the wordlength\n",
    "# and the proportion of time the absolute value of the subsequent difference in wordlength changes by more than 9 characters\n",
    "# plot histgram and rug plot indicating the location of the observed data\n",
    "hist(diff9, freq=FALSE)\n",
    "rug(mean(abs(diff(lettercountsT)) > 9), col=2, lwd=3, ticksize=.5)"
   ]
  },
  {
   "attachments": {},
   "cell_type": "markdown",
   "metadata": {},
   "source": [
    "-  The red line is an indicator that our model is fitting well.\n",
    "-  we would be suspicious of any text where the extreme statistic was larger than .04 or less than .01"
   ]
  },
  {
   "cell_type": "code",
   "execution_count": 19,
   "metadata": {
    "vscode": {
     "languageId": "r"
    }
   },
   "outputs": [
    {
     "data": {
      "image/png": "[encoded data removed]",
      "text/plain": [
       "Plot with title \"Histogram of diff9ind\""
      ]
     },
     "metadata": {
      "image/png": {
       "height": 420,
       "width": 420
      }
     },
     "output_type": "display_data"
    }
   ],
   "source": [
    "#  What if we just sample from the marginal distribution of the observed states?\n",
    "# assuming that the changes in wordlength are independent from word to word\n",
    "\n",
    "diff9ind <- numeric(1000)\n",
    "for (i in 1:1000) {\n",
    "      indepcounts <- sample(1:12, size=length(lettercounts),\n",
    "      replace=TRUE, prob=table(lettercountsT)/\n",
    "      length(lettercounts))\n",
    "      diff9ind[i] <- mean(abs(diff(indepcounts)) > 9)\n",
    "}\n",
    "\n",
    "hist(diff9ind, freq=FALSE)\n",
    "rug(mean(abs(diff(lettercountsT)) > 9), col=2, lwd=3, ticksize=.5)"
   ]
  },
  {
   "attachments": {},
   "cell_type": "markdown",
   "metadata": {},
   "source": [
    "- observed value of the extreme statistic is no longer in an area of high probability density\n",
    "- We would judge the actual author as a forger\n",
    "- We would also fail to detect forgery in a work where the extreme statistic is less than .01 – a further indication of inaccuracy"
   ]
  },
  {
   "attachments": {},
   "cell_type": "markdown",
   "metadata": {},
   "source": [
    "# Q8"
   ]
  },
  {
   "attachments": {},
   "cell_type": "markdown",
   "metadata": {},
   "source": [
    "Repeat the above graphical analyses in the cases of the mean and the standard deviation.\n",
    "\n",
    "What rule would you use to identify a forgery on the basis of the mean wordlength? \n",
    "\n",
    "How about on the basis of the standard deviation of the wordlength?"
   ]
  },
  {
   "attachments": {},
   "cell_type": "markdown",
   "metadata": {},
   "source": [
    "### mean"
   ]
  },
  {
   "cell_type": "code",
   "execution_count": 26,
   "metadata": {
    "vscode": {
     "languageId": "r"
    }
   },
   "outputs": [
    {
     "data": {
      "image/png": "[encoded data removed]",
      "text/plain": [
       "Plot with title \"Histogram of wordlengthAVGs\""
      ]
     },
     "metadata": {
      "image/png": {
       "height": 420,
       "width": 420
      }
     },
     "output_type": "display_data"
    }
   ],
   "source": [
    "wordlengthAVGs <- numeric(1000)\n",
    "wordlengthSDs <- numeric(1000)\n",
    "\n",
    "# mean9 <- numeric(1000)\n",
    "\n",
    "for (i in 1:1000) {\n",
    "      Ntransitions <- length(lettercounts) # number of words\n",
    "      wordlength <- numeric(Ntransitions)#initializing the Markov chain\n",
    "      current.state <- lettercountsT[1] # initial wordlength\n",
    "      for (j in 1:Ntransitions) {\n",
    "            current.state <- sample(1:12,\n",
    "            size = 1, prob = P[current.state, ])\n",
    "            wordlength[j] <- current.state\n",
    "      }\n",
    "      wordlengthAVGs[i] <- mean(wordlength)\n",
    "      wordlengthSDs[i] <- sd(wordlength)\n",
    "      # mean9[i] <- mean(wordlength > 9) # change diff into mean\n",
    "}\n",
    "hist(wordlengthAVGs, freq=FALSE)\n",
    "rug(mean(lettercountsT), col=2, lwd=3, ticksize=.5)"
   ]
  },
  {
   "cell_type": "code",
   "execution_count": 27,
   "metadata": {
    "vscode": {
     "languageId": "r"
    }
   },
   "outputs": [
    {
     "data": {
      "image/png": "[encoded data removed]",
      "text/plain": [
       "Plot with title \"Histogram of mean9ind\""
      ]
     },
     "metadata": {
      "image/png": {
       "height": 420,
       "width": 420
      }
     },
     "output_type": "display_data"
    }
   ],
   "source": [
    "mean9ind <- numeric(1000)\n",
    "for (i in 1:1000) {\n",
    "      indepcounts <- sample(1:12, size=length(lettercounts),\n",
    "      replace=TRUE, prob=table(lettercountsT)/\n",
    "      length(lettercounts))\n",
    "      mean9ind[i] <- mean(indepcounts)\n",
    "      # mean9ind[i] <- mean(indepcounts > 9)\n",
    "\n",
    "}\n",
    "\n",
    "hist(mean9ind, freq=FALSE)\n",
    "rug(mean(lettercountsT), col=2, lwd=3, ticksize=.5)"
   ]
  },
  {
   "attachments": {},
   "cell_type": "markdown",
   "metadata": {},
   "source": [
    "-  Red lines indicate that our two models is fitting well.\n",
    "-  we would be suspicious of any text where the extreme statistic was:\n",
    "     1. larger than 5.4 or less than 4.9 in **mean** with Markov Chain samples\n",
    "     2. larger than 5.4 or less than 4.8 in **mean** with independent samples"
   ]
  },
  {
   "attachments": {},
   "cell_type": "markdown",
   "metadata": {},
   "source": [
    "### SD"
   ]
  },
  {
   "cell_type": "code",
   "execution_count": 28,
   "metadata": {
    "vscode": {
     "languageId": "r"
    }
   },
   "outputs": [
    {
     "data": {
      "image/png": "[encoded data removed]",
      "text/plain": [
       "Plot with title \"Histogram of wordlengthSDs\""
      ]
     },
     "metadata": {
      "image/png": {
       "height": 420,
       "width": 420
      }
     },
     "output_type": "display_data"
    }
   ],
   "source": [
    "wordlengthAVGs <- numeric(1000)\n",
    "wordlengthSDs <- numeric(1000)\n",
    "\n",
    "mean9 <- numeric(1000)\n",
    "\n",
    "for (i in 1:1000) {\n",
    "      Ntransitions <- length(lettercounts) # number of words\n",
    "      wordlength <- numeric(Ntransitions)#initializing the Markov chain\n",
    "      current.state <- lettercountsT[1] # initial wordlength\n",
    "      for (j in 1:Ntransitions) {\n",
    "            current.state <- sample(1:12,\n",
    "            size = 1, prob = P[current.state, ])\n",
    "            wordlength[j] <- current.state\n",
    "      }\n",
    "      wordlengthAVGs[i] <- mean(wordlength)\n",
    "      wordlengthSDs[i] <- sd(wordlength)\n",
    "}\n",
    "hist(wordlengthSDs, freq=FALSE)\n",
    "rug(sd(lettercountsT), col=2, lwd=3, ticksize=.5)"
   ]
  },
  {
   "cell_type": "code",
   "execution_count": 29,
   "metadata": {
    "vscode": {
     "languageId": "r"
    }
   },
   "outputs": [
    {
     "data": {
      "image/png": "[encoded data removed]",
      "text/plain": [
       "Plot with title \"Histogram of sd9ind\""
      ]
     },
     "metadata": {
      "image/png": {
       "height": 420,
       "width": 420
      }
     },
     "output_type": "display_data"
    }
   ],
   "source": [
    "sd9ind <- numeric(1000)\n",
    "for (i in 1:1000) {\n",
    "      indepcounts <- sample(1:12, size=length(lettercounts),\n",
    "      replace=TRUE, prob=table(lettercountsT)/\n",
    "      length(lettercounts))\n",
    "      sd9ind[i] <- sd(indepcounts)\n",
    "      # sd9ind[i] <- sd(indepcounts > 9)\n",
    "\n",
    "}\n",
    "\n",
    "hist(sd9ind, freq=FALSE)\n",
    "rug(sd(lettercountsT), col=2, lwd=3, ticksize=.5)"
   ]
  },
  {
   "attachments": {},
   "cell_type": "markdown",
   "metadata": {},
   "source": [
    "-  Red lines indicate that our two models is fitting well.\n",
    "-  we would be suspicious of any text where the extreme statistic was:\n",
    "     1. larger than 3.1 or less than 2.7 in **SD** with Markov Chain samples\n",
    "     2. larger than 3.1 or less than 2.7 in **SD** with independent samples"
   ]
  },
  {
   "attachments": {},
   "cell_type": "markdown",
   "metadata": {},
   "source": [
    "# Q9\n",
    "\n",
    "Problem from Lecture 6 pg 25"
   ]
  },
  {
   "attachments": {},
   "cell_type": "markdown",
   "metadata": {},
   "source": [
    "The batch size has the discrete probability distribution\n",
    "\n",
    "{ q 0 = .4, q 1 = 0.3, q 2 = 0.2, q 3 = 0.1 }\n",
    "\n",
    "If the stockyard does not have sufficient space to store the whole batch, the batch as a whole is taken elsewhere. \n",
    "\n",
    "Each day, as long as there are containers in the stockyard, exactly one container is removed from the stockyard."
   ]
  },
  {
   "attachments": {},
   "cell_type": "markdown",
   "metadata": {},
   "source": [
    "### part a\n",
    "\n",
    "Find the transition matrix for the Markov chain {X1, X2, . . .}, \n",
    "\n",
    "where Xt = the number of containers in the stockyard at the beginning of the t_th day."
   ]
  },
  {
   "cell_type": "code",
   "execution_count": 35,
   "metadata": {
    "vscode": {
     "languageId": "r"
    }
   },
   "outputs": [
    {
     "name": "stdout",
     "output_type": "stream",
     "text": [
      "The transition matrix for the Markov chain is:"
     ]
    },
    {
     "data": {
      "text/html": [
       "<table class=\"dataframe\">\n",
       "<caption>A matrix: 6 × 6 of type dbl</caption>\n",
       "<tbody>\n",
       "\t<tr><td>0.7</td><td>0.2</td><td>0.1</td><td>0.0</td><td>0.0</td><td>0.0</td></tr>\n",
       "\t<tr><td>0.4</td><td>0.3</td><td>0.2</td><td>0.1</td><td>0.0</td><td>0.0</td></tr>\n",
       "\t<tr><td>0.0</td><td>0.4</td><td>0.3</td><td>0.2</td><td>0.1</td><td>0.0</td></tr>\n",
       "\t<tr><td>0.0</td><td>0.0</td><td>0.4</td><td>0.3</td><td>0.2</td><td>0.1</td></tr>\n",
       "\t<tr><td>0.0</td><td>0.0</td><td>0.0</td><td>0.5</td><td>0.3</td><td>0.2</td></tr>\n",
       "\t<tr><td>0.0</td><td>0.0</td><td>0.0</td><td>0.0</td><td>0.7</td><td>0.3</td></tr>\n",
       "</tbody>\n",
       "</table>\n"
      ],
      "text/latex": [
       "A matrix: 6 × 6 of type dbl\n",
       "\\begin{tabular}{llllll}\n",
       "\t 0.7 & 0.2 & 0.1 & 0.0 & 0.0 & 0.0\\\\\n",
       "\t 0.4 & 0.3 & 0.2 & 0.1 & 0.0 & 0.0\\\\\n",
       "\t 0.0 & 0.4 & 0.3 & 0.2 & 0.1 & 0.0\\\\\n",
       "\t 0.0 & 0.0 & 0.4 & 0.3 & 0.2 & 0.1\\\\\n",
       "\t 0.0 & 0.0 & 0.0 & 0.5 & 0.3 & 0.2\\\\\n",
       "\t 0.0 & 0.0 & 0.0 & 0.0 & 0.7 & 0.3\\\\\n",
       "\\end{tabular}\n"
      ],
      "text/markdown": [
       "\n",
       "A matrix: 6 × 6 of type dbl\n",
       "\n",
       "| 0.7 | 0.2 | 0.1 | 0.0 | 0.0 | 0.0 |\n",
       "| 0.4 | 0.3 | 0.2 | 0.1 | 0.0 | 0.0 |\n",
       "| 0.0 | 0.4 | 0.3 | 0.2 | 0.1 | 0.0 |\n",
       "| 0.0 | 0.0 | 0.4 | 0.3 | 0.2 | 0.1 |\n",
       "| 0.0 | 0.0 | 0.0 | 0.5 | 0.3 | 0.2 |\n",
       "| 0.0 | 0.0 | 0.0 | 0.0 | 0.7 | 0.3 |\n",
       "\n"
      ],
      "text/plain": [
       "     [,1] [,2] [,3] [,4] [,5] [,6]\n",
       "[1,] 0.7  0.2  0.1  0.0  0.0  0.0 \n",
       "[2,] 0.4  0.3  0.2  0.1  0.0  0.0 \n",
       "[3,] 0.0  0.4  0.3  0.2  0.1  0.0 \n",
       "[4,] 0.0  0.0  0.4  0.3  0.2  0.1 \n",
       "[5,] 0.0  0.0  0.0  0.5  0.3  0.2 \n",
       "[6,] 0.0  0.0  0.0  0.0  0.7  0.3 "
      ]
     },
     "metadata": {},
     "output_type": "display_data"
    }
   ],
   "source": [
    "P <- matrix(c(0.7, .2, .1, 0, 0, 0,\n",
    "            0.4, 0.3, 0.2, 0.1, 0, 0,\n",
    "            0, 0.4, 0.3, 0.2, 0.1, 0,\n",
    "            0, 0, 0.4, 0.3, 0.2, 0.1,\n",
    "            0, 0, 0, .5, .3, .2, \n",
    "            0, 0, 0, 0, 0.7, 0.3), nrow=6, byrow = TRUE)\n",
    "cat(\"The transition matrix for the Markov chain is:\")\n",
    "P"
   ]
  },
  {
   "attachments": {},
   "cell_type": "markdown",
   "metadata": {},
   "source": [
    "### Part b"
   ]
  },
  {
   "attachments": {},
   "cell_type": "markdown",
   "metadata": {},
   "source": [
    "Find the long run distribution for this Markov chain.\n",
    "\n",
    "pg 29 & 30"
   ]
  },
  {
   "cell_type": "code",
   "execution_count": 44,
   "metadata": {
    "vscode": {
     "languageId": "r"
    }
   },
   "outputs": [
    {
     "name": "stdout",
     "output_type": "stream",
     "text": [
      "The long-run distribution is:"
     ]
    },
    {
     "data": {
      "text/html": [
       "2.0509"
      ],
      "text/latex": [
       "2.0509"
      ],
      "text/markdown": [
       "2.0509"
      ],
      "text/plain": [
       "[1] 2.051"
      ]
     },
     "metadata": {},
     "output_type": "display_data"
    }
   ],
   "source": [
    "A <- t(P) - diag(rep(1, 6)) # PˆT - I \n",
    "A <- rbind(A, rep(1,6)) \n",
    "RHS <- c(rep(0,6), 1) \n",
    "options(digits=4) \n",
    "pi <- qr.solve(A, RHS) \n",
    "cat(\"The long-run distribution is:\")\n",
    "round(sum(pi*(0:5)), 4)"
   ]
  },
  {
   "attachments": {},
   "cell_type": "markdown",
   "metadata": {},
   "source": [
    "### part c"
   ]
  },
  {
   "attachments": {},
   "cell_type": "markdown",
   "metadata": {},
   "source": [
    "Suppose a profit of $100 is realized for each container that spends a night at the stockyard.\n",
    "\n",
    "Calculate the long-run average weekly profit"
   ]
  },
  {
   "cell_type": "code",
   "execution_count": 42,
   "metadata": {
    "vscode": {
     "languageId": "r"
    }
   },
   "outputs": [
    {
     "name": "stdout",
     "output_type": "stream",
     "text": [
      "The long-run average weekly profit is:"
     ]
    },
    {
     "data": {
      "text/html": [
       "205.1"
      ],
      "text/latex": [
       "205.1"
      ],
      "text/markdown": [
       "205.1"
      ],
      "text/plain": [
       "[1] 205.1"
      ]
     },
     "metadata": {},
     "output_type": "display_data"
    }
   ],
   "source": [
    "cat(\"The long-run average weekly profit is:\")\n",
    "round(sum(pi*(0:5)), 3) * 100"
   ]
  },
  {
   "attachments": {},
   "cell_type": "markdown",
   "metadata": {},
   "source": [
    "### part d"
   ]
  },
  {
   "attachments": {},
   "cell_type": "markdown",
   "metadata": {},
   "source": [
    "Write R code to simulate this Markov chain, and run a simulation of 100000 transitions,\n",
    "\n",
    "starting in state 1 (i.e. where there is 1 container in the yard)."
   ]
  },
  {
   "cell_type": "code",
   "execution_count": 45,
   "metadata": {
    "vscode": {
     "languageId": "r"
    }
   },
   "outputs": [
    {
     "data": {
      "text/plain": [
       "ncontainers\n",
       "      1       2       3       4       5       6 \n",
       "0.23373 0.17327 0.18701 0.18574 0.14962 0.07063 "
      ]
     },
     "metadata": {},
     "output_type": "display_data"
    }
   ],
   "source": [
    "Ntransitions <- 100000 # number of transitions \n",
    "ncontainers <- numeric(Ntransitions)#initializing \n",
    "current.state <- 1 # initial stock \n",
    "for (t in 1:Ntransitions) { \n",
    "      current.state <- sample(1:6, size = 1, prob = P[current.state, ])\n",
    "      ncontainers[t] <- current.state\n",
    "} \n",
    "pi <- table(ncontainers)/Ntransitions # this tabulates the\n",
    "\n",
    "# distribution of the number of containers \n",
    "pi"
   ]
  },
  {
   "attachments": {},
   "cell_type": "markdown",
   "metadata": {},
   "source": [
    "# Q10"
   ]
  },
  {
   "cell_type": "code",
   "execution_count": 46,
   "metadata": {
    "vscode": {
     "languageId": "r"
    }
   },
   "outputs": [
    {
     "data": {
      "text/html": [
       "<table class=\"dataframe\">\n",
       "<caption>A matrix: 3 × 3 of type dbl</caption>\n",
       "<tbody>\n",
       "\t<tr><td>0.50</td><td>0.00</td><td>0.5</td></tr>\n",
       "\t<tr><td>0.25</td><td>0.75</td><td>0.0</td></tr>\n",
       "\t<tr><td>0.00</td><td>1.00</td><td>0.0</td></tr>\n",
       "</tbody>\n",
       "</table>\n"
      ],
      "text/latex": [
       "A matrix: 3 × 3 of type dbl\n",
       "\\begin{tabular}{lll}\n",
       "\t 0.50 & 0.00 & 0.5\\\\\n",
       "\t 0.25 & 0.75 & 0.0\\\\\n",
       "\t 0.00 & 1.00 & 0.0\\\\\n",
       "\\end{tabular}\n"
      ],
      "text/markdown": [
       "\n",
       "A matrix: 3 × 3 of type dbl\n",
       "\n",
       "| 0.50 | 0.00 | 0.5 |\n",
       "| 0.25 | 0.75 | 0.0 |\n",
       "| 0.00 | 1.00 | 0.0 |\n",
       "\n"
      ],
      "text/plain": [
       "     [,1] [,2] [,3]\n",
       "[1,] 0.50 0.00 0.5 \n",
       "[2,] 0.25 0.75 0.0 \n",
       "[3,] 0.00 1.00 0.0 "
      ]
     },
     "metadata": {},
     "output_type": "display_data"
    }
   ],
   "source": [
    "# known transitions matrix\n",
    "P <- matrix(c(.5, 0, .5,\n",
    "            .25, .75, 0,\n",
    "            0, 1, 0), \n",
    "            nrow = 3,\n",
    "            byrow = TRUE)\n",
    "P"
   ]
  },
  {
   "attachments": {},
   "cell_type": "markdown",
   "metadata": {},
   "source": [
    "### part a"
   ]
  },
  {
   "attachments": {},
   "cell_type": "markdown",
   "metadata": {},
   "source": [
    "Find the probability that X2 = 1, given that X0 = 2."
   ]
  },
  {
   "cell_type": "code",
   "execution_count": null,
   "metadata": {
    "vscode": {
     "languageId": "r"
    }
   },
   "outputs": [],
   "source": [
    "x0 <- c(1,2,3) # state space"
   ]
  },
  {
   "cell_type": "code",
   "execution_count": 51,
   "metadata": {
    "vscode": {
     "languageId": "r"
    }
   },
   "outputs": [
    {
     "data": {
      "text/html": [
       "0.3125"
      ],
      "text/latex": [
       "0.3125"
      ],
      "text/markdown": [
       "0.3125"
      ],
      "text/plain": [
       "[1] 0.3125"
      ]
     },
     "metadata": {},
     "output_type": "display_data"
    }
   ],
   "source": [
    "# known: P( X2=1 | X0=2 )\n",
    "# we want to find the distribution after 2 transitions due to the P^2\n",
    "P2 <- P%*%P\n",
    "P2[2,1] #P( X2=1 | X0=2 )"
   ]
  },
  {
   "attachments": {},
   "cell_type": "markdown",
   "metadata": {},
   "source": [
    "### part b"
   ]
  },
  {
   "attachments": {},
   "cell_type": "markdown",
   "metadata": {},
   "source": [
    "Do states 1 and 3 communicate? Explain briefly."
   ]
  },
  {
   "attachments": {},
   "cell_type": "markdown",
   "metadata": {},
   "source": [
    "No, state 1 and 3 do not connunicate.\n",
    "- State 1 to state 3 is 0.5\n",
    "- State 3 to state 1 is 0\n"
   ]
  },
  {
   "attachments": {},
   "cell_type": "markdown",
   "metadata": {},
   "source": [
    "### part c"
   ]
  },
  {
   "cell_type": "code",
   "execution_count": 49,
   "metadata": {
    "vscode": {
     "languageId": "r"
    }
   },
   "outputs": [
    {
     "data": {
      "text/html": [
       "<table class=\"dataframe\">\n",
       "<caption>A matrix: 3 × 3 of type dbl</caption>\n",
       "<tbody>\n",
       "\t<tr><td>0.2891</td><td>0.5703</td><td>0.1406</td></tr>\n",
       "\t<tr><td>0.2842</td><td>0.5732</td><td>0.1426</td></tr>\n",
       "\t<tr><td>0.2852</td><td>0.5664</td><td>0.1484</td></tr>\n",
       "</tbody>\n",
       "</table>\n"
      ],
      "text/latex": [
       "A matrix: 3 × 3 of type dbl\n",
       "\\begin{tabular}{lll}\n",
       "\t 0.2891 & 0.5703 & 0.1406\\\\\n",
       "\t 0.2842 & 0.5732 & 0.1426\\\\\n",
       "\t 0.2852 & 0.5664 & 0.1484\\\\\n",
       "\\end{tabular}\n"
      ],
      "text/markdown": [
       "\n",
       "A matrix: 3 × 3 of type dbl\n",
       "\n",
       "| 0.2891 | 0.5703 | 0.1406 |\n",
       "| 0.2842 | 0.5732 | 0.1426 |\n",
       "| 0.2852 | 0.5664 | 0.1484 |\n",
       "\n"
      ],
      "text/plain": [
       "     [,1]   [,2]   [,3]  \n",
       "[1,] 0.2891 0.5703 0.1406\n",
       "[2,] 0.2842 0.5732 0.1426\n",
       "[3,] 0.2852 0.5664 0.1484"
      ]
     },
     "metadata": {},
     "output_type": "display_data"
    }
   ],
   "source": [
    "P5 <- matrix(c( 0.2891, 0.5703, 0.1406,\n",
    "            0.2842, 0.5732, 0.1426,\n",
    "            0.2852, 0.5664, 0.1484),\n",
    "            nrow=3,\n",
    "            byrow = TRUE\n",
    "            )\n",
    "P5\n",
    "# to find the probability that X5 = 3, given that X0 = 1."
   ]
  },
  {
   "cell_type": "code",
   "execution_count": 52,
   "metadata": {
    "vscode": {
     "languageId": "r"
    }
   },
   "outputs": [
    {
     "data": {
      "text/html": [
       "0.1406"
      ],
      "text/latex": [
       "0.1406"
      ],
      "text/markdown": [
       "0.1406"
      ],
      "text/plain": [
       "[1] 0.1406"
      ]
     },
     "metadata": {},
     "output_type": "display_data"
    }
   ],
   "source": [
    "# P( x5 = 3 | x0 = 1) = x0 * P5\n",
    "P5[1, 3]"
   ]
  },
  {
   "attachments": {},
   "cell_type": "markdown",
   "metadata": {},
   "source": [
    "### part d"
   ]
  },
  {
   "attachments": {},
   "cell_type": "markdown",
   "metadata": {},
   "source": [
    "Is P a regular matrix?"
   ]
  },
  {
   "cell_type": "code",
   "execution_count": 54,
   "metadata": {
    "vscode": {
     "languageId": "r"
    }
   },
   "outputs": [
    {
     "data": {
      "text/html": [
       "<table class=\"dataframe\">\n",
       "<caption>A matrix: 3 × 3 of type dbl</caption>\n",
       "<tbody>\n",
       "\t<tr><td>0.2857</td><td>0.5714</td><td>0.1429</td></tr>\n",
       "\t<tr><td>0.2857</td><td>0.5714</td><td>0.1429</td></tr>\n",
       "\t<tr><td>0.2857</td><td>0.5714</td><td>0.1429</td></tr>\n",
       "</tbody>\n",
       "</table>\n"
      ],
      "text/latex": [
       "A matrix: 3 × 3 of type dbl\n",
       "\\begin{tabular}{lll}\n",
       "\t 0.2857 & 0.5714 & 0.1429\\\\\n",
       "\t 0.2857 & 0.5714 & 0.1429\\\\\n",
       "\t 0.2857 & 0.5714 & 0.1429\\\\\n",
       "\\end{tabular}\n"
      ],
      "text/markdown": [
       "\n",
       "A matrix: 3 × 3 of type dbl\n",
       "\n",
       "| 0.2857 | 0.5714 | 0.1429 |\n",
       "| 0.2857 | 0.5714 | 0.1429 |\n",
       "| 0.2857 | 0.5714 | 0.1429 |\n",
       "\n"
      ],
      "text/plain": [
       "     [,1]   [,2]   [,3]  \n",
       "[1,] 0.2857 0.5714 0.1429\n",
       "[2,] 0.2857 0.5714 0.1429\n",
       "[3,] 0.2857 0.5714 0.1429"
      ]
     },
     "metadata": {},
     "output_type": "display_data"
    }
   ],
   "source": [
    "P33power <- P%*%P #Pˆ2 \n",
    "P33power <- P33power%*%P33power #Pˆ4 \n",
    "P33power <- P33power%*%P33power #Pˆ8 \n",
    "P33power <- P33power%*%P33power #Pˆ16 \n",
    "P33power <- P33power%*%P33power #Pˆ32 \n",
    "P33power"
   ]
  },
  {
   "cell_type": "code",
   "execution_count": 58,
   "metadata": {
    "vscode": {
     "languageId": "r"
    }
   },
   "outputs": [
    {
     "data": {
      "text/html": [
       "<table class=\"dataframe\">\n",
       "<caption>A matrix: 1 × 3 of type dbl</caption>\n",
       "<tbody>\n",
       "\t<tr><td>0.2857</td><td>0.5715</td><td>0.1429</td></tr>\n",
       "</tbody>\n",
       "</table>\n"
      ],
      "text/latex": [
       "A matrix: 1 × 3 of type dbl\n",
       "\\begin{tabular}{lll}\n",
       "\t 0.2857 & 0.5715 & 0.1429\\\\\n",
       "\\end{tabular}\n"
      ],
      "text/markdown": [
       "\n",
       "A matrix: 1 × 3 of type dbl\n",
       "\n",
       "| 0.2857 | 0.5715 | 0.1429 |\n",
       "\n"
      ],
      "text/plain": [
       "     [,1]   [,2]   [,3]  \n",
       "[1,] 0.2857 0.5715 0.1429"
      ]
     },
     "metadata": {},
     "output_type": "display_data"
    },
    {
     "data": {
      "text/html": [
       "1"
      ],
      "text/latex": [
       "1"
      ],
      "text/markdown": [
       "1"
      ],
      "text/plain": [
       "[1] 1"
      ]
     },
     "metadata": {},
     "output_type": "display_data"
    }
   ],
   "source": [
    "q <- c(0.2857, 0.5714, 0.1429)\n",
    "q%*%P # test to see if equality holds here\n",
    "sum(q%*%P)"
   ]
  },
  {
   "attachments": {},
   "cell_type": "markdown",
   "metadata": {},
   "source": [
    "1. vector q is the unique solution to the equation: q=qP\n",
    "2. entries sum to one.\n",
    "   \n",
    "**Thus, P is a regular matrix**"
   ]
  },
  {
   "attachments": {},
   "cell_type": "markdown",
   "metadata": {},
   "source": [
    "### part e"
   ]
  },
  {
   "attachments": {},
   "cell_type": "markdown",
   "metadata": {},
   "source": [
    "Find the stationary distribution for the given Markov chain."
   ]
  },
  {
   "cell_type": "code",
   "execution_count": 60,
   "metadata": {
    "vscode": {
     "languageId": "r"
    }
   },
   "outputs": [
    {
     "data": {
      "text/html": [
       "<style>\n",
       ".list-inline {list-style: none; margin:0; padding: 0}\n",
       ".list-inline>li {display: inline-block}\n",
       ".list-inline>li:not(:last-child)::after {content: \"\\00b7\"; padding: 0 .5ex}\n",
       "</style>\n",
       "<ol class=list-inline><li>0.285714285714286</li><li>0.571428571428571</li><li>0.142857142857143</li></ol>\n"
      ],
      "text/latex": [
       "\\begin{enumerate*}\n",
       "\\item 0.285714285714286\n",
       "\\item 0.571428571428571\n",
       "\\item 0.142857142857143\n",
       "\\end{enumerate*}\n"
      ],
      "text/markdown": [
       "1. 0.285714285714286\n",
       "2. 0.571428571428571\n",
       "3. 0.142857142857143\n",
       "\n",
       "\n"
      ],
      "text/plain": [
       "[1] 0.2857 0.5714 0.1429"
      ]
     },
     "metadata": {},
     "output_type": "display_data"
    }
   ],
   "source": [
    "# Since the Stationary distribution is a (discrete) probability distribution, \n",
    "# its elements must sum to 1\n",
    "A <- t(P) - diag(rep(1,3))\n",
    "A <- rbind(A, rep(1,3))\n",
    "RHS <- c(rep(0, 3), 1)\n",
    "qr.solve(A, RHS)"
   ]
  }
 ],
 "metadata": {
  "kernelspec": {
   "display_name": "R",
   "language": "R",
   "name": "ir"
  },
  "language_info": {
   "codemirror_mode": "r",
   "file_extension": ".r",
   "mimetype": "text/x-r-source",
   "name": "R",
   "pygments_lexer": "r",
   "version": "4.2.1"
  },
  "orig_nbformat": 4
 },
 "nbformat": 4,
 "nbformat_minor": 2
}
