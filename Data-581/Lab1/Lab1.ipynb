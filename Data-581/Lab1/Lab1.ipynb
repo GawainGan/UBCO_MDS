{
 "cells": [
  {
   "cell_type": "markdown",
   "metadata": {},
   "source": [
    "# Q1\n",
    "\n"
   ]
  },
  {
   "cell_type": "markdown",
   "metadata": {},
   "source": [
    "## Enter the function SEcalculator() in R. Use it to obtain an estimate of the standard error of the following: "
   ]
  },
  {
   "cell_type": "markdown",
   "metadata": {},
   "source": [
    "### (a) the mean annual change of level in Lake Huron. Compare with the usual estimate s/ √ n.\n"
   ]
  },
  {
   "cell_type": "code",
   "execution_count": 1,
   "metadata": {
    "vscode": {
     "languageId": "r"
    }
   },
   "outputs": [],
   "source": [
    "SEcalsulator <- function(x, FUN, N=1000){\n",
    "      xResample <- numeric(N)\n",
    "      for (i in 1:N){\n",
    "      # FUN function生成sample，然后element依次放入xResample\n",
    "      xResample[i] <- FUN(sample(x, size = length(x), replace = TRUE))\n",
    "      }\n",
    "      sd(xResample)\n",
    "}"
   ]
  },
  {
   "cell_type": "code",
   "execution_count": 4,
   "metadata": {
    "vscode": {
     "languageId": "r"
    }
   },
   "outputs": [
    {
     "name": "stdout",
     "output_type": "stream",
     "text": [
      "mean_value of change of level in Lake Huron =  -0.004329897\n",
      "SE of mean_value of change of level in Lake Huron =  0.07266929"
     ]
    }
   ],
   "source": [
    "# the mean annual change of level in Lake Huron\n",
    "changes <- diff(LakeHuron)\n",
    "mean_value <- mean(changes)\n",
    "cat(\"mean_value of change of level in Lake Huron = \", mean_value)\n",
    "# Compare with the usual estimate s/(√n)\n",
    "cat(\"\\nSE of mean_value of change of level in Lake Huron = \", SEcalsulator(changes, mean))"
   ]
  },
  {
   "cell_type": "markdown",
   "metadata": {},
   "source": [
    "### (b) the variance of the annual change of level in Lake Huron.\n"
   ]
  },
  {
   "cell_type": "code",
   "execution_count": 6,
   "metadata": {
    "vscode": {
     "languageId": "r"
    }
   },
   "outputs": [
    {
     "name": "stdout",
     "output_type": "stream",
     "text": [
      "SE of var_value of change of level in Lake Huron =  0.07971708"
     ]
    }
   ],
   "source": [
    "# the variance of the annual change of level in Lake Huron.\n",
    "var_value <- var(changes)\n",
    "# var_value\n",
    "cat(\"SE of var_value of change of level in Lake Huron = \", SEcalsulator(changes, var))"
   ]
  },
  {
   "cell_type": "markdown",
   "metadata": {},
   "source": [
    "# Q2"
   ]
  },
  {
   "cell_type": "code",
   "execution_count": null,
   "metadata": {
    "vscode": {
     "languageId": "r"
    }
   },
   "outputs": [],
   "source": [
    "# Write a function called q90() which takes a single argument x and returns the 90th percentile of x, \n",
    "      # (hint: you can use quantile() in R to calculate the percentile.\n",
    "\n",
    "# Then estimate the standard error of the 90th percentile estimate for the annual changes in the Lake Huron water levels."
   ]
  },
  {
   "cell_type": "code",
   "execution_count": 7,
   "metadata": {
    "vscode": {
     "languageId": "r"
    }
   },
   "outputs": [
    {
     "name": "stdout",
     "output_type": "stream",
     "text": [
      "SE of q90_value of change of level in Lake Huron =  0.1453704"
     ]
    }
   ],
   "source": [
    "q90 <- function(x){\n",
    "      quantile(x, 0.9)\n",
    "}\n",
    "\n",
    "q90_value <- q90(changes)\n",
    "# SEcalsulator(changes, q90) # SEcalsulator需要带入的第二个值 是一个function\n",
    "cat(\"SE of q90_value of change of level in Lake Huron = \", SEcalsulator(changes, q90))"
   ]
  },
  {
   "cell_type": "markdown",
   "metadata": {},
   "source": [
    "# Q3"
   ]
  },
  {
   "cell_type": "markdown",
   "metadata": {},
   "source": [
    "<img src = '/Users/gawain/Desktop/3.UBC/Block3/Data-581 - Modelling/Labs/lab1-Q3.png'>"
   ]
  },
  {
   "cell_type": "markdown",
   "metadata": {},
   "source": [
    "# Q6"
   ]
  },
  {
   "cell_type": "code",
   "execution_count": 8,
   "metadata": {
    "vscode": {
     "languageId": "r"
    }
   },
   "outputs": [
    {
     "name": "stdout",
     "output_type": "stream",
     "text": [
      "\n",
      "The downloaded binary packages are in\n",
      "\t/var/folders/xb/ck19r6wj3s34sw5xpnr7_fbm0000gp/T//RtmpxCnD5U/downloaded_packages\n",
      "\n",
      "The downloaded binary packages are in\n",
      "\t/var/folders/xb/ck19r6wj3s34sw5xpnr7_fbm0000gp/T//RtmpxCnD5U/downloaded_packages\n"
     ]
    },
    {
     "name": "stderr",
     "output_type": "stream",
     "text": [
      "Loading required package: lattice\n",
      "\n",
      "Loading required package: KernSmooth\n",
      "\n",
      "KernSmooth 2.23 loaded\n",
      "Copyright M. P. Wand 1997-2009\n",
      "\n",
      "\n",
      "Attaching package: 'boot'\n",
      "\n",
      "\n",
      "The following object is masked from 'package:MPV':\n",
      "\n",
      "    motor\n",
      "\n",
      "\n",
      "The following object is masked from 'package:lattice':\n",
      "\n",
      "    melanoma\n",
      "\n",
      "\n"
     ]
    }
   ],
   "source": [
    "install.packages(\"MPV\") # if MPV is not installed \n",
    "install.packages(\"boot\") \n",
    "library(MPV) # loads MPV \n",
    "library(boot)"
   ]
  },
  {
   "cell_type": "code",
   "execution_count": 11,
   "metadata": {
    "vscode": {
     "languageId": "r"
    }
   },
   "outputs": [
    {
     "name": "stdout",
     "output_type": "stream",
     "text": [
      "p13.2                   package:MPV                    R Documentation\n",
      "\n",
      "_\bD_\ba_\bt_\ba _\bS_\be_\bt _\bf_\bo_\br _\bP_\br_\bo_\bb_\bl_\be_\bm _\b1_\b3-_\b2\n",
      "\n",
      "_\bD_\be_\bs_\bc_\br_\bi_\bp_\bt_\bi_\bo_\bn:\n",
      "\n",
      "     The 'p13.2' data frame has 20 observations on home ownership.\n",
      "\n",
      "_\bU_\bs_\ba_\bg_\be:\n",
      "\n",
      "     data(p13.2)\n",
      "     \n",
      "_\bF_\bo_\br_\bm_\ba_\bt:\n",
      "\n",
      "     This data frame contains the following columns:\n",
      "\n",
      "     x family income\n",
      "\n",
      "     y home ownership (1 = yes, 0 = no)\n",
      "\n",
      "_\bS_\bo_\bu_\br_\bc_\be:\n",
      "\n",
      "     Montgomery, D.C., Peck, E.A., and Vining, C.G. (2001) Introduction\n",
      "     to Linear Regression Analysis. 3rd Edition, John Wiley and Sons.\n",
      "\n",
      "_\bE_\bx_\ba_\bm_\bp_\bl_\be_\bs:\n",
      "\n",
      "     data(p13.2)\n",
      "     "
     ]
    }
   ],
   "source": [
    "help(p13.2) # look at the data"
   ]
  },
  {
   "cell_type": "markdown",
   "metadata": {},
   "source": [
    "### a. Why is this an example of data for which binary logistic regression makes sense?\n",
    "\n",
    "- Using binary logistic regression  because the response variable is binary (0 or 1)"
   ]
  },
  {
   "cell_type": "markdown",
   "metadata": {},
   "source": [
    "### b. Fit the binary logistic model to the data, using the glm() function, assign the output to an object called p13.glm.\n"
   ]
  },
  {
   "cell_type": "code",
   "execution_count": 12,
   "metadata": {
    "vscode": {
     "languageId": "r"
    }
   },
   "outputs": [],
   "source": [
    "p13.glm <- glm(p13.2$y ~ p13.2$x, family = binomial)"
   ]
  },
  {
   "cell_type": "markdown",
   "metadata": {},
   "source": [
    "### c. By using the command is.list(p13.glm), ﬁnd out whether the output from glm() is a list."
   ]
  },
  {
   "cell_type": "code",
   "execution_count": 13,
   "metadata": {
    "vscode": {
     "languageId": "r"
    }
   },
   "outputs": [
    {
     "data": {
      "text/html": [
       "TRUE"
      ],
      "text/latex": [
       "TRUE"
      ],
      "text/markdown": [
       "TRUE"
      ],
      "text/plain": [
       "[1] TRUE"
      ]
     },
     "metadata": {},
     "output_type": "display_data"
    }
   ],
   "source": [
    "p13.output <- is.list(p13.glm)\n",
    "p13.output\n",
    "# the output from glm() is a list"
   ]
  },
  {
   "cell_type": "markdown",
   "metadata": {},
   "source": [
    "### d.Write out the ﬁtted logit model"
   ]
  },
  {
   "cell_type": "code",
   "execution_count": 15,
   "metadata": {
    "vscode": {
     "languageId": "r"
    }
   },
   "outputs": [
    {
     "data": {
      "text/html": [
       "<style>\n",
       ".dl-inline {width: auto; margin:0; padding: 0}\n",
       ".dl-inline>dt, .dl-inline>dd {float: none; width: auto; display: inline-block}\n",
       ".dl-inline>dt::after {content: \":\\0020\"; padding-right: .5ex}\n",
       ".dl-inline>dt:not(:first-of-type) {padding-left: .5ex}\n",
       "</style><dl class=dl-inline><dt>(Intercept)</dt><dd>-8.7395139020794</dd><dt>p13.2$x</dt><dd>0.000200905637370257</dd></dl>\n"
      ],
      "text/latex": [
       "\\begin{description*}\n",
       "\\item[(Intercept)] -8.7395139020794\n",
       "\\item[p13.2\\textbackslash{}\\$x] 0.000200905637370257\n",
       "\\end{description*}\n"
      ],
      "text/markdown": [
       "(Intercept)\n",
       ":   -8.7395139020794p13.2$x\n",
       ":   0.000200905637370257\n",
       "\n"
      ],
      "text/plain": [
       "  (Intercept)       p13.2$x \n",
       "-8.7395139021  0.0002009056 "
      ]
     },
     "metadata": {},
     "output_type": "display_data"
    }
   ],
   "source": [
    "p13.glm.coef <- coef(p13.glm)\n",
    "p13.glm.coef"
   ]
  },
  {
   "cell_type": "markdown",
   "metadata": {},
   "source": [
    "(Intercept): -8.7395139020794       p13.2$x: 0.000200905637370257\n",
    "\n",
    "the fitted logit model is: y= -8.7395139020794 + 0.000200905637370257 * X"
   ]
  },
  {
   "cell_type": "markdown",
   "metadata": {},
   "source": [
    "# Q7"
   ]
  },
  {
   "cell_type": "markdown",
   "metadata": {},
   "source": [
    "Install the package boot(). \n",
    "\n",
    "Read the help ﬁle for boot() which executes the resampling of your dataset and calculation of your statistic(s) of interest on these samples. \n",
    "\n",
    "Before calling boot, you need to deﬁne a function that will return the statistic(s) that you would like to bootstrap. \n",
    "\n",
    "The ﬁrst argument passed to the function should be your dataset. \n",
    "\n",
    "The second argument can be an index vector of the observations in your dataset to use or a frequency or weight vector that informs the sampling probabilities. \n",
    "\n",
    "Consider the following sample:"
   ]
  },
  {
   "cell_type": "code",
   "execution_count": 16,
   "metadata": {
    "vscode": {
     "languageId": "r"
    }
   },
   "outputs": [
    {
     "name": "stdout",
     "output_type": "stream",
     "text": [
      "\n",
      "The downloaded binary packages are in\n",
      "\t/var/folders/xb/ck19r6wj3s34sw5xpnr7_fbm0000gp/T//RtmpxCnD5U/downloaded_packages\n"
     ]
    }
   ],
   "source": [
    "install.packages(\"boot\")\n",
    "library(boot)"
   ]
  },
  {
   "cell_type": "code",
   "execution_count": 1,
   "metadata": {
    "vscode": {
     "languageId": "r"
    }
   },
   "outputs": [],
   "source": [
    "# help(boot)"
   ]
  },
  {
   "cell_type": "code",
   "execution_count": 21,
   "metadata": {
    "vscode": {
     "languageId": "r"
    }
   },
   "outputs": [],
   "source": [
    "set.seed(123) # use this seed replicate same result \n",
    "x <- c(12, 14, 14, 15, 18, 21, 25, 29, 32, 35)\n",
    "\n",
    "#define function to return mean, \n",
    "myMean <- function(x,i) { \n",
    "      mean(x[i]) \n",
    "}"
   ]
  },
  {
   "cell_type": "markdown",
   "metadata": {},
   "source": [
    "We can pass myMean to calculate SE for the mean of the above sample.\n",
    "\n",
    "Create a function for calculating median and report the SE for statistic using 200 bootstrapping samples by using boot()\n"
   ]
  },
  {
   "cell_type": "code",
   "execution_count": 19,
   "metadata": {
    "vscode": {
     "languageId": "r"
    }
   },
   "outputs": [
    {
     "data": {
      "text/plain": [
       "\n",
       "ORDINARY NONPARAMETRIC BOOTSTRAP\n",
       "\n",
       "\n",
       "Call:\n",
       "boot(data = x, statistic = myMedian, R = 200)\n",
       "\n",
       "\n",
       "Bootstrap Statistics :\n",
       "    original  bias    std. error\n",
       "t1*     19.5  1.2375    4.555337"
      ]
     },
     "metadata": {},
     "output_type": "display_data"
    }
   ],
   "source": [
    "myMedian <- function(x,i) { \n",
    "      median(x[i]) \n",
    "}\n",
    "boot(x, myMedian, R=200)"
   ]
  }
 ],
 "metadata": {
  "kernelspec": {
   "display_name": "R",
   "language": "R",
   "name": "ir"
  },
  "language_info": {
   "codemirror_mode": "r",
   "file_extension": ".r",
   "mimetype": "text/x-r-source",
   "name": "R",
   "pygments_lexer": "r",
   "version": "4.2.1"
  },
  "orig_nbformat": 4,
  "vscode": {
   "interpreter": {
    "hash": "ee089c0d8a7b72a1db4475b00a1092da957cc6786a2373700bea0bde293de64c"
   }
  }
 },
 "nbformat": 4,
 "nbformat_minor": 2
}
