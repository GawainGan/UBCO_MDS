{
 "cells": [
  {
   "cell_type": "markdown",
   "metadata": {},
   "source": [
    "# 531 - Lab 1\n",
    "\n",
    "\n",
    "<div class=\"alert alert-info\" style=\"color:black\">\n",
    "\n",
    "### Submission Instructions \n",
    "\n",
    "Complete the following questions either using `ggplot` in R or `Altair` in Python. **Please note that two of your four assignments must be submitted using R and the other two must be submitted using Altair** (you choose which ones). Submit your completed assignment to Canvas, that is:\n",
    " \n",
    "- upload a rendered <code>.html</code> version of your assignment\n",
    "    - this can be done manually or using the last cell of this notebook\n",
    "- and the source file \n",
    "    - either a <code>.ipynb</code> or <code>.Rmd</code> file.\n",
    "    \n",
    "</div>"
   ]
  },
  {
   "cell_type": "code",
   "execution_count": 1,
   "metadata": {},
   "outputs": [],
   "source": [
    "# pip install altair_data_server"
   ]
  },
  {
   "cell_type": "code",
   "execution_count": 2,
   "metadata": {},
   "outputs": [],
   "source": [
    "# pip install rpy2"
   ]
  },
  {
   "cell_type": "code",
   "execution_count": 4,
   "metadata": {},
   "outputs": [],
   "source": [
    "# Run this cell to ensure that altair plots show up in the exported HTML\n",
    "# and that the R cell magic works\n",
    "import altair as alt #version 4.2.0\n",
    "from altair_data_server import data_server\n",
    "\n",
    "# Save a vega-lite spec and a PNG blob for each plot in the notebook\n",
    "alt.renderers.enable('default')\n",
    "# Handle large data sets without embedding them in the notebook\n",
    "alt.data_transformers.enable('data_server')\n",
    "\n",
    "# Load the R cell magic\n",
    "%load_ext rpy2.ipython"
   ]
  },
  {
   "cell_type": "code",
   "execution_count": 5,
   "metadata": {},
   "outputs": [],
   "source": [
    "import pandas as pd\n",
    "import numpy as np\n",
    "import matplotlib.pyplot as plt"
   ]
  },
  {
   "cell_type": "markdown",
   "metadata": {},
   "source": [
    "<div class=\"alert alert-info\" style=\"color:black\">\n",
    "\n",
    "### Question 1.1\n",
    "rubric={reasoning:1,writing:1}\n",
    "\n",
    "<p>To answer the first lab question\n",
    "<a href=https://www.youtube.com/watch?v=usdJgEwMinM>watch this 20 min video of Hans Rosling</a>\n",
    "a public health professor at Karolinska Institute\n",
    "who founded Gapminder together with his son and his son's wife.\n",
    "Although the video is almost 15 years old,\n",
    "it is a formidable demonstration on how to present data in a way that engages your audience\n",
    "while conveying a strong, important message.\n",
    "(The original clip has over 3 million views,\n",
    "but I linked you one of better video quality).</p>\n",
    "\n",
    "<p>Briefly describe (&lt;=90 words)\n",
    "what you think is the most important message conveyed in the video\n",
    "and which data visualization you think was the most effective\n",
    "in getting this message across to the viewers.</p>\n",
    "    \n",
    "</div>"
   ]
  },
  {
   "cell_type": "markdown",
   "metadata": {},
   "source": [
    "YOUR ANSWER GOES HERE"
   ]
  },
  {
   "cell_type": "code",
   "execution_count": null,
   "metadata": {},
   "outputs": [],
   "source": []
  },
  {
   "cell_type": "markdown",
   "metadata": {},
   "source": [
    "# 2. The Gapminder bubble chart\n",
    "\n",
    "The \"bubble chart\" have become quite famous from their appearance in the Gapminder talks,\n",
    "and are widely used in other areas as well.\n",
    "Let's start by recreating a simple version of this chart ourselves!\n",
    "\n",
    "There will be some data wrangling involved in this lab,\n",
    "and since 531 is primarily about visualization and this is the first lab,\n",
    "I will give you some hints for most data wrangling parts of this lab.\n",
    "Often I will link documentation or StackOverflow,\n",
    "so that you get practice finding information on these sources,\n",
    "and sometimes you will need to search them yourself if I haven't included a link.\n",
    "\n",
    "We will not use all the columns in the data set,\n",
    "but here is a description of what the data set contain\n",
    "that you can refer back to throughout the lab.\n",
    "\n",
    "| Column                | Description                                                                                  |\n",
    "|-----------------------|----------------------------------------------------------------------------------------------|\n",
    "| country               | Country name                                                                                 |\n",
    "| year                  | Year of observation                                                                          |\n",
    "| population            | Population in the country at each year                                                       |\n",
    "| region                | Continent the country belongs to                                                             |\n",
    "| sub_region            | Sub-region the country belongs to                                                            |\n",
    "| income_group          | Income group [as specified by the world bank in 2018]                                                |\n",
    "| life_expectancy       | The mean number of years a newborn would <br>live if mortality patterns remained constant    |\n",
    "| income                | GDP per capita (in USD) <em>adjusted <br>for differences in purchasing power</em>            |\n",
    "| children_per_woman    | Average number of children born per woman                                                    |\n",
    "| child_mortality       | Deaths of children under 5 years <break>of age per 1000 live births                          |\n",
    "| pop_density           | Average number of people per km<sup>2</sup>                                                  |\n",
    "| co2_per_capita        | CO2 emissions from fossil fuels (tonnes per capita)                                          |\n",
    "| years_in_school_men   | Mean number of years in primary, secondary,<br>and tertiary school for 25-36 years old men   |\n",
    "| years_in_school_women | Mean number of years in primary, secondary,<br>and tertiary school for 25-36 years old women |\n",
    "\n",
    "[as specified by the world bank in 2018]: https://datahelpdesk.worldbank.org/knowledgebase/articles/378833-how-are-the-income-group-thresholds-determined"
   ]
  },
  {
   "cell_type": "markdown",
   "metadata": {},
   "source": [
    "<div class=\"alert alert-info\" style=\"color:black\">\n",
    "\n",
    "### Question 2.1\n",
    "rubric={accuracy:1,quality:1,viz:2}\n",
    "\n",
    "<h4>Python</h4>\n",
    "<ol type=\"1\">\n",
    "<li>The 2018 Gapminder data  can be found at <a href=https://raw.githubusercontent.com/UofTCoders/workshops-dc-py/master/data/processed/world-data-gapminder.csv>  this URL.</a> Use <code>read_csv</code> from <code>pandas</code> to load the data directly from the URL and assign it a suitable variable name. Set the <code>parse_dates</code> parameter to <code>['year']</code> to ensure that Altair recognizes this columns as time data.</li>\n",
    "<li>Now let’s create a similar bubble chart to what you saw in the video:\n",
    "<ul>\n",
    "<li>Filter the dataframe to only keep observations from a single year, 1962. You can create a new data frame variable or perform the filtering directly as you pass the data to Altair. Dates can be matched as strings when filtering.</li>\n",
    "<li>Use a circle mark to recreate the appearance of the plot in the video.</li>\n",
    "<li>Encode the proper variables so that children per woman is on the x-axis, life expectancy on the y-axis, and so that the circles’ color corresponds to their region, and the size reflects the population.</li>\n",
    "</ul></li>\n",
    "</ol>\n",
    "<p> Don't worry about getting axis labels and sizes to be exactly like in the video,\n",
    "we will return to this code later in the lab to customize it.</p>\n",
    "</div>"
   ]
  },
  {
   "cell_type": "code",
   "execution_count": 15,
   "metadata": {},
   "outputs": [
    {
     "name": "stderr",
     "output_type": "stream",
     "text": [
      "/Users/gawain/.pyenv/versions/3.9.1/lib/python3.9/site-packages/altair/utils/core.py:317: FutureWarning: iteritems is deprecated and will be removed in a future version. Use .items instead.\n",
      "  for col_name, dtype in df.dtypes.iteritems():\n"
     ]
    },
    {
     "data": {
      "text/html": [
       "\n",
       "<div id=\"altair-viz-adcaee444c494ef09cc135bff82198d6\"></div>\n",
       "<script type=\"text/javascript\">\n",
       "  var VEGA_DEBUG = (typeof VEGA_DEBUG == \"undefined\") ? {} : VEGA_DEBUG;\n",
       "  (function(spec, embedOpt){\n",
       "    let outputDiv = document.currentScript.previousElementSibling;\n",
       "    if (outputDiv.id !== \"altair-viz-adcaee444c494ef09cc135bff82198d6\") {\n",
       "      outputDiv = document.getElementById(\"altair-viz-adcaee444c494ef09cc135bff82198d6\");\n",
       "    }\n",
       "    const paths = {\n",
       "      \"vega\": \"https://cdn.jsdelivr.net/npm//vega@5?noext\",\n",
       "      \"vega-lib\": \"https://cdn.jsdelivr.net/npm//vega-lib?noext\",\n",
       "      \"vega-lite\": \"https://cdn.jsdelivr.net/npm//vega-lite@4.17.0?noext\",\n",
       "      \"vega-embed\": \"https://cdn.jsdelivr.net/npm//vega-embed@6?noext\",\n",
       "    };\n",
       "\n",
       "    function maybeLoadScript(lib, version) {\n",
       "      var key = `${lib.replace(\"-\", \"\")}_version`;\n",
       "      return (VEGA_DEBUG[key] == version) ?\n",
       "        Promise.resolve(paths[lib]) :\n",
       "        new Promise(function(resolve, reject) {\n",
       "          var s = document.createElement('script');\n",
       "          document.getElementsByTagName(\"head\")[0].appendChild(s);\n",
       "          s.async = true;\n",
       "          s.onload = () => {\n",
       "            VEGA_DEBUG[key] = version;\n",
       "            return resolve(paths[lib]);\n",
       "          };\n",
       "          s.onerror = () => reject(`Error loading script: ${paths[lib]}`);\n",
       "          s.src = paths[lib];\n",
       "        });\n",
       "    }\n",
       "\n",
       "    function showError(err) {\n",
       "      outputDiv.innerHTML = `<div class=\"error\" style=\"color:red;\">${err}</div>`;\n",
       "      throw err;\n",
       "    }\n",
       "\n",
       "    function displayChart(vegaEmbed) {\n",
       "      vegaEmbed(outputDiv, spec, embedOpt)\n",
       "        .catch(err => showError(`Javascript Error: ${err.message}<br>This usually means there's a typo in your chart specification. See the javascript console for the full traceback.`));\n",
       "    }\n",
       "\n",
       "    if(typeof define === \"function\" && define.amd) {\n",
       "      requirejs.config({paths});\n",
       "      require([\"vega-embed\"], displayChart, err => showError(`Error loading script: ${err.message}`));\n",
       "    } else {\n",
       "      maybeLoadScript(\"vega\", \"5\")\n",
       "        .then(() => maybeLoadScript(\"vega-lite\", \"4.17.0\"))\n",
       "        .then(() => maybeLoadScript(\"vega-embed\", \"6\"))\n",
       "        .catch(showError)\n",
       "        .then(() => displayChart(vegaEmbed));\n",
       "    }\n",
       "  })({\"config\": {\"view\": {\"continuousWidth\": 400, \"continuousHeight\": 300}}, \"data\": {\"url\": \"http://localhost:57421/97bb24270e4daa5ae2402000ba80d7f8.json\"}, \"mark\": \"circle\", \"encoding\": {\"color\": {\"field\": \"region\", \"type\": \"nominal\"}, \"size\": {\"field\": \"population\", \"type\": \"quantitative\"}, \"x\": {\"field\": \"children_per_woman\", \"type\": \"quantitative\"}, \"y\": {\"field\": \"life_expectancy\", \"type\": \"quantitative\"}}, \"$schema\": \"https://vega.github.io/schema/vega-lite/v4.17.0.json\"}, {\"mode\": \"vega-lite\"});\n",
       "</script>"
      ],
      "text/plain": [
       "alt.Chart(...)"
      ]
     },
     "execution_count": 15,
     "metadata": {},
     "output_type": "execute_result"
    }
   ],
   "source": [
    "import pandas as pd\n",
    "import altair as alt\n",
    "\n",
    "url = \"https://raw.githubusercontent.com/UofTCoders/workshops-dc-py/master/data/processed/world-data-gapminder.csv\"\n",
    "data = pd.read_csv(url, parse_dates=['year'])\n",
    "\n",
    "data_1962 = data[data['year'] == '1962-01-01']\n",
    "\n",
    "alt.Chart(data_1962).mark_circle().encode(\n",
    "      x='children_per_woman:Q',\n",
    "      y='life_expectancy:Q',\n",
    "      color='region:N',\n",
    "      size='population:Q'\n",
    ")\n"
   ]
  },
  {
   "cell_type": "markdown",
   "metadata": {},
   "source": [
    "<div class=\"alert alert-success\" style=\"color:black\">\n",
    "\n",
    "### Question 2.2\n",
    "rubric={accuracy:1,quality:1,viz:2}\n",
    "\n",
    "<h4>\n",
    "R\n",
    "</h4>\n",
    "<ol type=\"1\">\n",
    "<li>The 2018 Gapminder data  can be found at <a href=https://raw.githubusercontent.com/UofTCoders/workshops-dc-py/master/data/processed/world-data-gapminder.csv> this URL. </a> Use <code>read_csv</code> from the <code>readr</code> (or <code>read.csv</code> from base R) to load the data directly from the URL and assign it a suitable variable name.</li>\n",
    "<li>Now let’s create a similar bubble chart to what you saw in the video:\n",
    "<ul>\n",
    "<li>Filter the dataframe to only keep observations from a single year, 1962. You can create a new data frame variable or (preferably) perform the filtering directly and pipe it to ggplot. Dates can be matched as strings when filtering.</li>\n",
    "<li>Use a point geom to recreate the appearance of the plot in the video.</li>\n",
    "<li>Encode the proper variables so that children per woman is on the x-axis, life expectancy on the y-axis, and so that the circles’ color corresponds to their region, and the size reflects the population.</li>\n",
    "</ul></li>\n",
    "</ol>\n",
    "<p> Don't worry about getting axis labels and sizes to be exactly like in the video,\n",
    "we will return to this code later in the lab to customize it.</p>\n",
    "</div>"
   ]
  },
  {
   "cell_type": "code",
   "execution_count": null,
   "metadata": {},
   "outputs": [],
   "source": [
    "%%R -w 550 -h 375\n",
    "# YOUR R ANSWER GOES HERE"
   ]
  },
  {
   "cell_type": "markdown",
   "metadata": {},
   "source": [
    "# 3. Education balance\n",
    "\n",
    "A common misconception is that women around the world go to school many years less than men. Let’s find out what the data actually says about this."
   ]
  },
  {
   "cell_type": "markdown",
   "metadata": {},
   "source": [
    "<div class=\"alert alert-info\" style=\"color:black\">\n",
    "\n",
    "### Question 3.1\n",
    "rubric={accuracy:2,quality:1,viz:2}\n",
    "\n",
    "<h4>\n",
    "Python\n",
    "</h4>\n",
    "<ol type=\"1\">\n",
    "<li>Compute a new column in your dataframe that represents the ratio between the number of years in school for women and men (calculate it so that the value 1 means as many years for both, and 0.5 means half as many for women compared to men).</li>\n",
    "<li>Filter the dataframe to only contain value from 1970 - 2015, since those are the years where the education data has been recorded. Again you can either create a new variable or perform the filtering as you pass the data to the plotting function.</li>\n",
    "<li>Create a line plot showing how the ratio of women’s of men’s years in school has changed over time. Group the data by income group and plot the mean for each group.</li>\n",
    "<li>Use layering to add a square mark for every data point in your line plot (so one per yearly mean in each group).</li>\n",
    "</ol>\n",
    "\n",
    "</div>"
   ]
  },
  {
   "cell_type": "code",
   "execution_count": 43,
   "metadata": {},
   "outputs": [
    {
     "name": "stderr",
     "output_type": "stream",
     "text": [
      "/var/folders/xb/ck19r6wj3s34sw5xpnr7_fbm0000gp/T/ipykernel_47562/1957575149.py:10: FutureWarning: The default value of numeric_only in DataFrameGroupBy.mean is deprecated. In a future version, numeric_only will default to False. Either specify numeric_only or select only columns which should be valid for the function.\n",
      "  line_data = data_1970_2015.groupby(['year','income_group']).mean().reset_index()\n",
      "/Users/gawain/.pyenv/versions/3.9.1/lib/python3.9/site-packages/altair/utils/core.py:317: FutureWarning: iteritems is deprecated and will be removed in a future version. Use .items instead.\n",
      "  for col_name, dtype in df.dtypes.iteritems():\n"
     ]
    },
    {
     "data": {
      "text/html": [
       "\n",
       "<div id=\"altair-viz-eeacbc2978884e33995a0f4b49ccea36\"></div>\n",
       "<script type=\"text/javascript\">\n",
       "  var VEGA_DEBUG = (typeof VEGA_DEBUG == \"undefined\") ? {} : VEGA_DEBUG;\n",
       "  (function(spec, embedOpt){\n",
       "    let outputDiv = document.currentScript.previousElementSibling;\n",
       "    if (outputDiv.id !== \"altair-viz-eeacbc2978884e33995a0f4b49ccea36\") {\n",
       "      outputDiv = document.getElementById(\"altair-viz-eeacbc2978884e33995a0f4b49ccea36\");\n",
       "    }\n",
       "    const paths = {\n",
       "      \"vega\": \"https://cdn.jsdelivr.net/npm//vega@5?noext\",\n",
       "      \"vega-lib\": \"https://cdn.jsdelivr.net/npm//vega-lib?noext\",\n",
       "      \"vega-lite\": \"https://cdn.jsdelivr.net/npm//vega-lite@4.17.0?noext\",\n",
       "      \"vega-embed\": \"https://cdn.jsdelivr.net/npm//vega-embed@6?noext\",\n",
       "    };\n",
       "\n",
       "    function maybeLoadScript(lib, version) {\n",
       "      var key = `${lib.replace(\"-\", \"\")}_version`;\n",
       "      return (VEGA_DEBUG[key] == version) ?\n",
       "        Promise.resolve(paths[lib]) :\n",
       "        new Promise(function(resolve, reject) {\n",
       "          var s = document.createElement('script');\n",
       "          document.getElementsByTagName(\"head\")[0].appendChild(s);\n",
       "          s.async = true;\n",
       "          s.onload = () => {\n",
       "            VEGA_DEBUG[key] = version;\n",
       "            return resolve(paths[lib]);\n",
       "          };\n",
       "          s.onerror = () => reject(`Error loading script: ${paths[lib]}`);\n",
       "          s.src = paths[lib];\n",
       "        });\n",
       "    }\n",
       "\n",
       "    function showError(err) {\n",
       "      outputDiv.innerHTML = `<div class=\"error\" style=\"color:red;\">${err}</div>`;\n",
       "      throw err;\n",
       "    }\n",
       "\n",
       "    function displayChart(vegaEmbed) {\n",
       "      vegaEmbed(outputDiv, spec, embedOpt)\n",
       "        .catch(err => showError(`Javascript Error: ${err.message}<br>This usually means there's a typo in your chart specification. See the javascript console for the full traceback.`));\n",
       "    }\n",
       "\n",
       "    if(typeof define === \"function\" && define.amd) {\n",
       "      requirejs.config({paths});\n",
       "      require([\"vega-embed\"], displayChart, err => showError(`Error loading script: ${err.message}`));\n",
       "    } else {\n",
       "      maybeLoadScript(\"vega\", \"5\")\n",
       "        .then(() => maybeLoadScript(\"vega-lite\", \"4.17.0\"))\n",
       "        .then(() => maybeLoadScript(\"vega-embed\", \"6\"))\n",
       "        .catch(showError)\n",
       "        .then(() => displayChart(vegaEmbed));\n",
       "    }\n",
       "  })({\"config\": {\"view\": {\"continuousWidth\": 400, \"continuousHeight\": 300}}, \"layer\": [{\"mark\": \"line\", \"encoding\": {\"color\": {\"field\": \"income_group\", \"type\": \"nominal\"}, \"x\": {\"field\": \"year\", \"type\": \"temporal\"}, \"y\": {\"field\": \"edu_ratio\", \"type\": \"quantitative\"}}}, {\"mark\": \"square\", \"encoding\": {\"color\": {\"field\": \"income_group\", \"type\": \"nominal\"}, \"x\": {\"field\": \"year\", \"type\": \"temporal\"}, \"y\": {\"field\": \"edu_ratio\", \"type\": \"quantitative\"}}}], \"data\": {\"url\": \"http://localhost:57421/5d91ff8557cdd5e2a6cbfd4dbf32dcac.json\"}, \"$schema\": \"https://vega.github.io/schema/vega-lite/v4.17.0.json\"}, {\"mode\": \"vega-lite\"});\n",
       "</script>"
      ],
      "text/plain": [
       "alt.LayerChart(...)"
      ]
     },
     "execution_count": 43,
     "metadata": {},
     "output_type": "execute_result"
    }
   ],
   "source": [
    "url = \"https://raw.githubusercontent.com/UofTCoders/workshops-dc-py/master/data/processed/world-data-gapminder.csv\"\n",
    "data = pd.read_csv(url, parse_dates=['year'])\n",
    "\n",
    "# data = data.dropna()\n",
    "# data.isnull().sum().sum()\n",
    "\n",
    "data['edu_ratio'] = data['years_in_school_women'] / data['years_in_school_men']\n",
    "data_1970_2015 = data[(data['year'] >= '1970-01-01') & (data['year'] <= '2015-12-31')]\n",
    "\n",
    "line_data = data_1970_2015.groupby(['year','income_group']).mean().reset_index()\n",
    "\n",
    "alt.Chart(line_data).mark_line().encode(\n",
    "      x='year:T',\n",
    "      y='edu_ratio:Q',\n",
    "      color='income_group:N'\n",
    ")+ alt.Chart(line_data).mark_square().encode(\n",
    "      x='year:T',\n",
    "      y='edu_ratio:Q',\n",
    "      color='income_group:N'\n",
    ")\n"
   ]
  },
  {
   "cell_type": "markdown",
   "metadata": {},
   "source": [
    "<div class=\"alert alert-success\" style=\"color:black\">\n",
    "\n",
    "### Question 3.2\n",
    "rubric={accuracy:2,quality:1,viz:2}\n",
    "\n",
    "<h4>\n",
    "R\n",
    "</h4>\n",
    "<ol type=\"1\">\n",
    "<li>Compute a new column in your dataframe that represents the ratio between the number of years in school for women and men (calculate it so that the value 1 means as many years for both, and 0.5 means half as many for women compared to men).</li>\n",
    "<li>Filter the dataframe to only contain value from 1970 - 2015, since those are the years where the education data has been recorded. Again you can either create a new variable or perform the filtering as you pass the data to the plotting function.</li>\n",
    "<li>Create a line plot showing how the ratio of women’s of men’s years in school has changed over time. Group the data by income group and plot the mean for each group.</li>\n",
    "<li>Use layering to add a square mark for every data point in your line plot (so one per yearly mean in each group). Look into the `shape` parameter for `geom_point`.</li>\n",
    "</ol>\n",
    "</div>"
   ]
  },
  {
   "cell_type": "code",
   "execution_count": null,
   "metadata": {},
   "outputs": [],
   "source": [
    "%%R -w 550 -h 375\n",
    "# YOUR R ANSWER GOES HERE"
   ]
  },
  {
   "cell_type": "markdown",
   "metadata": {},
   "source": [
    "<div class=\"alert alert-warning\" style=\"color:black\">\n",
    "\n",
    "### Question 3.3 (Optional)\n",
    "rubric={accuracy:1}\n",
    "\n",
    "<h4>\n",
    "Python\n",
    "</h4>\n",
    "Add <a href=https://altair-viz.github.io/gallery/line_with_ci.html> a confidence interval band</a>\n",
    "to your line + square plot by assigning the plot in the previous question to a variable name\n",
    "and then using layering to add the band.\n",
    "The default in the link above is a 95% bootstrapped confidence interval.\n",
    "</div>"
   ]
  },
  {
   "cell_type": "code",
   "execution_count": 48,
   "metadata": {},
   "outputs": [
    {
     "data": {
      "text/html": [
       "\n",
       "<div id=\"altair-viz-57ab0a2136ff450795d22451fe77df7e\"></div>\n",
       "<script type=\"text/javascript\">\n",
       "  var VEGA_DEBUG = (typeof VEGA_DEBUG == \"undefined\") ? {} : VEGA_DEBUG;\n",
       "  (function(spec, embedOpt){\n",
       "    let outputDiv = document.currentScript.previousElementSibling;\n",
       "    if (outputDiv.id !== \"altair-viz-57ab0a2136ff450795d22451fe77df7e\") {\n",
       "      outputDiv = document.getElementById(\"altair-viz-57ab0a2136ff450795d22451fe77df7e\");\n",
       "    }\n",
       "    const paths = {\n",
       "      \"vega\": \"https://cdn.jsdelivr.net/npm//vega@5?noext\",\n",
       "      \"vega-lib\": \"https://cdn.jsdelivr.net/npm//vega-lib?noext\",\n",
       "      \"vega-lite\": \"https://cdn.jsdelivr.net/npm//vega-lite@4.17.0?noext\",\n",
       "      \"vega-embed\": \"https://cdn.jsdelivr.net/npm//vega-embed@6?noext\",\n",
       "    };\n",
       "\n",
       "    function maybeLoadScript(lib, version) {\n",
       "      var key = `${lib.replace(\"-\", \"\")}_version`;\n",
       "      return (VEGA_DEBUG[key] == version) ?\n",
       "        Promise.resolve(paths[lib]) :\n",
       "        new Promise(function(resolve, reject) {\n",
       "          var s = document.createElement('script');\n",
       "          document.getElementsByTagName(\"head\")[0].appendChild(s);\n",
       "          s.async = true;\n",
       "          s.onload = () => {\n",
       "            VEGA_DEBUG[key] = version;\n",
       "            return resolve(paths[lib]);\n",
       "          };\n",
       "          s.onerror = () => reject(`Error loading script: ${paths[lib]}`);\n",
       "          s.src = paths[lib];\n",
       "        });\n",
       "    }\n",
       "\n",
       "    function showError(err) {\n",
       "      outputDiv.innerHTML = `<div class=\"error\" style=\"color:red;\">${err}</div>`;\n",
       "      throw err;\n",
       "    }\n",
       "\n",
       "    function displayChart(vegaEmbed) {\n",
       "      vegaEmbed(outputDiv, spec, embedOpt)\n",
       "        .catch(err => showError(`Javascript Error: ${err.message}<br>This usually means there's a typo in your chart specification. See the javascript console for the full traceback.`));\n",
       "    }\n",
       "\n",
       "    if(typeof define === \"function\" && define.amd) {\n",
       "      requirejs.config({paths});\n",
       "      require([\"vega-embed\"], displayChart, err => showError(`Error loading script: ${err.message}`));\n",
       "    } else {\n",
       "      maybeLoadScript(\"vega\", \"5\")\n",
       "        .then(() => maybeLoadScript(\"vega-lite\", \"4.17.0\"))\n",
       "        .then(() => maybeLoadScript(\"vega-embed\", \"6\"))\n",
       "        .catch(showError)\n",
       "        .then(() => displayChart(vegaEmbed));\n",
       "    }\n",
       "  })({\"config\": {\"view\": {\"continuousWidth\": 400, \"continuousHeight\": 300}}, \"layer\": [{\"mark\": \"line\", \"encoding\": {\"color\": {\"field\": \"income_group\", \"type\": \"nominal\"}, \"x\": {\"field\": \"year\", \"type\": \"temporal\"}, \"y\": {\"field\": \"edu_ratio\", \"type\": \"quantitative\"}}}, {\"mark\": \"square\", \"encoding\": {\"color\": {\"field\": \"income_group\", \"type\": \"nominal\"}, \"x\": {\"field\": \"year\", \"type\": \"temporal\"}, \"y\": {\"field\": \"edu_ratio\", \"type\": \"quantitative\"}}}, {\"data\": {\"url\": \"http://localhost:57421/dda2ed3d8e7a4ded0d7dd03c63764cf8.json\"}, \"mark\": {\"type\": \"errorband\", \"extent\": \"ci\"}, \"encoding\": {\"color\": {\"field\": \"income_group\", \"type\": \"nominal\"}, \"x\": {\"field\": \"year\", \"type\": \"temporal\"}, \"y\": {\"field\": \"edu_ratio\", \"type\": \"quantitative\"}}}], \"data\": {\"url\": \"http://localhost:57421/5d91ff8557cdd5e2a6cbfd4dbf32dcac.json\"}, \"$schema\": \"https://vega.github.io/schema/vega-lite/v4.17.0.json\"}, {\"mode\": \"vega-lite\"});\n",
       "</script>"
      ],
      "text/plain": [
       "alt.LayerChart(...)"
      ]
     },
     "execution_count": 48,
     "metadata": {},
     "output_type": "execute_result"
    }
   ],
   "source": [
    "chart = alt.Chart(line_data).mark_line().encode(\n",
    "    x='year:T',\n",
    "    y='edu_ratio:Q',\n",
    "    color='income_group:N'\n",
    ") + alt.Chart(line_data).mark_square().encode(\n",
    "    \n",
    "    x='year:T',\n",
    "    y='edu_ratio:Q',\n",
    "    color='income_group:N'\n",
    ")\n",
    "\n",
    "band = alt.Chart(data_1970_2015).mark_errorband(extent='ci').encode(\n",
    "    x='year:T',\n",
    "    y='edu_ratio:Q',\n",
    "    color='income_group:N'\n",
    ")\n",
    "\n",
    "chart+band\n"
   ]
  },
  {
   "cell_type": "markdown",
   "metadata": {},
   "source": [
    "<div class=\"alert alert-warning\" style=\"color:black\">\n",
    "\n",
    "### Question 3.4 (Optional)\n",
    "rubric={accuracy:1}\n",
    "\n",
    "<h4>\n",
    "R\n",
    "</h4>\n",
    "Add <a href=https://stackoverflow.com/a/32671983/2166823> a confidence interval band</a>\n",
    "to your line + square plot by assigning the plot in the previous question to a variable name\n",
    "and then using layering to add the band. Although the answer in that link uses <code>stat_summary(geom = 'ribbon'...)</code>,\n",
    "you can use <code>geom_ribbon(stat = 'summary'...)</code> as we did in the lecture.\n",
    "Also note that you need the <code>Hmisc</code> package installed to use <a href=https://ggplot2.tidyverse.org/reference/hmisc.html> the mean_cl_boot function</a>,\n",
    "which you should use here to create a 95% bootstrapped confidence interval,\n",
    "just as in the Python plot above.\n",
    "    \n",
    "</div>"
   ]
  },
  {
   "cell_type": "code",
   "execution_count": null,
   "metadata": {},
   "outputs": [],
   "source": [
    "%%R -w 550 -h 375\n",
    "# YOUR R ANSWER GOES HERE"
   ]
  },
  {
   "cell_type": "markdown",
   "metadata": {},
   "source": [
    "# 4. Family planning\n",
    "\n",
    "Another common misconception is that saving the lives of children in low income countries\n",
    "will lead to overpopulation.\n",
    "Rather,\n",
    "lower child mortality is actually correlated with smaller family sizes.\n",
    "As more children survive,\n",
    "parents feel more secure with a smaller family size.\n",
    "Let's have a look in the data to see how this relationship has evolved over time.\n",
    "\n",
    "In the plots we are going to make,\n",
    "it is important to note that it is not possible to tell causation,\n",
    "just correlation.\n",
    "However,\n",
    "in the [Gapminder](https://www.gapminder.org/videos/) video library\n",
    "there are a few videos on this topic\n",
    "(including [this](https://www.gapminder.org/answers/will-saving-poor-children-lead-to-overpopulation/)\n",
    "and [this](https://www.gapminder.org/videos/population-growth-explained-with-ikea-boxes/) one),\n",
    "discussing how reducing poverty can help slow down population growth\n",
    "through decreased family sizes.\n",
    "Current estimates suggest that the word population\n",
    "will stabilize around 11 billion people\n",
    "and the average number of children per woman\n",
    "will be close to two worldwide in year 2100."
   ]
  },
  {
   "cell_type": "markdown",
   "metadata": {},
   "source": [
    "<div class=\"alert alert-info\" style=\"color:black\">\n",
    "\n",
    "### Question 4.1\n",
    "rubric={accuracy:1,viz:2,reasoning:1}\n",
    "\n",
    "<h4>\n",
    "Python\n",
    "</h4>\n",
    "<ol type=\"1\">\n",
    "<li>Filter the data to include only the years 1918, 1938, 1958, 1978, 1998, and 2018. To do this, you need to write out the full date strings, <code>'1918-01-01'</code> etc, or use <code>pd.to_datetime</code> with <code>format=%Y</code> on a list of the year integers only, up to you which one.</li>\n",
    "<li>Use filled circles to make a scatter plot with children per women on the x-axis, child mortality on the y-axis, and the circles colored by the income group.</li>\n",
    "<li>Facet your data into six subplots, one for each year laid out in 3 columns and 2 rows. To avoid taking too much space, set the width and height of the plots to suitable numbers.</li>\n",
    "<li>Briefly describe your interpretation of the data. Does it support what was written in the introduction to this section of the lab? Why / why not?</li>\n",
    "</ol>\n",
    "</div>"
   ]
  },
  {
   "cell_type": "code",
   "execution_count": 64,
   "metadata": {},
   "outputs": [],
   "source": [
    "years = [1918, 1938, 1958, 1978, 1998, 2018]\n",
    "years = [str(year) + '-01-01' for year in years]\n",
    "data_years = data[data['year'].isin(years)]"
   ]
  },
  {
   "cell_type": "code",
   "execution_count": 78,
   "metadata": {},
   "outputs": [
    {
     "data": {
      "text/html": [
       "\n",
       "<div id=\"altair-viz-e3c5216fae7546d1b37d5a3d05438a59\"></div>\n",
       "<script type=\"text/javascript\">\n",
       "  var VEGA_DEBUG = (typeof VEGA_DEBUG == \"undefined\") ? {} : VEGA_DEBUG;\n",
       "  (function(spec, embedOpt){\n",
       "    let outputDiv = document.currentScript.previousElementSibling;\n",
       "    if (outputDiv.id !== \"altair-viz-e3c5216fae7546d1b37d5a3d05438a59\") {\n",
       "      outputDiv = document.getElementById(\"altair-viz-e3c5216fae7546d1b37d5a3d05438a59\");\n",
       "    }\n",
       "    const paths = {\n",
       "      \"vega\": \"https://cdn.jsdelivr.net/npm//vega@5?noext\",\n",
       "      \"vega-lib\": \"https://cdn.jsdelivr.net/npm//vega-lib?noext\",\n",
       "      \"vega-lite\": \"https://cdn.jsdelivr.net/npm//vega-lite@4.17.0?noext\",\n",
       "      \"vega-embed\": \"https://cdn.jsdelivr.net/npm//vega-embed@6?noext\",\n",
       "    };\n",
       "\n",
       "    function maybeLoadScript(lib, version) {\n",
       "      var key = `${lib.replace(\"-\", \"\")}_version`;\n",
       "      return (VEGA_DEBUG[key] == version) ?\n",
       "        Promise.resolve(paths[lib]) :\n",
       "        new Promise(function(resolve, reject) {\n",
       "          var s = document.createElement('script');\n",
       "          document.getElementsByTagName(\"head\")[0].appendChild(s);\n",
       "          s.async = true;\n",
       "          s.onload = () => {\n",
       "            VEGA_DEBUG[key] = version;\n",
       "            return resolve(paths[lib]);\n",
       "          };\n",
       "          s.onerror = () => reject(`Error loading script: ${paths[lib]}`);\n",
       "          s.src = paths[lib];\n",
       "        });\n",
       "    }\n",
       "\n",
       "    function showError(err) {\n",
       "      outputDiv.innerHTML = `<div class=\"error\" style=\"color:red;\">${err}</div>`;\n",
       "      throw err;\n",
       "    }\n",
       "\n",
       "    function displayChart(vegaEmbed) {\n",
       "      vegaEmbed(outputDiv, spec, embedOpt)\n",
       "        .catch(err => showError(`Javascript Error: ${err.message}<br>This usually means there's a typo in your chart specification. See the javascript console for the full traceback.`));\n",
       "    }\n",
       "\n",
       "    if(typeof define === \"function\" && define.amd) {\n",
       "      requirejs.config({paths});\n",
       "      require([\"vega-embed\"], displayChart, err => showError(`Error loading script: ${err.message}`));\n",
       "    } else {\n",
       "      maybeLoadScript(\"vega\", \"5\")\n",
       "        .then(() => maybeLoadScript(\"vega-lite\", \"4.17.0\"))\n",
       "        .then(() => maybeLoadScript(\"vega-embed\", \"6\"))\n",
       "        .catch(showError)\n",
       "        .then(() => displayChart(vegaEmbed));\n",
       "    }\n",
       "  })({\"config\": {\"view\": {\"continuousWidth\": 400, \"continuousHeight\": 300}}, \"data\": {\"url\": \"http://localhost:57421/1b44d3a47c8513eaa0ce46a58bd9fbc1.json\"}, \"mark\": \"circle\", \"encoding\": {\"color\": {\"field\": \"income_group\", \"type\": \"nominal\"}, \"facet\": {\"columns\": 3, \"field\": \"year\", \"type\": \"temporal\"}, \"x\": {\"field\": \"children_per_woman\", \"type\": \"quantitative\"}, \"y\": {\"field\": \"child_mortality\", \"type\": \"quantitative\"}}, \"height\": 150, \"width\": 200, \"$schema\": \"https://vega.github.io/schema/vega-lite/v4.17.0.json\"}, {\"mode\": \"vega-lite\"});\n",
       "</script>"
      ],
      "text/plain": [
       "alt.Chart(...)"
      ]
     },
     "metadata": {},
     "output_type": "display_data"
    }
   ],
   "source": [
    "chart = alt.Chart(data_years).mark_circle().encode(\n",
    "      x='children_per_woman:Q',\n",
    "      y='child_mortality:Q',\n",
    "      color='income_group:N',\n",
    "      facet = alt.Facet('year:T', columns=3),\n",
    "      ).properties(\n",
    "            width=200,\n",
    "            height=150\n",
    "            )\n",
    "chart.display()"
   ]
  },
  {
   "cell_type": "markdown",
   "metadata": {},
   "source": [
    "YOUR ANSWER TO 4 GOES HERE"
   ]
  },
  {
   "cell_type": "markdown",
   "metadata": {},
   "source": [
    "<div class=\"alert alert-success\" style=\"color:black\">\n",
    "\n",
    "### Question 4.2\n",
    "rubric={accuracy:1,viz:2,reasoning:1}\n",
    "\n",
    "<h4>\n",
    "R\n",
    "</h4>\n",
    "<ol type=\"1\">\n",
    "<li>Filter the data to include only the years 1918, 1938, 1958, 1978, 1998, and 2018.</li>\n",
    "<li>Use <a href=https://stackoverflow.com/questions/15726907/ggplot-scatterplot-points-with-no-fill> hollow circles</a> to make a scatter plot with children per women on the x-axis, child mortality on the y-axis, and the circles colored by the income group.</li>\n",
    "<li>Facet your data into six subplots, one for each year laid out in 3 columns and 2 rows.</li>\n",
    "<li>I have already adjusted the ggplot figure size in this cell, but how could you do it if you were inside R Studio in either an R Markdown document or a script?</li>\n",
    "</ol>\n",
    "</div>"
   ]
  },
  {
   "cell_type": "code",
   "execution_count": null,
   "metadata": {},
   "outputs": [],
   "source": [
    "%%R -w 800 -h 450\n",
    "# YOUR R ANSWER GOES HERE"
   ]
  },
  {
   "cell_type": "markdown",
   "metadata": {},
   "source": [
    "YOUR ANSWER TO 4 GOES HERE"
   ]
  },
  {
   "cell_type": "markdown",
   "metadata": {},
   "source": [
    "# 5. Carbon dioxide emissions\n",
    "\n",
    "CO2 emissions are often talked about in it's relation to climate change.\n",
    "Let's explore the data to see which countries emits the most CO2 per capita\n",
    "and which regions has emitted the most in total over time."
   ]
  },
  {
   "cell_type": "markdown",
   "metadata": {},
   "source": [
    "<div class=\"alert alert-info\" style=\"color:black\">\n",
    "\n",
    "### Question 5.1\n",
    "rubric={accuracy:1,quality:1,viz:2}\n",
    "\n",
    "<h4>\n",
    "Python\n",
    "</h4>\n",
    "<ol type=\"1\">\n",
    "<li>Filter the data to include only the most recent year when <code>'co2_per_capita'</code> was measured (it is up to you how you find out which year this is).</li>\n",
    "<li>Use the data frame <code>nlargest</code> method to select the top 40 countries in CO2 production per capita for that year.</li>\n",
    "<li>Since we have only one value per country per year, let’s create a bar chart to visualize it. Encode the CO2 per capita as on the x-axis, the country on the y-axis, and the region as the color.</li>\n",
    "<li>Sort your bar chart so that the highest CO2 per capita is the closest to the x-axis (the bottom of the chart). <a href=\"https://altair-viz.github.io/gallery/bar_chart_sorted.html\">Here is an example of how to sort in Altair</a>.</li>\n",
    "</ol>\n",
    "</div>"
   ]
  },
  {
   "cell_type": "code",
   "execution_count": 82,
   "metadata": {},
   "outputs": [
    {
     "name": "stderr",
     "output_type": "stream",
     "text": [
      "/Users/gawain/.pyenv/versions/3.9.1/lib/python3.9/site-packages/altair/utils/core.py:317: FutureWarning: iteritems is deprecated and will be removed in a future version. Use .items instead.\n",
      "  for col_name, dtype in df.dtypes.iteritems():\n"
     ]
    },
    {
     "data": {
      "text/html": [
       "\n",
       "<div id=\"altair-viz-41804152dc9d490dbc2926f105981685\"></div>\n",
       "<script type=\"text/javascript\">\n",
       "  var VEGA_DEBUG = (typeof VEGA_DEBUG == \"undefined\") ? {} : VEGA_DEBUG;\n",
       "  (function(spec, embedOpt){\n",
       "    let outputDiv = document.currentScript.previousElementSibling;\n",
       "    if (outputDiv.id !== \"altair-viz-41804152dc9d490dbc2926f105981685\") {\n",
       "      outputDiv = document.getElementById(\"altair-viz-41804152dc9d490dbc2926f105981685\");\n",
       "    }\n",
       "    const paths = {\n",
       "      \"vega\": \"https://cdn.jsdelivr.net/npm//vega@5?noext\",\n",
       "      \"vega-lib\": \"https://cdn.jsdelivr.net/npm//vega-lib?noext\",\n",
       "      \"vega-lite\": \"https://cdn.jsdelivr.net/npm//vega-lite@4.17.0?noext\",\n",
       "      \"vega-embed\": \"https://cdn.jsdelivr.net/npm//vega-embed@6?noext\",\n",
       "    };\n",
       "\n",
       "    function maybeLoadScript(lib, version) {\n",
       "      var key = `${lib.replace(\"-\", \"\")}_version`;\n",
       "      return (VEGA_DEBUG[key] == version) ?\n",
       "        Promise.resolve(paths[lib]) :\n",
       "        new Promise(function(resolve, reject) {\n",
       "          var s = document.createElement('script');\n",
       "          document.getElementsByTagName(\"head\")[0].appendChild(s);\n",
       "          s.async = true;\n",
       "          s.onload = () => {\n",
       "            VEGA_DEBUG[key] = version;\n",
       "            return resolve(paths[lib]);\n",
       "          };\n",
       "          s.onerror = () => reject(`Error loading script: ${paths[lib]}`);\n",
       "          s.src = paths[lib];\n",
       "        });\n",
       "    }\n",
       "\n",
       "    function showError(err) {\n",
       "      outputDiv.innerHTML = `<div class=\"error\" style=\"color:red;\">${err}</div>`;\n",
       "      throw err;\n",
       "    }\n",
       "\n",
       "    function displayChart(vegaEmbed) {\n",
       "      vegaEmbed(outputDiv, spec, embedOpt)\n",
       "        .catch(err => showError(`Javascript Error: ${err.message}<br>This usually means there's a typo in your chart specification. See the javascript console for the full traceback.`));\n",
       "    }\n",
       "\n",
       "    if(typeof define === \"function\" && define.amd) {\n",
       "      requirejs.config({paths});\n",
       "      require([\"vega-embed\"], displayChart, err => showError(`Error loading script: ${err.message}`));\n",
       "    } else {\n",
       "      maybeLoadScript(\"vega\", \"5\")\n",
       "        .then(() => maybeLoadScript(\"vega-lite\", \"4.17.0\"))\n",
       "        .then(() => maybeLoadScript(\"vega-embed\", \"6\"))\n",
       "        .catch(showError)\n",
       "        .then(() => displayChart(vegaEmbed));\n",
       "    }\n",
       "  })({\"config\": {\"view\": {\"continuousWidth\": 400, \"continuousHeight\": 300}}, \"data\": {\"url\": \"http://localhost:57421/bb0fc51c4f495132d719b9b763c8c066.json\"}, \"mark\": \"bar\", \"encoding\": {\"color\": {\"field\": \"region\", \"type\": \"nominal\"}, \"x\": {\"field\": \"co2_per_capita\", \"type\": \"quantitative\"}, \"y\": {\"field\": \"country\", \"sort\": \"-x\", \"type\": \"nominal\"}}, \"height\": 500, \"title\": \"CO2 for top 40 countries\", \"width\": 200, \"$schema\": \"https://vega.github.io/schema/vega-lite/v4.17.0.json\"}, {\"mode\": \"vega-lite\"});\n",
       "</script>"
      ],
      "text/plain": [
       "alt.Chart(...)"
      ]
     },
     "execution_count": 82,
     "metadata": {},
     "output_type": "execute_result"
    }
   ],
   "source": [
    "# YOUR PYTHON ANSWER GOES HERE\n",
    "recent_year = data['co2_per_capita'].notnull() & data['year'].notnull()\n",
    "recent_year = data.loc[recent_year, 'year'].max()\n",
    "data_recent_year = data[data['year'] == recent_year]\n",
    "\n",
    "top40 = data_recent_year.nlargest(40, 'co2_per_capita')\n",
    "\n",
    "alt.Chart(top40).mark_bar().encode(\n",
    "      x='co2_per_capita:Q',\n",
    "      y=alt.Y('country:N', sort='-x'),\n",
    "      color='region:N'\n",
    ").properties(\n",
    "            width=200,\n",
    "            height=500,\n",
    "            title='CO2 for top 40 countries'\n",
    "            )\n"
   ]
  },
  {
   "cell_type": "markdown",
   "metadata": {},
   "source": [
    "<div class=\"alert alert-success\" style=\"color:black\">\n",
    "\n",
    "### Question 5.2\n",
    "rubric={accuracy:1,quality:1,viz:2}\n",
    "\n",
    "<h4>\n",
    "R\n",
    "</h4>\n",
    "<ol type=\"1\">\n",
    "<li>Filter the data to include only the most recent year when <code>'co2_per_capita'</code> was measured (it is up to you how you find out which year this is).</li>\n",
    "<li>Use the <code>slice_max</code> function from dplyr to select the top 40 countries in CO2 production per capita for that year.</li>\n",
    "<li>Since we have only one value per country per year, let’s create a bar chart to visualize it. Set the aesthetics so that the CO2 per capita is on the x-axis, the country is on the y-axis, and the region is the color (you can use <code>fill</code> instead of <code>color</code> to get rid of the black outlines).</li>\n",
    "<li>Sort your bar chart so that the highest CO2 per capita is the closest to the x-axis (the bottom of the chart). <a href=\"https://stackoverflow.com/questions/25664007/reorder-bars-in-geom-bar-ggplot2-by-value\">Here is an example of how to sort in ggplot using the base R function <code>reorder</code></a>.</li>\n",
    "</ol>\n",
    "\n",
    "<p>See <a href=https://stackoverflow.com/a/59009108/2166823> this SO answer</a> if you are having issues creating the bar chart.</p>\n",
    "\n",
    "</div>"
   ]
  },
  {
   "cell_type": "code",
   "execution_count": null,
   "metadata": {},
   "outputs": [],
   "source": [
    "%%R -w 500 -h 800\n",
    "# YOUR R ANSWER GOES HERE"
   ]
  },
  {
   "cell_type": "markdown",
   "metadata": {},
   "source": [
    "<div class=\"alert alert-info\" style=\"color:black\">\n",
    "\n",
    "### Question 5.3\n",
    "rubric={accuracy:1,quality:1,viz:2}\n",
    "\n",
    "<h4>\n",
    "Python\n",
    "</h4>\n",
    "<ol type=\"1\">\n",
    "<li>in addition to the co2 per capita, the total population also matter for a country’s overall co2 emissions. compute a new column in your data set called <code>'co2_total'</code> which contains the total co2 emissions per observation.</li>\n",
    "<li>plot this new column over time in an area chart, but instead of plotting one area for each country, plot one for each region which represents the sum of all countries co2 emissions in that region.</li>\n",
    "</ol>\n",
    "</div>"
   ]
  },
  {
   "cell_type": "code",
   "execution_count": 83,
   "metadata": {},
   "outputs": [
    {
     "name": "stderr",
     "output_type": "stream",
     "text": [
      "/Users/gawain/.pyenv/versions/3.9.1/lib/python3.9/site-packages/altair/utils/core.py:317: FutureWarning: iteritems is deprecated and will be removed in a future version. Use .items instead.\n",
      "  for col_name, dtype in df.dtypes.iteritems():\n"
     ]
    },
    {
     "data": {
      "text/html": [
       "\n",
       "<div id=\"altair-viz-072add14702a486daf030b07db7d60d0\"></div>\n",
       "<script type=\"text/javascript\">\n",
       "  var VEGA_DEBUG = (typeof VEGA_DEBUG == \"undefined\") ? {} : VEGA_DEBUG;\n",
       "  (function(spec, embedOpt){\n",
       "    let outputDiv = document.currentScript.previousElementSibling;\n",
       "    if (outputDiv.id !== \"altair-viz-072add14702a486daf030b07db7d60d0\") {\n",
       "      outputDiv = document.getElementById(\"altair-viz-072add14702a486daf030b07db7d60d0\");\n",
       "    }\n",
       "    const paths = {\n",
       "      \"vega\": \"https://cdn.jsdelivr.net/npm//vega@5?noext\",\n",
       "      \"vega-lib\": \"https://cdn.jsdelivr.net/npm//vega-lib?noext\",\n",
       "      \"vega-lite\": \"https://cdn.jsdelivr.net/npm//vega-lite@4.17.0?noext\",\n",
       "      \"vega-embed\": \"https://cdn.jsdelivr.net/npm//vega-embed@6?noext\",\n",
       "    };\n",
       "\n",
       "    function maybeLoadScript(lib, version) {\n",
       "      var key = `${lib.replace(\"-\", \"\")}_version`;\n",
       "      return (VEGA_DEBUG[key] == version) ?\n",
       "        Promise.resolve(paths[lib]) :\n",
       "        new Promise(function(resolve, reject) {\n",
       "          var s = document.createElement('script');\n",
       "          document.getElementsByTagName(\"head\")[0].appendChild(s);\n",
       "          s.async = true;\n",
       "          s.onload = () => {\n",
       "            VEGA_DEBUG[key] = version;\n",
       "            return resolve(paths[lib]);\n",
       "          };\n",
       "          s.onerror = () => reject(`Error loading script: ${paths[lib]}`);\n",
       "          s.src = paths[lib];\n",
       "        });\n",
       "    }\n",
       "\n",
       "    function showError(err) {\n",
       "      outputDiv.innerHTML = `<div class=\"error\" style=\"color:red;\">${err}</div>`;\n",
       "      throw err;\n",
       "    }\n",
       "\n",
       "    function displayChart(vegaEmbed) {\n",
       "      vegaEmbed(outputDiv, spec, embedOpt)\n",
       "        .catch(err => showError(`Javascript Error: ${err.message}<br>This usually means there's a typo in your chart specification. See the javascript console for the full traceback.`));\n",
       "    }\n",
       "\n",
       "    if(typeof define === \"function\" && define.amd) {\n",
       "      requirejs.config({paths});\n",
       "      require([\"vega-embed\"], displayChart, err => showError(`Error loading script: ${err.message}`));\n",
       "    } else {\n",
       "      maybeLoadScript(\"vega\", \"5\")\n",
       "        .then(() => maybeLoadScript(\"vega-lite\", \"4.17.0\"))\n",
       "        .then(() => maybeLoadScript(\"vega-embed\", \"6\"))\n",
       "        .catch(showError)\n",
       "        .then(() => displayChart(vegaEmbed));\n",
       "    }\n",
       "  })({\"config\": {\"view\": {\"continuousWidth\": 400, \"continuousHeight\": 300}}, \"data\": {\"url\": \"http://localhost:57421/1bca5037086a944abfd036956e0c4d81.json\"}, \"mark\": \"area\", \"encoding\": {\"color\": {\"field\": \"region\", \"type\": \"nominal\"}, \"x\": {\"field\": \"year\", \"type\": \"temporal\"}, \"y\": {\"aggregate\": \"sum\", \"field\": \"co2_total\", \"type\": \"quantitative\"}}, \"$schema\": \"https://vega.github.io/schema/vega-lite/v4.17.0.json\"}, {\"mode\": \"vega-lite\"});\n",
       "</script>"
      ],
      "text/plain": [
       "alt.Chart(...)"
      ]
     },
     "execution_count": 83,
     "metadata": {},
     "output_type": "execute_result"
    }
   ],
   "source": [
    "# YOUR PYTHON ANSWER GOES HERE\n",
    "data['co2_total'] = data['co2_per_capita'] * data['population']\n",
    "\n",
    "alt.Chart(data).mark_area().encode(\n",
    "      x='year:T',\n",
    "      y='sum(co2_total):Q',\n",
    "      color='region:N'\n",
    ")\n"
   ]
  },
  {
   "cell_type": "markdown",
   "metadata": {},
   "source": [
    "<div class=\"alert alert-success\" style=\"color:black\">\n",
    "\n",
    "### Question 5.4\n",
    "rubric={accuracy:1,quality:1,viz:2}\n",
    "\n",
    "<h4>\n",
    "R\n",
    "</h4>\n",
    "<ol type=\"1\">\n",
    "<li>in addition to the co2 per capita, the total population also matter for a country’s overall co2 emissions. compute a new column in your data set called <code>'co2_total'</code> which contains the total co2 emissions per observation.</li>\n",
    "<li>plot this new column over time in an area chart, but instead of plotting one area for each country, plot one for each region which represents the sum of all countries co2 emissions in that region. In order for the areas to stack, you will have to set `position='stack'`.</li>\n",
    "</ol>\n",
    "    \n",
    "<p><a href=https://stackoverflow.com/a/44226841/2166823> See this link if you want to read some background info on on when to use `geom_*` and when to use `stat_summary()`</a></p>\n",
    "    \n",
    "</div>"
   ]
  },
  {
   "cell_type": "code",
   "execution_count": null,
   "metadata": {},
   "outputs": [],
   "source": [
    "%%R -w 550 -h 375\n",
    "# YOUR R ANSWER GOES HERE"
   ]
  },
  {
   "cell_type": "markdown",
   "metadata": {},
   "source": [
    "# 6. Income distribution\n",
    "\n",
    "In his talk back in 2003, Rosling showed a projection of how the world income distribution would look like in 2015. Let’s eyeball if the suggested trend was accurate."
   ]
  },
  {
   "cell_type": "markdown",
   "metadata": {},
   "source": [
    "<div class=\"alert alert-warning\" style=\"color:black\">\n",
    "\n",
    "### Question 6.1 (Optional)\n",
    "rubric={accuracy:1,viz:1}\n",
    "\n",
    "<h4>Python</h4>\n",
    "<ol type=\"1\">\n",
    "<li>Wrangle your data to include the years 1979, 1991, 2003 and 2015.</li>\n",
    "<li>Create a histogram (binned bar chart) of the income distribution with an appropriate number of bins.</li>\n",
    "<li>Facet by year and make the plots smaller so that they fit in a single row.</li>\n",
    "<li>It is a little hard to tell if the data is exactly the same as the prediction since we are not using a log scale and a histogram instead of a density plot (we’ll learn about these things later). But in general, briefly explain whether you think the trend is the same or not?</li>\n",
    "</ol>\n",
    "</div>"
   ]
  },
  {
   "cell_type": "code",
   "execution_count": 130,
   "metadata": {},
   "outputs": [
    {
     "data": {
      "text/html": [
       "\n",
       "<div id=\"altair-viz-d76f57ee76fa48c4b31c0d734839302a\"></div>\n",
       "<script type=\"text/javascript\">\n",
       "  var VEGA_DEBUG = (typeof VEGA_DEBUG == \"undefined\") ? {} : VEGA_DEBUG;\n",
       "  (function(spec, embedOpt){\n",
       "    let outputDiv = document.currentScript.previousElementSibling;\n",
       "    if (outputDiv.id !== \"altair-viz-d76f57ee76fa48c4b31c0d734839302a\") {\n",
       "      outputDiv = document.getElementById(\"altair-viz-d76f57ee76fa48c4b31c0d734839302a\");\n",
       "    }\n",
       "    const paths = {\n",
       "      \"vega\": \"https://cdn.jsdelivr.net/npm//vega@5?noext\",\n",
       "      \"vega-lib\": \"https://cdn.jsdelivr.net/npm//vega-lib?noext\",\n",
       "      \"vega-lite\": \"https://cdn.jsdelivr.net/npm//vega-lite@4.17.0?noext\",\n",
       "      \"vega-embed\": \"https://cdn.jsdelivr.net/npm//vega-embed@6?noext\",\n",
       "    };\n",
       "\n",
       "    function maybeLoadScript(lib, version) {\n",
       "      var key = `${lib.replace(\"-\", \"\")}_version`;\n",
       "      return (VEGA_DEBUG[key] == version) ?\n",
       "        Promise.resolve(paths[lib]) :\n",
       "        new Promise(function(resolve, reject) {\n",
       "          var s = document.createElement('script');\n",
       "          document.getElementsByTagName(\"head\")[0].appendChild(s);\n",
       "          s.async = true;\n",
       "          s.onload = () => {\n",
       "            VEGA_DEBUG[key] = version;\n",
       "            return resolve(paths[lib]);\n",
       "          };\n",
       "          s.onerror = () => reject(`Error loading script: ${paths[lib]}`);\n",
       "          s.src = paths[lib];\n",
       "        });\n",
       "    }\n",
       "\n",
       "    function showError(err) {\n",
       "      outputDiv.innerHTML = `<div class=\"error\" style=\"color:red;\">${err}</div>`;\n",
       "      throw err;\n",
       "    }\n",
       "\n",
       "    function displayChart(vegaEmbed) {\n",
       "      vegaEmbed(outputDiv, spec, embedOpt)\n",
       "        .catch(err => showError(`Javascript Error: ${err.message}<br>This usually means there's a typo in your chart specification. See the javascript console for the full traceback.`));\n",
       "    }\n",
       "\n",
       "    if(typeof define === \"function\" && define.amd) {\n",
       "      requirejs.config({paths});\n",
       "      require([\"vega-embed\"], displayChart, err => showError(`Error loading script: ${err.message}`));\n",
       "    } else {\n",
       "      maybeLoadScript(\"vega\", \"5\")\n",
       "        .then(() => maybeLoadScript(\"vega-lite\", \"4.17.0\"))\n",
       "        .then(() => maybeLoadScript(\"vega-embed\", \"6\"))\n",
       "        .catch(showError)\n",
       "        .then(() => displayChart(vegaEmbed));\n",
       "    }\n",
       "  })({\"config\": {\"view\": {\"continuousWidth\": 400, \"continuousHeight\": 300}}, \"data\": {\"url\": \"http://localhost:57421/5002c71ab78372ac1fd8a94b591fbffe.json\"}, \"mark\": {\"type\": \"bar\", \"size\": 10}, \"encoding\": {\"color\": {\"field\": \"income_group\", \"type\": \"nominal\"}, \"facet\": {\"field\": \"income_group\", \"sort\": [\"High\", \"Upper middle\", \"Lower middle\", \"Low\"], \"spacing\": 5, \"type\": \"nominal\"}, \"x\": {\"field\": \"year\", \"type\": \"temporal\"}, \"y\": {\"field\": \"income\", \"type\": \"quantitative\"}}, \"height\": 200, \"width\": 150, \"$schema\": \"https://vega.github.io/schema/vega-lite/v4.17.0.json\"}, {\"mode\": \"vega-lite\"});\n",
       "</script>"
      ],
      "text/plain": [
       "alt.Chart(...)"
      ]
     },
     "execution_count": 130,
     "metadata": {},
     "output_type": "execute_result"
    }
   ],
   "source": [
    "years = [1979, 1991, 2003, 2015]\n",
    "\n",
    "years = [str(year) + '-01-01' for year in years]\n",
    "data_years = data[data['year'].isin(years)]\n",
    "\n",
    "alt.Chart(data_years).mark_bar(size=10).encode(\n",
    "      x='year:T',\n",
    "      y='income:Q',\n",
    "      facet = alt.Facet('income_group:N', spacing=5, sort=[\"High\",\"Upper middle\",\"Lower middle\",\"Low\"]),\n",
    "      color=alt.Color('income_group:N',)\n",
    ").properties(\n",
    "      width=150,\n",
    "      height=200\n",
    ")\n"
   ]
  },
  {
   "cell_type": "markdown",
   "metadata": {},
   "source": [
    "<div class=\"alert alert-warning\" style=\"color:black\">\n",
    "\n",
    "### Question 6.2 (Optional)\n",
    "rubric={accuracy:1,viz:1}\n",
    "\n",
    "<h4>R</h4>\n",
    "<ol type=\"1\">\n",
    "<li>Wrangle your data to include the years 1979, 1991, 2003 and 2015.</li>\n",
    "<li>Create a histogram (binned bar chart) of the income distribution with an appropriate number of bins.</li>\n",
    "<li>Facet by year and make the plots smaller so that they fit in a single row.</li>\n",
    "<li>It is a little hard to tell if the data is exactly the same as the prediction since we are not using a log scale and a histogram instead of a density plot (we’ll learn about these things later). But in general, briefly explain whether you think the trend is the same or not?</li>\n",
    "</ol>\n",
    "</div>"
   ]
  },
  {
   "cell_type": "code",
   "execution_count": null,
   "metadata": {},
   "outputs": [],
   "source": [
    "%%R -w 1000 -h 250\n",
    "# YOUR R ANSWER GOES HERE"
   ]
  },
  {
   "cell_type": "markdown",
   "metadata": {},
   "source": [
    "# 7. Chart beautification\n",
    "\n",
    "\n",
    "Let's make our charts from question 2 look more like the Gapminder bubble chart! Beautifying charts can take a long time, but it is also satisfying when you end up with a really nice looking chart in the end. We will learn more about how to create charts for communication later, but these parameters are usually enough to create basic communication charts and to help you in your data exploration."
   ]
  },
  {
   "cell_type": "markdown",
   "metadata": {},
   "source": [
    "<div class=\"alert alert-info\" style=\"color:black\">\n",
    "\n",
    "### Question 7.1\n",
    "rubric={accuracy:2,quality:1,viz:1}\n",
    "\n",
    "<h4>\n",
    "Python\n",
    "</h4>\n",
    "<ol type=\"1\">\n",
    "<li>Copy in your code from question 2.1 and confirm that your scatter plot is generated properly so that you didn't miss to copy anything.</li>\n",
    "<li>Add a title of your choice to the chart.</li>\n",
    "<li>Set the x-axis and y-axis scale so that they don’t include zero and are zoomed in to the extent of the data instead.</li>\n",
    "<li>Set proper titles for the axis and the legends, which include spaces instead of underscores and are capitalized.</li>\n",
    "<li>Some of the dots are really hard to see because they are so small and it is a bit difficult to distinguish the changes in size as well. Let’s make everything bigger and emphasize the size difference by using the <a href=\"https://altair-viz.github.io/gallery/airport_connections.html\">range argument to <code>alt.Scale</code></a> (there is a lot of other things going on in this example, so just focus on how they specify <code>size</code>).</li>\n",
    "<li>Enlarge the axis title font by finding and setting the <a href=\"https://altair-viz.github.io/user_guide/configuration.html?highlight=titlefont#axis-configuration\">right parameter of <code>.configure_axis</code></a></li>\n",
    "</ol>\n",
    "\n",
    "</div>"
   ]
  },
  {
   "cell_type": "code",
   "execution_count": 134,
   "metadata": {},
   "outputs": [
    {
     "name": "stderr",
     "output_type": "stream",
     "text": [
      "/Users/gawain/.pyenv/versions/3.9.1/lib/python3.9/site-packages/altair/utils/core.py:317: FutureWarning: iteritems is deprecated and will be removed in a future version. Use .items instead.\n",
      "  for col_name, dtype in df.dtypes.iteritems():\n"
     ]
    },
    {
     "data": {
      "text/html": [
       "\n",
       "<div id=\"altair-viz-16aea34e3c76437aa4976f3d222c71c9\"></div>\n",
       "<script type=\"text/javascript\">\n",
       "  var VEGA_DEBUG = (typeof VEGA_DEBUG == \"undefined\") ? {} : VEGA_DEBUG;\n",
       "  (function(spec, embedOpt){\n",
       "    let outputDiv = document.currentScript.previousElementSibling;\n",
       "    if (outputDiv.id !== \"altair-viz-16aea34e3c76437aa4976f3d222c71c9\") {\n",
       "      outputDiv = document.getElementById(\"altair-viz-16aea34e3c76437aa4976f3d222c71c9\");\n",
       "    }\n",
       "    const paths = {\n",
       "      \"vega\": \"https://cdn.jsdelivr.net/npm//vega@5?noext\",\n",
       "      \"vega-lib\": \"https://cdn.jsdelivr.net/npm//vega-lib?noext\",\n",
       "      \"vega-lite\": \"https://cdn.jsdelivr.net/npm//vega-lite@4.17.0?noext\",\n",
       "      \"vega-embed\": \"https://cdn.jsdelivr.net/npm//vega-embed@6?noext\",\n",
       "    };\n",
       "\n",
       "    function maybeLoadScript(lib, version) {\n",
       "      var key = `${lib.replace(\"-\", \"\")}_version`;\n",
       "      return (VEGA_DEBUG[key] == version) ?\n",
       "        Promise.resolve(paths[lib]) :\n",
       "        new Promise(function(resolve, reject) {\n",
       "          var s = document.createElement('script');\n",
       "          document.getElementsByTagName(\"head\")[0].appendChild(s);\n",
       "          s.async = true;\n",
       "          s.onload = () => {\n",
       "            VEGA_DEBUG[key] = version;\n",
       "            return resolve(paths[lib]);\n",
       "          };\n",
       "          s.onerror = () => reject(`Error loading script: ${paths[lib]}`);\n",
       "          s.src = paths[lib];\n",
       "        });\n",
       "    }\n",
       "\n",
       "    function showError(err) {\n",
       "      outputDiv.innerHTML = `<div class=\"error\" style=\"color:red;\">${err}</div>`;\n",
       "      throw err;\n",
       "    }\n",
       "\n",
       "    function displayChart(vegaEmbed) {\n",
       "      vegaEmbed(outputDiv, spec, embedOpt)\n",
       "        .catch(err => showError(`Javascript Error: ${err.message}<br>This usually means there's a typo in your chart specification. See the javascript console for the full traceback.`));\n",
       "    }\n",
       "\n",
       "    if(typeof define === \"function\" && define.amd) {\n",
       "      requirejs.config({paths});\n",
       "      require([\"vega-embed\"], displayChart, err => showError(`Error loading script: ${err.message}`));\n",
       "    } else {\n",
       "      maybeLoadScript(\"vega\", \"5\")\n",
       "        .then(() => maybeLoadScript(\"vega-lite\", \"4.17.0\"))\n",
       "        .then(() => maybeLoadScript(\"vega-embed\", \"6\"))\n",
       "        .catch(showError)\n",
       "        .then(() => displayChart(vegaEmbed));\n",
       "    }\n",
       "  })({\"config\": {\"view\": {\"continuousWidth\": 400, \"continuousHeight\": 300}}, \"data\": {\"url\": \"http://localhost:57421/97bb24270e4daa5ae2402000ba80d7f8.json\"}, \"mark\": \"circle\", \"encoding\": {\"color\": {\"field\": \"region\", \"title\": \"Region\", \"type\": \"nominal\"}, \"size\": {\"field\": \"population\", \"scale\": {\"range\": [0, 1000]}, \"title\": \"Population\", \"type\": \"quantitative\"}, \"x\": {\"field\": \"children_per_woman\", \"scale\": {\"zero\": false}, \"title\": \"Children per Woman\", \"type\": \"quantitative\"}, \"y\": {\"field\": \"life_expectancy\", \"scale\": {\"zero\": false}, \"title\": \"Life Expectancy\", \"type\": \"quantitative\"}}, \"height\": 350, \"title\": \"Bubble Chart 1962\", \"width\": 600, \"$schema\": \"https://vega.github.io/schema/vega-lite/v4.17.0.json\"}, {\"mode\": \"vega-lite\"});\n",
       "</script>"
      ],
      "text/plain": [
       "alt.Chart(...)"
      ]
     },
     "execution_count": 134,
     "metadata": {},
     "output_type": "execute_result"
    }
   ],
   "source": [
    "url = \"https://raw.githubusercontent.com/UofTCoders/workshops-dc-py/master/data/processed/world-data-gapminder.csv\"\n",
    "data = pd.read_csv(url, parse_dates=['year'])\n",
    "\n",
    "data_1962 = data[data['year'] == '1962-01-01']\n",
    "\n",
    "chart = alt.Chart(data_1962).mark_circle().encode(\n",
    "      x='children_per_woman:Q',\n",
    "      y='life_expectancy:Q',\n",
    "      color='region:N',\n",
    "      size='population:Q'\n",
    ")\n",
    "\n",
    "chart = chart.encode(\n",
    "      x=alt.X('children_per_woman:Q',scale=alt.Scale(zero=False),title='Children per Woman'),\n",
    "      y=alt.Y('life_expectancy:Q',scale=alt.Scale(zero=False),title='Life Expectancy'),\n",
    "      color=alt.Color('region:N', title='Region'),\n",
    "      size=alt.Size('population:Q', scale=alt.Scale(range=[0, 1000]),title='Population')\n",
    ")\n",
    "\n",
    "chart = chart.properties(\n",
    "      title = \"Bubble Chart 1962\",\n",
    "      width = 600,\n",
    "      height = 350\n",
    ")\n",
    "\n",
    "chart.configure_axis(labelFontSize=25,titleFontSize=40)\n",
    "chart\n"
   ]
  },
  {
   "cell_type": "code",
   "execution_count": null,
   "metadata": {},
   "outputs": [],
   "source": [
    "# YOUR PYTHON ANSWER GOES HERE"
   ]
  },
  {
   "cell_type": "markdown",
   "metadata": {},
   "source": [
    "<div class=\"alert alert-success\" style=\"color:black\">\n",
    "\n",
    "### Question 7.2\n",
    "rubric={accuracy:2,quality:1,viz:1}\n",
    "\n",
    "<h4>\n",
    "R\n",
    "</h4>\n",
    " \n",
    "<ol type=\"1\">\n",
    "<li>Copy in your code from question 2.2 and confirm that your scatter plot is generated properly so that you didn't miss to copy anything.</li>\n",
    "<li>Add a title of your choice to the chart.</li>\n",
    "<li>Set the <a href=https://ggplot2.tidyverse.org/reference/geom_point.html>transparency of the points</a> to an appropriate value, so that they are not completely obfuscating each other.</li>\n",
    "<li>Set proper titles for the axis and the legends, which include spaces instead of underscores and are capitalized.</li>\n",
    "<li>Change to a black and white theme.</li>\n",
    "<li>Enlarge the text for all fonts (<a href=https://stackoverflow.com/a/34528522/2166823>See here if you need guidance)</a>.</li>\n",
    "<li>Some of the dots are really hard to see because they are so small and it is a bit difficult to distinguish the changes in size as well. Let’s make everything bigger and emphasize the size difference by using the <a href=\"https://ggplot2.tidyverse.org/reference/scale_size.html\"> <code>scale_size</code> function.</a></li>\n",
    "</ol>\n",
    "    \n",
    "</div>"
   ]
  },
  {
   "cell_type": "code",
   "execution_count": null,
   "metadata": {},
   "outputs": [],
   "source": [
    "%%R -w 550 -h 375\n",
    "# YOUR R ANSWER GOES HERE"
   ]
  },
  {
   "cell_type": "markdown",
   "metadata": {},
   "source": [
    "---\n",
    "\n",
    "# Submission to Canvas\n",
    "\n",
    "When you are ready to submit your assignment do the following:\n",
    "\n",
    "1. Run all cells in your notebook to make sure there are no errors by doing `Kernel -> Restart Kernel and Run All Cells...`\n",
    "2. Convert your notebook to .html format using the `convert_notebook()` function below or by `File -> Export Notebook As... -> Export Notebook to HTML`\n",
    "3. Run the code `submit()` below to go through an interactive submission process to Canvas.\n",
    "4. Don't forget to also push your work to GitHub."
   ]
  },
  {
   "cell_type": "code",
   "execution_count": null,
   "metadata": {},
   "outputs": [],
   "source": [
    "from canvasutils.submit import submit, convert_notebook\n",
    "\n",
    "# Uncomment and run if you want to automatically convert your notebook\n",
    "convert_notebook(\"lab1.ipynb\")\n",
    "\n",
    "# Uncomment and run when ready to submit to Canvas\n",
    "# submit(course_code=53664, token=False)"
   ]
  },
  {
   "cell_type": "code",
   "execution_count": null,
   "metadata": {},
   "outputs": [],
   "source": []
  }
 ],
 "metadata": {
  "kernelspec": {
   "display_name": "Python 3",
   "language": "python",
   "name": "python3"
  },
  "language_info": {
   "codemirror_mode": {
    "name": "ipython",
    "version": 3
   },
   "file_extension": ".py",
   "mimetype": "text/x-python",
   "name": "python",
   "nbconvert_exporter": "python",
   "pygments_lexer": "ipython3",
   "version": "3.9.1"
  },
  "vscode": {
   "interpreter": {
    "hash": "ee089c0d8a7b72a1db4475b00a1092da957cc6786a2373700bea0bde293de64c"
   }
  }
 },
 "nbformat": 4,
 "nbformat_minor": 4
}
