{
 "cells": [
  {
   "cell_type": "markdown",
   "id": "8e3920e7-cf53-4778-84db-0b4c6e0efe97",
   "metadata": {},
   "source": [
    "# Task 1: Treasure hunt with Pandas\n",
    "---"
   ]
  },
  {
   "cell_type": "markdown",
   "id": "85595b9b-b369-41b4-bb1b-ffb2d89259cd",
   "metadata": {},
   "source": [
    "Learning how to index with Pandas is kind of like having to eat your vegetables: it's not the funnest thing, but you need to know it! In this exercise, I'll provide you with clues that you need to use to index a dataframe and find the \"Treasure\". For example, if the clue is \"The first ten rows\" then you might try:\n",
    "\n",
    "```python\n",
    ">>> df.iloc[:10]\n",
    "```\n",
    "\n",
    "The above is just an example, but the result of your indexing should always be the string `'TREASURE'`."
   ]
  },
  {
   "cell_type": "code",
   "execution_count": 77,
   "id": "02ddb600-a75f-4d3b-9661-e8bc5054a1d4",
   "metadata": {},
   "outputs": [],
   "source": [
    "import pandas as pd"
   ]
  },
  {
   "cell_type": "markdown",
   "id": "e1b69546-0c9a-4720-a04b-3222cdea6d8c",
   "metadata": {},
   "source": [
    "## 1.1"
   ]
  },
  {
   "cell_type": "markdown",
   "id": "3785b3e2-4d4f-4852-b96a-7409047e7a13",
   "metadata": {},
   "source": [
    "Load in the file `treasure_hunt.csv` as a dataframe called `treasure_df`. Read in the first column as the dataframe index column and the first row as the dataframe columns."
   ]
  },
  {
   "cell_type": "code",
   "execution_count": 78,
   "id": "f287e1a2-7930-415f-9e50-3681e84d0577",
   "metadata": {},
   "outputs": [
    {
     "data": {
      "text/html": [
       "<div>\n",
       "<style scoped>\n",
       "    .dataframe tbody tr th:only-of-type {\n",
       "        vertical-align: middle;\n",
       "    }\n",
       "\n",
       "    .dataframe tbody tr th {\n",
       "        vertical-align: top;\n",
       "    }\n",
       "\n",
       "    .dataframe thead th {\n",
       "        text-align: right;\n",
       "    }\n",
       "</style>\n",
       "<table border=\"1\" class=\"dataframe\">\n",
       "  <thead>\n",
       "    <tr style=\"text-align: right;\">\n",
       "      <th></th>\n",
       "      <th>C1</th>\n",
       "      <th>C2</th>\n",
       "      <th>C3</th>\n",
       "      <th>C4</th>\n",
       "      <th>C5</th>\n",
       "      <th>C6</th>\n",
       "      <th>C7</th>\n",
       "      <th>C8</th>\n",
       "      <th>C9</th>\n",
       "      <th>C10</th>\n",
       "      <th>...</th>\n",
       "      <th>C21</th>\n",
       "      <th>C22</th>\n",
       "      <th>C23</th>\n",
       "      <th>C24</th>\n",
       "      <th>C25</th>\n",
       "      <th>C26</th>\n",
       "      <th>C27</th>\n",
       "      <th>C28</th>\n",
       "      <th>C29</th>\n",
       "      <th>C30</th>\n",
       "    </tr>\n",
       "  </thead>\n",
       "  <tbody>\n",
       "    <tr>\n",
       "      <th>R1</th>\n",
       "      <td>T</td>\n",
       "      <td>W</td>\n",
       "      <td>W</td>\n",
       "      <td>R</td>\n",
       "      <td>A</td>\n",
       "      <td>L</td>\n",
       "      <td>E</td>\n",
       "      <td>A</td>\n",
       "      <td>J</td>\n",
       "      <td>B</td>\n",
       "      <td>...</td>\n",
       "      <td>H</td>\n",
       "      <td>A</td>\n",
       "      <td>Q</td>\n",
       "      <td>O</td>\n",
       "      <td>S</td>\n",
       "      <td>Q</td>\n",
       "      <td>C</td>\n",
       "      <td>N</td>\n",
       "      <td>TREA</td>\n",
       "      <td>SURE</td>\n",
       "    </tr>\n",
       "    <tr>\n",
       "      <th>R2</th>\n",
       "      <td>U</td>\n",
       "      <td>R</td>\n",
       "      <td>O</td>\n",
       "      <td>N</td>\n",
       "      <td>Y</td>\n",
       "      <td>D</td>\n",
       "      <td>K</td>\n",
       "      <td>N</td>\n",
       "      <td>K</td>\n",
       "      <td>T</td>\n",
       "      <td>...</td>\n",
       "      <td>T</td>\n",
       "      <td>D</td>\n",
       "      <td>M</td>\n",
       "      <td>D</td>\n",
       "      <td>W</td>\n",
       "      <td>F</td>\n",
       "      <td>N</td>\n",
       "      <td>I</td>\n",
       "      <td>E</td>\n",
       "      <td>A</td>\n",
       "    </tr>\n",
       "    <tr>\n",
       "      <th>R3</th>\n",
       "      <td>X</td>\n",
       "      <td>H</td>\n",
       "      <td>E</td>\n",
       "      <td>F</td>\n",
       "      <td>T</td>\n",
       "      <td>C</td>\n",
       "      <td>Y</td>\n",
       "      <td>Z</td>\n",
       "      <td>O</td>\n",
       "      <td>B</td>\n",
       "      <td>...</td>\n",
       "      <td>J</td>\n",
       "      <td>X</td>\n",
       "      <td>S</td>\n",
       "      <td>K</td>\n",
       "      <td>P</td>\n",
       "      <td>A</td>\n",
       "      <td>I</td>\n",
       "      <td>E</td>\n",
       "      <td>S</td>\n",
       "      <td>U</td>\n",
       "    </tr>\n",
       "    <tr>\n",
       "      <th>R4</th>\n",
       "      <td>R</td>\n",
       "      <td>Q</td>\n",
       "      <td>E</td>\n",
       "      <td>A</td>\n",
       "      <td>W</td>\n",
       "      <td>D</td>\n",
       "      <td>X</td>\n",
       "      <td>T</td>\n",
       "      <td>Z</td>\n",
       "      <td>K</td>\n",
       "      <td>...</td>\n",
       "      <td>Y</td>\n",
       "      <td>C</td>\n",
       "      <td>Y</td>\n",
       "      <td>W</td>\n",
       "      <td>P</td>\n",
       "      <td>I</td>\n",
       "      <td>G</td>\n",
       "      <td>B</td>\n",
       "      <td>R</td>\n",
       "      <td>E</td>\n",
       "    </tr>\n",
       "    <tr>\n",
       "      <th>R5</th>\n",
       "      <td>R</td>\n",
       "      <td>G</td>\n",
       "      <td>Q</td>\n",
       "      <td>Z</td>\n",
       "      <td>S</td>\n",
       "      <td>L</td>\n",
       "      <td>W</td>\n",
       "      <td>U</td>\n",
       "      <td>W</td>\n",
       "      <td>Q</td>\n",
       "      <td>...</td>\n",
       "      <td>Z</td>\n",
       "      <td>N</td>\n",
       "      <td>J</td>\n",
       "      <td>R</td>\n",
       "      <td>Z</td>\n",
       "      <td>G</td>\n",
       "      <td>M</td>\n",
       "      <td>P</td>\n",
       "      <td>Q</td>\n",
       "      <td>Y</td>\n",
       "    </tr>\n",
       "  </tbody>\n",
       "</table>\n",
       "<p>5 rows × 30 columns</p>\n",
       "</div>"
      ],
      "text/plain": [
       "   C1 C2 C3 C4 C5 C6 C7 C8 C9 C10  ... C21 C22 C23 C24 C25 C26 C27 C28   C29  \\\n",
       "R1  T  W  W  R  A  L  E  A  J   B  ...   H   A   Q   O   S   Q   C   N  TREA   \n",
       "R2  U  R  O  N  Y  D  K  N  K   T  ...   T   D   M   D   W   F   N   I     E   \n",
       "R3  X  H  E  F  T  C  Y  Z  O   B  ...   J   X   S   K   P   A   I   E     S   \n",
       "R4  R  Q  E  A  W  D  X  T  Z   K  ...   Y   C   Y   W   P   I   G   B     R   \n",
       "R5  R  G  Q  Z  S  L  W  U  W   Q  ...   Z   N   J   R   Z   G   M   P     Q   \n",
       "\n",
       "     C30  \n",
       "R1  SURE  \n",
       "R2     A  \n",
       "R3     U  \n",
       "R4     E  \n",
       "R5     Y  \n",
       "\n",
       "[5 rows x 30 columns]"
      ]
     },
     "execution_count": 78,
     "metadata": {},
     "output_type": "execute_result"
    }
   ],
   "source": [
    "# Your solution here\n",
    "df_path = '/Users/gawain/Desktop/3.UBC/Block4/Data-542-Data Wrangling/Labs/Lab2/treasure_hunt.csv'\n",
    "treasure_df = pd.read_csv(df_path, index_col=0)\n",
    "treasure_df.head()"
   ]
  },
  {
   "cell_type": "code",
   "execution_count": 79,
   "id": "a9077a1f",
   "metadata": {},
   "outputs": [
    {
     "data": {
      "text/plain": [
       "Index(['C1', 'C2', 'C3', 'C4', 'C5', 'C6', 'C7', 'C8', 'C9', 'C10', 'C11',\n",
       "       'C12', 'C13', 'C14', 'C15', 'C16', 'C17', 'C18', 'C19', 'C20', 'C21',\n",
       "       'C22', 'C23', 'C24', 'C25', 'C26', 'C27', 'C28', 'C29', 'C30'],\n",
       "      dtype='object')"
      ]
     },
     "execution_count": 79,
     "metadata": {},
     "output_type": "execute_result"
    }
   ],
   "source": [
    "treasure_df.columns"
   ]
  },
  {
   "cell_type": "markdown",
   "id": "ccb97ff4-6b1f-4ad8-88e9-978d124c3bf9",
   "metadata": {},
   "source": [
    "## 1.2"
   ]
  },
  {
   "cell_type": "markdown",
   "id": "69e9af27-41a5-4b82-982e-c56550db882f",
   "metadata": {},
   "source": [
    "**CLUE:** C20, R1"
   ]
  },
  {
   "cell_type": "code",
   "execution_count": 80,
   "id": "a9c7fd89-bada-46aa-8a93-d431a4cb7c7f",
   "metadata": {},
   "outputs": [
    {
     "data": {
      "text/plain": [
       "R1    TREASURE\n",
       "Name: C20, dtype: object"
      ]
     },
     "execution_count": 80,
     "metadata": {},
     "output_type": "execute_result"
    }
   ],
   "source": [
    "# Your solution here\n",
    "treasure_df['C20'][:1]"
   ]
  },
  {
   "cell_type": "markdown",
   "id": "0e169cdf-8749-468a-832e-d0af11167db7",
   "metadata": {},
   "source": [
    "## 1.3"
   ]
  },
  {
   "cell_type": "markdown",
   "id": "2c5ac0e8-c500-4d93-b0e1-afd39eb4c6e5",
   "metadata": {},
   "source": [
    "**CLUE:** thirteenth column, thirteenth row (*hint*: recall that indexing starts at 0!)"
   ]
  },
  {
   "cell_type": "code",
   "execution_count": 81,
   "id": "8059294f",
   "metadata": {},
   "outputs": [
    {
     "data": {
      "text/plain": [
       "R1            S\n",
       "R2            Z\n",
       "R3            T\n",
       "R4            Y\n",
       "R5            Q\n",
       "R6            W\n",
       "R7            U\n",
       "R8            R\n",
       "R9            E\n",
       "R10           R\n",
       "R11           O\n",
       "R12           M\n",
       "R13    TREASURE\n",
       "R14           H\n",
       "R15           H\n",
       "R16           L\n",
       "R17           G\n",
       "R18           B\n",
       "R19           I\n",
       "R20           J\n",
       "R21           A\n",
       "R22           O\n",
       "R23           S\n",
       "R24           Z\n",
       "R25           Q\n",
       "R26           P\n",
       "R27           H\n",
       "R28           O\n",
       "R29           N\n",
       "R30           G\n",
       "Name: C13, dtype: object"
      ]
     },
     "execution_count": 81,
     "metadata": {},
     "output_type": "execute_result"
    }
   ],
   "source": [
    "treasure_df['C13']"
   ]
  },
  {
   "cell_type": "code",
   "execution_count": 82,
   "id": "c76ee623-00ec-4de7-afc4-9be10fb4ffcb",
   "metadata": {},
   "outputs": [
    {
     "name": "stdout",
     "output_type": "stream",
     "text": [
      "TREASURE\n"
     ]
    }
   ],
   "source": [
    "# Your solution here\n",
    "if all(treasure_df.iloc[:,12] == treasure_df['C13']):\n",
    "      print(treasure_df.iloc[:,12][12])"
   ]
  },
  {
   "cell_type": "markdown",
   "id": "9e746239-d08c-4543-bf04-d687d0b7d266",
   "metadata": {},
   "source": [
    "## 1.4"
   ]
  },
  {
   "cell_type": "markdown",
   "id": "ff75980b-607b-4e93-b769-ba26bbffd068",
   "metadata": {},
   "source": [
    "**CLUE:** R28, tenth column"
   ]
  },
  {
   "cell_type": "code",
   "execution_count": 83,
   "id": "5737b765-5650-4276-a9c5-59d10b452a35",
   "metadata": {},
   "outputs": [
    {
     "data": {
      "text/plain": [
       "'TREASURE'"
      ]
     },
     "execution_count": 83,
     "metadata": {},
     "output_type": "execute_result"
    }
   ],
   "source": [
    "# Your solution here\n",
    "treasure_df.loc['R28'][9]"
   ]
  },
  {
   "cell_type": "markdown",
   "id": "1a33ea6a-afc8-48a3-8c1a-27b1ce9e3167",
   "metadata": {},
   "source": [
    "## 1.5\n",
    "rubric={autograde:1}"
   ]
  },
  {
   "cell_type": "markdown",
   "id": "f9484252-ff9e-41e2-9371-9e9553b06bdb",
   "metadata": {},
   "source": [
    "# Your solution here**CLUE:** C26, R19 to R26\n",
    "\n",
    "**HINT:** You might need to do a bit of extra wrangling (e.g. joining stuff, maybe?) to get a result of \"TREASURE\" here..."
   ]
  },
  {
   "cell_type": "code",
   "execution_count": 84,
   "id": "93a9eb88-927d-46bf-ae59-0a64002713cb",
   "metadata": {},
   "outputs": [
    {
     "data": {
      "text/plain": [
       "'TREASURE'"
      ]
     },
     "execution_count": 84,
     "metadata": {},
     "output_type": "execute_result"
    }
   ],
   "source": [
    "# Your solution here\n",
    "''.join(treasure_df['C26']['R19':'R26'])"
   ]
  },
  {
   "cell_type": "markdown",
   "id": "51d6746d-1032-42ed-9fda-55727c7368e2",
   "metadata": {},
   "source": [
    "## 1.6"
   ]
  },
  {
   "cell_type": "markdown",
   "id": "cadf27e9-9100-418f-ac05-a48e204d5274",
   "metadata": {},
   "source": [
    "**CLUE:** The first rows of C29 *plus* the first row of C30"
   ]
  },
  {
   "cell_type": "code",
   "execution_count": 85,
   "id": "720db3a2-8d2b-44e1-92cd-8bed3727379e",
   "metadata": {},
   "outputs": [
    {
     "data": {
      "text/plain": [
       "'TREASURE'"
      ]
     },
     "execution_count": 85,
     "metadata": {},
     "output_type": "execute_result"
    }
   ],
   "source": [
    "# Your solution here\n",
    "treasure_df['C29'][0] + treasure_df['C30'][0]"
   ]
  },
  {
   "cell_type": "code",
   "execution_count": 91,
   "id": "766ec4db",
   "metadata": {},
   "outputs": [
    {
     "data": {
      "text/plain": [
       "'TREASURE'"
      ]
     },
     "execution_count": 91,
     "metadata": {},
     "output_type": "execute_result"
    }
   ],
   "source": [
    "''.join(treasure_df['C29'][0] + treasure_df['C30'][0])"
   ]
  },
  {
   "cell_type": "markdown",
   "id": "891b9084-05c6-4d83-ae18-fca58e69c297",
   "metadata": {},
   "source": [
    "## 1.7"
   ]
  },
  {
   "cell_type": "markdown",
   "id": "558e78e0-1784-4659-8f7f-41f0e8f5e343",
   "metadata": {},
   "source": [
    "**CLUE:** The first row of all columns that **do not** have a \"Z\" in the last row.\n",
    "\n",
    "**HINT:** You might need to do a bit of extra wrangling to get a result of \"TREASURE\" here..."
   ]
  },
  {
   "cell_type": "code",
   "execution_count": 92,
   "id": "752023c5-e0c6-4db5-aaf4-efd3f1db11df",
   "metadata": {},
   "outputs": [
    {
     "data": {
      "text/plain": [
       "'TREASURE'"
      ]
     },
     "execution_count": 92,
     "metadata": {},
     "output_type": "execute_result"
    }
   ],
   "source": [
    "# Your solution here\n",
    "''.join(treasure_df.iloc[0][treasure_df.iloc[-1]!=\"Z\"])"
   ]
  },
  {
   "cell_type": "markdown",
   "id": "ae67b7c8-ba57-4467-8dee-0b4ef7e4648e",
   "metadata": {},
   "source": [
    "## 1.8"
   ]
  },
  {
   "cell_type": "markdown",
   "id": "96aaa837-05d8-43d8-a81d-9dc94b7ef411",
   "metadata": {},
   "source": [
    "**CLUE:** C1 for C1 < C2 (remember, in Python, comparison operators work on string too, e.g., `\"a\" < \"b\" = True` because `a` occurs before `b` alphabetically. Also, don't forget about `.query()`!)\n",
    "\n",
    "**HINT:** You might need to do a bit of extra wrangling to get a result of \"TREASURE\" here..."
   ]
  },
  {
   "cell_type": "code",
   "execution_count": 87,
   "id": "e50342c3-9c10-4103-bdd0-167abfa239b8",
   "metadata": {},
   "outputs": [
    {
     "data": {
      "text/plain": [
       "'TREASURE'"
      ]
     },
     "execution_count": 87,
     "metadata": {},
     "output_type": "execute_result"
    }
   ],
   "source": [
    "# Your solution here\n",
    "# treasure_df.query('C1' > 'C2')\n",
    "treasure_df.query(\"C1 > C2\").loc['R20', 'C1']\n"
   ]
  },
  {
   "cell_type": "code",
   "execution_count": 94,
   "id": "808cfa37",
   "metadata": {},
   "outputs": [
    {
     "data": {
      "text/plain": [
       "'TREASURE'"
      ]
     },
     "execution_count": 94,
     "metadata": {},
     "output_type": "execute_result"
    }
   ],
   "source": [
    "''.join(i for i in treasure_df.query(\"C1 < C2\")['C1'])\n"
   ]
  },
  {
   "cell_type": "code",
   "execution_count": 97,
   "id": "6a7d459f",
   "metadata": {},
   "outputs": [
    {
     "data": {
      "text/plain": [
       "'TREASURE'"
      ]
     },
     "execution_count": 97,
     "metadata": {},
     "output_type": "execute_result"
    }
   ],
   "source": [
    "''.join(treasure_df.query(\"C1 < C2\")['C1'])"
   ]
  },
  {
   "cell_type": "code",
   "execution_count": null,
   "id": "688236b9",
   "metadata": {},
   "outputs": [],
   "source": []
  }
 ],
 "metadata": {
  "kernelspec": {
   "display_name": "Python 3",
   "language": "python",
   "name": "python3"
  },
  "language_info": {
   "codemirror_mode": {
    "name": "ipython",
    "version": 3
   },
   "file_extension": ".py",
   "mimetype": "text/x-python",
   "name": "python",
   "nbconvert_exporter": "python",
   "pygments_lexer": "ipython3",
   "version": "3.9.1"
  },
  "vscode": {
   "interpreter": {
    "hash": "ee089c0d8a7b72a1db4475b00a1092da957cc6786a2373700bea0bde293de64c"
   }
  }
 },
 "nbformat": 4,
 "nbformat_minor": 5
}
