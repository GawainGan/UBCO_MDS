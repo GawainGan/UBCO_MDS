{
 "cells": [
  {
   "attachments": {},
   "cell_type": "markdown",
   "id": "b173a884-dfe1-4928-8c64-eb3cce5e4658",
   "metadata": {},
   "source": [
    "# Task 2: Mind the gap\n",
    "\n",
    "---\n"
   ]
  },
  {
   "attachments": {},
   "cell_type": "markdown",
   "id": "6cd0a96d-12c6-4afd-b2d2-2d177d5e4b20",
   "metadata": {},
   "source": [
    "In this exercise, we'll practice some basic Pandas operations on the [Gapminder dataset](https://www.gapminder.org/about/). Gapminder is an educational foundation that aims to use data to unbiasedly describe trends in health and socioeconomics; it is a great source of geographical, socioeconomic, and health data - a subset of which we'll be exploring here. In particular, we'll be exploring a dataframe of the following features in this exercise:\n",
    "\n",
    "|     |   country   | continent | year | lifeExp |   pop    | gdpPercap  |\n",
    "| :-: | :---------: | :-------: | :--: | :-----: | :------: | :--------: |\n",
    "|  0  | Afghanistan |   Asia    | 1952 | 28.801  | 8425333  | 779.445314 |\n",
    "|  1  | Afghanistan |   Asia    | 1957 | 30.332  | 9240934  | 820.853030 |\n",
    "|  2  | Afghanistan |   Asia    | 1962 | 31.997  | 10267083 | 853.100710 |\n",
    "|  3  | Afghanistan |   Asia    | 1967 | 34.020  | 11537966 | 836.197138 |\n",
    "|  4  | Afghanistan |   Asia    | 1972 | 36.088  | 13079460 | 739.981106 |\n",
    "| ... |     ...     |    ...    | ...  |   ...   |   ...    |    ...     |\n"
   ]
  },
  {
   "cell_type": "code",
   "execution_count": 29,
   "id": "45d90b50-8156-4792-9af8-b11773f6889b",
   "metadata": {},
   "outputs": [],
   "source": [
    "import pandas as pd\n",
    "import numpy as np\n"
   ]
  },
  {
   "attachments": {},
   "cell_type": "markdown",
   "id": "6cb019d2-b572-434d-a854-969c937cf934",
   "metadata": {},
   "source": [
    "## 2.1\n"
   ]
  },
  {
   "attachments": {},
   "cell_type": "markdown",
   "id": "35f3f1e6-4877-4a5e-90c9-a86807d3a09a",
   "metadata": {},
   "source": [
    "Read the gapminder dataset into a dataframe called `df` from this url: <https://raw.githubusercontent.com/jstaf/gapminder/master/gapminder/gapminder.csv>\n"
   ]
  },
  {
   "cell_type": "code",
   "execution_count": 2,
   "id": "f192b3c0-ddce-464e-8405-d9b60698133e",
   "metadata": {},
   "outputs": [
    {
     "data": {
      "text/html": [
       "<div>\n",
       "<style scoped>\n",
       "    .dataframe tbody tr th:only-of-type {\n",
       "        vertical-align: middle;\n",
       "    }\n",
       "\n",
       "    .dataframe tbody tr th {\n",
       "        vertical-align: top;\n",
       "    }\n",
       "\n",
       "    .dataframe thead th {\n",
       "        text-align: right;\n",
       "    }\n",
       "</style>\n",
       "<table border=\"1\" class=\"dataframe\">\n",
       "  <thead>\n",
       "    <tr style=\"text-align: right;\">\n",
       "      <th></th>\n",
       "      <th>country</th>\n",
       "      <th>continent</th>\n",
       "      <th>year</th>\n",
       "      <th>lifeExp</th>\n",
       "      <th>pop</th>\n",
       "      <th>gdpPercap</th>\n",
       "    </tr>\n",
       "  </thead>\n",
       "  <tbody>\n",
       "    <tr>\n",
       "      <th>0</th>\n",
       "      <td>Afghanistan</td>\n",
       "      <td>Asia</td>\n",
       "      <td>1952</td>\n",
       "      <td>28.801</td>\n",
       "      <td>8425333</td>\n",
       "      <td>779.445314</td>\n",
       "    </tr>\n",
       "    <tr>\n",
       "      <th>1</th>\n",
       "      <td>Afghanistan</td>\n",
       "      <td>Asia</td>\n",
       "      <td>1957</td>\n",
       "      <td>30.332</td>\n",
       "      <td>9240934</td>\n",
       "      <td>820.853030</td>\n",
       "    </tr>\n",
       "    <tr>\n",
       "      <th>2</th>\n",
       "      <td>Afghanistan</td>\n",
       "      <td>Asia</td>\n",
       "      <td>1962</td>\n",
       "      <td>31.997</td>\n",
       "      <td>10267083</td>\n",
       "      <td>853.100710</td>\n",
       "    </tr>\n",
       "    <tr>\n",
       "      <th>3</th>\n",
       "      <td>Afghanistan</td>\n",
       "      <td>Asia</td>\n",
       "      <td>1967</td>\n",
       "      <td>34.020</td>\n",
       "      <td>11537966</td>\n",
       "      <td>836.197138</td>\n",
       "    </tr>\n",
       "    <tr>\n",
       "      <th>4</th>\n",
       "      <td>Afghanistan</td>\n",
       "      <td>Asia</td>\n",
       "      <td>1972</td>\n",
       "      <td>36.088</td>\n",
       "      <td>13079460</td>\n",
       "      <td>739.981106</td>\n",
       "    </tr>\n",
       "  </tbody>\n",
       "</table>\n",
       "</div>"
      ],
      "text/plain": [
       "       country continent  year  lifeExp       pop   gdpPercap\n",
       "0  Afghanistan      Asia  1952   28.801   8425333  779.445314\n",
       "1  Afghanistan      Asia  1957   30.332   9240934  820.853030\n",
       "2  Afghanistan      Asia  1962   31.997  10267083  853.100710\n",
       "3  Afghanistan      Asia  1967   34.020  11537966  836.197138\n",
       "4  Afghanistan      Asia  1972   36.088  13079460  739.981106"
      ]
     },
     "execution_count": 2,
     "metadata": {},
     "output_type": "execute_result"
    }
   ],
   "source": [
    "# Your solution here\n",
    "df = pd.read_csv(\n",
    "    'https://raw.githubusercontent.com/jstaf/gapminder/master/gapminder/gapminder.csv')\n",
    "df.head()\n"
   ]
  },
  {
   "attachments": {},
   "cell_type": "markdown",
   "id": "0816e8a6-2bf3-4c60-b993-e0077b7deb0f",
   "metadata": {},
   "source": [
    "## 2.2\n"
   ]
  },
  {
   "attachments": {},
   "cell_type": "markdown",
   "id": "e47dd937-fb42-4d21-9d3e-6894728c03f3",
   "metadata": {},
   "source": [
    "Which continent has the most observations in the gapminder dataset? You can leave your answer as the output of a dataframe operation (_hint_: `.value_counts()`).\n"
   ]
  },
  {
   "cell_type": "code",
   "execution_count": 34,
   "id": "0d740a88-4647-435b-8945-c83513ca30de",
   "metadata": {},
   "outputs": [
    {
     "data": {
      "text/plain": [
       "Africa      624\n",
       "Asia        396\n",
       "Europe      360\n",
       "Americas    300\n",
       "Oceania      24\n",
       "Name: continent, dtype: int64"
      ]
     },
     "execution_count": 34,
     "metadata": {},
     "output_type": "execute_result"
    }
   ],
   "source": [
    "# Your solution here\n",
    "df['continent'].value_counts()"
   ]
  },
  {
   "attachments": {},
   "cell_type": "markdown",
   "id": "9304a590-548a-4c76-a1bc-e2b1f099c69d",
   "metadata": {},
   "source": [
    "## 2.3\n"
   ]
  },
  {
   "attachments": {},
   "cell_type": "markdown",
   "id": "9bcb0ed5-d18d-45c3-9b2c-d82c9c35b389",
   "metadata": {},
   "source": [
    "What are the minimum and maximum life expectancies in the dataset, and what are the corresponding countries and the years? (_hint_: `.argmin()`/`.argmax()`)\n"
   ]
  },
  {
   "cell_type": "code",
   "execution_count": 32,
   "id": "8fe61181-61f4-40d8-af5f-7a55322813eb",
   "metadata": {},
   "outputs": [
    {
     "name": "stdout",
     "output_type": "stream",
     "text": [
      "Max life exp with corresponding countries and year: Japan 2007 82.603\n",
      "Min life exp with corresponding countries and year: Rwanda 1992 23.599\n"
     ]
    }
   ],
   "source": [
    "# Your solution here\n",
    "# import numpy as np\n",
    "\n",
    "min_lifeExp = np.min(df['lifeExp'])\n",
    "max_lifeExp = np.max(df['lifeExp'])\n",
    "min_index = df['lifeExp'].argmin()\n",
    "max_index = df['lifeExp'].argmax()\n",
    "min_country = df.loc[min_index, 'country']\n",
    "min_year = df.loc[min_index, 'year']\n",
    "max_country = df.loc[max_index, 'country']\n",
    "max_year = df.loc[max_index, 'year']\n",
    "print(\"Max life exp with corresponding countries and year:\", max_country, max_year, max_lifeExp)\n",
    "print(\"Min life exp with corresponding countries and year:\", min_country, min_year, min_lifeExp)\n"
   ]
  },
  {
   "attachments": {},
   "cell_type": "markdown",
   "id": "d432b2d3-a419-4d2e-9f63-6c6b5be31ee8",
   "metadata": {},
   "source": [
    "## 2.4\n"
   ]
  },
  {
   "attachments": {},
   "cell_type": "markdown",
   "id": "1cb9281b-09a2-4108-91c9-2a79bf5e3498",
   "metadata": {},
   "source": [
    "How much larger is the total population in this dataset in 2007 compared to 1952? You can give you answer as a float, e.g., \"the population is 1.8 times larger in 2007 than in 1952.\" (_hint_: you can use `.query()` to subset the dataframe for 1952 and then calculate the `.sum()` of the population, then repeat for 2007).\n"
   ]
  },
  {
   "cell_type": "code",
   "execution_count": 33,
   "id": "6dde019b-11de-403c-ba3c-d95f7dbcc07d",
   "metadata": {},
   "outputs": [
    {
     "name": "stdout",
     "output_type": "stream",
     "text": [
      "the population is 2.6 times larger in 2007 than in 1952.\n"
     ]
    }
   ],
   "source": [
    "# Your solution here\n",
    "pop_1952 = df.query(\"year == 1952\")['pop'].sum()\n",
    "pop_2007 = df.query(\"year == 2007\")['pop'].sum()\n",
    "ratio = pop_2007/pop_1952\n",
    "print(\"the population is {:.1f} times larger in 2007 than in 1952.\".format(ratio))"
   ]
  },
  {
   "attachments": {},
   "cell_type": "markdown",
   "id": "945c5306-9c85-4342-bfe4-dae32f899133",
   "metadata": {},
   "source": [
    "## 2.5\n"
   ]
  },
  {
   "attachments": {},
   "cell_type": "markdown",
   "id": "a8e571e1-8546-4a5d-a90a-350f9a310c71",
   "metadata": {},
   "source": [
    "What is the mean life expectancy of countries with the highest 50% of `gdpPercap` and countries with the lowest 50% of `gdpPercap`? (_hint_: try combining `.query()` and `.median()`)\n"
   ]
  },
  {
   "cell_type": "code",
   "execution_count": 35,
   "id": "a6e84a68-9b54-4168-91e6-aae103850d07",
   "metadata": {},
   "outputs": [
    {
     "data": {
      "text/plain": [
       "3531.8469885"
      ]
     },
     "execution_count": 35,
     "metadata": {},
     "output_type": "execute_result"
    }
   ],
   "source": [
    "# Your solution here\n",
    "med_lifeExp = df['gdpPercap'].median()\n",
    "df.query"
   ]
  },
  {
   "cell_type": "code",
   "execution_count": 36,
   "id": "5393c713",
   "metadata": {},
   "outputs": [],
   "source": [
    "gdp_median = df['gdpPercap'].median()\n",
    "low_gdp_mean_lifeExp = df.query(\"gdpPercap <= @gdp_median\")['lifeExp'].mean()\n",
    "high_gdp_mean_lifeExp = df.query(\"gdpPercap > @gdp_median\")['lifeExp'].mean()\n"
   ]
  },
  {
   "cell_type": "code",
   "execution_count": 37,
   "id": "6aeb099c",
   "metadata": {},
   "outputs": [
    {
     "name": "stdout",
     "output_type": "stream",
     "text": [
      "50.02098788732395\n",
      "68.92789084507042\n"
     ]
    }
   ],
   "source": [
    "print(low_gdp_mean_lifeExp)\n",
    "print(high_gdp_mean_lifeExp)"
   ]
  }
 ],
 "metadata": {
  "kernelspec": {
   "display_name": "Python 3",
   "language": "python",
   "name": "python3"
  },
  "language_info": {
   "codemirror_mode": {
    "name": "ipython",
    "version": 3
   },
   "file_extension": ".py",
   "mimetype": "text/x-python",
   "name": "python",
   "nbconvert_exporter": "python",
   "pygments_lexer": "ipython3",
   "version": "3.9.1"
  },
  "vscode": {
   "interpreter": {
    "hash": "ee089c0d8a7b72a1db4475b00a1092da957cc6786a2373700bea0bde293de64c"
   }
  }
 },
 "nbformat": 4,
 "nbformat_minor": 5
}
