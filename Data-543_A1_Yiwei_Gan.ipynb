{
 "cells": [
  {
   "cell_type": "markdown",
   "metadata": {},
   "source": [
    "# Q1 "
   ]
  },
  {
   "cell_type": "markdown",
   "metadata": {},
   "source": [
    "Suppose DATA 543 has four sections taught by 4 four professors Dr. Blue, Green, Purple and Red. Which section a student enrolls in depends on a number of factors (eg. professor preference, lecture times, restrictions from other classes, etc.). Between the four professors, Dr. Green is the only one who uses clickers.\n",
    "\n",
    "Clickers are small handheld transmitters that students must purchase to participate in multiple-choice questions answered in class. Professor Green asked students to answer where their hometown is using their clickers. The possible answers were ‘Canada’ and ‘Not Canada’. The results were as follows:\n",
    "\n",
    "- 107 students answered, with 55 selecting that their hometown is in Canada, and 52 selecting that their hometown is not in Canada."
   ]
  },
  {
   "cell_type": "markdown",
   "metadata": {},
   "source": [
    "We are interested in estimating - of all students enrolled in DATA 543 at the time the question was asked - the proportion who have a hometown in Canada. On the day the question was asked, 176 students were enrolled in Professor Green’s section of DATA 543, and 608 students were enrolled in DATA 543 in total. We do not know how many students attended the lecture when Professor Green asked this question."
   ]
  },
  {
   "cell_type": "markdown",
   "metadata": {},
   "source": [
    "### part a - The target population"
   ]
  },
  {
   "cell_type": "code",
   "execution_count": null,
   "metadata": {
    "vscode": {
     "languageId": "r"
    }
   },
   "outputs": [],
   "source": [
    "# 107 students answered, with 55 selecting that their hometown is in Canada, and 52 selecting that their hometown is not in Canada.\n",
    "\n",
    "# We are interested in estimating - of all students enrolled in DATA 543 at the time the question was asked - the proportion who have a hometown in Canada.\n",
    "# On the day the question was asked, 176 students were enrolled in Professor Green’s section of DATA 543, and 608 students were enrolled in DATA 543 in total. \n",
    "# We do not know how many students attended the lecture when Professor Green asked this question."
   ]
  },
  {
   "cell_type": "code",
   "execution_count": 3,
   "metadata": {
    "vscode": {
     "languageId": "r"
    }
   },
   "outputs": [
    {
     "data": {
      "text/html": [
       "176"
      ],
      "text/latex": [
       "176"
      ],
      "text/markdown": [
       "176"
      ],
      "text/plain": [
       "[1] 176"
      ]
     },
     "metadata": {},
     "output_type": "display_data"
    }
   ],
   "source": [
    "# i. (1 point) The target population;\n",
    "n <- 608  # we prefer the population of interest can be same as the target of population\n",
    "\n",
    "# ii. (1 point) The population quantity of interest; \n",
    "# interested in estimating - of all students enrolled in DATA 543 at the time the question was asked\n",
    "N <- 608  # total number of students enrolled in DATA 543\n",
    "\n",
    "# iii. (1 point) The sample size; \n",
    "# a subset of the population\n",
    "N1 <- 107 # total number of students answered in DATA 543 by Professor Green (who are actually measured in the sample)\n",
    "\n",
    "# iv. (1 point) The population size;\n",
    "size_of_population <- n #176 since we are estimating the proportion of the population, the size of population is 1\n",
    "\n",
    "# v. (1 point) The sample estimate of the population quantity of interest.\n",
    "sample_estimate <- n/N #176/608 sample estimate of the population quantity of interest\n",
    "\n",
    "size_of_population"
   ]
  },
  {
   "cell_type": "markdown",
   "metadata": {},
   "source": [
    "### part b - Describe the sampling protocol used for this study. \n",
    "You should specify whether it is a probability or non-probability sampling protocol, and identify the speciﬁc type of protocol used. \n",
    "\n",
    "For the speciﬁc type of protocol, refer to the list of non-probability sampling protocols and the list of probability sampling protocols covered in lecture. N.B. \n",
    "\n",
    "There may be more than one correct answer."
   ]
  },
  {
   "cell_type": "code",
   "execution_count": null,
   "metadata": {
    "vscode": {
     "languageId": "r"
    }
   },
   "outputs": [],
   "source": [
    "# The sampling protocol used for this study is a non-probability sampling protocol,\n",
    "# and the speciﬁc type of protocol used is convenience sampling.\n",
    "# The reason is that the sample is not randomly selected from the population,\n",
    "# and the sample is not representative of the population.\n",
    "# The sample is selected based on the convenience of the researcher.\n",
    "# The researcher asked the students in the class to answer the question.\n",
    "# The sample is not representative of the population because the sample is not randomly selected from the population.\n",
    "# The sample is not randomly selected from the population because the researcher did not randomly select the students to answer the question.\n",
    "# The researcher asked the students in the class to answer the question.\n",
    "# The sample is not representative of the population because the sample is not representative of the population.\n"
   ]
  },
  {
   "cell_type": "code",
   "execution_count": null,
   "metadata": {
    "vscode": {
     "languageId": "r"
    }
   },
   "outputs": [],
   "source": [
    "# Brieﬂy describe:\n",
    "\n",
    "# i. (2 points) One potential source of frame error in this study.\n",
    "# The potential source of frame error in this study is that the researcher did not randomly select the students to answer the question.\n",
    "# The researcher asked the students in the class to answer the question.\n",
    "# The sample is not representative of the population because the sample is not randomly selected from the population.\n",
    "# The sample is not randomly selected from the population because the researcher did not randomly select the students to answer the question.\n",
    "\n",
    "\n",
    "# ii. (2 points) One potential source of sample error in this study.\n",
    "# The potential source of sample error in this study is that the researcher did not randomly select the students to answer the question.\n",
    "# The researcher asked the students in the class to answer the question.\n",
    "# The sample is not representative of the population because the sample is not randomly selected from the population.\n",
    "# The sample is not randomly selected from the population because the researcher did not randomly select the students to answer the question.\n",
    "\n",
    "\n",
    "\n"
   ]
  },
  {
   "cell_type": "code",
   "execution_count": null,
   "metadata": {
    "vscode": {
     "languageId": "r"
    }
   },
   "outputs": [],
   "source": [
    "# iii. (2 points) One potential source of measurement error in this study.\n",
    "# The potential source of measurement error in this study is that the researcher did not randomly select the students to answer the question."
   ]
  },
  {
   "cell_type": "markdown",
   "metadata": {},
   "source": [
    "# Q2"
   ]
  },
  {
   "cell_type": "markdown",
   "metadata": {},
   "source": [
    "Recently, I wondered how much time I have spent in the last year listening to podcasts. One way to estimate this would be to take a sample of the podcasts I have listened to and look at the duration of podcasts in that sample. The Podcasts.csv data ﬁle on github contains two columns named id and duration. id gives an identiﬁcation number corresponding to individual podcasts and duration gives the length of that podcast (in minutes). You may consider this dataset as representing the entire population of podcasts under study. We will use µ to denote the population mean podcast duration, and σ 2 to denote the corresponding population variance."
   ]
  },
  {
   "cell_type": "markdown",
   "metadata": {},
   "source": [
    "### part a"
   ]
  },
  {
   "cell_type": "code",
   "execution_count": 1,
   "metadata": {
    "vscode": {
     "languageId": "r"
    }
   },
   "outputs": [
    {
     "data": {
      "text/html": [
       "<table class=\"dataframe\">\n",
       "<caption>A data.frame: 6 × 2</caption>\n",
       "<thead>\n",
       "\t<tr><th></th><th scope=col>id</th><th scope=col>duration</th></tr>\n",
       "\t<tr><th></th><th scope=col>&lt;int&gt;</th><th scope=col>&lt;int&gt;</th></tr>\n",
       "</thead>\n",
       "<tbody>\n",
       "\t<tr><th scope=row>1</th><td>1</td><td>32</td></tr>\n",
       "\t<tr><th scope=row>2</th><td>2</td><td>36</td></tr>\n",
       "\t<tr><th scope=row>3</th><td>3</td><td>31</td></tr>\n",
       "\t<tr><th scope=row>4</th><td>4</td><td>43</td></tr>\n",
       "\t<tr><th scope=row>5</th><td>5</td><td>37</td></tr>\n",
       "\t<tr><th scope=row>6</th><td>6</td><td>31</td></tr>\n",
       "</tbody>\n",
       "</table>\n"
      ],
      "text/latex": [
       "A data.frame: 6 × 2\n",
       "\\begin{tabular}{r|ll}\n",
       "  & id & duration\\\\\n",
       "  & <int> & <int>\\\\\n",
       "\\hline\n",
       "\t1 & 1 & 32\\\\\n",
       "\t2 & 2 & 36\\\\\n",
       "\t3 & 3 & 31\\\\\n",
       "\t4 & 4 & 43\\\\\n",
       "\t5 & 5 & 37\\\\\n",
       "\t6 & 6 & 31\\\\\n",
       "\\end{tabular}\n"
      ],
      "text/markdown": [
       "\n",
       "A data.frame: 6 × 2\n",
       "\n",
       "| <!--/--> | id &lt;int&gt; | duration &lt;int&gt; |\n",
       "|---|---|---|\n",
       "| 1 | 1 | 32 |\n",
       "| 2 | 2 | 36 |\n",
       "| 3 | 3 | 31 |\n",
       "| 4 | 4 | 43 |\n",
       "| 5 | 5 | 37 |\n",
       "| 6 | 6 | 31 |\n",
       "\n"
      ],
      "text/plain": [
       "  id duration\n",
       "1 1  32      \n",
       "2 2  36      \n",
       "3 3  31      \n",
       "4 4  43      \n",
       "5 5  37      \n",
       "6 6  31      "
      ]
     },
     "metadata": {},
     "output_type": "display_data"
    }
   ],
   "source": [
    "Pod <- read.csv(\"Podcasts.csv\")\n",
    "head(Pod)"
   ]
  },
  {
   "cell_type": "code",
   "execution_count": 21,
   "metadata": {
    "vscode": {
     "languageId": "r"
    }
   },
   "outputs": [
    {
     "name": "stdout",
     "output_type": "stream",
     "text": [
      "N = 300 , miu = 35.17667 , sigma2 = 23.26969 , tau = 175.8833"
     ]
    }
   ],
   "source": [
    "# Provide each of the following:\n",
    "# i. (1 point) The population size (N);\n",
    "# ii. (2 points) µ in minutes;\n",
    "# iii. (2 points) σ^2 ;\n",
    "# iv. (2 points) The total duration of podcasts in the population τ = N µ in hours.\n",
    "\n",
    "N <- nrow(Pod) \n",
    "miu <- mean(Pod$duration) \n",
    "sigma2 <- var(Pod$duration)\n",
    "tau <- N * miu/60\n",
    "cat(\"N =\", N, \", miu =\", miu, \", sigma2 =\", sigma2, \", tau =\", tau)"
   ]
  },
  {
   "cell_type": "markdown",
   "metadata": {},
   "source": [
    "## part b"
   ]
  },
  {
   "cell_type": "markdown",
   "metadata": {},
   "source": [
    "Please answer parts (b)i–v as if you had no knowledge of the full population (other than the population size).  Take a sample of size n = 30 from the population in Podcasts.csv by simple random sampling without replacement. You may do this in R using the following commands:"
   ]
  },
  {
   "cell_type": "code",
   "execution_count": 53,
   "metadata": {
    "vscode": {
     "languageId": "r"
    }
   },
   "outputs": [
    {
     "data": {
      "text/html": [
       "<style>\n",
       ".list-inline {list-style: none; margin:0; padding: 0}\n",
       ".list-inline>li {display: inline-block}\n",
       ".list-inline>li:not(:last-child)::after {content: \"\\00b7\"; padding: 0 .5ex}\n",
       "</style>\n",
       "<ol class=list-inline><li>46</li><li>30</li><li>46</li><li>37</li><li>36</li></ol>\n"
      ],
      "text/latex": [
       "\\begin{enumerate*}\n",
       "\\item 46\n",
       "\\item 30\n",
       "\\item 46\n",
       "\\item 37\n",
       "\\item 36\n",
       "\\end{enumerate*}\n"
      ],
      "text/markdown": [
       "1. 46\n",
       "2. 30\n",
       "3. 46\n",
       "4. 37\n",
       "5. 36\n",
       "\n",
       "\n"
      ],
      "text/plain": [
       "[1] 46 30 46 37 36"
      ]
     },
     "metadata": {},
     "output_type": "display_data"
    }
   ],
   "source": [
    "Pod <- read.csv(\"Podcasts.csv\")\n",
    "set.seed(2021)\n",
    "My.Sample <- sample(Pod$duration, 30)\n",
    "head(My.Sample, 5)"
   ]
  },
  {
   "cell_type": "markdown",
   "metadata": {},
   "source": [
    "### ii. (3 points) Compute the sample average y and the sample variance s^2 for your sample.\n"
   ]
  },
  {
   "cell_type": "code",
   "execution_count": 54,
   "metadata": {
    "vscode": {
     "languageId": "r"
    }
   },
   "outputs": [
    {
     "name": "stdout",
     "output_type": "stream",
     "text": [
      "My.Sample = 46 30 46 37 36 35 43 30 35 31 34 31 34 35 39 32 28 35 42 38 38 34 48 47 40 40 30 28 35 34 \n",
      "sample_avg = 36.36667 \n",
      "sample_var = 31.68851"
     ]
    }
   ],
   "source": [
    "sample_avg <- mean(My.Sample)\n",
    "sample_var <- var(My.Sample)\n",
    "cat(\"My.Sample =\", My.Sample, \"\\nsample_avg =\", sample_avg, \"\\nsample_var =\", sample_var)"
   ]
  },
  {
   "cell_type": "markdown",
   "metadata": {},
   "source": [
    "### iii. (3 points) Based on your sample construct a 95% conﬁdence interval for µ , the (population) mean podcast duration in minutes.\n"
   ]
  },
  {
   "cell_type": "code",
   "execution_count": 55,
   "metadata": {
    "vscode": {
     "languageId": "r"
    }
   },
   "outputs": [],
   "source": [
    "miu_95_low_high <- t.test(My.Sample, conf.level = 0.95)$conf.int"
   ]
  },
  {
   "cell_type": "markdown",
   "metadata": {},
   "source": [
    "### iv. (3 points) Based on your answer to part (iii), construct a 95% conﬁdence interval for the total duration of podcasts in the population in hours. You do not need to show your working.\n"
   ]
  },
  {
   "cell_type": "code",
   "execution_count": 56,
   "metadata": {
    "vscode": {
     "languageId": "r"
    }
   },
   "outputs": [
    {
     "name": "stdout",
     "output_type": "stream",
     "text": [
      "\n",
      "The 95% confidence interval for the total duration of podcasts in the population is between:\n",
      " 34.2647 38.4687 in min\n",
      " 0.5639 0.6483 in hr."
     ]
    }
   ],
   "source": [
    "miu_98_hr_low_high <- t.test(My.Sample, conf.level = 0.98)$conf.int / 60\n",
    "\n",
    "cat(\"\\nThe 95% confidence interval for the total duration of podcasts in the population is between:\\n\", round(miu_95_low_high,4), \"in min\\n\", round(miu_98_hr_low_high,4), \"in hr.\")"
   ]
  },
  {
   "cell_type": "markdown",
   "metadata": {},
   "source": [
    "### v. (2 points) Provide an interpretation for the CI calculated in part (iv)."
   ]
  },
  {
   "cell_type": "code",
   "execution_count": null,
   "metadata": {
    "vscode": {
     "languageId": "r"
    }
   },
   "outputs": [],
   "source": [
    "# when the number of time of resampling becomes larger, the CI becomes more stable. \n",
    "# Though the CI is not the same, it is still in the 95% range. \n",
    "# So the CI is correct."
   ]
  },
  {
   "cell_type": "markdown",
   "metadata": {},
   "source": [
    "# Q3"
   ]
  },
  {
   "cell_type": "markdown",
   "metadata": {},
   "source": [
    "The 2016 United States presidential election saw an estimated turnout of 55.3%, meaning a little over half of the voting age population voted. \n",
    "\n",
    "For the purposes of this question, we will limit attention to the votes received by the two major party candidates: Donald Trump and Hillary Clinton. \n",
    "\n",
    "It has been estimated that total votes for Trump and Clinton were 62,979,860 and 65,844,952, respectively. \n",
    "\n",
    "This totals to 128,824,812 votes from an estimated voting age population of 251,107,406. \n",
    "\n",
    "If we just consider these two candidates, this converts to a turnout of 51.3%.\n",
    "\n",
    "\n",
    "The United States Census Bureau divides the United States into four statistical regions: Northeast, Midwest, South, and West. \n",
    "\n",
    "We can therefore view each of these regions as individual strata, and extend our sampling assumption to suppose that voters decide to vote via simple random sampling without replacement within each of those strata."
   ]
  },
  {
   "cell_type": "markdown",
   "metadata": {},
   "source": [
    "### Part a"
   ]
  },
  {
   "cell_type": "code",
   "execution_count": 48,
   "metadata": {
    "vscode": {
     "languageId": "r"
    }
   },
   "outputs": [
    {
     "name": "stdout",
     "output_type": "stream",
     "text": [
      "The total population size 251107406 \n",
      "The population stratum weight 0.1777917 0.2092573 0.3766919 0.2362591\n",
      "The sample size in the h thregion 23761066 29743634 47834774 27485338 \n",
      "The sample stratum weight 0.1844448 0.2308844 0.3713165 0.2133544 \n",
      "The sample estimate of the proportion of voters who voted for Donald Trump in the h th region 0.5322246 0.5660487 0.5057058 0.4632901 \n"
     ]
    }
   ],
   "source": [
    "# Nh: the population size in the h the hth region.\n",
    "Nh <- c(44644808, 52546066, 94590118, 59326414) # Northeast, Midwest, South, and West\n",
    "N_total <- sum(Nh) # total population size\n",
    "cat('The total population size', N_total,'\\n')\n",
    "\n",
    "# the population stratum weight for the h thregion.\n",
    "wh <- Nh/N_total # the population stratum weight for the h thregion.\n",
    "cat('The population stratum weight', wh)\n",
    "\n",
    "# the sample size in the h thregion. \n",
    "# This is the total number of votes cast in that region for Donald Trump and Hillary Clinton ONLY \n",
    "# (we are ignoring votes cast for other candidates).\n",
    "T_nh <- c(10108658, 15559072, 25867401, 11444729)\n",
    "C_nh <- c(13652408, 14184562, 21967373, 16040609)\n",
    "nh_total <- T_nh + C_nh # total number of votes cast in that region for Donald Trump and Hillary Clinton ONLY\n",
    "cat('\\nThe sample size in the h thregion', nh_total,'\\n')\n",
    "\n",
    "# the sample stratum weight for the hth thregion\n",
    "T_wh <- T_nh/sum(nh_total)\n",
    "C_wh <- C_nh/sum(nh_total)\n",
    "wh_total <- T_wh + C_wh # the sample stratum weight for the hth thregion\n",
    "cat('The sample stratum weight', wh_total,'\\n')\n",
    "\n",
    "# the sample estimate of the proportion of voters who voted for Donald Trump in the h_th region, \n",
    "# with y h denoting the number of votes Donald Trump received in that region\n",
    "T_p_theat_H <- T_nh/nh_total\n",
    "cat('The sample estimate of the proportion of voters who voted for Donald Trump in the h th region', p_theat_H_total,'\\n')"
   ]
  },
  {
   "cell_type": "code",
   "execution_count": 49,
   "metadata": {
    "vscode": {
     "languageId": "r"
    }
   },
   "outputs": [
    {
     "data": {
      "text/html": [
       "<table class=\"dataframe\">\n",
       "<caption>A data.frame: 4 × 6</caption>\n",
       "<thead>\n",
       "\t<tr><th scope=col>region</th><th scope=col>Nh</th><th scope=col>wh</th><th scope=col>nh_total</th><th scope=col>wh_total</th><th scope=col>T_p_theat_H</th></tr>\n",
       "\t<tr><th scope=col>&lt;chr&gt;</th><th scope=col>&lt;dbl&gt;</th><th scope=col>&lt;dbl&gt;</th><th scope=col>&lt;dbl&gt;</th><th scope=col>&lt;dbl&gt;</th><th scope=col>&lt;dbl&gt;</th></tr>\n",
       "</thead>\n",
       "<tbody>\n",
       "\t<tr><td>Northeast</td><td>44644808</td><td>0.1777917</td><td>23761066</td><td>0.1844448</td><td>0.4254295</td></tr>\n",
       "\t<tr><td>Midwest  </td><td>52546066</td><td>0.2092573</td><td>29743634</td><td>0.2308844</td><td>0.5231060</td></tr>\n",
       "\t<tr><td>South    </td><td>94590118</td><td>0.3766919</td><td>47834774</td><td>0.3713165</td><td>0.5407656</td></tr>\n",
       "\t<tr><td>West     </td><td>59326414</td><td>0.2362591</td><td>27485338</td><td>0.2133544</td><td>0.4163940</td></tr>\n",
       "</tbody>\n",
       "</table>\n"
      ],
      "text/latex": [
       "A data.frame: 4 × 6\n",
       "\\begin{tabular}{llllll}\n",
       " region & Nh & wh & nh\\_total & wh\\_total & T\\_p\\_theat\\_H\\\\\n",
       " <chr> & <dbl> & <dbl> & <dbl> & <dbl> & <dbl>\\\\\n",
       "\\hline\n",
       "\t Northeast & 44644808 & 0.1777917 & 23761066 & 0.1844448 & 0.4254295\\\\\n",
       "\t Midwest   & 52546066 & 0.2092573 & 29743634 & 0.2308844 & 0.5231060\\\\\n",
       "\t South     & 94590118 & 0.3766919 & 47834774 & 0.3713165 & 0.5407656\\\\\n",
       "\t West      & 59326414 & 0.2362591 & 27485338 & 0.2133544 & 0.4163940\\\\\n",
       "\\end{tabular}\n"
      ],
      "text/markdown": [
       "\n",
       "A data.frame: 4 × 6\n",
       "\n",
       "| region &lt;chr&gt; | Nh &lt;dbl&gt; | wh &lt;dbl&gt; | nh_total &lt;dbl&gt; | wh_total &lt;dbl&gt; | T_p_theat_H &lt;dbl&gt; |\n",
       "|---|---|---|---|---|---|\n",
       "| Northeast | 44644808 | 0.1777917 | 23761066 | 0.1844448 | 0.4254295 |\n",
       "| Midwest   | 52546066 | 0.2092573 | 29743634 | 0.2308844 | 0.5231060 |\n",
       "| South     | 94590118 | 0.3766919 | 47834774 | 0.3713165 | 0.5407656 |\n",
       "| West      | 59326414 | 0.2362591 | 27485338 | 0.2133544 | 0.4163940 |\n",
       "\n"
      ],
      "text/plain": [
       "  region    Nh       wh        nh_total wh_total  T_p_theat_H\n",
       "1 Northeast 44644808 0.1777917 23761066 0.1844448 0.4254295  \n",
       "2 Midwest   52546066 0.2092573 29743634 0.2308844 0.5231060  \n",
       "3 South     94590118 0.3766919 47834774 0.3713165 0.5407656  \n",
       "4 West      59326414 0.2362591 27485338 0.2133544 0.4163940  "
      ]
     },
     "metadata": {},
     "output_type": "display_data"
    }
   ],
   "source": [
    "region <- c('Northeast', 'Midwest', 'South', 'West')\n",
    "df <- data.frame(region,Nh, wh, nh_total, wh_total, T_p_theat_H)\n",
    "df"
   ]
  },
  {
   "cell_type": "code",
   "execution_count": 2,
   "metadata": {
    "vscode": {
     "languageId": "r"
    }
   },
   "outputs": [
    {
     "data": {
      "text/html": [
       "<table class=\"dataframe\">\n",
       "<caption>A data.frame: 4 × 6</caption>\n",
       "<thead>\n",
       "\t<tr><th></th><th scope=col>region</th><th scope=col>Nh</th><th scope=col>Wh</th><th scope=col>nh</th><th scope=col>wh</th><th scope=col>pih</th></tr>\n",
       "\t<tr><th></th><th scope=col>&lt;I&lt;chr&gt;&gt;</th><th scope=col>&lt;I&lt;chr&gt;&gt;</th><th scope=col>&lt;I&lt;chr&gt;&gt;</th><th scope=col>&lt;I&lt;chr&gt;&gt;</th><th scope=col>&lt;I&lt;chr&gt;&gt;</th><th scope=col>&lt;I&lt;chr&gt;&gt;</th></tr>\n",
       "</thead>\n",
       "<tbody>\n",
       "\t<tr><th scope=row>1</th><td>Northeast</td><td>4.5e+07</td><td>0.18</td><td>2.4e+07</td><td>0.18</td><td>0.43</td></tr>\n",
       "\t<tr><th scope=row>2</th><td>Midwest  </td><td>5.3e+07</td><td>0.21</td><td>3.0e+07</td><td>0.23</td><td>0.52</td></tr>\n",
       "\t<tr><th scope=row>3</th><td>South    </td><td>9.5e+07</td><td>0.38</td><td>4.8e+07</td><td>0.37</td><td>0.54</td></tr>\n",
       "\t<tr><th scope=row>4</th><td>West     </td><td>5.9e+07</td><td>0.24</td><td>2.7e+07</td><td>0.21</td><td>0.42</td></tr>\n",
       "</tbody>\n",
       "</table>\n"
      ],
      "text/latex": [
       "A data.frame: 4 × 6\n",
       "\\begin{tabular}{r|llllll}\n",
       "  & region & Nh & Wh & nh & wh & pih\\\\\n",
       "  & <I<chr>> & <I<chr>> & <I<chr>> & <I<chr>> & <I<chr>> & <I<chr>>\\\\\n",
       "\\hline\n",
       "\t1 & Northeast & 4.5e+07 & 0.18 & 2.4e+07 & 0.18 & 0.43\\\\\n",
       "\t2 & Midwest   & 5.3e+07 & 0.21 & 3.0e+07 & 0.23 & 0.52\\\\\n",
       "\t3 & South     & 9.5e+07 & 0.38 & 4.8e+07 & 0.37 & 0.54\\\\\n",
       "\t4 & West      & 5.9e+07 & 0.24 & 2.7e+07 & 0.21 & 0.42\\\\\n",
       "\\end{tabular}\n"
      ],
      "text/markdown": [
       "\n",
       "A data.frame: 4 × 6\n",
       "\n",
       "| <!--/--> | region &lt;I&lt;chr&gt;&gt; | Nh &lt;I&lt;chr&gt;&gt; | Wh &lt;I&lt;chr&gt;&gt; | nh &lt;I&lt;chr&gt;&gt; | wh &lt;I&lt;chr&gt;&gt; | pih &lt;I&lt;chr&gt;&gt; |\n",
       "|---|---|---|---|---|---|---|\n",
       "| 1 | Northeast | 4.5e+07 | 0.18 | 2.4e+07 | 0.18 | 0.43 |\n",
       "| 2 | Midwest   | 5.3e+07 | 0.21 | 3.0e+07 | 0.23 | 0.52 |\n",
       "| 3 | South     | 9.5e+07 | 0.38 | 4.8e+07 | 0.37 | 0.54 |\n",
       "| 4 | West      | 5.9e+07 | 0.24 | 2.7e+07 | 0.21 | 0.42 |\n",
       "\n"
      ],
      "text/plain": [
       "  region    Nh      Wh   nh      wh   pih \n",
       "1 Northeast 4.5e+07 0.18 2.4e+07 0.18 0.43\n",
       "2 Midwest   5.3e+07 0.21 3.0e+07 0.23 0.52\n",
       "3 South     9.5e+07 0.38 4.8e+07 0.37 0.54\n",
       "4 West      5.9e+07 0.24 2.7e+07 0.21 0.42"
      ]
     },
     "metadata": {},
     "output_type": "display_data"
    }
   ],
   "source": [
    "population <- c(44644808, 52546066, 94590118, 59326414) # Northeast, Midwest, South, and West\n",
    "Nh   <- population\n",
    "Wh   <- population/sum(population)\n",
    "\n",
    "T_nh <- c(10108658, 15559072, 25867401, 11444729)\n",
    "C_nh <- c(13652408, 14184562, 21967373, 16040609)\n",
    "sample <- T_nh + C_nh # \n",
    "fh   <- sample/population\n",
    "nh   <- sample\n",
    "n    <- sum(sample)\n",
    "wh   <- sample/n \n",
    "\n",
    "pih  <- T_nh/sample\n",
    "region <- c('Northeast', 'Midwest', 'South', 'West')\n",
    "temp = data.frame(region, Nh, Wh, nh, wh, pih)\n",
    "format(temp,digits=2)"
   ]
  },
  {
   "cell_type": "markdown",
   "metadata": {},
   "source": [
    "### Part b \n",
    "\n",
    "For each of the four regions, write a brief sentence explaining whether it is over- or under-represented in the sample. \n",
    "\n",
    "In other words, compare the proportion of voters in the sample from each region with the proportion of voters in the population from each region.\n"
   ]
  },
  {
   "cell_type": "code",
   "execution_count": 5,
   "metadata": {
    "vscode": {
     "languageId": "r"
    }
   },
   "outputs": [
    {
     "name": "stdout",
     "output_type": "stream",
     "text": [
      "The under-represented in the sample: South West\n",
      "The over-represented in the sample: Northeast Midwest"
     ]
    }
   ],
   "source": [
    "cat('The under-represented in the sample:', region[Wh > wh])\n",
    "cat('\\nThe over-represented in the sample:', region[Wh < wh])"
   ]
  },
  {
   "cell_type": "markdown",
   "metadata": {},
   "source": [
    "### part c\n",
    "\n",
    "Based on the voting ﬁgures, brieﬂy discuss whether stratifying the sample into four regions seems reasonable. \n",
    "\n",
    "Provide one other stratiﬁcation structure we might consider for these data (i.e., some other division of the population into strata)."
   ]
  },
  {
   "cell_type": "markdown",
   "metadata": {},
   "source": [
    "**Answer**\n",
    "\n",
    "- Stratifying the sample into four regions is a good idea because the sample is not representative of the population.\n",
    "- Besides, due to the voting-tendency of each region, the total sample is not representative of the population, thus we need to stratify the sample into four regions.\n",
    "- We can stratify the age of the sample into four groups, and then we can get the sample that is representative of the population."
   ]
  },
  {
   "cell_type": "markdown",
   "metadata": {},
   "source": [
    "### part d"
   ]
  },
  {
   "cell_type": "markdown",
   "metadata": {},
   "source": [
    "- Assuming we want to construct a new dataset with the same number of voters as seen is these data (i.e., n = 128, 824, 812), calculate the number of voters required in each stratum to achieve proportional allocation. \n",
    "- Note: Your calculations in parts (e) and (f) should be based on the sample sizes in the original dataset, rather than those calculated in part (d).\n"
   ]
  },
  {
   "cell_type": "code",
   "execution_count": 8,
   "metadata": {
    "vscode": {
     "languageId": "r"
    }
   },
   "outputs": [
    {
     "name": "stdout",
     "output_type": "stream",
     "text": [
      "stratified sample size: 23761066 29743634 47834774 27485338 \n",
      "total sample size: 128824812"
     ]
    }
   ],
   "source": [
    "# The previous survey has a sample size of\n",
    "cat(\"stratified sample size:\",nh, \"\\ntotal sample size:\", sum(n))"
   ]
  },
  {
   "cell_type": "code",
   "execution_count": 11,
   "metadata": {
    "vscode": {
     "languageId": "r"
    }
   },
   "outputs": [
    {
     "name": "stdout",
     "output_type": "stream",
     "text": [
      " get the number of individuals required in each stratum to achieve proportional allocation: 22903980 26957537 48527259 30436036"
     ]
    }
   ],
   "source": [
    "# We want to construct a new dataset with the same number of individuals as seen is these data (i.e., n= ), \n",
    "#       calculate the number of individuals required in each stratum to achieve proportional allocation.\n",
    "cat(' get the number of individuals required in each stratum to achieve proportional allocation:', round(n*Wh))\n",
    "# round(n*Wh,0)"
   ]
  },
  {
   "cell_type": "code",
   "execution_count": 12,
   "metadata": {
    "vscode": {
     "languageId": "r"
    }
   },
   "outputs": [
    {
     "data": {
      "text/html": [
       "<table class=\"dataframe\">\n",
       "<caption>A data.frame: 4 × 2</caption>\n",
       "<thead>\n",
       "\t<tr><th scope=col>region</th><th scope=col>proportional.allocation</th></tr>\n",
       "\t<tr><th scope=col>&lt;chr&gt;</th><th scope=col>&lt;dbl&gt;</th></tr>\n",
       "</thead>\n",
       "<tbody>\n",
       "\t<tr><td>Northeast</td><td>22903980</td></tr>\n",
       "\t<tr><td>Midwest  </td><td>26957537</td></tr>\n",
       "\t<tr><td>South    </td><td>48527259</td></tr>\n",
       "\t<tr><td>West     </td><td>30436036</td></tr>\n",
       "</tbody>\n",
       "</table>\n"
      ],
      "text/latex": [
       "A data.frame: 4 × 2\n",
       "\\begin{tabular}{ll}\n",
       " region & proportional.allocation\\\\\n",
       " <chr> & <dbl>\\\\\n",
       "\\hline\n",
       "\t Northeast & 22903980\\\\\n",
       "\t Midwest   & 26957537\\\\\n",
       "\t South     & 48527259\\\\\n",
       "\t West      & 30436036\\\\\n",
       "\\end{tabular}\n"
      ],
      "text/markdown": [
       "\n",
       "A data.frame: 4 × 2\n",
       "\n",
       "| region &lt;chr&gt; | proportional.allocation &lt;dbl&gt; |\n",
       "|---|---|\n",
       "| Northeast | 22903980 |\n",
       "| Midwest   | 26957537 |\n",
       "| South     | 48527259 |\n",
       "| West      | 30436036 |\n",
       "\n"
      ],
      "text/plain": [
       "  region    proportional.allocation\n",
       "1 Northeast 22903980               \n",
       "2 Midwest   26957537               \n",
       "3 South     48527259               \n",
       "4 West      30436036               "
      ]
     },
     "metadata": {},
     "output_type": "display_data"
    }
   ],
   "source": [
    "data.frame(region, proportional.allocation = round(n*Wh,0) )"
   ]
  },
  {
   "cell_type": "code",
   "execution_count": 13,
   "metadata": {
    "vscode": {
     "languageId": "r"
    }
   },
   "outputs": [
    {
     "data": {
      "text/html": [
       "<table class=\"dataframe\">\n",
       "<caption>A data.frame: 4 × 3</caption>\n",
       "<thead>\n",
       "\t<tr><th scope=col>region</th><th scope=col>study.One</th><th scope=col>proportional</th></tr>\n",
       "\t<tr><th scope=col>&lt;chr&gt;</th><th scope=col>&lt;dbl&gt;</th><th scope=col>&lt;dbl&gt;</th></tr>\n",
       "</thead>\n",
       "<tbody>\n",
       "\t<tr><td>Northeast</td><td>23761066</td><td>22903980</td></tr>\n",
       "\t<tr><td>Midwest  </td><td>29743634</td><td>26957537</td></tr>\n",
       "\t<tr><td>South    </td><td>47834774</td><td>48527259</td></tr>\n",
       "\t<tr><td>West     </td><td>27485338</td><td>30436036</td></tr>\n",
       "</tbody>\n",
       "</table>\n"
      ],
      "text/latex": [
       "A data.frame: 4 × 3\n",
       "\\begin{tabular}{lll}\n",
       " region & study.One & proportional\\\\\n",
       " <chr> & <dbl> & <dbl>\\\\\n",
       "\\hline\n",
       "\t Northeast & 23761066 & 22903980\\\\\n",
       "\t Midwest   & 29743634 & 26957537\\\\\n",
       "\t South     & 47834774 & 48527259\\\\\n",
       "\t West      & 27485338 & 30436036\\\\\n",
       "\\end{tabular}\n"
      ],
      "text/markdown": [
       "\n",
       "A data.frame: 4 × 3\n",
       "\n",
       "| region &lt;chr&gt; | study.One &lt;dbl&gt; | proportional &lt;dbl&gt; |\n",
       "|---|---|---|\n",
       "| Northeast | 23761066 | 22903980 |\n",
       "| Midwest   | 29743634 | 26957537 |\n",
       "| South     | 47834774 | 48527259 |\n",
       "| West      | 27485338 | 30436036 |\n",
       "\n"
      ],
      "text/plain": [
       "  region    study.One proportional\n",
       "1 Northeast 23761066  22903980    \n",
       "2 Midwest   29743634  26957537    \n",
       "3 South     47834774  48527259    \n",
       "4 West      27485338  30436036    "
      ]
     },
     "metadata": {},
     "output_type": "display_data"
    }
   ],
   "source": [
    "data.frame(region, study.One=nh, proportional = round(n*Wh,0) )"
   ]
  },
  {
   "cell_type": "markdown",
   "metadata": {},
   "source": [
    "### part e\n",
    "\n",
    "Based on these data, what is π_hat ? More speciﬁcally, what is the overall sample estimate of π, the proportion of the voting age population who would vote for Donald Trump if they all voted? \n",
    "\n",
    "Note that this is not the stratiﬁed estimate.  Convert this estimate to a percentage, written to 3 decimal places."
   ]
  },
  {
   "cell_type": "code",
   "execution_count": 15,
   "metadata": {
    "vscode": {
     "languageId": "r"
    }
   },
   "outputs": [
    {
     "name": "stdout",
     "output_type": "stream",
     "text": [
      "The overall sample estimate of pi, the proportion of the voting age population who would vote for Donald Trump if they all voted is 0.487"
     ]
    }
   ],
   "source": [
    "pi.strata.hat = sum(Wh *pih)\n",
    "cat('The overall sample estimate of pi, the proportion of the voting age population who would vote for Donald Trump if they all voted is', round(pi.strata.hat,3))"
   ]
  },
  {
   "cell_type": "markdown",
   "metadata": {},
   "source": [
    "### part f\n",
    "\n",
    "Based on these data, what is π_hat_s , the stratiﬁed sample estimate of π?\n",
    "Convert this estimate to a percentage, written to 3 decimal places."
   ]
  },
  {
   "cell_type": "code",
   "execution_count": 19,
   "metadata": {
    "vscode": {
     "languageId": "r"
    }
   },
   "outputs": [
    {
     "name": "stdout",
     "output_type": "stream",
     "text": [
      "The stratified sample estimate of pi, the proportion of the voting age population who would vote for Donald Trump if they all voted is 0.487"
     ]
    }
   ],
   "source": [
    "pi.strata.hat.sample = sum(Wh * pi.strata.hat)\n",
    "cat('The stratified sample estimate of pi, the proportion of the voting age population who would vote for Donald Trump if they all voted is', round(pi.strata.hat.sample,3))"
   ]
  },
  {
   "cell_type": "markdown",
   "metadata": {},
   "source": [
    "### part g\n",
    "\n",
    "Provide a reason why the stratiﬁed sample estimate in part (f) is diﬀerent from the unstratiﬁed estimate in part (e)."
   ]
  },
  {
   "cell_type": "code",
   "execution_count": null,
   "metadata": {
    "vscode": {
     "languageId": "r"
    }
   },
   "outputs": [],
   "source": []
  }
 ],
 "metadata": {
  "kernelspec": {
   "display_name": "R",
   "language": "R",
   "name": "ir"
  },
  "language_info": {
   "codemirror_mode": "r",
   "file_extension": ".r",
   "mimetype": "text/x-r-source",
   "name": "R",
   "pygments_lexer": "r",
   "version": "4.2.1"
  },
  "orig_nbformat": 4
 },
 "nbformat": 4,
 "nbformat_minor": 2
}
