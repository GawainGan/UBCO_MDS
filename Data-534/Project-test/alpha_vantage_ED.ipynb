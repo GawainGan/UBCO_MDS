{
 "cells": [
  {
   "cell_type": "code",
   "execution_count": 68,
   "metadata": {},
   "outputs": [],
   "source": [
    "from project import *\n",
    "import requests\n",
    "import pandas as pd\n",
    "import time\n",
    "apikey = 'O6LFU5LE4ZVYXL1H'"
   ]
  },
  {
   "cell_type": "code",
   "execution_count": 69,
   "metadata": {},
   "outputs": [],
   "source": [
    "def convert_js_to_df_monthly(data):\n",
    "      df = pd.json_normalize(data['data'])\n",
    "      # Convert the 'date' column into a datetime object\n",
    "      df['date'] = pd.to_datetime(df['date'])\n",
    "      # df['date'] = pd.DatetimeIndex(df['date']).to_period('M')\n",
    "      # df['year'] = df['date'].dt.year\n",
    "      # df['month'] = df['date'].dt.month\n",
    "      # df = df.drop(columns=['date'])\n",
    "\n",
    "      # Convert the 'value' column into a float\n",
    "      df['value'] = pd.to_numeric(df['value'])\n",
    "      # columns_order = ['date','year','month','value']\n",
    "      # df = df.reindex(columns=columns_order)\n",
    "      return df"
   ]
  },
  {
   "cell_type": "code",
   "execution_count": 70,
   "metadata": {},
   "outputs": [],
   "source": [
    "def get_economic_indicators(api=apikey, interval='monthly', save_path='/Users/gawain/finance_project/dataset/'):\n",
    "      CPI_url = 'https://www.alphavantage.co/query?function=CPI'+'&interval='+ interval+'&apikey='+api # monthly and semiannual are accepted.\n",
    "      UNEMPLOYMENT_url = 'https://www.alphavantage.co/query?function=UNEMPLOYMENT&apikey='+api\n",
    "      REAL_GDP_PER_CAPITA_url = 'https://www.alphavantage.co/query?function=REAL_GDP_PER_CAPITA&apikey='+api\n",
    "      FEDERAL_FUNDS_RATE_url = 'https://www.alphavantage.co/query?function=FEDERAL_FUNDS_RATE&interval='+ interval+'&apikey='+api # daily, weekly, and monthly\n",
    "      RETAIL_SALE_url = 'https://www.alphavantage.co/query?function=RETAIL_SALES&apikey='+api #monthly\n",
    "      DURABLES_url = 'https://www.alphavantage.co/query?function=DURABLES&apikey=' + api #monthly 日用商品\n",
    "      \n",
    "      indicator_dict={  'cpi':CPI_url,                        # monthly and semiannual are accepted.\n",
    "                        'unemployment':UNEMPLOYMENT_url,      # monthly is accepted.\n",
    "                        'gdp':REAL_GDP_PER_CAPITA_url,        # quarterly is accepted.\n",
    "                        'fundrate':FEDERAL_FUNDS_RATE_url,    # daily, weekly, and monthly are accepted.\n",
    "                        'retail':RETAIL_SALE_url,             # monthly is accepted.\n",
    "                        'durables':DURABLES_url               # monthly is accepted.日用商品\n",
    "                        }\n",
    "\n",
    "      for i in indicator_dict:\n",
    "            name = i\n",
    "            url = indicator_dict[i]\n",
    "            r = requests.get(url)\n",
    "            data = r.json()\n",
    "            df = convert_js_to_df_monthly(data)\n",
    "            df.to_csv(save_path+name+'.csv')\n",
    "            print(name+' csv is set')\n",
    "            time.sleep(10)"
   ]
  },
  {
   "cell_type": "code",
   "execution_count": 71,
   "metadata": {},
   "outputs": [
    {
     "name": "stdout",
     "output_type": "stream",
     "text": [
      "cpi csv is set\n",
      "unemployment csv is set\n",
      "gdp csv is set\n",
      "fundrate csv is set\n",
      "retail csv is set\n",
      "durables csv is set\n"
     ]
    }
   ],
   "source": [
    "get_economic_indicators(api=apikey)"
   ]
  },
  {
   "attachments": {},
   "cell_type": "markdown",
   "metadata": {},
   "source": [
    "1. 将所有的数据本地生成csv文件\n",
    "2. 对数据进行line plot\n",
    "3. 做本地的visualization"
   ]
  },
  {
   "cell_type": "code",
   "execution_count": null,
   "metadata": {},
   "outputs": [],
   "source": []
  }
 ],
 "metadata": {
  "kernelspec": {
   "display_name": "Python 3",
   "language": "python",
   "name": "python3"
  },
  "language_info": {
   "codemirror_mode": {
    "name": "ipython",
    "version": 3
   },
   "file_extension": ".py",
   "mimetype": "text/x-python",
   "name": "python",
   "nbconvert_exporter": "python",
   "pygments_lexer": "ipython3",
   "version": "3.9.1"
  },
  "orig_nbformat": 4,
  "vscode": {
   "interpreter": {
    "hash": "ee089c0d8a7b72a1db4475b00a1092da957cc6786a2373700bea0bde293de64c"
   }
  }
 },
 "nbformat": 4,
 "nbformat_minor": 2
}
