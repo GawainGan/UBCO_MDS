{
 "cells": [
  {
   "cell_type": "markdown",
   "metadata": {},
   "source": [
    "# DATA 534: Lab 1\n",
    "## General Lab Instructions\n",
    "\n",
    "- This assignment is to be completed in python, submitting both a `.ipynb` file (you can add your answers directly to this one) along with a rendered `.md`.\n",
    "- The demo we saw in class will help you with the basics for this lab. "
   ]
  },
  {
   "attachments": {},
   "cell_type": "markdown",
   "metadata": {},
   "source": [
    "# Exercise 1: Creating a prerequisite diagram (5 marks)\n",
    "\n",
    "Below is a prerequisite chart for the graduate DATA courses:\n",
    "\n",
    "<img src=\"MDS-prereq.png\" style=\"width:90%\"/>\n",
    "\n",
    "In this assignment, you will reproduce this graph, or something very similar, by scraping the prerequisite info from https://courses.students.ubc.ca/cs/courseschedule?tname=subj-department&campuscd=UBCO&dept=DATA&pname=subjarea. Note that you might need to append '&campuscd=UBCO' to the end of the URL string for the course pages to display properly \n",
    "(eg. https://courses.students.ubc.ca/cs/courseschedule?pname=subjarea&tname=subj-course&dept=DATA&course=101&campuscd=UBCO).\n",
    "\n",
    "Try loading webpages in a incognito browser window to see the page that the python code will recieve. \n",
    "\n",
    "In this assignment, you will implement a simple crawler to crawl and scrape UBC SSC web pages just for grad courses. Grad courses start with 5. \n",
    "\n",
    "HINTS: \n",
    "    1. Your broser's developer tools is your ally in navigating a web structure.\n",
    "    2. use `BeautifulSoup` to create a object from the web page\n",
    "    3. Use `graphviz` to draw the graph\n"
   ]
  },
  {
   "cell_type": "code",
   "execution_count": 15,
   "metadata": {},
   "outputs": [],
   "source": [
    "from bs4 import BeautifulSoup\n",
    "import requests\n",
    "import graphviz\n",
    "import pandas as pd"
   ]
  },
  {
   "cell_type": "code",
   "execution_count": null,
   "metadata": {},
   "outputs": [],
   "source": [
    "dong run Q1"
   ]
  },
  {
   "cell_type": "code",
   "execution_count": 2,
   "metadata": {},
   "outputs": [
    {
     "name": "stdout",
     "output_type": "stream",
     "text": [
      "URL loaded correctly\n"
     ]
    }
   ],
   "source": [
    "# TODO: Request the URL (1 mark)\n",
    "UBCO_url = 'https://courses.students.ubc.ca/cs/courseschedule?tname=subj-department&campuscd=UBCO&dept=DATA&pname=subjarea'\n",
    "ubco_request = requests.get(UBCO_url)\n",
    "if ubco_request.status_code == 200:\n",
    "      print('URL loaded correctly')\n",
    "\n",
    "# TODO: Create BeautifulSoup object (1 mark)\n",
    "soup = BeautifulSoup(ubco_request.content, 'html.parser')\n",
    "# TODO: Get courses (1 mark)\n",
    "grad_courses = soup.find_all('a')\n",
    "\n",
    "Grad_courses_url = {}\n",
    "\n",
    "for course in grad_courses:\n",
    "      if course.text.startswith(\"DATA 5\"):\n",
    "            # print(course.text)\n",
    "            Grad_courses_url[course.text] = 'https://courses.students.ubc.ca'+course['href'] + \"&campuscd=UBCO\""
   ]
  },
  {
   "cell_type": "code",
   "execution_count": 3,
   "metadata": {},
   "outputs": [
    {
     "data": {
      "text/plain": [
       "{'DATA 505': 'https://courses.students.ubc.ca/cs/courseschedule?pname=subjarea&tname=subj-course&dept=DATA&course=505&campuscd=UBCO',\n",
       " 'DATA 530': 'https://courses.students.ubc.ca/cs/courseschedule?pname=subjarea&tname=subj-course&dept=DATA&course=530&campuscd=UBCO',\n",
       " 'DATA 531': 'https://courses.students.ubc.ca/cs/courseschedule?pname=subjarea&tname=subj-course&dept=DATA&course=531&campuscd=UBCO',\n",
       " 'DATA 532': 'https://courses.students.ubc.ca/cs/courseschedule?pname=subjarea&tname=subj-course&dept=DATA&course=532&campuscd=UBCO',\n",
       " 'DATA 533': 'https://courses.students.ubc.ca/cs/courseschedule?pname=subjarea&tname=subj-course&dept=DATA&course=533&campuscd=UBCO',\n",
       " 'DATA 534': 'https://courses.students.ubc.ca/cs/courseschedule?pname=subjarea&tname=subj-course&dept=DATA&course=534&campuscd=UBCO',\n",
       " 'DATA 540': 'https://courses.students.ubc.ca/cs/courseschedule?pname=subjarea&tname=subj-course&dept=DATA&course=540&campuscd=UBCO',\n",
       " 'DATA 541': 'https://courses.students.ubc.ca/cs/courseschedule?pname=subjarea&tname=subj-course&dept=DATA&course=541&campuscd=UBCO',\n",
       " 'DATA 542': 'https://courses.students.ubc.ca/cs/courseschedule?pname=subjarea&tname=subj-course&dept=DATA&course=542&campuscd=UBCO',\n",
       " 'DATA 543': 'https://courses.students.ubc.ca/cs/courseschedule?pname=subjarea&tname=subj-course&dept=DATA&course=543&campuscd=UBCO',\n",
       " 'DATA 550': 'https://courses.students.ubc.ca/cs/courseschedule?pname=subjarea&tname=subj-course&dept=DATA&course=550&campuscd=UBCO',\n",
       " 'DATA 551': 'https://courses.students.ubc.ca/cs/courseschedule?pname=subjarea&tname=subj-course&dept=DATA&course=551&campuscd=UBCO',\n",
       " 'DATA 552': 'https://courses.students.ubc.ca/cs/courseschedule?pname=subjarea&tname=subj-course&dept=DATA&course=552&campuscd=UBCO',\n",
       " 'DATA 553': 'https://courses.students.ubc.ca/cs/courseschedule?pname=subjarea&tname=subj-course&dept=DATA&course=553&campuscd=UBCO',\n",
       " 'DATA 570': 'https://courses.students.ubc.ca/cs/courseschedule?pname=subjarea&tname=subj-course&dept=DATA&course=570&campuscd=UBCO',\n",
       " 'DATA 571': 'https://courses.students.ubc.ca/cs/courseschedule?pname=subjarea&tname=subj-course&dept=DATA&course=571&campuscd=UBCO',\n",
       " 'DATA 572': 'https://courses.students.ubc.ca/cs/courseschedule?pname=subjarea&tname=subj-course&dept=DATA&course=572&campuscd=UBCO',\n",
       " 'DATA 573': 'https://courses.students.ubc.ca/cs/courseschedule?pname=subjarea&tname=subj-course&dept=DATA&course=573&campuscd=UBCO',\n",
       " 'DATA 580': 'https://courses.students.ubc.ca/cs/courseschedule?pname=subjarea&tname=subj-course&dept=DATA&course=580&campuscd=UBCO',\n",
       " 'DATA 581': 'https://courses.students.ubc.ca/cs/courseschedule?pname=subjarea&tname=subj-course&dept=DATA&course=581&campuscd=UBCO',\n",
       " 'DATA 582': 'https://courses.students.ubc.ca/cs/courseschedule?pname=subjarea&tname=subj-course&dept=DATA&course=582&campuscd=UBCO',\n",
       " 'DATA 583': 'https://courses.students.ubc.ca/cs/courseschedule?pname=subjarea&tname=subj-course&dept=DATA&course=583&campuscd=UBCO',\n",
       " 'DATA 585': 'https://courses.students.ubc.ca/cs/courseschedule?pname=subjarea&tname=subj-course&dept=DATA&course=585&campuscd=UBCO',\n",
       " 'DATA 586': 'https://courses.students.ubc.ca/cs/courseschedule?pname=subjarea&tname=subj-course&dept=DATA&course=586&campuscd=UBCO',\n",
       " 'DATA 589': 'https://courses.students.ubc.ca/cs/courseschedule?pname=subjarea&tname=subj-course&dept=DATA&course=589&campuscd=UBCO'}"
      ]
     },
     "execution_count": 3,
     "metadata": {},
     "output_type": "execute_result"
    }
   ],
   "source": [
    "Grad_courses_url\n",
    "\n",
    "# https://courses.students.ubc.ca/cs/courseschedule?pname=subjarea&tname=subj-course&dept=DATA&course=585"
   ]
  },
  {
   "cell_type": "code",
   "execution_count": 4,
   "metadata": {},
   "outputs": [
    {
     "name": "stdout",
     "output_type": "stream",
     "text": [
      "https://courses.students.ubc.ca/cs/courseschedule?pname=subjarea&tname=subj-course&dept=DATA&course=550&campuscd=UBCO\n"
     ]
    }
   ],
   "source": [
    "print(Grad_courses_url['DATA 550'])\n",
    "# https://courses.students.ubc.ca/cs/courseschedule?pname=subjarea&tname=subj-course&dept=DATA&course=550"
   ]
  },
  {
   "cell_type": "code",
   "execution_count": 5,
   "metadata": {},
   "outputs": [],
   "source": [
    "pre_request = {}\n",
    "for i in Grad_courses_url:\n",
    "      name = i\n",
    "      # print('find the pre-request for: ',i)\n",
    "      pre =[]\n",
    "      course_url = Grad_courses_url[i]\n",
    "      course_page = requests.get(course_url)\n",
    "      soup = BeautifulSoup(course_page.content)\n",
    "      Data = soup.find_all('p')\n",
    "      # print('pre_request courses: \\n')\n",
    "      for item in Data:\n",
    "            if item.text.startswith(\"Pre-reqs:\"):\n",
    "                  for i in item.find_all('a'):\n",
    "                        c = i.text\n",
    "                        pre.append(c)\n",
    "                        \n",
    "      # print(pre)\n",
    "      # print(\"---\")\n",
    "      pre_request[name] = pre"
   ]
  },
  {
   "cell_type": "code",
   "execution_count": 6,
   "metadata": {},
   "outputs": [
    {
     "data": {
      "text/plain": [
       "{'DATA 505': [],\n",
       " 'DATA 530': [],\n",
       " 'DATA 531': [],\n",
       " 'DATA 532': [],\n",
       " 'DATA 533': ['DATA 532'],\n",
       " 'DATA 534': [],\n",
       " 'DATA 540': ['DATA 531'],\n",
       " 'DATA 541': [],\n",
       " 'DATA 542': ['DATA 532', 'DATA 540', 'DATA 541'],\n",
       " 'DATA 543': ['DATA 540', 'DATA 570'],\n",
       " 'DATA 550': ['DATA 530', 'DATA 531'],\n",
       " 'DATA 551': ['DATA 534', 'DATA 543', 'DATA 550'],\n",
       " 'DATA 552': [],\n",
       " 'DATA 553': [],\n",
       " 'DATA 570': ['DATA 580'],\n",
       " 'DATA 571': ['DATA 570'],\n",
       " 'DATA 572': ['DATA 571'],\n",
       " 'DATA 573': ['DATA 572'],\n",
       " 'DATA 580': [],\n",
       " 'DATA 581': ['DATA 580'],\n",
       " 'DATA 582': ['DATA 572', 'DATA 581'],\n",
       " 'DATA 583': ['DATA 572', 'DATA 581'],\n",
       " 'DATA 585': ['DATA 580'],\n",
       " 'DATA 586': ['DATA 580'],\n",
       " 'DATA 589': ['DATA 543']}"
      ]
     },
     "execution_count": 6,
     "metadata": {},
     "output_type": "execute_result"
    }
   ],
   "source": [
    "pre_request"
   ]
  },
  {
   "cell_type": "code",
   "execution_count": 14,
   "metadata": {},
   "outputs": [
    {
     "data": {
      "image/svg+xml": "<?xml version=\"1.0\" encoding=\"UTF-8\" standalone=\"no\"?>\n<!DOCTYPE svg PUBLIC \"-//W3C//DTD SVG 1.1//EN\"\n \"http://www.w3.org/Graphics/SVG/1.1/DTD/svg11.dtd\">\n<!-- Generated by graphviz version 7.1.0 (20230121.1956)\n -->\n<!-- Title: Data Science Classes Pages: 1 -->\n<svg width=\"1044pt\" height=\"332pt\"\n viewBox=\"0.00 0.00 1044.49 332.00\" xmlns=\"http://www.w3.org/2000/svg\" xmlns:xlink=\"http://www.w3.org/1999/xlink\">\n<g id=\"graph0\" class=\"graph\" transform=\"scale(1 1) rotate(0) translate(4 328)\">\n<title>Data Science Classes</title>\n<polygon fill=\"white\" stroke=\"none\" points=\"-4,4 -4,-328 1040.49,-328 1040.49,4 -4,4\"/>\n<!-- DATA 505 -->\n<g id=\"node1\" class=\"node\">\n<title>DATA 505</title>\n<ellipse fill=\"none\" stroke=\"black\" cx=\"48.75\" cy=\"-306\" rx=\"48.99\" ry=\"18\"/>\n<text text-anchor=\"middle\" x=\"48.75\" y=\"-302.3\" font-family=\"Times,serif\" font-size=\"14.00\">DATA 505</text>\n</g>\n<!-- DATA 530 -->\n<g id=\"node2\" class=\"node\">\n<title>DATA 530</title>\n<ellipse fill=\"none\" stroke=\"black\" cx=\"163.75\" cy=\"-306\" rx=\"48.99\" ry=\"18\"/>\n<text text-anchor=\"middle\" x=\"163.75\" y=\"-302.3\" font-family=\"Times,serif\" font-size=\"14.00\">DATA 530</text>\n</g>\n<!-- DATA 550 -->\n<g id=\"node12\" class=\"node\">\n<title>DATA 550</title>\n<ellipse fill=\"none\" stroke=\"black\" cx=\"163.75\" cy=\"-234\" rx=\"48.99\" ry=\"18\"/>\n<text text-anchor=\"middle\" x=\"163.75\" y=\"-230.3\" font-family=\"Times,serif\" font-size=\"14.00\">DATA 550</text>\n</g>\n<!-- DATA 530&#45;&gt;DATA 550 -->\n<g id=\"edge8\" class=\"edge\">\n<title>DATA 530&#45;&gt;DATA 550</title>\n<path fill=\"none\" stroke=\"black\" d=\"M163.75,-287.7C163.75,-280.41 163.75,-271.73 163.75,-263.54\"/>\n<polygon fill=\"black\" stroke=\"black\" points=\"167.25,-263.62 163.75,-253.62 160.25,-263.62 167.25,-263.62\"/>\n</g>\n<!-- DATA 531 -->\n<g id=\"node3\" class=\"node\">\n<title>DATA 531</title>\n<ellipse fill=\"none\" stroke=\"black\" cx=\"393.75\" cy=\"-306\" rx=\"48.99\" ry=\"18\"/>\n<text text-anchor=\"middle\" x=\"393.75\" y=\"-302.3\" font-family=\"Times,serif\" font-size=\"14.00\">DATA 531</text>\n</g>\n<!-- DATA 540 -->\n<g id=\"node7\" class=\"node\">\n<title>DATA 540</title>\n<ellipse fill=\"none\" stroke=\"black\" cx=\"508.75\" cy=\"-234\" rx=\"48.99\" ry=\"18\"/>\n<text text-anchor=\"middle\" x=\"508.75\" y=\"-230.3\" font-family=\"Times,serif\" font-size=\"14.00\">DATA 540</text>\n</g>\n<!-- DATA 531&#45;&gt;DATA 540 -->\n<g id=\"edge2\" class=\"edge\">\n<title>DATA 531&#45;&gt;DATA 540</title>\n<path fill=\"none\" stroke=\"black\" d=\"M418.42,-289.98C434.71,-280.06 456.3,-266.92 474.28,-255.98\"/>\n<polygon fill=\"black\" stroke=\"black\" points=\"476.1,-258.97 482.82,-250.78 472.46,-252.99 476.1,-258.97\"/>\n</g>\n<!-- DATA 531&#45;&gt;DATA 550 -->\n<g id=\"edge9\" class=\"edge\">\n<title>DATA 531&#45;&gt;DATA 550</title>\n<path fill=\"none\" stroke=\"black\" d=\"M356.79,-293.75C317.31,-281.74 254.58,-262.65 211.41,-249.51\"/>\n<polygon fill=\"black\" stroke=\"black\" points=\"212.64,-246.22 202.06,-246.66 210.6,-252.92 212.64,-246.22\"/>\n</g>\n<!-- DATA 532 -->\n<g id=\"node4\" class=\"node\">\n<title>DATA 532</title>\n<ellipse fill=\"none\" stroke=\"black\" cx=\"278.75\" cy=\"-234\" rx=\"48.99\" ry=\"18\"/>\n<text text-anchor=\"middle\" x=\"278.75\" y=\"-230.3\" font-family=\"Times,serif\" font-size=\"14.00\">DATA 532</text>\n</g>\n<!-- DATA 533 -->\n<g id=\"node5\" class=\"node\">\n<title>DATA 533</title>\n<ellipse fill=\"none\" stroke=\"black\" cx=\"278.75\" cy=\"-162\" rx=\"48.99\" ry=\"18\"/>\n<text text-anchor=\"middle\" x=\"278.75\" y=\"-158.3\" font-family=\"Times,serif\" font-size=\"14.00\">DATA 533</text>\n</g>\n<!-- DATA 532&#45;&gt;DATA 533 -->\n<g id=\"edge1\" class=\"edge\">\n<title>DATA 532&#45;&gt;DATA 533</title>\n<path fill=\"none\" stroke=\"black\" d=\"M278.75,-215.7C278.75,-208.41 278.75,-199.73 278.75,-191.54\"/>\n<polygon fill=\"black\" stroke=\"black\" points=\"282.25,-191.62 278.75,-181.62 275.25,-191.62 282.25,-191.62\"/>\n</g>\n<!-- DATA 542 -->\n<g id=\"node9\" class=\"node\">\n<title>DATA 542</title>\n<ellipse fill=\"none\" stroke=\"black\" cx=\"393.75\" cy=\"-162\" rx=\"48.99\" ry=\"18\"/>\n<text text-anchor=\"middle\" x=\"393.75\" y=\"-158.3\" font-family=\"Times,serif\" font-size=\"14.00\">DATA 542</text>\n</g>\n<!-- DATA 532&#45;&gt;DATA 542 -->\n<g id=\"edge3\" class=\"edge\">\n<title>DATA 532&#45;&gt;DATA 542</title>\n<path fill=\"none\" stroke=\"black\" d=\"M303.42,-217.98C319.71,-208.06 341.3,-194.92 359.28,-183.98\"/>\n<polygon fill=\"black\" stroke=\"black\" points=\"361.1,-186.97 367.82,-178.78 357.46,-180.99 361.1,-186.97\"/>\n</g>\n<!-- DATA 534 -->\n<g id=\"node6\" class=\"node\">\n<title>DATA 534</title>\n<ellipse fill=\"none\" stroke=\"black\" cx=\"105.75\" cy=\"-162\" rx=\"48.99\" ry=\"18\"/>\n<text text-anchor=\"middle\" x=\"105.75\" y=\"-158.3\" font-family=\"Times,serif\" font-size=\"14.00\">DATA 534</text>\n</g>\n<!-- DATA 551 -->\n<g id=\"node13\" class=\"node\">\n<title>DATA 551</title>\n<ellipse fill=\"none\" stroke=\"black\" cx=\"182.75\" cy=\"-90\" rx=\"48.99\" ry=\"18\"/>\n<text text-anchor=\"middle\" x=\"182.75\" y=\"-86.3\" font-family=\"Times,serif\" font-size=\"14.00\">DATA 551</text>\n</g>\n<!-- DATA 534&#45;&gt;DATA 551 -->\n<g id=\"edge10\" class=\"edge\">\n<title>DATA 534&#45;&gt;DATA 551</title>\n<path fill=\"none\" stroke=\"black\" d=\"M123.6,-144.76C133.42,-135.84 145.78,-124.61 156.65,-114.72\"/>\n<polygon fill=\"black\" stroke=\"black\" points=\"158.82,-117.48 163.86,-108.17 154.11,-112.3 158.82,-117.48\"/>\n</g>\n<!-- DATA 540&#45;&gt;DATA 542 -->\n<g id=\"edge4\" class=\"edge\">\n<title>DATA 540&#45;&gt;DATA 542</title>\n<path fill=\"none\" stroke=\"black\" d=\"M484.08,-217.98C467.78,-208.06 446.19,-194.92 428.21,-183.98\"/>\n<polygon fill=\"black\" stroke=\"black\" points=\"430.03,-180.99 419.67,-178.78 426.39,-186.97 430.03,-180.99\"/>\n</g>\n<!-- DATA 543 -->\n<g id=\"node10\" class=\"node\">\n<title>DATA 543</title>\n<ellipse fill=\"none\" stroke=\"black\" cx=\"508.75\" cy=\"-162\" rx=\"48.99\" ry=\"18\"/>\n<text text-anchor=\"middle\" x=\"508.75\" y=\"-158.3\" font-family=\"Times,serif\" font-size=\"14.00\">DATA 543</text>\n</g>\n<!-- DATA 540&#45;&gt;DATA 543 -->\n<g id=\"edge6\" class=\"edge\">\n<title>DATA 540&#45;&gt;DATA 543</title>\n<path fill=\"none\" stroke=\"black\" d=\"M508.75,-215.7C508.75,-208.41 508.75,-199.73 508.75,-191.54\"/>\n<polygon fill=\"black\" stroke=\"black\" points=\"512.25,-191.62 508.75,-181.62 505.25,-191.62 512.25,-191.62\"/>\n</g>\n<!-- DATA 541 -->\n<g id=\"node8\" class=\"node\">\n<title>DATA 541</title>\n<ellipse fill=\"none\" stroke=\"black\" cx=\"393.75\" cy=\"-234\" rx=\"48.99\" ry=\"18\"/>\n<text text-anchor=\"middle\" x=\"393.75\" y=\"-230.3\" font-family=\"Times,serif\" font-size=\"14.00\">DATA 541</text>\n</g>\n<!-- DATA 541&#45;&gt;DATA 542 -->\n<g id=\"edge5\" class=\"edge\">\n<title>DATA 541&#45;&gt;DATA 542</title>\n<path fill=\"none\" stroke=\"black\" d=\"M393.75,-215.7C393.75,-208.41 393.75,-199.73 393.75,-191.54\"/>\n<polygon fill=\"black\" stroke=\"black\" points=\"397.25,-191.62 393.75,-181.62 390.25,-191.62 397.25,-191.62\"/>\n</g>\n<!-- DATA 543&#45;&gt;DATA 551 -->\n<g id=\"edge11\" class=\"edge\">\n<title>DATA 543&#45;&gt;DATA 551</title>\n<path fill=\"none\" stroke=\"black\" d=\"M472.4,-149.6C465.57,-147.61 458.46,-145.66 451.75,-144 378.41,-125.88 292.61,-109.86 237.99,-100.3\"/>\n<polygon fill=\"black\" stroke=\"black\" points=\"238.77,-96.88 228.32,-98.61 237.57,-103.77 238.77,-96.88\"/>\n</g>\n<!-- DATA 589 -->\n<g id=\"node25\" class=\"node\">\n<title>DATA 589</title>\n<ellipse fill=\"none\" stroke=\"black\" cx=\"508.75\" cy=\"-90\" rx=\"48.99\" ry=\"18\"/>\n<text text-anchor=\"middle\" x=\"508.75\" y=\"-86.3\" font-family=\"Times,serif\" font-size=\"14.00\">DATA 589</text>\n</g>\n<!-- DATA 543&#45;&gt;DATA 589 -->\n<g id=\"edge24\" class=\"edge\">\n<title>DATA 543&#45;&gt;DATA 589</title>\n<path fill=\"none\" stroke=\"black\" d=\"M508.75,-143.7C508.75,-136.41 508.75,-127.73 508.75,-119.54\"/>\n<polygon fill=\"black\" stroke=\"black\" points=\"512.25,-119.62 508.75,-109.62 505.25,-119.62 512.25,-119.62\"/>\n</g>\n<!-- DATA 570 -->\n<g id=\"node11\" class=\"node\">\n<title>DATA 570</title>\n<ellipse fill=\"none\" stroke=\"black\" cx=\"623.75\" cy=\"-234\" rx=\"48.99\" ry=\"18\"/>\n<text text-anchor=\"middle\" x=\"623.75\" y=\"-230.3\" font-family=\"Times,serif\" font-size=\"14.00\">DATA 570</text>\n</g>\n<!-- DATA 570&#45;&gt;DATA 543 -->\n<g id=\"edge7\" class=\"edge\">\n<title>DATA 570&#45;&gt;DATA 543</title>\n<path fill=\"none\" stroke=\"black\" d=\"M599.08,-217.98C582.78,-208.06 561.19,-194.92 543.21,-183.98\"/>\n<polygon fill=\"black\" stroke=\"black\" points=\"545.03,-180.99 534.67,-178.78 541.39,-186.97 545.03,-180.99\"/>\n</g>\n<!-- DATA 571 -->\n<g id=\"node17\" class=\"node\">\n<title>DATA 571</title>\n<ellipse fill=\"none\" stroke=\"black\" cx=\"623.75\" cy=\"-162\" rx=\"48.99\" ry=\"18\"/>\n<text text-anchor=\"middle\" x=\"623.75\" y=\"-158.3\" font-family=\"Times,serif\" font-size=\"14.00\">DATA 571</text>\n</g>\n<!-- DATA 570&#45;&gt;DATA 571 -->\n<g id=\"edge14\" class=\"edge\">\n<title>DATA 570&#45;&gt;DATA 571</title>\n<path fill=\"none\" stroke=\"black\" d=\"M623.75,-215.7C623.75,-208.41 623.75,-199.73 623.75,-191.54\"/>\n<polygon fill=\"black\" stroke=\"black\" points=\"627.25,-191.62 623.75,-181.62 620.25,-191.62 627.25,-191.62\"/>\n</g>\n<!-- DATA 550&#45;&gt;DATA 551 -->\n<g id=\"edge12\" class=\"edge\">\n<title>DATA 550&#45;&gt;DATA 551</title>\n<path fill=\"none\" stroke=\"black\" d=\"M166.08,-215.59C169.28,-191.61 175.1,-148.14 178.94,-119.42\"/>\n<polygon fill=\"black\" stroke=\"black\" points=\"182.4,-119.99 180.26,-109.61 175.46,-119.06 182.4,-119.99\"/>\n</g>\n<!-- DATA 552 -->\n<g id=\"node14\" class=\"node\">\n<title>DATA 552</title>\n<ellipse fill=\"none\" stroke=\"black\" cx=\"872.75\" cy=\"-306\" rx=\"48.99\" ry=\"18\"/>\n<text text-anchor=\"middle\" x=\"872.75\" y=\"-302.3\" font-family=\"Times,serif\" font-size=\"14.00\">DATA 552</text>\n</g>\n<!-- DATA 553 -->\n<g id=\"node15\" class=\"node\">\n<title>DATA 553</title>\n<ellipse fill=\"none\" stroke=\"black\" cx=\"987.75\" cy=\"-306\" rx=\"48.99\" ry=\"18\"/>\n<text text-anchor=\"middle\" x=\"987.75\" y=\"-302.3\" font-family=\"Times,serif\" font-size=\"14.00\">DATA 553</text>\n</g>\n<!-- DATA 580 -->\n<g id=\"node16\" class=\"node\">\n<title>DATA 580</title>\n<ellipse fill=\"none\" stroke=\"black\" cx=\"757.75\" cy=\"-306\" rx=\"48.99\" ry=\"18\"/>\n<text text-anchor=\"middle\" x=\"757.75\" y=\"-302.3\" font-family=\"Times,serif\" font-size=\"14.00\">DATA 580</text>\n</g>\n<!-- DATA 580&#45;&gt;DATA 570 -->\n<g id=\"edge13\" class=\"edge\">\n<title>DATA 580&#45;&gt;DATA 570</title>\n<path fill=\"none\" stroke=\"black\" d=\"M730.31,-290.67C710.34,-280.24 683.08,-266 661.13,-254.53\"/>\n<polygon fill=\"black\" stroke=\"black\" points=\"662.97,-251.54 652.49,-250.02 659.73,-257.75 662.97,-251.54\"/>\n</g>\n<!-- DATA 581 -->\n<g id=\"node20\" class=\"node\">\n<title>DATA 581</title>\n<ellipse fill=\"none\" stroke=\"black\" cx=\"738.75\" cy=\"-90\" rx=\"48.99\" ry=\"18\"/>\n<text text-anchor=\"middle\" x=\"738.75\" y=\"-86.3\" font-family=\"Times,serif\" font-size=\"14.00\">DATA 581</text>\n</g>\n<!-- DATA 580&#45;&gt;DATA 581 -->\n<g id=\"edge17\" class=\"edge\">\n<title>DATA 580&#45;&gt;DATA 581</title>\n<path fill=\"none\" stroke=\"black\" d=\"M749.85,-287.75C745.64,-277.58 740.89,-264.33 738.75,-252 730.77,-206.09 733.18,-151.7 735.83,-119.34\"/>\n<polygon fill=\"black\" stroke=\"black\" points=\"739.3,-119.87 736.71,-109.59 732.33,-119.24 739.3,-119.87\"/>\n</g>\n<!-- DATA 585 -->\n<g id=\"node23\" class=\"node\">\n<title>DATA 585</title>\n<ellipse fill=\"none\" stroke=\"black\" cx=\"796.75\" cy=\"-234\" rx=\"48.99\" ry=\"18\"/>\n<text text-anchor=\"middle\" x=\"796.75\" y=\"-230.3\" font-family=\"Times,serif\" font-size=\"14.00\">DATA 585</text>\n</g>\n<!-- DATA 580&#45;&gt;DATA 585 -->\n<g id=\"edge22\" class=\"edge\">\n<title>DATA 580&#45;&gt;DATA 585</title>\n<path fill=\"none\" stroke=\"black\" d=\"M767.19,-288.05C771.59,-280.14 776.94,-270.54 781.88,-261.69\"/>\n<polygon fill=\"black\" stroke=\"black\" points=\"784.85,-263.55 786.66,-253.11 778.73,-260.14 784.85,-263.55\"/>\n</g>\n<!-- DATA 586 -->\n<g id=\"node24\" class=\"node\">\n<title>DATA 586</title>\n<ellipse fill=\"none\" stroke=\"black\" cx=\"911.75\" cy=\"-234\" rx=\"48.99\" ry=\"18\"/>\n<text text-anchor=\"middle\" x=\"911.75\" y=\"-230.3\" font-family=\"Times,serif\" font-size=\"14.00\">DATA 586</text>\n</g>\n<!-- DATA 580&#45;&gt;DATA 586 -->\n<g id=\"edge23\" class=\"edge\">\n<title>DATA 580&#45;&gt;DATA 586</title>\n<path fill=\"none\" stroke=\"black\" d=\"M787.8,-291.34C811.65,-280.5 845.22,-265.24 871.4,-253.34\"/>\n<polygon fill=\"black\" stroke=\"black\" points=\"872.73,-256.58 880.39,-249.25 869.83,-250.21 872.73,-256.58\"/>\n</g>\n<!-- DATA 572 -->\n<g id=\"node18\" class=\"node\">\n<title>DATA 572</title>\n<ellipse fill=\"none\" stroke=\"black\" cx=\"623.75\" cy=\"-90\" rx=\"48.99\" ry=\"18\"/>\n<text text-anchor=\"middle\" x=\"623.75\" y=\"-86.3\" font-family=\"Times,serif\" font-size=\"14.00\">DATA 572</text>\n</g>\n<!-- DATA 571&#45;&gt;DATA 572 -->\n<g id=\"edge15\" class=\"edge\">\n<title>DATA 571&#45;&gt;DATA 572</title>\n<path fill=\"none\" stroke=\"black\" d=\"M623.75,-143.7C623.75,-136.41 623.75,-127.73 623.75,-119.54\"/>\n<polygon fill=\"black\" stroke=\"black\" points=\"627.25,-119.62 623.75,-109.62 620.25,-119.62 627.25,-119.62\"/>\n</g>\n<!-- DATA 573 -->\n<g id=\"node19\" class=\"node\">\n<title>DATA 573</title>\n<ellipse fill=\"none\" stroke=\"black\" cx=\"508.75\" cy=\"-18\" rx=\"48.99\" ry=\"18\"/>\n<text text-anchor=\"middle\" x=\"508.75\" y=\"-14.3\" font-family=\"Times,serif\" font-size=\"14.00\">DATA 573</text>\n</g>\n<!-- DATA 572&#45;&gt;DATA 573 -->\n<g id=\"edge16\" class=\"edge\">\n<title>DATA 572&#45;&gt;DATA 573</title>\n<path fill=\"none\" stroke=\"black\" d=\"M599.08,-73.98C582.78,-64.06 561.19,-50.92 543.21,-39.98\"/>\n<polygon fill=\"black\" stroke=\"black\" points=\"545.03,-36.99 534.67,-34.78 541.39,-42.97 545.03,-36.99\"/>\n</g>\n<!-- DATA 582 -->\n<g id=\"node21\" class=\"node\">\n<title>DATA 582</title>\n<ellipse fill=\"none\" stroke=\"black\" cx=\"738.75\" cy=\"-18\" rx=\"48.99\" ry=\"18\"/>\n<text text-anchor=\"middle\" x=\"738.75\" y=\"-14.3\" font-family=\"Times,serif\" font-size=\"14.00\">DATA 582</text>\n</g>\n<!-- DATA 572&#45;&gt;DATA 582 -->\n<g id=\"edge18\" class=\"edge\">\n<title>DATA 572&#45;&gt;DATA 582</title>\n<path fill=\"none\" stroke=\"black\" d=\"M648.42,-73.98C664.71,-64.06 686.3,-50.92 704.28,-39.98\"/>\n<polygon fill=\"black\" stroke=\"black\" points=\"706.1,-42.97 712.82,-34.78 702.46,-36.99 706.1,-42.97\"/>\n</g>\n<!-- DATA 583 -->\n<g id=\"node22\" class=\"node\">\n<title>DATA 583</title>\n<ellipse fill=\"none\" stroke=\"black\" cx=\"623.75\" cy=\"-18\" rx=\"48.99\" ry=\"18\"/>\n<text text-anchor=\"middle\" x=\"623.75\" y=\"-14.3\" font-family=\"Times,serif\" font-size=\"14.00\">DATA 583</text>\n</g>\n<!-- DATA 572&#45;&gt;DATA 583 -->\n<g id=\"edge20\" class=\"edge\">\n<title>DATA 572&#45;&gt;DATA 583</title>\n<path fill=\"none\" stroke=\"black\" d=\"M623.75,-71.7C623.75,-64.41 623.75,-55.73 623.75,-47.54\"/>\n<polygon fill=\"black\" stroke=\"black\" points=\"627.25,-47.62 623.75,-37.62 620.25,-47.62 627.25,-47.62\"/>\n</g>\n<!-- DATA 581&#45;&gt;DATA 582 -->\n<g id=\"edge19\" class=\"edge\">\n<title>DATA 581&#45;&gt;DATA 582</title>\n<path fill=\"none\" stroke=\"black\" d=\"M738.75,-71.7C738.75,-64.41 738.75,-55.73 738.75,-47.54\"/>\n<polygon fill=\"black\" stroke=\"black\" points=\"742.25,-47.62 738.75,-37.62 735.25,-47.62 742.25,-47.62\"/>\n</g>\n<!-- DATA 581&#45;&gt;DATA 583 -->\n<g id=\"edge21\" class=\"edge\">\n<title>DATA 581&#45;&gt;DATA 583</title>\n<path fill=\"none\" stroke=\"black\" d=\"M714.08,-73.98C697.78,-64.06 676.19,-50.92 658.21,-39.98\"/>\n<polygon fill=\"black\" stroke=\"black\" points=\"660.03,-36.99 649.67,-34.78 656.39,-42.97 660.03,-36.99\"/>\n</g>\n</g>\n</svg>\n",
      "text/plain": [
       "<graphviz.dot.Digraph at 0x10ab1be20>"
      ]
     },
     "execution_count": 14,
     "metadata": {},
     "output_type": "execute_result"
    }
   ],
   "source": [
    "# TODO: Make graph and export it to pdf (1 mark)\n",
    "g = graphviz.Digraph('Data Science Classes', filename= 'DATA.gv')\n",
    "\n",
    "\n",
    "for key, value in pre_request.items():\n",
    "      if len(value)!=0:\n",
    "            for prereq in value:\n",
    "                  g.edge(prereq, key)\n",
    "      else:\n",
    "            g.node(key)\n",
    "            \n",
    "g\n"
   ]
  },
  {
   "attachments": {},
   "cell_type": "markdown",
   "metadata": {},
   "source": [
    "# Exercise 2: Creating a prerequisite diagram using Scrapy (5 marks)\n",
    "\n",
    "In this exercise, you will implement a simple crawler, using Scrapy, to crawl and scrape UBCO web pages to grab the prerequisite chart for the graduate DATA courses. You should generate the same graph as in Exercise 1."
   ]
  },
  {
   "cell_type": "markdown",
   "metadata": {},
   "source": [
    "## Python instructions\n",
    "\n",
    "You can install Scrapy with `conda install scrapy` or `pip install scrapy`. Here is a link to [scrapy documentation](http://doc.scrapy.org/en/latest/). Additionally, you will need to install `html5lib` and `json` packages."
   ]
  },
  {
   "cell_type": "markdown",
   "metadata": {},
   "source": [
    "## Writing your own crawler\n",
    "\n",
    "This exercise is broken into the following steps:\n",
    "\n",
    "### Step 1: Creating the crawler folder structure\n",
    "\n",
    "You will use Scrapy's built in command to generate the crawler folder structure. In the command line (using interfaces such as Terminal in OS X), type `scrapy startproject prereq_project`.\n",
    "\n",
    "This will generate a directory named prereq_project under your current directory.\n",
    "\n",
    "### Step 2: Implementing your first scraper\n",
    "\n",
    "Create a new python file, name it `spider.py` and save it under prereq_project/spiders/ directory. You may fill in the file with the code below:\n",
    "\n",
    "```\n",
    "import scrapy\n",
    "import html5lib\n",
    "from bs4 import BeautifulSoup\n",
    "\n",
    "class MySpider(scrapy.Spider):\n",
    "\n",
    "    name = \"mySpider\"\n",
    "    allowed_domains = [\"ubc.ca\"]\n",
    "    start_urls = [\n",
    "        \"https://courses.students.ubc.ca/cs/courseschedule?tname=subj-department&campuscd=UBCO&dept=DATA&pname=subjarea\"\n",
    "    ]\n",
    "    custom_settings = {\n",
    "        'USER_AGENT': 'Mozilla/5.0 (Macintosh; Intel Mac OS X 11_1) AppleWebKit/537.36 (KHTML, like Gecko) Chrome/87.0.4280.141 Safari/537.36',\n",
    "    }\n",
    "\n",
    "    def __init__(self):\n",
    "        self.log_file = open('log_file', 'w')\n",
    "\n",
    "    def parse(self, response):\n",
    "      soup = BeautifulSoup(response.text, 'html5lib')\n",
    "      return\n",
    "\n",
    "    def parse_course_details(self, response):\n",
    "        pass\n",
    "```\n",
    "The spider requires specification of the name, domain that it is allowed to crawl, and a list of URLs from which the spider is to begin crawling. You can run the crawler with the following command (although it will do nothing):\n",
    "\n",
    "`scrapy crawl mySpider`\n",
    "\n",
    "The scrapy crawler works by sending an HTTP request for each URL in the start_urls field. Once it receives a response, the default callback function, parse(response), is invoked with a [Response](http://doc.scrapy.org/en/1.6/topics/request-response.html#scrapy.http.Response) object passed into the function.\n",
    "\n",
    "Your task in this step is to complete the implementation of the parse(response) function so that you can retrieve the list of all data science courses (DATA 5XX) as well as the links to the course details. The first step of creating a BeautifulSoup object, soup to parse the response has been completed for you.\n",
    "\n",
    "We recommend you to use `self.log_file` to output the list of courses that you retrieved -- this will be helpful as you debug your code.\n",
    "\n",
    "### Step 3: Structuring the scraped data\n",
    "\n",
    "Scrapy provides a mechanism for structuring the scraped data using [Items](http://doc.scrapy.org/en/1.6/topics/items.html).\n",
    "\n",
    "You will define your own Item class by subclassing Scrapy's Item class. Open prereq_project/items.py. The file contains a simple definition of TestItem class. You may rename the class to CourseItem.\n",
    "\n",
    "Item class comes with a default [Field](http://doc.scrapy.org/en/1.6/topics/items.html#scrapy.item.Field) object, which is essentially a Python dictionary. We want to declare at least two fields: `course_name` and `url_link`.\n",
    "\n",
    "Now, modify the `spider.py`, in particular, parse(response) function to use `CourseItem class` and store the course name and the links in the fields that you just created. Once you are done, run the crawler via the command,\n",
    "\n",
    "`scrapy crawl mySpider -o courses.json`\n",
    "\n",
    "Check the `courses.json` file to ensure that your implementation is correct.\n",
    "\n",
    "### Step 4: Crawling the link\n",
    "\n",
    "To retrieve the prerequisite for each of the courses, you will need to follow the links associated with each of the courses. This requires you to make an HTTP [Request](http://doc.scrapy.org/en/1.6/topics/request-response.html#request-objects).\n",
    "\n",
    "Your task here is to make an HTTP request on each of the links for each of the courses that you retrieved from Steps 2 and 3, and fill out the second callback function, `parse_course_details(response)`, to retrieve the prerequisities for each of the courses.\n",
    "\n",
    "Output the retrieved course pre-requisite to the `courses.json` file. Note that you will have to change `items.py` file as you will need to store the list of prerequisite courses.\n",
    "\n",
    "### Step 5. Generate the graphs\n",
    "\n",
    "Use the [Python wrapper](https://pypi.python.org/pypi/graphviz) around [graphviz](http://www.graphviz.org/) to turn this into a picture. You should have graphviz but you may need to install the Python wrapper, which can be achieved with conda install graphviz.\n",
    "\n",
    "### Step 6: Submit the code in canvas\n",
    "\n",
    "Zip the entire project and submit the code. Make sure that we can run your code by running from our command line:\n",
    "\n",
    "`scrapy crawl mySpider -o courses.json`"
   ]
  },
  {
   "attachments": {},
   "cell_type": "markdown",
   "metadata": {},
   "source": [
    "# Exercise 3 (5 marks)\n",
    "\n",
    "All the Game of Thrones episodes are listed, by season, in the following URL: https://en.wikipedia.org/wiki/List_of_Game_of_Thrones_episodes\n",
    "\n",
    "Unfortunately, the running time of each episode is not available. However, in the link provided for each episodes (e.g., https://en.wikipedia.org/wiki/Dragonstone_(Game_of_Thrones)) there is the running time of the respective episode. Collect the episodes' titles, season, number of U.S. viewers, and running time from wikipedia and create a pandas dataframe with the information collected."
   ]
  },
  {
   "cell_type": "code",
   "execution_count": 113,
   "metadata": {},
   "outputs": [
    {
     "data": {
      "text/plain": [
       "12"
      ]
     },
     "execution_count": 113,
     "metadata": {},
     "output_type": "execute_result"
    }
   ],
   "source": [
    "url = 'https://en.wikipedia.org/wiki/List_of_Game_of_Thrones_episodes'\n",
    "page = requests.get(url)\n",
    "soup = BeautifulSoup(page.content, 'html.parser')\n",
    "tds_number = soup.find_all('table', {'class':'wikitable'})\n",
    "\n",
    "len(tds_number)\n",
    "# 1st, 11th, 12th, 13th do not count as the number of episodes\n",
    "# the info for each episodes is contained in table 2nd to 9th"
   ]
  },
  {
   "cell_type": "code",
   "execution_count": 114,
   "metadata": {},
   "outputs": [],
   "source": [
    "title_list = []\n",
    "season_list = []\n",
    "viewers_list = []\n",
    "links_list = []\n",
    "home_url = 'https://en.wikipedia.org'\n",
    "for n in range(1, 9):\n",
    "      for i, j in enumerate(tds_number[n].find_all('td')):\n",
    "            # print(i)\n",
    "            # print(j)\n",
    "            if (i+1)%6 ==2:\n",
    "                  title = j.text\n",
    "                  season = n\n",
    "                  link = home_url + j.find_all('a')[0]['href']\n",
    "                  title_list.append(title)\n",
    "                  season_list.append(season)\n",
    "                  links_list.append(link)\n",
    "            if (i+1)%6 == 0:\n",
    "                  viewer_number = j.text[:-4]\n",
    "                  viewers_list.append(viewer_number)            "
   ]
  },
  {
   "cell_type": "code",
   "execution_count": 115,
   "metadata": {},
   "outputs": [],
   "source": [
    "time_list = []\n",
    "for i in links_list:\n",
    "      url_request = requests.get(i)\n",
    "      page = BeautifulSoup(url_request.text)\n",
    "      # find the first table in each page of episode\n",
    "      table = page.find_all('table')[0]\n",
    "      for item in table.find_all('td', {'class':\"infobox-data\"}):\n",
    "            # print(item.text)\n",
    "            if 'minutes' in item.text:\n",
    "                  time = item.text[:2]\n",
    "                  time_list.append(time)"
   ]
  },
  {
   "cell_type": "code",
   "execution_count": 116,
   "metadata": {},
   "outputs": [],
   "source": [
    "# time_list = int(time_list)\n",
    "running_time = []\n",
    "number_viewer = []\n",
    "for i in time_list:\n",
    "      time = int(i)\n",
    "      running_time.append(time)\n",
    "for i in viewers_list:\n",
    "      n = float(i)\n",
    "      number_viewer.append(n)"
   ]
  },
  {
   "cell_type": "code",
   "execution_count": 117,
   "metadata": {},
   "outputs": [
    {
     "name": "stdout",
     "output_type": "stream",
     "text": [
      "['\"Winter Is Coming\"', '\"The Kingsroad\"', '\"Lord Snow\"']\n",
      "[1, 1, 1]\n",
      "[2.22, 2.2, 2.44]\n",
      "['https://en.wikipedia.org/wiki/Winter_Is_Coming', 'https://en.wikipedia.org/wiki/The_Kingsroad', 'https://en.wikipedia.org/wiki/Lord_Snow']\n",
      "[61, 55, 57]\n"
     ]
    }
   ],
   "source": [
    "print(title_list[:3])\n",
    "print(season_list[:3])\n",
    "print(number_viewer[:3])\n",
    "print(links_list[:3])\n",
    "print(running_time[:3])"
   ]
  },
  {
   "cell_type": "code",
   "execution_count": 118,
   "metadata": {},
   "outputs": [],
   "source": [
    "df = pd.DataFrame(list(zip(title_list, season_list, number_viewer, running_time)), \n",
    "            columns = ['Titles', 'Season', 'Number of U.S. viewers (millions)', 'Running time (minutes)'])"
   ]
  },
  {
   "cell_type": "code",
   "execution_count": 120,
   "metadata": {},
   "outputs": [
    {
     "data": {
      "text/html": [
       "<div>\n",
       "<style scoped>\n",
       "    .dataframe tbody tr th:only-of-type {\n",
       "        vertical-align: middle;\n",
       "    }\n",
       "\n",
       "    .dataframe tbody tr th {\n",
       "        vertical-align: top;\n",
       "    }\n",
       "\n",
       "    .dataframe thead th {\n",
       "        text-align: right;\n",
       "    }\n",
       "</style>\n",
       "<table border=\"1\" class=\"dataframe\">\n",
       "  <thead>\n",
       "    <tr style=\"text-align: right;\">\n",
       "      <th></th>\n",
       "      <th>Titles</th>\n",
       "      <th>Season</th>\n",
       "      <th>Number of U.S. viewers (millions)</th>\n",
       "      <th>Running time (minutes)</th>\n",
       "    </tr>\n",
       "  </thead>\n",
       "  <tbody>\n",
       "    <tr>\n",
       "      <th>0</th>\n",
       "      <td>\"Winter Is Coming\"</td>\n",
       "      <td>1</td>\n",
       "      <td>2.22</td>\n",
       "      <td>61</td>\n",
       "    </tr>\n",
       "    <tr>\n",
       "      <th>1</th>\n",
       "      <td>\"The Kingsroad\"</td>\n",
       "      <td>1</td>\n",
       "      <td>2.20</td>\n",
       "      <td>55</td>\n",
       "    </tr>\n",
       "    <tr>\n",
       "      <th>2</th>\n",
       "      <td>\"Lord Snow\"</td>\n",
       "      <td>1</td>\n",
       "      <td>2.44</td>\n",
       "      <td>57</td>\n",
       "    </tr>\n",
       "    <tr>\n",
       "      <th>3</th>\n",
       "      <td>\"Cripples, Bastards, and Broken Things\"</td>\n",
       "      <td>1</td>\n",
       "      <td>2.45</td>\n",
       "      <td>55</td>\n",
       "    </tr>\n",
       "    <tr>\n",
       "      <th>4</th>\n",
       "      <td>\"The Wolf and the Lion\"</td>\n",
       "      <td>1</td>\n",
       "      <td>2.58</td>\n",
       "      <td>54</td>\n",
       "    </tr>\n",
       "  </tbody>\n",
       "</table>\n",
       "</div>"
      ],
      "text/plain": [
       "                                    Titles  Season  \\\n",
       "0                       \"Winter Is Coming\"       1   \n",
       "1                          \"The Kingsroad\"       1   \n",
       "2                              \"Lord Snow\"       1   \n",
       "3  \"Cripples, Bastards, and Broken Things\"       1   \n",
       "4                  \"The Wolf and the Lion\"       1   \n",
       "\n",
       "   Number of U.S. viewers (millions)  Running time (minutes)  \n",
       "0                               2.22                      61  \n",
       "1                               2.20                      55  \n",
       "2                               2.44                      57  \n",
       "3                               2.45                      55  \n",
       "4                               2.58                      54  "
      ]
     },
     "execution_count": 120,
     "metadata": {},
     "output_type": "execute_result"
    }
   ],
   "source": [
    "df.head()"
   ]
  },
  {
   "cell_type": "code",
   "execution_count": 121,
   "metadata": {},
   "outputs": [
    {
     "data": {
      "text/html": [
       "<div>\n",
       "<style scoped>\n",
       "    .dataframe tbody tr th:only-of-type {\n",
       "        vertical-align: middle;\n",
       "    }\n",
       "\n",
       "    .dataframe tbody tr th {\n",
       "        vertical-align: top;\n",
       "    }\n",
       "\n",
       "    .dataframe thead th {\n",
       "        text-align: right;\n",
       "    }\n",
       "</style>\n",
       "<table border=\"1\" class=\"dataframe\">\n",
       "  <thead>\n",
       "    <tr style=\"text-align: right;\">\n",
       "      <th></th>\n",
       "      <th>Titles</th>\n",
       "      <th>Season</th>\n",
       "      <th>Number of U.S. viewers (millions)</th>\n",
       "      <th>Running time (minutes)</th>\n",
       "    </tr>\n",
       "  </thead>\n",
       "  <tbody>\n",
       "    <tr>\n",
       "      <th>68</th>\n",
       "      <td>\"A Knight of the Seven Kingdoms\"</td>\n",
       "      <td>8</td>\n",
       "      <td>10.29</td>\n",
       "      <td>57</td>\n",
       "    </tr>\n",
       "    <tr>\n",
       "      <th>69</th>\n",
       "      <td>\"The Long Night\"</td>\n",
       "      <td>8</td>\n",
       "      <td>12.02</td>\n",
       "      <td>81</td>\n",
       "    </tr>\n",
       "    <tr>\n",
       "      <th>70</th>\n",
       "      <td>\"The Last of the Starks\"</td>\n",
       "      <td>8</td>\n",
       "      <td>11.80</td>\n",
       "      <td>77</td>\n",
       "    </tr>\n",
       "    <tr>\n",
       "      <th>71</th>\n",
       "      <td>\"The Bells\"</td>\n",
       "      <td>8</td>\n",
       "      <td>12.48</td>\n",
       "      <td>77</td>\n",
       "    </tr>\n",
       "    <tr>\n",
       "      <th>72</th>\n",
       "      <td>\"The Iron Throne\"</td>\n",
       "      <td>8</td>\n",
       "      <td>13.61</td>\n",
       "      <td>78</td>\n",
       "    </tr>\n",
       "  </tbody>\n",
       "</table>\n",
       "</div>"
      ],
      "text/plain": [
       "                              Titles  Season  \\\n",
       "68  \"A Knight of the Seven Kingdoms\"       8   \n",
       "69                  \"The Long Night\"       8   \n",
       "70          \"The Last of the Starks\"       8   \n",
       "71                       \"The Bells\"       8   \n",
       "72                 \"The Iron Throne\"       8   \n",
       "\n",
       "    Number of U.S. viewers (millions)  Running time (minutes)  \n",
       "68                              10.29                      57  \n",
       "69                              12.02                      81  \n",
       "70                              11.80                      77  \n",
       "71                              12.48                      77  \n",
       "72                              13.61                      78  "
      ]
     },
     "execution_count": 121,
     "metadata": {},
     "output_type": "execute_result"
    }
   ],
   "source": [
    "df.tail()"
   ]
  },
  {
   "cell_type": "code",
   "execution_count": null,
   "metadata": {},
   "outputs": [],
   "source": []
  }
 ],
 "metadata": {
  "kernelspec": {
   "display_name": "Python 3",
   "language": "python",
   "name": "python3"
  },
  "language_info": {
   "codemirror_mode": {
    "name": "ipython",
    "version": 3
   },
   "file_extension": ".py",
   "mimetype": "text/x-python",
   "name": "python",
   "nbconvert_exporter": "python",
   "pygments_lexer": "ipython3",
   "version": "3.9.1"
  },
  "vscode": {
   "interpreter": {
    "hash": "ee089c0d8a7b72a1db4475b00a1092da957cc6786a2373700bea0bde293de64c"
   }
  }
 },
 "nbformat": 4,
 "nbformat_minor": 2
}
