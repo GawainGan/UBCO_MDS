{
 "cells": [
  {
   "attachments": {},
   "cell_type": "markdown",
   "metadata": {},
   "source": [
    "# Q1"
   ]
  },
  {
   "attachments": {},
   "cell_type": "markdown",
   "metadata": {},
   "source": [
    "**Answer**\n",
    "\n",
    "Choose Random forest\n",
    "\n",
    "1. The first reason to choose Random forest is that as our goal is to predict the player with highest performance, then model would provide a clear path to the evaluation procedure based on the constructed trees by RSS(in regression) or Gini-index(in classification).\n",
    "\n",
    "2. The second reason to choose random forest is that it performs better on the training and testing sets. The estimated MSE of the random forest model is lower than that of the linear regression model, indicating that it has a lower error rate and is likely to make more accurate predictions.\n",
    "\n",
    "3. It is important to note that MSE is just one metric for evaluating the performance of a model, and it may be useful to consider other metrics as well, such as accuracy or precision. However, if the random forest model consistently outperforms the linear regression model on multiple evaluation metrics, it is likely to be the more reliable model for making predictions in this scenario."
   ]
  },
  {
   "attachments": {},
   "cell_type": "markdown",
   "metadata": {},
   "source": [
    "# Q2"
   ]
  },
  {
   "attachments": {},
   "cell_type": "markdown",
   "metadata": {},
   "source": [
    "**Answer**\n",
    "\n",
    "Choose Linear model\n",
    "\n",
    "1. The first reason is that as the data is all numeric(predictors and response), thus linear model would handle it more efficiently. \n",
    "\n",
    "2. Due to the goal is to find the plaque buildup in heart(as numeric), thus the output model should consist with the relationship among given numeric predictors. Linear model can generate a linear function whit reasonable interpretability.\n",
    "\n",
    "3. Linear regression models are generally more interpretable than random forests, since the coefficients in a linear regression model can be directly interpreted as the average change in the response variable for a one unit change in the predictor. This may be important if you want to be able to understand how each predictor is influencing the response."
   ]
  },
  {
   "attachments": {},
   "cell_type": "markdown",
   "metadata": {},
   "source": [
    "# Q3\n",
    "\n",
    "Here I’ll run you through some code that could seem aggravating/confusing at first. \n",
    "\n",
    "Pause and consider what you’re asking the computer to do for each of these estimates of the MSE.\n",
    "\n",
    "Which estimate is more believable as a long-run estimate of the MSE? Why?"
   ]
  },
  {
   "cell_type": "code",
   "execution_count": 1,
   "metadata": {
    "vscode": {
     "languageId": "r"
    }
   },
   "outputs": [
    {
     "name": "stderr",
     "output_type": "stream",
     "text": [
      "randomForest 4.7-1.1\n",
      "\n",
      "Type rfNews() to see new features/changes/bug fixes.\n",
      "\n",
      "Loading required package: cluster\n",
      "\n"
     ]
    },
    {
     "data": {
      "text/plain": [
       "\n",
       "Call:\n",
       " randomForest(formula = Weight ~ Height + Gender, data = body) \n",
       "               Type of random forest: regression\n",
       "                     Number of trees: 500\n",
       "No. of variables tried at each split: 1\n",
       "\n",
       "          Mean of squared residuals: 82.15451\n",
       "                    % Var explained: 53.78"
      ]
     },
     "metadata": {},
     "output_type": "display_data"
    }
   ],
   "source": [
    "library(randomForest)\n",
    "library(gclus)\n",
    "data(body)\n",
    "set.seed(02139)\n",
    "bodrun <- randomForest(Weight~Height+Gender, data=body)\n",
    "bodrun"
   ]
  },
  {
   "cell_type": "code",
   "execution_count": 6,
   "metadata": {
    "vscode": {
     "languageId": "r"
    }
   },
   "outputs": [
    {
     "data": {
      "text/html": [
       "82.1362921340684"
      ],
      "text/latex": [
       "82.1362921340684"
      ],
      "text/markdown": [
       "82.1362921340684"
      ],
      "text/plain": [
       "[1] 82.13629"
      ]
     },
     "metadata": {},
     "output_type": "display_data"
    }
   ],
   "source": [
    "bodrun$mse[499]"
   ]
  },
  {
   "cell_type": "code",
   "execution_count": 2,
   "metadata": {
    "vscode": {
     "languageId": "r"
    }
   },
   "outputs": [
    {
     "data": {
      "text/html": [
       "82.154511857924"
      ],
      "text/latex": [
       "82.154511857924"
      ],
      "text/markdown": [
       "82.154511857924"
      ],
      "text/plain": [
       "[1] 82.15451"
      ]
     },
     "metadata": {},
     "output_type": "display_data"
    },
    {
     "data": {
      "text/html": [
       "82.154511857924"
      ],
      "text/latex": [
       "82.154511857924"
      ],
      "text/markdown": [
       "82.154511857924"
      ],
      "text/plain": [
       "[1] 82.15451"
      ]
     },
     "metadata": {},
     "output_type": "display_data"
    },
    {
     "data": {
      "text/html": [
       "74.8239018257151"
      ],
      "text/latex": [
       "74.8239018257151"
      ],
      "text/markdown": [
       "74.8239018257151"
      ],
      "text/plain": [
       "[1] 74.8239"
      ]
     },
     "metadata": {},
     "output_type": "display_data"
    }
   ],
   "source": [
    "# FYI this matches the MSE from the printout\n",
    "bodrun$mse[500] #the MSE: (regression only) vector of mean square errors: sum of squared residuals divided by n.\n",
    "# The mse from the 500th random forest(the last RF) which trained the dataset with weight as response and Height & Gender as independent predictors.\n",
    "# The mse is generated based on the true \n",
    "\n",
    "# FYI this also matches that printout\n",
    "sum((body$Weight-predict(bodrun))^2)/length(body$Weight)\n",
    "# sum( (y_true - y_pred)^2 ) / N \n",
    "# the MSE  \n",
    "\n",
    "# but this is different!\n",
    "sum((body$Weight-predict(bodrun, newdata=body))^2)/length(body$Weight) \n",
    "# newdata=body: a data frame or matrix containing new data. (Note: If not given, the out-of-bag prediction in object is returned.)\n"
   ]
  },
  {
   "attachments": {},
   "cell_type": "markdown",
   "metadata": {},
   "source": [
    "**Answer**\n",
    "\n",
    "- The first and second printout is the MSE from the Random Forest model **with** out-of-bag prediction.\n",
    "- The third printout is the MSE from the Random Forest model **without** out-of-bag prediction.\n",
    "- The model with OOB method is more believable as a long-run estimate of the MSE, which is the model from first and second printout.\n",
    "- The OOB predictions provide an **unbiased estimate** of the model's performance\n"
   ]
  },
  {
   "attachments": {},
   "cell_type": "markdown",
   "metadata": {},
   "source": [
    "# Q4\n",
    "\n",
    "On Canvas (in the assignment area), you will find a data set on the quality of red wines (different than the other wine data set we have previously considered in lectures).\n",
    "\n",
    "Provide a thorough REGRESSION analysis attempting to predict the quality of wine according to the several predictors included in the data set. \n",
    "\n",
    "At minimum, trees, boosting, linear models, random forests, and lasso should be used...with appropriate diagnostics, sensible training/testing split, cross-validation, etc. \n",
    "\n",
    "Which model is most likely to provide the lowest MSE in the long-run? \n",
    "\n",
    "Which model would you choose if you were consulting a company on this data set? \n",
    "\n",
    "If they don’t match, explain why."
   ]
  },
  {
   "attachments": {},
   "cell_type": "markdown",
   "metadata": {},
   "source": [
    "## LM "
   ]
  },
  {
   "cell_type": "code",
   "execution_count": 8,
   "metadata": {
    "vscode": {
     "languageId": "r"
    }
   },
   "outputs": [
    {
     "data": {
      "text/html": [
       "<table class=\"dataframe\">\n",
       "<caption>A data.frame: 6 × 12</caption>\n",
       "<thead>\n",
       "\t<tr><th></th><th scope=col>fixed.acidity</th><th scope=col>volatile.acidity</th><th scope=col>citric.acid</th><th scope=col>residual.sugar</th><th scope=col>chlorides</th><th scope=col>free.sulfur.dioxide</th><th scope=col>total.sulfur.dioxide</th><th scope=col>density</th><th scope=col>pH</th><th scope=col>sulphates</th><th scope=col>alcohol</th><th scope=col>quality</th></tr>\n",
       "\t<tr><th></th><th scope=col>&lt;dbl&gt;</th><th scope=col>&lt;dbl&gt;</th><th scope=col>&lt;dbl&gt;</th><th scope=col>&lt;dbl&gt;</th><th scope=col>&lt;dbl&gt;</th><th scope=col>&lt;dbl&gt;</th><th scope=col>&lt;dbl&gt;</th><th scope=col>&lt;dbl&gt;</th><th scope=col>&lt;dbl&gt;</th><th scope=col>&lt;dbl&gt;</th><th scope=col>&lt;dbl&gt;</th><th scope=col>&lt;int&gt;</th></tr>\n",
       "</thead>\n",
       "<tbody>\n",
       "\t<tr><th scope=row>1</th><td> 7.4</td><td>0.70</td><td>0.00</td><td>1.9</td><td>0.076</td><td>11</td><td>34</td><td>0.9978</td><td>3.51</td><td>0.56</td><td>9.4</td><td>5</td></tr>\n",
       "\t<tr><th scope=row>2</th><td> 7.8</td><td>0.88</td><td>0.00</td><td>2.6</td><td>0.098</td><td>25</td><td>67</td><td>0.9968</td><td>3.20</td><td>0.68</td><td>9.8</td><td>5</td></tr>\n",
       "\t<tr><th scope=row>3</th><td> 7.8</td><td>0.76</td><td>0.04</td><td>2.3</td><td>0.092</td><td>15</td><td>54</td><td>0.9970</td><td>3.26</td><td>0.65</td><td>9.8</td><td>5</td></tr>\n",
       "\t<tr><th scope=row>4</th><td>11.2</td><td>0.28</td><td>0.56</td><td>1.9</td><td>0.075</td><td>17</td><td>60</td><td>0.9980</td><td>3.16</td><td>0.58</td><td>9.8</td><td>6</td></tr>\n",
       "\t<tr><th scope=row>5</th><td> 7.4</td><td>0.70</td><td>0.00</td><td>1.9</td><td>0.076</td><td>11</td><td>34</td><td>0.9978</td><td>3.51</td><td>0.56</td><td>9.4</td><td>5</td></tr>\n",
       "\t<tr><th scope=row>6</th><td> 7.4</td><td>0.66</td><td>0.00</td><td>1.8</td><td>0.075</td><td>13</td><td>40</td><td>0.9978</td><td>3.51</td><td>0.56</td><td>9.4</td><td>5</td></tr>\n",
       "</tbody>\n",
       "</table>\n"
      ],
      "text/latex": [
       "A data.frame: 6 × 12\n",
       "\\begin{tabular}{r|llllllllllll}\n",
       "  & fixed.acidity & volatile.acidity & citric.acid & residual.sugar & chlorides & free.sulfur.dioxide & total.sulfur.dioxide & density & pH & sulphates & alcohol & quality\\\\\n",
       "  & <dbl> & <dbl> & <dbl> & <dbl> & <dbl> & <dbl> & <dbl> & <dbl> & <dbl> & <dbl> & <dbl> & <int>\\\\\n",
       "\\hline\n",
       "\t1 &  7.4 & 0.70 & 0.00 & 1.9 & 0.076 & 11 & 34 & 0.9978 & 3.51 & 0.56 & 9.4 & 5\\\\\n",
       "\t2 &  7.8 & 0.88 & 0.00 & 2.6 & 0.098 & 25 & 67 & 0.9968 & 3.20 & 0.68 & 9.8 & 5\\\\\n",
       "\t3 &  7.8 & 0.76 & 0.04 & 2.3 & 0.092 & 15 & 54 & 0.9970 & 3.26 & 0.65 & 9.8 & 5\\\\\n",
       "\t4 & 11.2 & 0.28 & 0.56 & 1.9 & 0.075 & 17 & 60 & 0.9980 & 3.16 & 0.58 & 9.8 & 6\\\\\n",
       "\t5 &  7.4 & 0.70 & 0.00 & 1.9 & 0.076 & 11 & 34 & 0.9978 & 3.51 & 0.56 & 9.4 & 5\\\\\n",
       "\t6 &  7.4 & 0.66 & 0.00 & 1.8 & 0.075 & 13 & 40 & 0.9978 & 3.51 & 0.56 & 9.4 & 5\\\\\n",
       "\\end{tabular}\n"
      ],
      "text/markdown": [
       "\n",
       "A data.frame: 6 × 12\n",
       "\n",
       "| <!--/--> | fixed.acidity &lt;dbl&gt; | volatile.acidity &lt;dbl&gt; | citric.acid &lt;dbl&gt; | residual.sugar &lt;dbl&gt; | chlorides &lt;dbl&gt; | free.sulfur.dioxide &lt;dbl&gt; | total.sulfur.dioxide &lt;dbl&gt; | density &lt;dbl&gt; | pH &lt;dbl&gt; | sulphates &lt;dbl&gt; | alcohol &lt;dbl&gt; | quality &lt;int&gt; |\n",
       "|---|---|---|---|---|---|---|---|---|---|---|---|---|\n",
       "| 1 |  7.4 | 0.70 | 0.00 | 1.9 | 0.076 | 11 | 34 | 0.9978 | 3.51 | 0.56 | 9.4 | 5 |\n",
       "| 2 |  7.8 | 0.88 | 0.00 | 2.6 | 0.098 | 25 | 67 | 0.9968 | 3.20 | 0.68 | 9.8 | 5 |\n",
       "| 3 |  7.8 | 0.76 | 0.04 | 2.3 | 0.092 | 15 | 54 | 0.9970 | 3.26 | 0.65 | 9.8 | 5 |\n",
       "| 4 | 11.2 | 0.28 | 0.56 | 1.9 | 0.075 | 17 | 60 | 0.9980 | 3.16 | 0.58 | 9.8 | 6 |\n",
       "| 5 |  7.4 | 0.70 | 0.00 | 1.9 | 0.076 | 11 | 34 | 0.9978 | 3.51 | 0.56 | 9.4 | 5 |\n",
       "| 6 |  7.4 | 0.66 | 0.00 | 1.8 | 0.075 | 13 | 40 | 0.9978 | 3.51 | 0.56 | 9.4 | 5 |\n",
       "\n"
      ],
      "text/plain": [
       "  fixed.acidity volatile.acidity citric.acid residual.sugar chlorides\n",
       "1  7.4          0.70             0.00        1.9            0.076    \n",
       "2  7.8          0.88             0.00        2.6            0.098    \n",
       "3  7.8          0.76             0.04        2.3            0.092    \n",
       "4 11.2          0.28             0.56        1.9            0.075    \n",
       "5  7.4          0.70             0.00        1.9            0.076    \n",
       "6  7.4          0.66             0.00        1.8            0.075    \n",
       "  free.sulfur.dioxide total.sulfur.dioxide density pH   sulphates alcohol\n",
       "1 11                  34                   0.9978  3.51 0.56      9.4    \n",
       "2 25                  67                   0.9968  3.20 0.68      9.8    \n",
       "3 15                  54                   0.9970  3.26 0.65      9.8    \n",
       "4 17                  60                   0.9980  3.16 0.58      9.8    \n",
       "5 11                  34                   0.9978  3.51 0.56      9.4    \n",
       "6 13                  40                   0.9978  3.51 0.56      9.4    \n",
       "  quality\n",
       "1 5      \n",
       "2 5      \n",
       "3 5      \n",
       "4 6      \n",
       "5 5      \n",
       "6 5      "
      ]
     },
     "metadata": {},
     "output_type": "display_data"
    }
   ],
   "source": [
    "wine <- read.csv(\"/Users/gawain/Desktop/3.UBC/Block3/DATA-571 - Resampling and Regularization/Assignment/A2/winequality-red.csv\")\n",
    "head(wine)"
   ]
  },
  {
   "attachments": {},
   "cell_type": "markdown",
   "metadata": {},
   "source": [
    "### Original LM"
   ]
  },
  {
   "cell_type": "code",
   "execution_count": 9,
   "metadata": {
    "vscode": {
     "languageId": "r"
    }
   },
   "outputs": [
    {
     "data": {
      "text/plain": [
       "\n",
       "Call:\n",
       "lm(formula = quality ~ fixed.acidity + volatile.acidity + citric.acid + \n",
       "    residual.sugar + chlorides + free.sulfur.dioxide + total.sulfur.dioxide + \n",
       "    density + pH + sulphates + alcohol, data = wine)\n",
       "\n",
       "Residuals:\n",
       "     Min       1Q   Median       3Q      Max \n",
       "-2.68911 -0.36652 -0.04699  0.45202  2.02498 \n",
       "\n",
       "Coefficients:\n",
       "                       Estimate Std. Error t value Pr(>|t|)    \n",
       "(Intercept)           2.197e+01  2.119e+01   1.036   0.3002    \n",
       "fixed.acidity         2.499e-02  2.595e-02   0.963   0.3357    \n",
       "volatile.acidity     -1.084e+00  1.211e-01  -8.948  < 2e-16 ***\n",
       "citric.acid          -1.826e-01  1.472e-01  -1.240   0.2150    \n",
       "residual.sugar        1.633e-02  1.500e-02   1.089   0.2765    \n",
       "chlorides            -1.874e+00  4.193e-01  -4.470 8.37e-06 ***\n",
       "free.sulfur.dioxide   4.361e-03  2.171e-03   2.009   0.0447 *  \n",
       "total.sulfur.dioxide -3.265e-03  7.287e-04  -4.480 8.00e-06 ***\n",
       "density              -1.788e+01  2.163e+01  -0.827   0.4086    \n",
       "pH                   -4.137e-01  1.916e-01  -2.159   0.0310 *  \n",
       "sulphates             9.163e-01  1.143e-01   8.014 2.13e-15 ***\n",
       "alcohol               2.762e-01  2.648e-02  10.429  < 2e-16 ***\n",
       "---\n",
       "Signif. codes:  0 '***' 0.001 '**' 0.01 '*' 0.05 '.' 0.1 ' ' 1\n",
       "\n",
       "Residual standard error: 0.648 on 1587 degrees of freedom\n",
       "Multiple R-squared:  0.3606,\tAdjusted R-squared:  0.3561 \n",
       "F-statistic: 81.35 on 11 and 1587 DF,  p-value: < 2.2e-16\n"
      ]
     },
     "metadata": {},
     "output_type": "display_data"
    }
   ],
   "source": [
    "wine.lm <- lm(quality ~ fixed.acidity+volatile.acidity+citric.acid+residual.sugar+chlorides+free.sulfur.dioxide+total.sulfur.dioxide+density+pH+sulphates+alcohol, \n",
    "                  data=wine)\n",
    "summary(wine.lm)"
   ]
  },
  {
   "attachments": {},
   "cell_type": "markdown",
   "metadata": {},
   "source": [
    "### Predictors selection with backward-AIC"
   ]
  },
  {
   "cell_type": "code",
   "execution_count": 11,
   "metadata": {
    "vscode": {
     "languageId": "r"
    }
   },
   "outputs": [
    {
     "name": "stdout",
     "output_type": "stream",
     "text": [
      "Start:  AIC=-1375.49\n",
      "quality ~ fixed.acidity + volatile.acidity + citric.acid + residual.sugar + \n",
      "    chlorides + free.sulfur.dioxide + total.sulfur.dioxide + \n",
      "    density + pH + sulphates + alcohol\n",
      "\n",
      "                       Df Sum of Sq    RSS     AIC\n",
      "- density               1     0.287 666.70 -1376.8\n",
      "- fixed.acidity         1     0.389 666.80 -1376.5\n",
      "- residual.sugar        1     0.498 666.91 -1376.3\n",
      "- citric.acid           1     0.646 667.06 -1375.9\n",
      "<none>                              666.41 -1375.5\n",
      "- free.sulfur.dioxide   1     1.694 668.10 -1373.4\n",
      "- pH                    1     1.957 668.37 -1372.8\n",
      "- chlorides             1     8.391 674.80 -1357.5\n",
      "- total.sulfur.dioxide  1     8.427 674.84 -1357.4\n",
      "- sulphates             1    26.971 693.38 -1314.0\n",
      "- volatile.acidity      1    33.620 700.03 -1298.8\n",
      "- alcohol               1    45.672 712.08 -1271.5\n",
      "\n",
      "Step:  AIC=-1376.8\n",
      "quality ~ fixed.acidity + volatile.acidity + citric.acid + residual.sugar + \n",
      "    chlorides + free.sulfur.dioxide + total.sulfur.dioxide + \n",
      "    pH + sulphates + alcohol\n",
      "\n",
      "                       Df Sum of Sq    RSS     AIC\n",
      "- fixed.acidity         1     0.108 666.81 -1378.5\n",
      "- residual.sugar        1     0.231 666.93 -1378.2\n",
      "- citric.acid           1     0.654 667.35 -1377.2\n",
      "<none>                              666.70 -1376.8\n",
      "+ density               1     0.287 666.41 -1375.5\n",
      "- free.sulfur.dioxide   1     1.829 668.53 -1374.4\n",
      "- pH                    1     4.325 671.02 -1368.5\n",
      "- total.sulfur.dioxide  1     8.728 675.43 -1358.0\n",
      "- chlorides             1     8.761 675.46 -1357.9\n",
      "- sulphates             1    27.287 693.98 -1314.7\n",
      "- volatile.acidity      1    35.000 701.70 -1297.0\n",
      "- alcohol               1   119.669 786.37 -1114.8\n",
      "\n",
      "Step:  AIC=-1378.54\n",
      "quality ~ volatile.acidity + citric.acid + residual.sugar + chlorides + \n",
      "    free.sulfur.dioxide + total.sulfur.dioxide + pH + sulphates + \n",
      "    alcohol\n",
      "\n",
      "                       Df Sum of Sq    RSS     AIC\n",
      "- residual.sugar        1     0.257 667.06 -1379.9\n",
      "- citric.acid           1     0.565 667.37 -1379.2\n",
      "<none>                              666.81 -1378.5\n",
      "+ fixed.acidity         1     0.108 666.70 -1376.8\n",
      "+ density               1     0.005 666.80 -1376.5\n",
      "- free.sulfur.dioxide   1     1.901 668.71 -1376.0\n",
      "- pH                    1     7.065 673.87 -1363.7\n",
      "- chlorides             1     9.940 676.75 -1356.9\n",
      "- total.sulfur.dioxide  1    10.031 676.84 -1356.7\n",
      "- sulphates             1    27.673 694.48 -1315.5\n",
      "- volatile.acidity      1    36.234 703.04 -1295.9\n",
      "- alcohol               1   120.633 787.44 -1114.7\n",
      "\n",
      "Step:  AIC=-1379.93\n",
      "quality ~ volatile.acidity + citric.acid + chlorides + free.sulfur.dioxide + \n",
      "    total.sulfur.dioxide + pH + sulphates + alcohol\n",
      "\n",
      "                       Df Sum of Sq    RSS     AIC\n",
      "- citric.acid           1     0.475 667.54 -1380.8\n",
      "<none>                              667.06 -1379.9\n",
      "+ residual.sugar        1     0.257 666.81 -1378.5\n",
      "+ fixed.acidity         1     0.133 666.93 -1378.2\n",
      "+ density               1     0.028 667.03 -1378.0\n",
      "- free.sulfur.dioxide   1     2.064 669.13 -1377.0\n",
      "- pH                    1     7.138 674.20 -1364.9\n",
      "- total.sulfur.dioxide  1     9.828 676.89 -1358.5\n",
      "- chlorides             1     9.832 676.89 -1358.5\n",
      "- sulphates             1    27.446 694.51 -1317.5\n",
      "- volatile.acidity      1    35.977 703.04 -1297.9\n",
      "- alcohol               1   122.667 789.73 -1112.0\n",
      "\n",
      "Step:  AIC=-1380.79\n",
      "quality ~ volatile.acidity + chlorides + free.sulfur.dioxide + \n",
      "    total.sulfur.dioxide + pH + sulphates + alcohol\n",
      "\n",
      "                       Df Sum of Sq    RSS     AIC\n",
      "<none>                              667.54 -1380.8\n",
      "+ citric.acid           1     0.475 667.06 -1379.9\n",
      "+ residual.sugar        1     0.167 667.37 -1379.2\n",
      "+ density               1     0.031 667.51 -1378.9\n",
      "+ fixed.acidity         1     0.007 667.53 -1378.8\n",
      "- free.sulfur.dioxide   1     2.394 669.93 -1377.1\n",
      "- pH                    1     7.073 674.61 -1365.9\n",
      "- total.sulfur.dioxide  1    10.787 678.32 -1357.2\n",
      "- chlorides             1    10.809 678.35 -1357.1\n",
      "- sulphates             1    27.060 694.60 -1319.2\n",
      "- volatile.acidity      1    42.318 709.85 -1284.5\n",
      "- alcohol               1   124.483 792.02 -1109.4\n"
     ]
    },
    {
     "data": {
      "text/plain": [
       "\n",
       "Call:\n",
       "lm(formula = quality ~ volatile.acidity + chlorides + free.sulfur.dioxide + \n",
       "    total.sulfur.dioxide + pH + sulphates + alcohol, data = wine)\n",
       "\n",
       "Coefficients:\n",
       "         (Intercept)      volatile.acidity             chlorides  \n",
       "            4.430099             -1.012753             -2.017814  \n",
       " free.sulfur.dioxide  total.sulfur.dioxide                    pH  \n",
       "            0.005077             -0.003482             -0.482661  \n",
       "           sulphates               alcohol  \n",
       "            0.882665              0.289303  \n"
      ]
     },
     "metadata": {},
     "output_type": "display_data"
    }
   ],
   "source": [
    "library(\"MASS\")\n",
    "stepAIC(wine.lm, direction='both')\n"
   ]
  },
  {
   "attachments": {},
   "cell_type": "markdown",
   "metadata": {},
   "source": [
    "### AIC result(7 predictors)"
   ]
  },
  {
   "cell_type": "code",
   "execution_count": 12,
   "metadata": {
    "vscode": {
     "languageId": "r"
    }
   },
   "outputs": [
    {
     "data": {
      "text/plain": [
       "\n",
       "Call:\n",
       "lm(formula = quality ~ volatile.acidity + chlorides + free.sulfur.dioxide + \n",
       "    total.sulfur.dioxide + pH + sulphates + alcohol, data = wine)\n",
       "\n",
       "Residuals:\n",
       "     Min       1Q   Median       3Q      Max \n",
       "-2.68918 -0.36757 -0.04653  0.46081  2.02954 \n",
       "\n",
       "Coefficients:\n",
       "                       Estimate Std. Error t value Pr(>|t|)    \n",
       "(Intercept)           4.4300987  0.4029168  10.995  < 2e-16 ***\n",
       "volatile.acidity     -1.0127527  0.1008429 -10.043  < 2e-16 ***\n",
       "chlorides            -2.0178138  0.3975417  -5.076 4.31e-07 ***\n",
       "free.sulfur.dioxide   0.0050774  0.0021255   2.389    0.017 *  \n",
       "total.sulfur.dioxide -0.0034822  0.0006868  -5.070 4.43e-07 ***\n",
       "pH                   -0.4826614  0.1175581  -4.106 4.23e-05 ***\n",
       "sulphates             0.8826651  0.1099084   8.031 1.86e-15 ***\n",
       "alcohol               0.2893028  0.0167958  17.225  < 2e-16 ***\n",
       "---\n",
       "Signif. codes:  0 '***' 0.001 '**' 0.01 '*' 0.05 '.' 0.1 ' ' 1\n",
       "\n",
       "Residual standard error: 0.6477 on 1591 degrees of freedom\n",
       "Multiple R-squared:  0.3595,\tAdjusted R-squared:  0.3567 \n",
       "F-statistic: 127.6 on 7 and 1591 DF,  p-value: < 2.2e-16\n"
      ]
     },
     "metadata": {},
     "output_type": "display_data"
    }
   ],
   "source": [
    "wine.lm.AIC <- lm(formula = quality ~ volatile.acidity + chlorides + free.sulfur.dioxide + total.sulfur.dioxide + pH + sulphates + alcohol, \n",
    "            data = wine)\n",
    "summary(wine.lm.AIC)"
   ]
  },
  {
   "cell_type": "code",
   "execution_count": 83,
   "metadata": {
    "vscode": {
     "languageId": "r"
    }
   },
   "outputs": [
    {
     "data": {
      "text/html": [
       "<style>\n",
       ".list-inline {list-style: none; margin:0; padding: 0}\n",
       ".list-inline>li {display: inline-block}\n",
       ".list-inline>li:not(:last-child)::after {content: \"\\00b7\"; padding: 0 .5ex}\n",
       "</style>\n",
       "<ol class=list-inline><li>0.0961002555631524</li><li>0.102551186801912</li><li>0.111755405431232</li><li>0.103477193355743</li><li>0.0949902900687863</li><li>0.108253930726581</li><li>0.136533377751628</li><li>0.101340571384328</li><li>0.105855599264975</li><li>0.0892230203385502</li></ol>\n"
      ],
      "text/latex": [
       "\\begin{enumerate*}\n",
       "\\item 0.0961002555631524\n",
       "\\item 0.102551186801912\n",
       "\\item 0.111755405431232\n",
       "\\item 0.103477193355743\n",
       "\\item 0.0949902900687863\n",
       "\\item 0.108253930726581\n",
       "\\item 0.136533377751628\n",
       "\\item 0.101340571384328\n",
       "\\item 0.105855599264975\n",
       "\\item 0.0892230203385502\n",
       "\\end{enumerate*}\n"
      ],
      "text/markdown": [
       "1. 0.0961002555631524\n",
       "2. 0.102551186801912\n",
       "3. 0.111755405431232\n",
       "4. 0.103477193355743\n",
       "5. 0.0949902900687863\n",
       "6. 0.108253930726581\n",
       "7. 0.136533377751628\n",
       "8. 0.101340571384328\n",
       "9. 0.105855599264975\n",
       "10. 0.0892230203385502\n",
       "\n",
       "\n"
      ],
      "text/plain": [
       " [1] 0.09610026 0.10255119 0.11175541 0.10347719 0.09499029 0.10825393\n",
       " [7] 0.13653338 0.10134057 0.10585560 0.08922302"
      ]
     },
     "metadata": {},
     "output_type": "display_data"
    },
    {
     "data": {
      "text/html": [
       "0.105008083068689"
      ],
      "text/latex": [
       "0.105008083068689"
      ],
      "text/markdown": [
       "0.105008083068689"
      ],
      "text/plain": [
       "[1] 0.1050081"
      ]
     },
     "metadata": {},
     "output_type": "display_data"
    }
   ],
   "source": [
    "MSE <- c()\n",
    "for(i in 1:10){\n",
    "      dsindex <- sample(1:nrow(wine), 1279)  #80% for training; 20% for testing\n",
    "      dstrain <- wine[dsindex, ] \n",
    "      dstest <- wine[-dsindex, ] \n",
    "      lm <- lm(formula = quality ~ volatile.acidity + chlorides + free.sulfur.dioxide + total.sulfur.dioxide + pH + sulphates + alcohol,, data=dstrain)\n",
    "\n",
    "      y_pred <- predict(lm, dstest[1:11])\n",
    "      mse <- sum( (dstest$quality - y_pred)^2 ) / 1279\n",
    "      MSE[i] <- mse\n",
    "}\n",
    "MSE\n",
    "mean(MSE)"
   ]
  },
  {
   "attachments": {},
   "cell_type": "markdown",
   "metadata": {},
   "source": [
    "## RF"
   ]
  },
  {
   "cell_type": "code",
   "execution_count": null,
   "metadata": {
    "vscode": {
     "languageId": "r"
    }
   },
   "outputs": [],
   "source": [
    "# 创建一个loop 10次\n",
    "# 每一次生成新的train test\n",
    "# train放入randomforest\n",
    "# rf生成,使用test set进行predict y_pred\n",
    "# MSE = sum( (y_pred - test的y_true )^2 ) / nrow(train) , 应该是1279\n",
    "# 最后生成的MES 取均值"
   ]
  },
  {
   "cell_type": "code",
   "execution_count": 81,
   "metadata": {
    "vscode": {
     "languageId": "r"
    }
   },
   "outputs": [],
   "source": [
    "MSE <- c()\n",
    "for(i in 1:10){\n",
    "      dsindex <- sample(1:nrow(wine), 1279)  #80% for training; 20% for testing\n",
    "      dstrain <- wine[dsindex, ] \n",
    "      dstest <- wine[-dsindex, ] \n",
    "      rf <- randomForest(quality~ ., data=dstrain)\n",
    "\n",
    "      y_pred <- predict(rf, dstest[1:11])\n",
    "      mse <- sum( (dstest$quality - y_pred)^2 ) / 1279\n",
    "      MSE[i] <- mse\n",
    "}"
   ]
  },
  {
   "cell_type": "code",
   "execution_count": 82,
   "metadata": {
    "vscode": {
     "languageId": "r"
    }
   },
   "outputs": [
    {
     "data": {
      "text/html": [
       "<style>\n",
       ".list-inline {list-style: none; margin:0; padding: 0}\n",
       ".list-inline>li {display: inline-block}\n",
       ".list-inline>li:not(:last-child)::after {content: \"\\00b7\"; padding: 0 .5ex}\n",
       "</style>\n",
       "<ol class=list-inline><li>0.0832893943899314</li><li>0.0831556428555294</li><li>0.0818735462314308</li><li>0.073202114511337</li><li>0.0848280950829642</li><li>0.0772771659847103</li><li>0.0768483395117713</li><li>0.102393526823606</li><li>0.0868402746095039</li><li>0.0834446712475024</li></ol>\n"
      ],
      "text/latex": [
       "\\begin{enumerate*}\n",
       "\\item 0.0832893943899314\n",
       "\\item 0.0831556428555294\n",
       "\\item 0.0818735462314308\n",
       "\\item 0.073202114511337\n",
       "\\item 0.0848280950829642\n",
       "\\item 0.0772771659847103\n",
       "\\item 0.0768483395117713\n",
       "\\item 0.102393526823606\n",
       "\\item 0.0868402746095039\n",
       "\\item 0.0834446712475024\n",
       "\\end{enumerate*}\n"
      ],
      "text/markdown": [
       "1. 0.0832893943899314\n",
       "2. 0.0831556428555294\n",
       "3. 0.0818735462314308\n",
       "4. 0.073202114511337\n",
       "5. 0.0848280950829642\n",
       "6. 0.0772771659847103\n",
       "7. 0.0768483395117713\n",
       "8. 0.102393526823606\n",
       "9. 0.0868402746095039\n",
       "10. 0.0834446712475024\n",
       "\n",
       "\n"
      ],
      "text/plain": [
       " [1] 0.08328939 0.08315564 0.08187355 0.07320211 0.08482810 0.07727717\n",
       " [7] 0.07684834 0.10239353 0.08684027 0.08344467"
      ]
     },
     "metadata": {},
     "output_type": "display_data"
    },
    {
     "data": {
      "text/html": [
       "0.0833152771248287"
      ],
      "text/latex": [
       "0.0833152771248287"
      ],
      "text/markdown": [
       "0.0833152771248287"
      ],
      "text/plain": [
       "[1] 0.08331528"
      ]
     },
     "metadata": {},
     "output_type": "display_data"
    }
   ],
   "source": [
    "MSE\n",
    "mean(MSE)"
   ]
  },
  {
   "cell_type": "code",
   "execution_count": null,
   "metadata": {
    "vscode": {
     "languageId": "r"
    }
   },
   "outputs": [],
   "source": []
  }
 ],
 "metadata": {
  "kernelspec": {
   "display_name": "R",
   "language": "R",
   "name": "ir"
  },
  "language_info": {
   "codemirror_mode": "r",
   "file_extension": ".r",
   "mimetype": "text/x-r-source",
   "name": "R",
   "pygments_lexer": "r",
   "version": "4.2.1"
  },
  "orig_nbformat": 4
 },
 "nbformat": 4,
 "nbformat_minor": 2
}
