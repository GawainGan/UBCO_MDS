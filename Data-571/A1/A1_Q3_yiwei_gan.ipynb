{
 "cells": [
  {
   "cell_type": "markdown",
   "metadata": {},
   "source": [
    "### Part a"
   ]
  },
  {
   "cell_type": "code",
   "execution_count": 2,
   "metadata": {
    "vscode": {
     "languageId": "r"
    }
   },
   "outputs": [],
   "source": [
    "# Use set.seed(2021), \n",
    "#       then generate a sample of size 25 from a continuous uniform distribution with bounds 0 and 1 (see function “runif”). \n",
    "# Store it in an object called “x”. \n",
    "# Show the sample mean and sample variance of “x”."
   ]
  },
  {
   "cell_type": "code",
   "execution_count": 5,
   "metadata": {
    "vscode": {
     "languageId": "r"
    }
   },
   "outputs": [
    {
     "name": "stdout",
     "output_type": "stream",
     "text": [
      "The sample mean of x is 0.5872705 \n",
      "The sample variance of x is 0.07033255"
     ]
    }
   ],
   "source": [
    "set.seed(2021)\n",
    "x <- runif(25, 0, 1)\n",
    "x.mean <- mean(x)\n",
    "x.var <- var(x)\n",
    "cat(\"The sample mean of x is\", x.mean, \"\\nThe sample variance of x is\", x.var)"
   ]
  },
  {
   "cell_type": "markdown",
   "metadata": {},
   "source": [
    "### part b"
   ]
  },
  {
   "cell_type": "code",
   "execution_count": null,
   "metadata": {
    "vscode": {
     "languageId": "r"
    }
   },
   "outputs": [],
   "source": [
    "# Calculate the (LOO) jackknife bias and standard error of the sample variance for this sample \n",
    "#       using the bootstrap library’s jackknife function."
   ]
  },
  {
   "cell_type": "code",
   "execution_count": 8,
   "metadata": {
    "vscode": {
     "languageId": "r"
    }
   },
   "outputs": [
    {
     "name": "stdout",
     "output_type": "stream",
     "text": [
      "sample: \n",
      " 0.4512674 0.7837798 0.7096822 0.3817443 0.6363238 0.701346 0.6404389 0.2666797 0.8154215 0.9829869 0.02726706 0.8374904 0.6032407 0.5674534 0.8200528 0.2515713 0.505494 0.8675381 0.9581816 0.5456977 0.1395807 0.9553393 0.3924938 0.2684852 0.5722068\n",
      "elements of xbarjack: \n",
      " 0.5929373 0.5790827 0.5821701 0.5958341 0.5852267 0.5825174 0.5850552 0.6006285 0.5777642 0.5707824 0.610604 0.5768447 0.5866051 0.5880963 0.5775713 0.601258 0.5906779 0.5755927 0.5718159 0.5890027 0.6059243 0.5719343 0.5953862 0.6005533 0.5878982"
     ]
    }
   ],
   "source": [
    "set.seed(5141)\n",
    "xbarfull <- mean(x)\n",
    "xbarjack <- NA\n",
    "for(i in 1:25) xbarjack[i] <- mean(x[-i]) # 为什么要倒序？？？ -->  通过系统地从数据集中删除每个观察值并计算剩余观察值的均值，然后汇总这些计算，找到参数的折刀估计量。\n",
    "cat('sample: \\n',x)\n",
    "cat(\"\\nelements of xbarjack: \\n\", xbarjack)"
   ]
  },
  {
   "cell_type": "code",
   "execution_count": 17,
   "metadata": {
    "vscode": {
     "languageId": "r"
    }
   },
   "outputs": [
    {
     "data": {
      "text/html": [
       "0.58727"
      ],
      "text/latex": [
       "0.58727"
      ],
      "text/markdown": [
       "0.58727"
      ],
      "text/plain": [
       "[1] 0.58727"
      ]
     },
     "metadata": {},
     "output_type": "display_data"
    },
    {
     "data": {
      "text/html": [
       "0.58727"
      ],
      "text/latex": [
       "0.58727"
      ],
      "text/markdown": [
       "0.58727"
      ],
      "text/plain": [
       "[1] 0.58727"
      ]
     },
     "metadata": {},
     "output_type": "display_data"
    },
    {
     "name": "stdout",
     "output_type": "stream",
     "text": [
      "jackknife bias estimate: 0\n",
      "estimate of SE: 0.05304057"
     ]
    }
   ],
   "source": [
    "# make use of the jackknife bias estimate:\n",
    "round(mean(xbarjack), 5) \n",
    "round(mean(x), 5)\n",
    "cat(\"jackknife bias estimate:\", round((25-1)*(mean(xbarjack) - mean(x)), 10)) # Lec2-pg3\n",
    "# As noted in class, this should (by mathematical definition) be 0 in the case of the sample mean.\n",
    "cat('\\nestimate of SE:', sqrt((25-1)/(25)*sum((xbarjack-mean(xbarjack))^2)))"
   ]
  },
  {
   "cell_type": "code",
   "execution_count": 26,
   "metadata": {
    "vscode": {
     "languageId": "r"
    }
   },
   "outputs": [
    {
     "name": "stdout",
     "output_type": "stream",
     "text": [
      "using bootstrap to estimate the standard error of the sample variance:\n",
      "jackknife bias estimate: 0\n",
      "estimate of SE: 1.873911"
     ]
    }
   ],
   "source": [
    "# using bootstrap to estimate the standard error of the sample variance:\n",
    "library(bootstrap)\n",
    "set.seed(5141)\n",
    "x <- rnorm(25, 0, 10)\n",
    "jfit <- jackknife(x, mean)\n",
    "cat(\"using bootstrap to estimate the standard error of the sample variance:\\n\")\n",
    "cat(\"jackknife bias estimate:\", round(jfit$jack.bias, 10))\n",
    "cat(\"\\nestimate of SE:\", jfit$jack.se)\n"
   ]
  },
  {
   "cell_type": "markdown",
   "metadata": {},
   "source": [
    "### part c"
   ]
  },
  {
   "cell_type": "code",
   "execution_count": 44,
   "metadata": {
    "vscode": {
     "languageId": "r"
    }
   },
   "outputs": [
    {
     "data": {
      "text/plain": [
       "               Length Class  Mode   \n",
       "thetastar      1000   -none- numeric\n",
       "func.thetastar    0   -none- NULL   \n",
       "jack.boot.val     0   -none- NULL   \n",
       "jack.boot.se      0   -none- NULL   \n",
       "call              4   -none- call   "
      ]
     },
     "metadata": {},
     "output_type": "display_data"
    }
   ],
   "source": [
    "# Use set.seed(2022) \n",
    "# and obtain a bootstrap estimate of the bias and standard error of the sample variance, \n",
    "# using B = 1000 bootstrap samples. \n",
    "# Again, use the bootstrap library (but this time the bootstrap function).\n",
    "set.seed(2022)\n",
    "x <- rnorm(25, 0, 10)\n",
    "theta <- function(x){var(x)}\n",
    "boot <- bootstrap(x, 1000, theta)\n",
    "summary(boot)\n",
    "# cat(\"bias estimate:\", round(boot$bias, 10))\n",
    "# cat(\"\\nestimate of SE:\", boot$se)\n"
   ]
  },
  {
   "cell_type": "code",
   "execution_count": 52,
   "metadata": {
    "vscode": {
     "languageId": "r"
    }
   },
   "outputs": [
    {
     "name": "stdout",
     "output_type": "stream",
     "text": [
      "bias estimate: -4888.254\n",
      "estimate of SE: 969.4166"
     ]
    }
   ],
   "source": [
    "alpha_theat <- mean(boot$thetastar)\n",
    "bias_theta <- (1000-1)*(alpha_theat - var(x))\n",
    "SE_theat <- sqrt( ((1000-1)/1000) * sum(( boot$thetastar - alpha_theat)^2))\n",
    "cat(\"bias estimate:\", round(bias_theta, 10))\n",
    "cat(\"\\nestimate of SE:\", SE_theat)"
   ]
  },
  {
   "cell_type": "markdown",
   "metadata": {},
   "source": [
    "### part d"
   ]
  },
  {
   "cell_type": "code",
   "execution_count": 29,
   "metadata": {
    "vscode": {
     "languageId": "r"
    }
   },
   "outputs": [
    {
     "name": "stdout",
     "output_type": "stream",
     "text": [
      "95% bootstrapped con<U+FB01>dence interval for the population variance: 0.3099905 0.5300456"
     ]
    }
   ],
   "source": [
    "# Obtain a 95% bootstrapped conﬁdence interval for the population variance using the quantile function (as shown in lecture).\n",
    "cat(\"95% bootstrapped conﬁdence interval for the population variance:\", quantile(xbarboot, c(0.025, 0.975)))\n"
   ]
  },
  {
   "cell_type": "code",
   "execution_count": null,
   "metadata": {
    "vscode": {
     "languageId": "r"
    }
   },
   "outputs": [],
   "source": []
  }
 ],
 "metadata": {
  "kernelspec": {
   "display_name": "R",
   "language": "R",
   "name": "ir"
  },
  "language_info": {
   "codemirror_mode": "r",
   "file_extension": ".r",
   "mimetype": "text/x-r-source",
   "name": "R",
   "pygments_lexer": "r",
   "version": "4.2.1"
  },
  "orig_nbformat": 4,
  "vscode": {
   "interpreter": {
    "hash": "ee089c0d8a7b72a1db4475b00a1092da957cc6786a2373700bea0bde293de64c"
   }
  }
 },
 "nbformat": 4,
 "nbformat_minor": 2
}
