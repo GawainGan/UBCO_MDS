{
 "cells": [
  {
   "cell_type": "code",
   "execution_count": 9,
   "metadata": {
    "vscode": {
     "languageId": "r"
    }
   },
   "outputs": [],
   "source": [
    "# 看Lec 6， 第41页\n",
    "\n",
    "# 针对CBD 和RBD的 ANOVA区别"
   ]
  },
  {
   "attachments": {},
   "cell_type": "markdown",
   "metadata": {},
   "source": [
    "\n",
    "BRD ANOVA table we have is:\n",
    "\n",
    "|Source     | DF  | SS        | MS   | F   | p-value   |\n",
    "|---        |---  |---        |---   |---  | ---       |\n",
    "|Treatment  | 3   | 23.83     |7.94  |5.003| 0.0133    |\n",
    "|Blocks     | 5   | 190.94    |38.19 |   - |   -       |\n",
    "|Residual   | 15  | 23.82     |1.59  |   - | -         |\n",
    "|Total      |23   | 238.6     |      | -   | -         |"
   ]
  },
  {
   "cell_type": "code",
   "execution_count": 10,
   "metadata": {
    "vscode": {
     "languageId": "r"
    }
   },
   "outputs": [],
   "source": [
    "ANOVA_find_Pvalue <- function(MS_treat, MS_Residual, df_treat, df_residual){\n",
    "      Fbos <- MS_treat/MS_Residual\n",
    "      result <- 1 - pf(Fbos, df_treat, df_residual)\n",
    "      return(result)\n",
    "}"
   ]
  },
  {
   "cell_type": "code",
   "execution_count": 11,
   "metadata": {
    "vscode": {
     "languageId": "r"
    }
   },
   "outputs": [
    {
     "name": "stdout",
     "output_type": "stream",
     "text": [
      "The MS treatment in BRD is: 7.943\n",
      "The MS residual in BRD is: 1.589\n",
      "The Fobs for treatment in BRD is: 5\n",
      "The p-value for BRD ANOVA table is:  0.01337"
     ]
    }
   ],
   "source": [
    "# 修改成自动化\n",
    "\n",
    "SS.treat <- 23.83\n",
    "SS.block <- 190.94\n",
    "SS.total <- 238.6\n",
    "SS.residual <- SS.total - SS.treat - SS.block\n",
    "\n",
    "DF.treat <- 3\n",
    "DF.block <- 5\n",
    "DF.total <- 23\n",
    "DF.residual <- DF.total - DF.treat -DF.block\n",
    "\n",
    "MS.treat <- SS.treat / DF.treat\n",
    "MS.block <- SS.block / DF.block\n",
    "MS.residual <- SS.residual / DF.residual\n",
    "\n",
    "cat('The MS treatment in BRD is:', round(MS.treat, 3))\n",
    "cat('\\nThe MS residual in BRD is:', round(MS.residual, 3))\n",
    "\n",
    "\n",
    "\n",
    "Fobs.B.Treat <- MS.treat / MS.residual\n",
    "# Fobs.B.Treat\n",
    "cat('\\nThe Fobs for treatment in BRD is:', round(Fobs.B.Treat))\n",
    "\n",
    "p_value <- ANOVA_find_Pvalue(MS.treat, MS.residual, DF.treat, DF.residual)\n",
    "cat(\"\\nThe p-value for BRD ANOVA table is: \", round(p_value, 5))"
   ]
  },
  {
   "cell_type": "code",
   "execution_count": 12,
   "metadata": {
    "vscode": {
     "languageId": "r"
    }
   },
   "outputs": [
    {
     "data": {
      "text/html": [
       "<table class=\"dataframe\">\n",
       "<caption>A data.frame: 4 × 6</caption>\n",
       "<thead>\n",
       "\t<tr><th scope=col>Source</th><th scope=col>SS</th><th scope=col>DF</th><th scope=col>Mean Square</th><th scope=col>Fobs</th><th scope=col>p-value</th></tr>\n",
       "\t<tr><th scope=col>&lt;chr&gt;</th><th scope=col>&lt;dbl&gt;</th><th scope=col>&lt;dbl&gt;</th><th scope=col>&lt;dbl&gt;</th><th scope=col>&lt;dbl&gt;</th><th scope=col>&lt;dbl&gt;</th></tr>\n",
       "</thead>\n",
       "<tbody>\n",
       "\t<tr><td>Treatment</td><td> 23.83</td><td> 3</td><td> 7.943</td><td> 5</td><td>0.013</td></tr>\n",
       "\t<tr><td>Blocks   </td><td>190.94</td><td> 5</td><td>38.188</td><td>NA</td><td>   NA</td></tr>\n",
       "\t<tr><td>Residual </td><td> 23.83</td><td>15</td><td> 1.589</td><td>NA</td><td>   NA</td></tr>\n",
       "\t<tr><td>Total    </td><td>238.60</td><td>23</td><td>    NA</td><td>NA</td><td>   NA</td></tr>\n",
       "</tbody>\n",
       "</table>\n"
      ],
      "text/latex": [
       "A data.frame: 4 × 6\n",
       "\\begin{tabular}{llllll}\n",
       " Source & SS & DF & Mean Square & Fobs & p-value\\\\\n",
       " <chr> & <dbl> & <dbl> & <dbl> & <dbl> & <dbl>\\\\\n",
       "\\hline\n",
       "\t Treatment &  23.83 &  3 &  7.943 &  5 & 0.013\\\\\n",
       "\t Blocks    & 190.94 &  5 & 38.188 & NA &    NA\\\\\n",
       "\t Residual  &  23.83 & 15 &  1.589 & NA &    NA\\\\\n",
       "\t Total     & 238.60 & 23 &     NA & NA &    NA\\\\\n",
       "\\end{tabular}\n"
      ],
      "text/markdown": [
       "\n",
       "A data.frame: 4 × 6\n",
       "\n",
       "| Source &lt;chr&gt; | SS &lt;dbl&gt; | DF &lt;dbl&gt; | Mean Square &lt;dbl&gt; | Fobs &lt;dbl&gt; | p-value &lt;dbl&gt; |\n",
       "|---|---|---|---|---|---|\n",
       "| Treatment |  23.83 |  3 |  7.943 |  5 | 0.013 |\n",
       "| Blocks    | 190.94 |  5 | 38.188 | NA |    NA |\n",
       "| Residual  |  23.83 | 15 |  1.589 | NA |    NA |\n",
       "| Total     | 238.60 | 23 |     NA | NA |    NA |\n",
       "\n"
      ],
      "text/plain": [
       "  Source    SS     DF Mean Square Fobs p-value\n",
       "1 Treatment  23.83  3  7.943       5   0.013  \n",
       "2 Blocks    190.94  5 38.188      NA      NA  \n",
       "3 Residual   23.83 15  1.589      NA      NA  \n",
       "4 Total     238.60 23     NA      NA      NA  "
      ]
     },
     "metadata": {},
     "output_type": "display_data"
    }
   ],
   "source": [
    "# 需要的数据：\n",
    "SS.treat <- 23.83\n",
    "SS.block <- 190.94\n",
    "SS.total <- 238.6\n",
    "\n",
    "DF.treat <- 3\n",
    "DF.block <- 5\n",
    "DF.total <- 23\n",
    "\n",
    "BRD_ANOVA_Table <- function(SS.treat, SS.block, SS.total, DF.treat, DF.block, DF.total){\n",
    "      SS.residual <- SS.total - SS.treat - SS.block\n",
    "\n",
    "      MS.treat <- SS.treat / DF.treat\n",
    "      MS.block <- SS.block / DF.block\n",
    "      MS.residual <- SS.residual / DF.residual\n",
    "      Fobs.B.Treat <- MS.treat / MS.residual\n",
    "\n",
    "      p_value <- ANOVA_find_Pvalue(MS.treat, MS.residual, DF.treat, DF.residual)\n",
    "\n",
    "      \n",
    "      RBD_df <- data.frame(\n",
    "      Source = c('Treatment', 'Blocks', 'Residual', 'Total'),\n",
    "      SS = c(SS.treat, SS.block, SS.residual, SS.total),\n",
    "      DF = c(DF.treat, DF.block, DF.residual, DF.total),\n",
    "      Mean_Square = c(round(MS.treat,3), round(MS.block,3), round(MS.residual,3), NA),\n",
    "      Fobs = c(round(Fobs.B.Treat,3), NA, NA, NA),\n",
    "      p_value = c(round(p_value,3), NA, NA, NA)\n",
    "      )\n",
    "\n",
    "      column_name <- c('Source', 'SS', 'DF', 'Mean Square', 'Fobs', 'p-value')\n",
    "      colnames(RBD_df) <- column_name\n",
    "      return(RBD_df)\n",
    "}\n",
    "\n",
    "BRD_df <- BRD_ANOVA_Table(SS.treat, SS.block, SS.total, DF.treat, DF.block, DF.total)\n",
    "BRD_df"
   ]
  },
  {
   "cell_type": "code",
   "execution_count": 13,
   "metadata": {
    "vscode": {
     "languageId": "r"
    }
   },
   "outputs": [],
   "source": [
    "# 现在我们通过BRD的ANOVA table来去反推CRD的 ANOVA table\n",
    "# 用的是BRD的数据"
   ]
  },
  {
   "cell_type": "code",
   "execution_count": 14,
   "metadata": {
    "vscode": {
     "languageId": "r"
    }
   },
   "outputs": [
    {
     "data": {
      "text/html": [
       "<table class=\"dataframe\">\n",
       "<caption>A data.frame: 3 × 6</caption>\n",
       "<thead>\n",
       "\t<tr><th scope=col>Source</th><th scope=col>SS</th><th scope=col>DF</th><th scope=col>Mean Square</th><th scope=col>Fobs</th><th scope=col>p-value</th></tr>\n",
       "\t<tr><th scope=col>&lt;chr&gt;</th><th scope=col>&lt;dbl&gt;</th><th scope=col>&lt;dbl&gt;</th><th scope=col>&lt;dbl&gt;</th><th scope=col>&lt;dbl&gt;</th><th scope=col>&lt;dbl&gt;</th></tr>\n",
       "</thead>\n",
       "<tbody>\n",
       "\t<tr><td>Treatment</td><td> 23.83</td><td> 3</td><td> 7.943</td><td>0.74</td><td>0.541</td></tr>\n",
       "\t<tr><td>Residual </td><td>214.77</td><td>20</td><td>10.738</td><td>  NA</td><td>   NA</td></tr>\n",
       "\t<tr><td>Total    </td><td>238.60</td><td>23</td><td>    NA</td><td>  NA</td><td>   NA</td></tr>\n",
       "</tbody>\n",
       "</table>\n"
      ],
      "text/latex": [
       "A data.frame: 3 × 6\n",
       "\\begin{tabular}{llllll}\n",
       " Source & SS & DF & Mean Square & Fobs & p-value\\\\\n",
       " <chr> & <dbl> & <dbl> & <dbl> & <dbl> & <dbl>\\\\\n",
       "\\hline\n",
       "\t Treatment &  23.83 &  3 &  7.943 & 0.74 & 0.541\\\\\n",
       "\t Residual  & 214.77 & 20 & 10.738 &   NA &    NA\\\\\n",
       "\t Total     & 238.60 & 23 &     NA &   NA &    NA\\\\\n",
       "\\end{tabular}\n"
      ],
      "text/markdown": [
       "\n",
       "A data.frame: 3 × 6\n",
       "\n",
       "| Source &lt;chr&gt; | SS &lt;dbl&gt; | DF &lt;dbl&gt; | Mean Square &lt;dbl&gt; | Fobs &lt;dbl&gt; | p-value &lt;dbl&gt; |\n",
       "|---|---|---|---|---|---|\n",
       "| Treatment |  23.83 |  3 |  7.943 | 0.74 | 0.541 |\n",
       "| Residual  | 214.77 | 20 | 10.738 |   NA |    NA |\n",
       "| Total     | 238.60 | 23 |     NA |   NA |    NA |\n",
       "\n"
      ],
      "text/plain": [
       "  Source    SS     DF Mean Square Fobs p-value\n",
       "1 Treatment  23.83  3  7.943      0.74 0.541  \n",
       "2 Residual  214.77 20 10.738        NA    NA  \n",
       "3 Total     238.60 23     NA        NA    NA  "
      ]
     },
     "metadata": {},
     "output_type": "display_data"
    }
   ],
   "source": [
    "# 修改成自动化\n",
    "\n",
    "SS.C.total <- SS.total\n",
    "DF.C.total <- DF.total\n",
    "\n",
    "SS.C.treat <- SS.treat\n",
    "DF.C.treat <- DF.treat\n",
    "MS.C.treat <- MS.treat\n",
    "\n",
    "# Fobs.C.treat\n",
    "\n",
    "SS.C.residual <- SS.C.total - SS.C.treat\n",
    "DF.C.residual <- DF.C.total - DF.C.treat\n",
    "MS.C.residual <- SS.C.residual / DF.C.residual\n",
    "Fobs.C.treat <- MS.C.treat / MS.C.residual\n",
    "# MS.C.residual\n",
    "\n",
    "C.p_value <- ANOVA_find_Pvalue(MS.C.treat, MS.C.residual, DF.C.treat, DF.C.residual)\n",
    "# C.p_value\n",
    "\n",
    "CRD_df <- data.frame(\n",
    "      Source = c('Treatment', 'Residual', 'Total'),\n",
    "      SS = c(SS.C.treat,  SS.C.residual, SS.C.total),\n",
    "      DF = c(DF.C.treat,  DF.C.residual, DF.C.total),\n",
    "      Mean_Square = c(round(MS.C.treat,3),  round(MS.C.residual,3), NA),\n",
    "      Fobs = c(round(Fobs.C.treat,3), NA, NA),\n",
    "      p_value = c(round(C.p_value,3), NA, NA)\n",
    "      )\n",
    "\n",
    "column_name <- c('Source', 'SS', 'DF', 'Mean Square', 'Fobs', 'p-value')\n",
    "colnames(CRD_df) <- column_name\n",
    "CRD_df"
   ]
  },
  {
   "cell_type": "code",
   "execution_count": 15,
   "metadata": {
    "vscode": {
     "languageId": "r"
    }
   },
   "outputs": [
    {
     "data": {
      "text/html": [
       "<table class=\"dataframe\">\n",
       "<caption>A data.frame: 3 × 6</caption>\n",
       "<thead>\n",
       "\t<tr><th scope=col>Source</th><th scope=col>SS</th><th scope=col>DF</th><th scope=col>Mean Square</th><th scope=col>Fobs</th><th scope=col>p-value</th></tr>\n",
       "\t<tr><th scope=col>&lt;chr&gt;</th><th scope=col>&lt;dbl&gt;</th><th scope=col>&lt;dbl&gt;</th><th scope=col>&lt;dbl&gt;</th><th scope=col>&lt;dbl&gt;</th><th scope=col>&lt;dbl&gt;</th></tr>\n",
       "</thead>\n",
       "<tbody>\n",
       "\t<tr><td>Treatment</td><td> 23.83</td><td> 3</td><td> 7.943</td><td>0.74</td><td>0.541</td></tr>\n",
       "\t<tr><td>Residual </td><td>214.77</td><td>20</td><td>10.738</td><td>  NA</td><td>   NA</td></tr>\n",
       "\t<tr><td>Total    </td><td>238.60</td><td>23</td><td>    NA</td><td>  NA</td><td>   NA</td></tr>\n",
       "</tbody>\n",
       "</table>\n"
      ],
      "text/latex": [
       "A data.frame: 3 × 6\n",
       "\\begin{tabular}{llllll}\n",
       " Source & SS & DF & Mean Square & Fobs & p-value\\\\\n",
       " <chr> & <dbl> & <dbl> & <dbl> & <dbl> & <dbl>\\\\\n",
       "\\hline\n",
       "\t Treatment &  23.83 &  3 &  7.943 & 0.74 & 0.541\\\\\n",
       "\t Residual  & 214.77 & 20 & 10.738 &   NA &    NA\\\\\n",
       "\t Total     & 238.60 & 23 &     NA &   NA &    NA\\\\\n",
       "\\end{tabular}\n"
      ],
      "text/markdown": [
       "\n",
       "A data.frame: 3 × 6\n",
       "\n",
       "| Source &lt;chr&gt; | SS &lt;dbl&gt; | DF &lt;dbl&gt; | Mean Square &lt;dbl&gt; | Fobs &lt;dbl&gt; | p-value &lt;dbl&gt; |\n",
       "|---|---|---|---|---|---|\n",
       "| Treatment |  23.83 |  3 |  7.943 | 0.74 | 0.541 |\n",
       "| Residual  | 214.77 | 20 | 10.738 |   NA |    NA |\n",
       "| Total     | 238.60 | 23 |     NA |   NA |    NA |\n",
       "\n"
      ],
      "text/plain": [
       "  Source    SS     DF Mean Square Fobs p-value\n",
       "1 Treatment  23.83  3  7.943      0.74 0.541  \n",
       "2 Residual  214.77 20 10.738        NA    NA  \n",
       "3 Total     238.60 23     NA        NA    NA  "
      ]
     },
     "metadata": {},
     "output_type": "display_data"
    }
   ],
   "source": [
    "CRD_ANOVA_Table <- function(SS.treat, SS.total, DF.treat, DF.total, MS.treat){\n",
    "\n",
    "      SS.C.total <- SS.total\n",
    "      DF.C.total <- DF.total\n",
    "\n",
    "      SS.C.treat <- SS.treat\n",
    "      DF.C.treat <- DF.treat\n",
    "      MS.C.treat <- MS.treat\n",
    "\n",
    "      SS.C.residual <- SS.C.total - SS.C.treat\n",
    "      DF.C.residual <- DF.C.total - DF.C.treat\n",
    "      MS.C.residual <- SS.C.residual / DF.C.residual\n",
    "\n",
    "      Fobs.C.treat <- MS.C.treat / MS.C.residual\n",
    "\n",
    "\n",
    "      C.p_value <- ANOVA_find_Pvalue(MS.C.treat, MS.C.residual, DF.C.treat, DF.C.residual)\n",
    "      \n",
    "      CRD_df <- data.frame(\n",
    "      Source = c('Treatment', 'Residual', 'Total'),\n",
    "      SS = c(SS.C.treat,  SS.C.residual, SS.C.total),\n",
    "      DF = c(DF.C.treat,  DF.C.residual, DF.C.total),\n",
    "      Mean_Square = c(round(MS.C.treat,3),  round(MS.C.residual,3), NA),\n",
    "      Fobs = c(round(Fobs.C.treat,3), NA, NA),\n",
    "      p_value = c(round(C.p_value,3), NA, NA)\n",
    "      )\n",
    "\n",
    "      column_name <- c('Source', 'SS', 'DF', 'Mean Square', 'Fobs', 'p-value')\n",
    "      colnames(CRD_df) <- column_name\n",
    "      return(CRD_df)\n",
    "}\n",
    "\n",
    "\n",
    "\n",
    "CRD_df <- CRD_ANOVA_Table(SS.treat, SS.total, DF.treat, DF.total, MS.treat)\n",
    "CRD_df"
   ]
  },
  {
   "attachments": {},
   "cell_type": "markdown",
   "metadata": {},
   "source": [
    "# A2 Q1 part f\n",
    "\n",
    "用t-test的做法（大概率是错的）"
   ]
  },
  {
   "cell_type": "code",
   "execution_count": 16,
   "metadata": {
    "vscode": {
     "languageId": "r"
    }
   },
   "outputs": [],
   "source": [
    "# we should use ANOVA test for this question\n",
    "\n",
    "# # the overall mean for gourp A, AC, AR, P\n",
    "# miu.hat <- mean(c(A, AC, AR, P))\n",
    "# cat(\"The estimated mean for overall samples:\", round(miu.hat,3 ))\n",
    "\n",
    "# group <- c('A', 'AC', 'AR', 'P')\n",
    "# tau_diff <- c()\n",
    "# for (i in 1:4){\n",
    "#       data <- Alc_df[, i]\n",
    "#       tau <- mean(data) - miu.hat\n",
    "#       tau_diff[i] <- tau\n",
    "#       cat(\"The estimated treatment effect for group\", group[i] ,\"design is:\", round(tau, 3), \"\\n\")\n",
    "# }\n",
    "\n",
    "# # To find confidence intervals we need to calculate the pooled variance.\n",
    "# # 1. find sample variance with treatment A, AC, AR, P\n",
    "# sample_var <- function(data){\n",
    "#       var_s <- var(data)\n",
    "#       return(var_s)\n",
    "# }\n",
    "# sample_variance <- c()\n",
    "# for (i in 1:4){\n",
    "#       v <- sample_var(Alc_df[, i])\n",
    "#       sample_variance[i] <- v\n",
    "#       cat(\"The estimated variance for group\", group[i] ,\"is:\", v,'\\n') \n",
    "# }\n",
    "\n",
    "# # variance is list with 4 var fpr group A, AC, AR, P\n",
    "# # n is a list with 4 length fpr group A, AC, AR, P\n",
    "# sample_n <- c(n.A, n.AC, n.AR, n.P)\n",
    "# pooled_variance <- function(variance, n){\n",
    "#       result <- sum((n-1) * (variance)) / (sum(n) - length(n))\n",
    "#       return(result)\n",
    "# }\n",
    "\n",
    "# s2.hat <- pooled_variance(sample_variance, sample_n)\n",
    "# cat(\"The pooled variance is\", s2.hat)\n"
   ]
  }
 ],
 "metadata": {
  "kernelspec": {
   "display_name": "R",
   "language": "R",
   "name": "ir"
  },
  "language_info": {
   "codemirror_mode": "r",
   "file_extension": ".r",
   "mimetype": "text/x-r-source",
   "name": "R",
   "pygments_lexer": "r",
   "version": "4.2.1"
  },
  "orig_nbformat": 4,
  "vscode": {
   "interpreter": {
    "hash": "ee089c0d8a7b72a1db4475b00a1092da957cc6786a2373700bea0bde293de64c"
   }
  }
 },
 "nbformat": 4,
 "nbformat_minor": 2
}
